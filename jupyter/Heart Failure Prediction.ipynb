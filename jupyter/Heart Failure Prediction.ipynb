{
 "cells": [
  {
   "cell_type": "markdown",
   "id": "sapphire-devices",
   "metadata": {},
   "source": [
    "# Introduction\n",
    "\n",
    "[Dataset in Kaggle](https://www.kaggle.com/andrewmvd/heart-failure-clinical-data)\n",
    "\n",
    "[Paper](https://bmcmedinformdecismak.biomedcentral.com/articles/10.1186/s12911-020-1023-5): Davide Chicco, Giuseppe Jurman: Machine learning can predict survival of patients with heart failure from serum creatinine and ejection fraction alone. BMC Medical Informatics and Decision Making 20, 16 (2020). \n",
    "\n",
    "\n"
   ]
  },
  {
   "cell_type": "markdown",
   "id": "arranged-simpson",
   "metadata": {},
   "source": [
    "# Exploring The Data"
   ]
  },
  {
   "cell_type": "code",
   "execution_count": 3,
   "id": "dimensional-journal",
   "metadata": {},
   "outputs": [],
   "source": [
    "import pandas as pd\n",
    "import numpy as np\n",
    "import matplotlib.pyplot as plt\n",
    "import seaborn as sns\n",
    "sns.set_theme()\n",
    "import math"
   ]
  },
  {
   "cell_type": "code",
   "execution_count": 4,
   "id": "related-legislature",
   "metadata": {},
   "outputs": [],
   "source": [
    "df = pd.read_csv('../data/heart_failure_clinical_records_dataset.csv')"
   ]
  },
  {
   "cell_type": "code",
   "execution_count": 5,
   "id": "dated-preservation",
   "metadata": {},
   "outputs": [
    {
     "data": {
      "text/html": [
       "<div>\n",
       "<style scoped>\n",
       "    .dataframe tbody tr th:only-of-type {\n",
       "        vertical-align: middle;\n",
       "    }\n",
       "\n",
       "    .dataframe tbody tr th {\n",
       "        vertical-align: top;\n",
       "    }\n",
       "\n",
       "    .dataframe thead th {\n",
       "        text-align: right;\n",
       "    }\n",
       "</style>\n",
       "<table border=\"1\" class=\"dataframe\">\n",
       "  <thead>\n",
       "    <tr style=\"text-align: right;\">\n",
       "      <th></th>\n",
       "      <th>age</th>\n",
       "      <th>anaemia</th>\n",
       "      <th>creatinine_phosphokinase</th>\n",
       "      <th>diabetes</th>\n",
       "      <th>ejection_fraction</th>\n",
       "      <th>high_blood_pressure</th>\n",
       "      <th>platelets</th>\n",
       "      <th>serum_creatinine</th>\n",
       "      <th>serum_sodium</th>\n",
       "      <th>sex</th>\n",
       "      <th>smoking</th>\n",
       "      <th>time</th>\n",
       "      <th>DEATH_EVENT</th>\n",
       "    </tr>\n",
       "  </thead>\n",
       "  <tbody>\n",
       "    <tr>\n",
       "      <th>0</th>\n",
       "      <td>75.0</td>\n",
       "      <td>0</td>\n",
       "      <td>582</td>\n",
       "      <td>0</td>\n",
       "      <td>20</td>\n",
       "      <td>1</td>\n",
       "      <td>265000.00</td>\n",
       "      <td>1.9</td>\n",
       "      <td>130</td>\n",
       "      <td>1</td>\n",
       "      <td>0</td>\n",
       "      <td>4</td>\n",
       "      <td>1</td>\n",
       "    </tr>\n",
       "    <tr>\n",
       "      <th>1</th>\n",
       "      <td>55.0</td>\n",
       "      <td>0</td>\n",
       "      <td>7861</td>\n",
       "      <td>0</td>\n",
       "      <td>38</td>\n",
       "      <td>0</td>\n",
       "      <td>263358.03</td>\n",
       "      <td>1.1</td>\n",
       "      <td>136</td>\n",
       "      <td>1</td>\n",
       "      <td>0</td>\n",
       "      <td>6</td>\n",
       "      <td>1</td>\n",
       "    </tr>\n",
       "    <tr>\n",
       "      <th>2</th>\n",
       "      <td>65.0</td>\n",
       "      <td>0</td>\n",
       "      <td>146</td>\n",
       "      <td>0</td>\n",
       "      <td>20</td>\n",
       "      <td>0</td>\n",
       "      <td>162000.00</td>\n",
       "      <td>1.3</td>\n",
       "      <td>129</td>\n",
       "      <td>1</td>\n",
       "      <td>1</td>\n",
       "      <td>7</td>\n",
       "      <td>1</td>\n",
       "    </tr>\n",
       "    <tr>\n",
       "      <th>3</th>\n",
       "      <td>50.0</td>\n",
       "      <td>1</td>\n",
       "      <td>111</td>\n",
       "      <td>0</td>\n",
       "      <td>20</td>\n",
       "      <td>0</td>\n",
       "      <td>210000.00</td>\n",
       "      <td>1.9</td>\n",
       "      <td>137</td>\n",
       "      <td>1</td>\n",
       "      <td>0</td>\n",
       "      <td>7</td>\n",
       "      <td>1</td>\n",
       "    </tr>\n",
       "    <tr>\n",
       "      <th>4</th>\n",
       "      <td>65.0</td>\n",
       "      <td>1</td>\n",
       "      <td>160</td>\n",
       "      <td>1</td>\n",
       "      <td>20</td>\n",
       "      <td>0</td>\n",
       "      <td>327000.00</td>\n",
       "      <td>2.7</td>\n",
       "      <td>116</td>\n",
       "      <td>0</td>\n",
       "      <td>0</td>\n",
       "      <td>8</td>\n",
       "      <td>1</td>\n",
       "    </tr>\n",
       "  </tbody>\n",
       "</table>\n",
       "</div>"
      ],
      "text/plain": [
       "    age  anaemia  creatinine_phosphokinase  diabetes  ejection_fraction  \\\n",
       "0  75.0        0                       582         0                 20   \n",
       "1  55.0        0                      7861         0                 38   \n",
       "2  65.0        0                       146         0                 20   \n",
       "3  50.0        1                       111         0                 20   \n",
       "4  65.0        1                       160         1                 20   \n",
       "\n",
       "   high_blood_pressure  platelets  serum_creatinine  serum_sodium  sex  \\\n",
       "0                    1  265000.00               1.9           130    1   \n",
       "1                    0  263358.03               1.1           136    1   \n",
       "2                    0  162000.00               1.3           129    1   \n",
       "3                    0  210000.00               1.9           137    1   \n",
       "4                    0  327000.00               2.7           116    0   \n",
       "\n",
       "   smoking  time  DEATH_EVENT  \n",
       "0        0     4            1  \n",
       "1        0     6            1  \n",
       "2        1     7            1  \n",
       "3        0     7            1  \n",
       "4        0     8            1  "
      ]
     },
     "execution_count": 5,
     "metadata": {},
     "output_type": "execute_result"
    }
   ],
   "source": [
    "df.head()"
   ]
  },
  {
   "cell_type": "code",
   "execution_count": 6,
   "id": "tough-count",
   "metadata": {},
   "outputs": [
    {
     "data": {
      "text/plain": [
       "(299, 13)"
      ]
     },
     "execution_count": 6,
     "metadata": {},
     "output_type": "execute_result"
    }
   ],
   "source": [
    "df.shape"
   ]
  },
  {
   "cell_type": "code",
   "execution_count": 7,
   "id": "cooked-diameter",
   "metadata": {},
   "outputs": [
    {
     "data": {
      "text/plain": [
       "0.3210702341137124"
      ]
     },
     "execution_count": 7,
     "metadata": {},
     "output_type": "execute_result"
    }
   ],
   "source": [
    "df['DEATH_EVENT'].sum() / df.shape[0]"
   ]
  },
  {
   "cell_type": "code",
   "execution_count": 8,
   "id": "proud-costs",
   "metadata": {},
   "outputs": [
    {
     "data": {
      "text/plain": [
       "Index(['age', 'anaemia', 'creatinine_phosphokinase', 'diabetes',\n",
       "       'ejection_fraction', 'high_blood_pressure', 'platelets',\n",
       "       'serum_creatinine', 'serum_sodium', 'sex', 'smoking', 'time',\n",
       "       'DEATH_EVENT'],\n",
       "      dtype='object')"
      ]
     },
     "execution_count": 8,
     "metadata": {},
     "output_type": "execute_result"
    }
   ],
   "source": [
    "df.columns"
   ]
  },
  {
   "cell_type": "code",
   "execution_count": 9,
   "id": "intense-analysis",
   "metadata": {},
   "outputs": [
    {
     "name": "stdout",
     "output_type": "stream",
     "text": [
      "Binary variables: ['anaemia', 'diabetes', 'high_blood_pressure', 'smoking']\n",
      "Multi-value variables: ['age', 'creatinine_phosphokinase', 'ejection_fraction', 'platelets', 'serum_creatinine', 'serum_sodium', 'time']\n"
     ]
    }
   ],
   "source": [
    "binary_vars = \"anaemia diabetes high_blood_pressure smoking\".split()\n",
    "multival_vars = [var for var in list(df.columns) if var not in binary_vars + [\"sex\", \"DEATH_EVENT\"]]\n",
    "print(\"Binary variables:\", binary_vars)\n",
    "print(\"Multi-value variables:\", multival_vars)"
   ]
  },
  {
   "cell_type": "code",
   "execution_count": 10,
   "id": "amber-trail",
   "metadata": {},
   "outputs": [
    {
     "data": {
      "image/png": "[encoded data removed]",
      "text/plain": [
       "<Figure size 720x576 with 4 Axes>"
      ]
     },
     "metadata": {},
     "output_type": "display_data"
    }
   ],
   "source": [
    "fig, ax = plt.subplots(2, 2, squeeze=False, figsize=(10, 8))\n",
    "for i in range(2):\n",
    "    for j in range(2):\n",
    "        sns.barplot(x=binary_vars[2*i+j], y='DEATH_EVENT', hue='sex', data=df, ax=ax[i, j], capsize=.15)"
   ]
  },
  {
   "cell_type": "markdown",
   "id": "cognitive-mobile",
   "metadata": {},
   "source": [
    "Perhaps surprisingly, the categorical features: anaemia, diabetes, hypertension and smoking, do not seem to exhibit statistically significant impact on the patient survival prospects. Neither does the sex.\n",
    "Curiously, the big uncertainty for the smoking women (`sex = 0`) must be reflective of very few patients in this category."
   ]
  },
  {
   "cell_type": "code",
   "execution_count": 11,
   "id": "handmade-latitude",
   "metadata": {},
   "outputs": [
    {
     "data": {
      "text/plain": [
       "41     1\n",
       "54     1\n",
       "76     0\n",
       "105    1\n",
       "Name: DEATH_EVENT, dtype: int64"
      ]
     },
     "execution_count": 11,
     "metadata": {},
     "output_type": "execute_result"
    }
   ],
   "source": [
    "df.query('sex == 0 & smoking == 1')['DEATH_EVENT']"
   ]
  },
  {
   "cell_type": "markdown",
   "id": "reported-working",
   "metadata": {},
   "source": [
    "Indeed there were only 4 such women and 3 have passed away, yielding 75% value of the bar height and big uncertainty."
   ]
  },
  {
   "cell_type": "code",
   "execution_count": 19,
   "id": "fresh-financing",
   "metadata": {},
   "outputs": [
    {
     "data": {
      "image/png": "[encoded data removed]",
      "text/plain": [
       "<Figure size 1080x576 with 7 Axes>"
      ]
     },
     "metadata": {},
     "output_type": "display_data"
    }
   ],
   "source": [
    "def print_fig(data, cols, ncols=3, figsize=(15,8)):\n",
    "    \"\"\"Plot histograms of `cols` superimposing target categories.\"\"\"\n",
    "    nrows = math.ceil(len(cols) / ncols)\n",
    "    f = plt.figure(figsize=figsize)\n",
    "    for i in range(nrows):\n",
    "        for j in range(ncols):\n",
    "            ind = i * nrows + j\n",
    "            if ind > len(cols) - 1:\n",
    "                break\n",
    "            ax = f.add_subplot(nrows, ncols, ind+1)\n",
    "            cat1 = data[data[\"DEATH_EVENT\"] == 1]\n",
    "            cat2 = data[data[\"DEATH_EVENT\"] == 0]\n",
    "            cat1[cols[ind]].hist(alpha=0.5, ax=ax, color='r', density=True, label='Deceased')\n",
    "            cat2[cols[ind]].hist(alpha=0.5, ax=ax, color='b', density=True, label='Survived')\n",
    "            ax.set_title(cols[ind])\n",
    "            ax.legend(loc='best')\n",
    "            f.subplots_adjust(hspace=0.5, wspace=0.25, top=1.2)\n",
    "print_fig(data=df, cols=multival_vars)            "
   ]
  },
  {
   "cell_type": "markdown",
   "id": "urban-integer",
   "metadata": {},
   "source": [
    "- **age**: patients above the age of 70 are obviously at a higher risk\n",
    "- **ejection fraction** is a strong predictor, especially below around 30 units\n",
    "- **serum creatinine** is also a very strong feature, specifically about around 2 units\n",
    "- **serum sodium** might be a helpful feature, but a little less so than the two previous ones\n",
    "- **follow-up duration (time)**: We can tell that the patient chance to die in the follow-up period roughly follows an exponential distribution, for those that will not survive, as one might expect. The meaning of the follow-up period for the survivors is less clear: it seems it merely reflects how long these patients were monitored. In any case, this variable can help distinguish the two categories of patients."
   ]
  },
  {
   "cell_type": "code",
   "execution_count": 55,
   "id": "italian-suspect",
   "metadata": {},
   "outputs": [
    {
     "data": {
      "image/png": "[encoded data removed]",
      "text/plain": [
       "<Figure size 1080x576 with 2 Axes>"
      ]
     },
     "metadata": {},
     "output_type": "display_data"
    }
   ],
   "source": [
    "def plot_time(n_days=60):\n",
    "    fig, axes = plt.subplots(2, 1, sharex=True, figsize=(15,8))\n",
    "    KERNEL_WIDTH = 0.3 # KDE smoothing parameter\n",
    "    N_DAYS = n_days\n",
    "\n",
    "    # Configure what plots display\n",
    "    from collections import namedtuple\n",
    "    config = namedtuple('config', ['text1', 'text2', 'title', 'colour', 'hlight'])\n",
    "    survived_config = config(f'Situation unknown\\nafter {N_DAYS} days\\n(\"zombies\")',\n",
    "                             f'Survived > {N_DAYS} days',\n",
    "                             r'Follow-up duration of $\\bf{survived}$ patients in days',\n",
    "                             'b', (N_DAYS, 350))\n",
    "    dead_config = config(f'Passed away\\nwithin {N_DAYS} days',\n",
    "                         f'Survived > {N_DAYS} days',\n",
    "                         r'$\\bf{Passed}$ $\\bf{away}$ on a given follow up day',\n",
    "                         'r', (0, N_DAYS))\n",
    "    configs = (survived_config, dead_config)\n",
    "    \n",
    "    # Make the plots\n",
    "    for i, ax in enumerate(axes):\n",
    "        df[df['DEATH_EVENT'] == i]['time'].plot.kde(bw_method=KERNEL_WIDTH, ax=ax, color=configs[i].colour)\n",
    "        ax.set_ylim(0, ax.get_ylim()[1]*1.1)\n",
    "        ax.set_title(configs[i].title)\n",
    "        ax.set_xlabel('Day')\n",
    "        ax.set_xlim(0, 400)\n",
    "        ax.vlines(x=[0, N_DAYS, 350], ymin=0, ymax=ax.get_ylim()[1], color='g', linestyles='dashed')\n",
    "\n",
    "        ax.annotate(text=configs[i].text1, xy=(5, 0.45*ax.get_ylim()[1]),\n",
    "                    xytext=(5, 0.45*ax.get_ylim()[1]), ha='left', va='bottom')#,\n",
    "                    #bbox=dict(boxstyle=\"round\", alpha=0.1))\n",
    "        ax.annotate(text='', xy=(0, 0.4*ax.get_ylim()[1]),\n",
    "                    xytext=(N_DAYS, 0.4*ax.get_ylim()[1]),\n",
    "                    arrowprops=dict(arrowstyle='<->', color=configs[i].colour))\n",
    "        \n",
    "        ax.annotate(text=configs[i].text2, xy=(N_DAYS, 0.85*ax.get_ylim()[1]),\n",
    "                    xytext=(150, 0.85*ax.get_ylim()[1]), va='bottom')#,\n",
    "                    #bbox=dict(boxstyle=\"round\", alpha=0.1))\n",
    "        ax.annotate(text='', xy=(N_DAYS, 0.8*ax.get_ylim()[1]),\n",
    "                    xytext=(350, 0.8*ax.get_ylim()[1]),\n",
    "                    arrowprops=dict(arrowstyle='<->', color=configs[i].colour))\n",
    "\n",
    "        ax.axvspan(*configs[i].hlight, facecolor='limegreen', alpha=0.5)\n",
    "plot_time()"
   ]
  },
  {
   "cell_type": "markdown",
   "id": "natural-details",
   "metadata": {},
   "source": [
    "Interestingly, the 'time' feature has different meaning for either category of patients:\n",
    "- for **survived** patients: duration of the follow-up time\n",
    "- for **deceased** patients: day of their passing\n",
    "\n",
    "Therefore, the former ones might have passed away anytime after the follow-up termination.\n",
    "For instance, they might have passed away anytime between their follow-up duration and the full 350-day period.\n",
    "Hence, the patients that are potentially **dead don't die** in the data; they will be hereafter referred to as 'zombies' ;-).\n",
    "\n",
    "As a break while reading this notebook I recommend the wonderful Sturgill Simpson's [\"The Dead Don't Die\" song](https://www.youtube.com/watch?v=xiukuoSjDj0) ;-)\n",
    "\n",
    "Selecting the 'survivors' of follow-up duration greater than $m$ days (`time`$>m$ days) means they have *certainly* survived the first $m$ days.\n",
    "On the other hand, to be consistent, we must choose the 'non-survivors' who have passed away *within* the first $m$ days (`time`$ < m$ days). The corresponding regions are highlighted in the graphs.\n",
    "\n",
    "This way we will be able to analyse how likely a given patient is to survive $m$ days, e.g. 2 months, after the heart failure.\n",
    "\n",
    "The patients whose follow-up duration is smaller than $m$ need to be rejected, reducing our statistics.\n",
    "\n",
    "Curiously, for the **survivors** (within $m$ days) target label, we might also include the ones who passed away after $m$ days. However, it seems preferable not to do this: I would rather tell a patient they are going to survive at least $m$ days if they *might survive even longer* than that rather than if they are *bound to* pass away anywhere from the day $m+1$ onwards. Both approaches are fine, though.\n",
    "\n",
    "## General lessons so far\n",
    "- Feeding features directly to a ML algorithm is a *wrong* practise\n",
    "- Meaning of target labels might be more subtle than it seems (here 'DEATH_EVENT' relates to another feature, follow-up time);\n",
    "- Then, one has to disentangle labels and features\n",
    "- Ignoring some features we do not understand is dangerous, especially if they somehow relate to the labels\n",
    "- Be patient and use a \"pause and think\" (or \"pause and plot\") approach before any classification / regression\n",
    "- Regarding data collection, the follow-up period should have been the same for each patient (if possible), e.g. 1 year\n",
    "\n",
    "At this point it is astonishing that the paper authors **ignored** the `time` variable in one of their studies, trying to justify it as follows:\n",
    "> In the previous part of the analysis, we excluded follow-up\n",
    "time from the dataset because we prefered to focus on the\n",
    "clinical features and to try to discover something meaningful about them.\n",
    "\n",
    "This approach is evidently **biased** as they might have had contaminated train and test samples: people who *might* have died were considered *survivors*."
   ]
  },
  {
   "cell_type": "markdown",
   "id": "referenced-pricing",
   "metadata": {},
   "source": [
    "Let us see how many patients are we left with for various values of $m$."
   ]
  },
  {
   "cell_type": "code",
   "execution_count": 56,
   "id": "ahead-finder",
   "metadata": {},
   "outputs": [
    {
     "name": "stdout",
     "output_type": "stream",
     "text": [
      "Max sum arg: 70 days\n",
      "Max F1 arg: 100 days\n"
     ]
    },
    {
     "data": {
      "image/png": "[encoded data removed]",
      "text/plain": [
       "<Figure size 432x288 with 1 Axes>"
      ]
     },
     "metadata": {},
     "output_type": "display_data"
    }
   ],
   "source": [
    "def plot_survived_died_period(n_min=10, n_max=350, step=10):\n",
    "    days = []\n",
    "    survived_arr = []\n",
    "    deceased_arr = []\n",
    "    f1 = []\n",
    "    sum_all = []\n",
    "    for n in range(n_min, n_max, step):\n",
    "        days.append(n)\n",
    "        survived = ((df['DEATH_EVENT'] == 0) & (df['time'] > n)).sum()\n",
    "        survived_fr = survived / (df['DEATH_EVENT'] == 0).sum()\n",
    "        died = ((df['DEATH_EVENT'] == 1) & (df['time'] < n)).sum()\n",
    "        died_fr = died / (df['DEATH_EVENT'] == 1).sum()\n",
    "        survived_arr.append(survived)\n",
    "        deceased_arr.append(died)\n",
    "        f1.append(2 * (survived * died) / (survived + died))\n",
    "        sum_all.append(survived + died)\n",
    "    max_sum_arg = np.argmax(sum_all)\n",
    "    max_f1_arg = np.argmax(f1)\n",
    "    print(\"Max sum arg:\", days[max_sum_arg], \"days\")\n",
    "    print(\"Max F1 arg:\", days[max_f1_arg], \"days\")\n",
    "    plt.plot(days, survived_arr, label='survived', color='b')\n",
    "    plt.plot(days, deceased_arr, label='deceased', color='r')\n",
    "    plt.plot(days, f1, label='harmonic average', color='g', linestyle='dotted')\n",
    "    plt.plot(days, sum_all, label='survived+deceased', color='gray', linestyle='dashed')\n",
    "    plt.vlines(x=days[max_sum_arg], ymin=0, ymax=sum_all[max_sum_arg], linestyles='dashed', colors='gray')\n",
    "    plt.vlines(x=days[max_f1_arg], ymin=0, ymax=f1[max_f1_arg], linestyles='dotted', colors='gray')\n",
    "    plt.xlabel(\"Day\")\n",
    "    plt.ylabel(\"No. of patients\")\n",
    "    plt.title(\"Number of surviving (deceased) patients at least (within) given number of days after heart failure\")\n",
    "    plt.legend(loc='best')\n",
    "    plt.show()\n",
    "plot_survived_died_period()"
   ]
  },
  {
   "cell_type": "markdown",
   "id": "contemporary-collect",
   "metadata": {},
   "source": [
    "Maximising harmonic average ensures the two variables are high and close by (i.e. balanced).\n",
    "The harmonic average has an approximately plateau in the region around 75-175 days.\n",
    "We might try to run the ML algorithms in that range.\n",
    "\n",
    "The maximum harmonic average in on the 100-th day and the maximum sum of survived and deceased patients is achieved if we split at the 70-th day. If we want to have both, high statistics and good balance between the categories, we should consider splitting around the 75-100 days. Of course, all other values are technically possible, but they should yield less precise ML performance (which claim we might test)."
   ]
  },
  {
   "cell_type": "code",
   "execution_count": 57,
   "id": "practical-lover",
   "metadata": {},
   "outputs": [
    {
     "data": {
      "image/png": "[encoded data removed]",
      "text/plain": [
       "<Figure size 1080x576 with 2 Axes>"
      ]
     },
     "metadata": {},
     "output_type": "display_data"
    }
   ],
   "source": [
    "plot_time(100)"
   ]
  },
  {
   "cell_type": "markdown",
   "id": "electronic-thomas",
   "metadata": {},
   "source": [
    "# Train set and test set\n",
    "It is time to split the dataset into train and test sets.\n",
    "Due to rather small statistics, we need to use stratified sampling to ensure the subgroups (i.e. surviving and deceased patients, and train/test patients) are representative of the population (i.e. the full dataset)."
   ]
  },
  {
   "cell_type": "code",
   "execution_count": 703,
   "id": "living-dinner",
   "metadata": {},
   "outputs": [
    {
     "data": {
      "text/plain": [
       "StratifiedShuffleSplit(n_splits=5, random_state=0, test_size=0.5,\n",
       "            train_size=None)"
      ]
     },
     "execution_count": 703,
     "metadata": {},
     "output_type": "execute_result"
    }
   ],
   "source": [
    "from sklearn.model_selection import StratifiedShuffleSplit, train_test_split\n",
    "StratifiedShuffleSplit(n_splits=5, test_size=0.5, random_state=0)"
   ]
  },
  {
   "cell_type": "code",
   "execution_count": 704,
   "id": "multiple-collective",
   "metadata": {},
   "outputs": [
    {
     "data": {
      "text/html": [
       "<div>\n",
       "<style scoped>\n",
       "    .dataframe tbody tr th:only-of-type {\n",
       "        vertical-align: middle;\n",
       "    }\n",
       "\n",
       "    .dataframe tbody tr th {\n",
       "        vertical-align: top;\n",
       "    }\n",
       "\n",
       "    .dataframe thead th {\n",
       "        text-align: right;\n",
       "    }\n",
       "</style>\n",
       "<table border=\"1\" class=\"dataframe\">\n",
       "  <thead>\n",
       "    <tr style=\"text-align: right;\">\n",
       "      <th></th>\n",
       "      <th>age</th>\n",
       "      <th>anaemia</th>\n",
       "      <th>creatinine_phosphokinase</th>\n",
       "      <th>diabetes</th>\n",
       "      <th>ejection_fraction</th>\n",
       "      <th>high_blood_pressure</th>\n",
       "      <th>platelets</th>\n",
       "      <th>serum_creatinine</th>\n",
       "      <th>serum_sodium</th>\n",
       "      <th>sex</th>\n",
       "      <th>smoking</th>\n",
       "      <th>DEATH_EVENT</th>\n",
       "    </tr>\n",
       "  </thead>\n",
       "  <tbody>\n",
       "    <tr>\n",
       "      <th>0</th>\n",
       "      <td>75.0</td>\n",
       "      <td>0</td>\n",
       "      <td>582</td>\n",
       "      <td>0</td>\n",
       "      <td>20</td>\n",
       "      <td>1</td>\n",
       "      <td>265000.00</td>\n",
       "      <td>1.9</td>\n",
       "      <td>130</td>\n",
       "      <td>1</td>\n",
       "      <td>0</td>\n",
       "      <td>1</td>\n",
       "    </tr>\n",
       "    <tr>\n",
       "      <th>1</th>\n",
       "      <td>55.0</td>\n",
       "      <td>0</td>\n",
       "      <td>7861</td>\n",
       "      <td>0</td>\n",
       "      <td>38</td>\n",
       "      <td>0</td>\n",
       "      <td>263358.03</td>\n",
       "      <td>1.1</td>\n",
       "      <td>136</td>\n",
       "      <td>1</td>\n",
       "      <td>0</td>\n",
       "      <td>1</td>\n",
       "    </tr>\n",
       "    <tr>\n",
       "      <th>2</th>\n",
       "      <td>65.0</td>\n",
       "      <td>0</td>\n",
       "      <td>146</td>\n",
       "      <td>0</td>\n",
       "      <td>20</td>\n",
       "      <td>0</td>\n",
       "      <td>162000.00</td>\n",
       "      <td>1.3</td>\n",
       "      <td>129</td>\n",
       "      <td>1</td>\n",
       "      <td>1</td>\n",
       "      <td>1</td>\n",
       "    </tr>\n",
       "    <tr>\n",
       "      <th>3</th>\n",
       "      <td>50.0</td>\n",
       "      <td>1</td>\n",
       "      <td>111</td>\n",
       "      <td>0</td>\n",
       "      <td>20</td>\n",
       "      <td>0</td>\n",
       "      <td>210000.00</td>\n",
       "      <td>1.9</td>\n",
       "      <td>137</td>\n",
       "      <td>1</td>\n",
       "      <td>0</td>\n",
       "      <td>1</td>\n",
       "    </tr>\n",
       "    <tr>\n",
       "      <th>4</th>\n",
       "      <td>65.0</td>\n",
       "      <td>1</td>\n",
       "      <td>160</td>\n",
       "      <td>1</td>\n",
       "      <td>20</td>\n",
       "      <td>0</td>\n",
       "      <td>327000.00</td>\n",
       "      <td>2.7</td>\n",
       "      <td>116</td>\n",
       "      <td>0</td>\n",
       "      <td>0</td>\n",
       "      <td>1</td>\n",
       "    </tr>\n",
       "  </tbody>\n",
       "</table>\n",
       "</div>"
      ],
      "text/plain": [
       "    age  anaemia  creatinine_phosphokinase  diabetes  ejection_fraction  \\\n",
       "0  75.0        0                       582         0                 20   \n",
       "1  55.0        0                      7861         0                 38   \n",
       "2  65.0        0                       146         0                 20   \n",
       "3  50.0        1                       111         0                 20   \n",
       "4  65.0        1                       160         1                 20   \n",
       "\n",
       "   high_blood_pressure  platelets  serum_creatinine  serum_sodium  sex  \\\n",
       "0                    1  265000.00               1.9           130    1   \n",
       "1                    0  263358.03               1.1           136    1   \n",
       "2                    0  162000.00               1.3           129    1   \n",
       "3                    0  210000.00               1.9           137    1   \n",
       "4                    0  327000.00               2.7           116    0   \n",
       "\n",
       "   smoking  DEATH_EVENT  \n",
       "0        0            1  \n",
       "1        0            1  \n",
       "2        1            1  \n",
       "3        0            1  \n",
       "4        0            1  "
      ]
     },
     "execution_count": 704,
     "metadata": {},
     "output_type": "execute_result"
    }
   ],
   "source": [
    "# Select the patients\n",
    "def select_df(n=100):\n",
    "    select = (((df['DEATH_EVENT'] == 0) & (df['time'] > n)) | ((df['DEATH_EVENT'] == 1) & (df['time'] < n)))\n",
    "    return df[select]\n",
    "df = select_df()\n",
    "\n",
    "# Remove not useful features\n",
    "df = df.drop([\"time\"], axis=1)\n",
    "df.head()"
   ]
  },
  {
   "cell_type": "code",
   "execution_count": 705,
   "id": "canadian-intellectual",
   "metadata": {},
   "outputs": [],
   "source": [
    "train_set, test_set = train_test_split(df, test_size=0.4, random_state=42)"
   ]
  },
  {
   "cell_type": "code",
   "execution_count": 709,
   "id": "reduced-december",
   "metadata": {},
   "outputs": [],
   "source": [
    "X_train = train_set.drop([\"DEATH_EVENT\"], axis=1) # drop labels and time for training set\n",
    "y_train = train_set[\"DEATH_EVENT\"].copy()\n",
    "X_test = test_set.drop([\"DEATH_EVENT\"], axis=1) # drop labels and time for test set\n",
    "y_test = test_set[\"DEATH_EVENT\"].copy()"
   ]
  },
  {
   "cell_type": "code",
   "execution_count": 710,
   "id": "brown-reality",
   "metadata": {},
   "outputs": [
    {
     "data": {
      "text/html": [
       "<div>\n",
       "<style scoped>\n",
       "    .dataframe tbody tr th:only-of-type {\n",
       "        vertical-align: middle;\n",
       "    }\n",
       "\n",
       "    .dataframe tbody tr th {\n",
       "        vertical-align: top;\n",
       "    }\n",
       "\n",
       "    .dataframe thead th {\n",
       "        text-align: right;\n",
       "    }\n",
       "</style>\n",
       "<table border=\"1\" class=\"dataframe\">\n",
       "  <thead>\n",
       "    <tr style=\"text-align: right;\">\n",
       "      <th></th>\n",
       "      <th>age</th>\n",
       "      <th>anaemia</th>\n",
       "      <th>creatinine_phosphokinase</th>\n",
       "      <th>diabetes</th>\n",
       "      <th>ejection_fraction</th>\n",
       "      <th>high_blood_pressure</th>\n",
       "      <th>platelets</th>\n",
       "      <th>serum_creatinine</th>\n",
       "      <th>serum_sodium</th>\n",
       "      <th>sex</th>\n",
       "      <th>smoking</th>\n",
       "    </tr>\n",
       "  </thead>\n",
       "  <tbody>\n",
       "    <tr>\n",
       "      <th>223</th>\n",
       "      <td>47.0</td>\n",
       "      <td>0</td>\n",
       "      <td>582</td>\n",
       "      <td>0</td>\n",
       "      <td>25</td>\n",
       "      <td>0</td>\n",
       "      <td>130000.00</td>\n",
       "      <td>0.8</td>\n",
       "      <td>134</td>\n",
       "      <td>1</td>\n",
       "      <td>0</td>\n",
       "    </tr>\n",
       "    <tr>\n",
       "      <th>179</th>\n",
       "      <td>55.0</td>\n",
       "      <td>0</td>\n",
       "      <td>835</td>\n",
       "      <td>0</td>\n",
       "      <td>40</td>\n",
       "      <td>0</td>\n",
       "      <td>279000.00</td>\n",
       "      <td>0.7</td>\n",
       "      <td>140</td>\n",
       "      <td>1</td>\n",
       "      <td>1</td>\n",
       "    </tr>\n",
       "    <tr>\n",
       "      <th>200</th>\n",
       "      <td>63.0</td>\n",
       "      <td>1</td>\n",
       "      <td>1767</td>\n",
       "      <td>0</td>\n",
       "      <td>45</td>\n",
       "      <td>0</td>\n",
       "      <td>73000.00</td>\n",
       "      <td>0.7</td>\n",
       "      <td>137</td>\n",
       "      <td>1</td>\n",
       "      <td>0</td>\n",
       "    </tr>\n",
       "    <tr>\n",
       "      <th>2</th>\n",
       "      <td>65.0</td>\n",
       "      <td>0</td>\n",
       "      <td>146</td>\n",
       "      <td>0</td>\n",
       "      <td>20</td>\n",
       "      <td>0</td>\n",
       "      <td>162000.00</td>\n",
       "      <td>1.3</td>\n",
       "      <td>129</td>\n",
       "      <td>1</td>\n",
       "      <td>1</td>\n",
       "    </tr>\n",
       "    <tr>\n",
       "      <th>133</th>\n",
       "      <td>63.0</td>\n",
       "      <td>0</td>\n",
       "      <td>193</td>\n",
       "      <td>0</td>\n",
       "      <td>60</td>\n",
       "      <td>1</td>\n",
       "      <td>295000.00</td>\n",
       "      <td>1.3</td>\n",
       "      <td>145</td>\n",
       "      <td>1</td>\n",
       "      <td>1</td>\n",
       "    </tr>\n",
       "    <tr>\n",
       "      <th>...</th>\n",
       "      <td>...</td>\n",
       "      <td>...</td>\n",
       "      <td>...</td>\n",
       "      <td>...</td>\n",
       "      <td>...</td>\n",
       "      <td>...</td>\n",
       "      <td>...</td>\n",
       "      <td>...</td>\n",
       "      <td>...</td>\n",
       "      <td>...</td>\n",
       "      <td>...</td>\n",
       "    </tr>\n",
       "    <tr>\n",
       "      <th>170</th>\n",
       "      <td>51.0</td>\n",
       "      <td>1</td>\n",
       "      <td>582</td>\n",
       "      <td>1</td>\n",
       "      <td>35</td>\n",
       "      <td>0</td>\n",
       "      <td>263358.03</td>\n",
       "      <td>1.5</td>\n",
       "      <td>136</td>\n",
       "      <td>1</td>\n",
       "      <td>1</td>\n",
       "    </tr>\n",
       "    <tr>\n",
       "      <th>15</th>\n",
       "      <td>82.0</td>\n",
       "      <td>1</td>\n",
       "      <td>379</td>\n",
       "      <td>0</td>\n",
       "      <td>50</td>\n",
       "      <td>0</td>\n",
       "      <td>47000.00</td>\n",
       "      <td>1.3</td>\n",
       "      <td>136</td>\n",
       "      <td>1</td>\n",
       "      <td>0</td>\n",
       "    </tr>\n",
       "    <tr>\n",
       "      <th>152</th>\n",
       "      <td>50.0</td>\n",
       "      <td>0</td>\n",
       "      <td>115</td>\n",
       "      <td>0</td>\n",
       "      <td>45</td>\n",
       "      <td>1</td>\n",
       "      <td>184000.00</td>\n",
       "      <td>0.9</td>\n",
       "      <td>134</td>\n",
       "      <td>1</td>\n",
       "      <td>1</td>\n",
       "    </tr>\n",
       "    <tr>\n",
       "      <th>257</th>\n",
       "      <td>58.0</td>\n",
       "      <td>0</td>\n",
       "      <td>132</td>\n",
       "      <td>1</td>\n",
       "      <td>38</td>\n",
       "      <td>1</td>\n",
       "      <td>253000.00</td>\n",
       "      <td>1.0</td>\n",
       "      <td>139</td>\n",
       "      <td>1</td>\n",
       "      <td>0</td>\n",
       "    </tr>\n",
       "    <tr>\n",
       "      <th>162</th>\n",
       "      <td>63.0</td>\n",
       "      <td>1</td>\n",
       "      <td>582</td>\n",
       "      <td>0</td>\n",
       "      <td>40</td>\n",
       "      <td>0</td>\n",
       "      <td>448000.00</td>\n",
       "      <td>0.9</td>\n",
       "      <td>137</td>\n",
       "      <td>1</td>\n",
       "      <td>1</td>\n",
       "    </tr>\n",
       "  </tbody>\n",
       "</table>\n",
       "<p>131 rows × 11 columns</p>\n",
       "</div>"
      ],
      "text/plain": [
       "      age  anaemia  creatinine_phosphokinase  diabetes  ejection_fraction  \\\n",
       "223  47.0        0                       582         0                 25   \n",
       "179  55.0        0                       835         0                 40   \n",
       "200  63.0        1                      1767         0                 45   \n",
       "2    65.0        0                       146         0                 20   \n",
       "133  63.0        0                       193         0                 60   \n",
       "..    ...      ...                       ...       ...                ...   \n",
       "170  51.0        1                       582         1                 35   \n",
       "15   82.0        1                       379         0                 50   \n",
       "152  50.0        0                       115         0                 45   \n",
       "257  58.0        0                       132         1                 38   \n",
       "162  63.0        1                       582         0                 40   \n",
       "\n",
       "     high_blood_pressure  platelets  serum_creatinine  serum_sodium  sex  \\\n",
       "223                    0  130000.00               0.8           134    1   \n",
       "179                    0  279000.00               0.7           140    1   \n",
       "200                    0   73000.00               0.7           137    1   \n",
       "2                      0  162000.00               1.3           129    1   \n",
       "133                    1  295000.00               1.3           145    1   \n",
       "..                   ...        ...               ...           ...  ...   \n",
       "170                    0  263358.03               1.5           136    1   \n",
       "15                     0   47000.00               1.3           136    1   \n",
       "152                    1  184000.00               0.9           134    1   \n",
       "257                    1  253000.00               1.0           139    1   \n",
       "162                    0  448000.00               0.9           137    1   \n",
       "\n",
       "     smoking  \n",
       "223        0  \n",
       "179        1  \n",
       "200        0  \n",
       "2          1  \n",
       "133        1  \n",
       "..       ...  \n",
       "170        1  \n",
       "15         0  \n",
       "152        1  \n",
       "257        0  \n",
       "162        1  \n",
       "\n",
       "[131 rows x 11 columns]"
      ]
     },
     "execution_count": 710,
     "metadata": {},
     "output_type": "execute_result"
    }
   ],
   "source": [
    "X_train"
   ]
  },
  {
   "cell_type": "code",
   "execution_count": 711,
   "id": "proud-absence",
   "metadata": {},
   "outputs": [],
   "source": [
    "from sklearn.pipeline import Pipeline\n",
    "from sklearn.preprocessing import StandardScaler"
   ]
  },
  {
   "cell_type": "code",
   "execution_count": 713,
   "id": "alive-immune",
   "metadata": {},
   "outputs": [
    {
     "data": {
      "text/plain": [
       "pandas.core.frame.DataFrame"
      ]
     },
     "execution_count": 713,
     "metadata": {},
     "output_type": "execute_result"
    }
   ],
   "source": [
    "type(X_train)"
   ]
  },
  {
   "cell_type": "code",
   "execution_count": 714,
   "id": "statewide-headquarters",
   "metadata": {},
   "outputs": [],
   "source": [
    "pipeline = Pipeline([\n",
    "        #('time_bin', TimeBinning(bin_size=30)),\n",
    "        ('std_scaler', StandardScaler()),\n",
    "    ])\n",
    "\n",
    "X_train_tr = pipeline.fit_transform(X_train)"
   ]
  },
  {
   "cell_type": "code",
   "execution_count": 715,
   "id": "hydraulic-recall",
   "metadata": {},
   "outputs": [
    {
     "data": {
      "text/plain": [
       "array([[-1.13454396, -0.83743579, -0.05671184, ..., -0.62481182,\n",
       "         0.72336423, -0.6990253 ],\n",
       "       [-0.46342344, -0.83743579,  0.16941911, ...,  0.75082429,\n",
       "         0.72336423,  1.4305634 ],\n",
       "       [ 0.20769707,  1.1941214 ,  1.00243904, ...,  0.06300623,\n",
       "         0.72336423, -0.6990253 ],\n",
       "       ...,\n",
       "       [-0.88287377, -0.83743579, -0.4741156 , ..., -0.62481182,\n",
       "         0.72336423,  1.4305634 ],\n",
       "       [-0.21175325, -0.83743579, -0.45892103, ...,  0.5215516 ,\n",
       "         0.72336423, -0.6990253 ],\n",
       "       [ 0.20769707,  1.1941214 , -0.05671184, ...,  0.06300623,\n",
       "         0.72336423,  1.4305634 ]])"
      ]
     },
     "execution_count": 715,
     "metadata": {},
     "output_type": "execute_result"
    }
   ],
   "source": [
    "X_train_tr"
   ]
  },
  {
   "cell_type": "code",
   "execution_count": 716,
   "id": "assumed-universe",
   "metadata": {},
   "outputs": [
    {
     "data": {
      "text/plain": [
       "LogisticRegression(n_jobs=-1, random_state=0)"
      ]
     },
     "execution_count": 716,
     "metadata": {},
     "output_type": "execute_result"
    }
   ],
   "source": [
    "from sklearn.linear_model import LogisticRegression\n",
    "log_reg = LogisticRegression(penalty='l2', C=1.0, random_state=0,\n",
    "                             n_jobs=-1)\n",
    "log_reg.fit(X_train_tr, y_train)"
   ]
  },
  {
   "cell_type": "code",
   "execution_count": 717,
   "id": "animated-focus",
   "metadata": {},
   "outputs": [
    {
     "data": {
      "text/plain": [
       "array([0, 0, 0, 0, 0], dtype=int64)"
      ]
     },
     "execution_count": 717,
     "metadata": {},
     "output_type": "execute_result"
    }
   ],
   "source": [
    "some_data = X_train_tr[:5].copy()\n",
    "log_reg.predict(some_data)"
   ]
  },
  {
   "cell_type": "code",
   "execution_count": 718,
   "id": "protecting-repository",
   "metadata": {},
   "outputs": [
    {
     "data": {
      "text/plain": [
       "array([[-1.13454396, -0.83743579, -0.05671184, ..., -0.62481182,\n",
       "         0.72336423, -0.6990253 ],\n",
       "       [-0.46342344, -0.83743579,  0.16941911, ...,  0.75082429,\n",
       "         0.72336423,  1.4305634 ],\n",
       "       [ 0.20769707,  1.1941214 ,  1.00243904, ...,  0.06300623,\n",
       "         0.72336423, -0.6990253 ],\n",
       "       ...,\n",
       "       [-0.88287377, -0.83743579, -0.4741156 , ..., -0.62481182,\n",
       "         0.72336423,  1.4305634 ],\n",
       "       [-0.21175325, -0.83743579, -0.45892103, ...,  0.5215516 ,\n",
       "         0.72336423, -0.6990253 ],\n",
       "       [ 0.20769707,  1.1941214 , -0.05671184, ...,  0.06300623,\n",
       "         0.72336423,  1.4305634 ]])"
      ]
     },
     "execution_count": 718,
     "metadata": {},
     "output_type": "execute_result"
    }
   ],
   "source": [
    "X_train_tr"
   ]
  },
  {
   "cell_type": "code",
   "execution_count": 719,
   "id": "danish-paradise",
   "metadata": {},
   "outputs": [],
   "source": [
    "#pd.DataFrame(pipeline.inverse_transform(some_data), columns=df.columns[:-1])"
   ]
  },
  {
   "cell_type": "code",
   "execution_count": 720,
   "id": "continent-undergraduate",
   "metadata": {},
   "outputs": [
    {
     "data": {
      "text/plain": [
       "223    0\n",
       "179    0\n",
       "200    0\n",
       "2      1\n",
       "133    0\n",
       "Name: DEATH_EVENT, dtype: int64"
      ]
     },
     "execution_count": 720,
     "metadata": {},
     "output_type": "execute_result"
    }
   ],
   "source": [
    "y_train[:5]"
   ]
  },
  {
   "cell_type": "code",
   "execution_count": 721,
   "id": "cleared-donna",
   "metadata": {},
   "outputs": [],
   "source": [
    "# Cross validation\n",
    "from sklearn.model_selection import cross_val_score"
   ]
  },
  {
   "cell_type": "code",
   "execution_count": 722,
   "id": "peaceful-banana",
   "metadata": {},
   "outputs": [
    {
     "name": "stdout",
     "output_type": "stream",
     "text": [
      "Scores: [0.7037037  0.65384615 0.65384615 0.69230769 0.69230769]\n",
      "Mean score: 0.6792022792022792\n",
      "Std dev: 0.021117242689693925\n"
     ]
    }
   ],
   "source": [
    "scores = cross_val_score(log_reg, X_train_tr, y_train,\n",
    "                         scoring=\"accuracy\", cv=5)\n",
    "print(\"Scores:\", scores)\n",
    "print(\"Mean score:\", scores.mean())\n",
    "print(\"Std dev:\", scores.std())"
   ]
  },
  {
   "cell_type": "code",
   "execution_count": 723,
   "id": "considerable-accreditation",
   "metadata": {},
   "outputs": [
    {
     "data": {
      "text/plain": [
       "array([0.7037037 , 0.65384615, 0.65384615, 0.69230769, 0.69230769])"
      ]
     },
     "execution_count": 723,
     "metadata": {},
     "output_type": "execute_result"
    }
   ],
   "source": [
    "scores"
   ]
  },
  {
   "cell_type": "code",
   "execution_count": 724,
   "id": "close-bloom",
   "metadata": {},
   "outputs": [
    {
     "data": {
      "text/plain": [
       "0.021117242689693925"
      ]
     },
     "execution_count": 724,
     "metadata": {},
     "output_type": "execute_result"
    }
   ],
   "source": [
    "scores.std()"
   ]
  },
  {
   "cell_type": "code",
   "execution_count": 725,
   "id": "western-little",
   "metadata": {},
   "outputs": [
    {
     "data": {
      "text/plain": [
       "RandomForestClassifier(random_state=42)"
      ]
     },
     "execution_count": 725,
     "metadata": {},
     "output_type": "execute_result"
    }
   ],
   "source": [
    "from sklearn.ensemble import RandomForestClassifier\n",
    "forest_clf = RandomForestClassifier(n_estimators=100, random_state=42)\n",
    "forest_clf.fit(X_train_tr, y_train)"
   ]
  },
  {
   "cell_type": "code",
   "execution_count": 726,
   "id": "chief-philosophy",
   "metadata": {},
   "outputs": [
    {
     "name": "stdout",
     "output_type": "stream",
     "text": [
      "Scores: [0.85185185 0.61538462 0.76923077 0.73076923 0.76923077]\n",
      "Mean score: 0.7472934472934474\n",
      "Std dev: 0.07689985932191823\n"
     ]
    }
   ],
   "source": [
    "scores = cross_val_score(forest_clf, X_train_tr, y_train,\n",
    "                         scoring=\"accuracy\", cv=5)\n",
    "print(\"Scores:\", scores)\n",
    "print(\"Mean score:\", scores.mean())\n",
    "print(\"Std dev:\", scores.std())"
   ]
  },
  {
   "cell_type": "code",
   "execution_count": 727,
   "id": "cleared-sequence",
   "metadata": {},
   "outputs": [
    {
     "data": {
      "text/plain": [
       "10"
      ]
     },
     "execution_count": 727,
     "metadata": {},
     "output_type": "execute_result"
    }
   ],
   "source": [
    "len(df.columns)-2"
   ]
  },
  {
   "cell_type": "code",
   "execution_count": 728,
   "id": "bright-gregory",
   "metadata": {},
   "outputs": [],
   "source": [
    "pipeline = Pipeline([\n",
    "        #('time_bin', TimeBinning(bin_size=30)),\n",
    "        ('std_scaler', StandardScaler()),\n",
    "        ('clf', RandomForestClassifier(max_features=10, random_state=42))\n",
    "    ])"
   ]
  },
  {
   "cell_type": "code",
   "execution_count": 729,
   "id": "latest-powell",
   "metadata": {},
   "outputs": [
    {
     "data": {
      "text/plain": [
       "GridSearchCV(cv=3,\n",
       "             estimator=Pipeline(steps=[('std_scaler', StandardScaler()),\n",
       "                                       ('clf',\n",
       "                                        RandomForestClassifier(max_features=10,\n",
       "                                                               random_state=42))]),\n",
       "             n_jobs=-1,\n",
       "             param_grid=[{'clf__max_features': [1, 2, 3, 4, 5, 6, 7, 8, 9, 10,\n",
       "                                                11],\n",
       "                          'clf__n_estimators': [2, 10, 20, 21, 22, 30, 50]}],\n",
       "             return_train_score=True, scoring='accuracy')"
      ]
     },
     "execution_count": 729,
     "metadata": {},
     "output_type": "execute_result"
    }
   ],
   "source": [
    "from sklearn.model_selection import GridSearchCV\n",
    "\n",
    "param_grid = [\n",
    "    {#'time_bin__bin_size': [1, 2, 3, 4, 5], \n",
    "         'clf__n_estimators': [2, 10, 20, 21, 22, 30, 50], \n",
    "         'clf__max_features': [1, 2, 3, 4, 5, 6, 7, 8, 9, 10, 11]},\n",
    "    #{'bootstrap': [False], 'n_estimators': [3, 10], 'max_features': [2, 3, 4]},\n",
    "  ]\n",
    "\n",
    "grid_search = GridSearchCV(pipeline, param_grid, cv=3,\n",
    "                           scoring='accuracy',\n",
    "                           return_train_score=True,\n",
    "                           n_jobs=-1)\n",
    "grid_search.fit(X_train, y_train)"
   ]
  },
  {
   "cell_type": "code",
   "execution_count": 730,
   "id": "conventional-house",
   "metadata": {},
   "outputs": [
    {
     "data": {
      "text/plain": [
       "Pipeline(steps=[('std_scaler', StandardScaler()),\n",
       "                ('clf',\n",
       "                 RandomForestClassifier(max_features=9, n_estimators=2,\n",
       "                                        random_state=42))])"
      ]
     },
     "execution_count": 730,
     "metadata": {},
     "output_type": "execute_result"
    }
   ],
   "source": [
    "grid_search.best_estimator_"
   ]
  },
  {
   "cell_type": "code",
   "execution_count": 731,
   "id": "vietnamese-satellite",
   "metadata": {},
   "outputs": [
    {
     "data": {
      "text/plain": [
       "{'clf__max_features': 9, 'clf__n_estimators': 2}"
      ]
     },
     "execution_count": 731,
     "metadata": {},
     "output_type": "execute_result"
    }
   ],
   "source": [
    "grid_search.best_params_"
   ]
  },
  {
   "cell_type": "code",
   "execution_count": 732,
   "id": "prostate-hollow",
   "metadata": {},
   "outputs": [
    {
     "data": {
      "text/html": [
       "<div>\n",
       "<style scoped>\n",
       "    .dataframe tbody tr th:only-of-type {\n",
       "        vertical-align: middle;\n",
       "    }\n",
       "\n",
       "    .dataframe tbody tr th {\n",
       "        vertical-align: top;\n",
       "    }\n",
       "\n",
       "    .dataframe thead th {\n",
       "        text-align: right;\n",
       "    }\n",
       "</style>\n",
       "<table border=\"1\" class=\"dataframe\">\n",
       "  <thead>\n",
       "    <tr style=\"text-align: right;\">\n",
       "      <th></th>\n",
       "      <th>mean_fit_time</th>\n",
       "      <th>std_fit_time</th>\n",
       "      <th>mean_score_time</th>\n",
       "      <th>std_score_time</th>\n",
       "      <th>param_clf__max_features</th>\n",
       "      <th>param_clf__n_estimators</th>\n",
       "      <th>params</th>\n",
       "      <th>split0_test_score</th>\n",
       "      <th>split1_test_score</th>\n",
       "      <th>split2_test_score</th>\n",
       "      <th>mean_test_score</th>\n",
       "      <th>std_test_score</th>\n",
       "      <th>rank_test_score</th>\n",
       "      <th>split0_train_score</th>\n",
       "      <th>split1_train_score</th>\n",
       "      <th>split2_train_score</th>\n",
       "      <th>mean_train_score</th>\n",
       "      <th>std_train_score</th>\n",
       "    </tr>\n",
       "  </thead>\n",
       "  <tbody>\n",
       "    <tr>\n",
       "      <th>0</th>\n",
       "      <td>0.010305</td>\n",
       "      <td>4.701341e-04</td>\n",
       "      <td>0.003325</td>\n",
       "      <td>4.698531e-04</td>\n",
       "      <td>1</td>\n",
       "      <td>2</td>\n",
       "      <td>{'clf__max_features': 1, 'clf__n_estimators': 2}</td>\n",
       "      <td>0.659091</td>\n",
       "      <td>0.590909</td>\n",
       "      <td>0.651163</td>\n",
       "      <td>0.633721</td>\n",
       "      <td>0.030445</td>\n",
       "      <td>77</td>\n",
       "      <td>0.873563</td>\n",
       "      <td>0.896552</td>\n",
       "      <td>0.886364</td>\n",
       "      <td>0.885493</td>\n",
       "      <td>0.009405</td>\n",
       "    </tr>\n",
       "    <tr>\n",
       "      <th>1</th>\n",
       "      <td>0.023271</td>\n",
       "      <td>4.701903e-04</td>\n",
       "      <td>0.003989</td>\n",
       "      <td>0.000000e+00</td>\n",
       "      <td>1</td>\n",
       "      <td>10</td>\n",
       "      <td>{'clf__max_features': 1, 'clf__n_estimators': 10}</td>\n",
       "      <td>0.750000</td>\n",
       "      <td>0.681818</td>\n",
       "      <td>0.697674</td>\n",
       "      <td>0.709831</td>\n",
       "      <td>0.029132</td>\n",
       "      <td>62</td>\n",
       "      <td>0.965517</td>\n",
       "      <td>0.988506</td>\n",
       "      <td>1.000000</td>\n",
       "      <td>0.984674</td>\n",
       "      <td>0.014336</td>\n",
       "    </tr>\n",
       "    <tr>\n",
       "      <th>2</th>\n",
       "      <td>0.042554</td>\n",
       "      <td>9.392012e-04</td>\n",
       "      <td>0.006316</td>\n",
       "      <td>4.709782e-04</td>\n",
       "      <td>1</td>\n",
       "      <td>20</td>\n",
       "      <td>{'clf__max_features': 1, 'clf__n_estimators': 20}</td>\n",
       "      <td>0.795455</td>\n",
       "      <td>0.704545</td>\n",
       "      <td>0.744186</td>\n",
       "      <td>0.748062</td>\n",
       "      <td>0.037215</td>\n",
       "      <td>27</td>\n",
       "      <td>1.000000</td>\n",
       "      <td>1.000000</td>\n",
       "      <td>1.000000</td>\n",
       "      <td>1.000000</td>\n",
       "      <td>0.000000</td>\n",
       "    </tr>\n",
       "    <tr>\n",
       "      <th>3</th>\n",
       "      <td>0.045545</td>\n",
       "      <td>1.243391e-03</td>\n",
       "      <td>0.005984</td>\n",
       "      <td>9.733398e-07</td>\n",
       "      <td>1</td>\n",
       "      <td>21</td>\n",
       "      <td>{'clf__max_features': 1, 'clf__n_estimators': 21}</td>\n",
       "      <td>0.795455</td>\n",
       "      <td>0.727273</td>\n",
       "      <td>0.744186</td>\n",
       "      <td>0.755638</td>\n",
       "      <td>0.028989</td>\n",
       "      <td>16</td>\n",
       "      <td>1.000000</td>\n",
       "      <td>1.000000</td>\n",
       "      <td>1.000000</td>\n",
       "      <td>1.000000</td>\n",
       "      <td>0.000000</td>\n",
       "    </tr>\n",
       "    <tr>\n",
       "      <th>4</th>\n",
       "      <td>0.047539</td>\n",
       "      <td>2.350670e-03</td>\n",
       "      <td>0.005319</td>\n",
       "      <td>4.699655e-04</td>\n",
       "      <td>1</td>\n",
       "      <td>22</td>\n",
       "      <td>{'clf__max_features': 1, 'clf__n_estimators': 22}</td>\n",
       "      <td>0.795455</td>\n",
       "      <td>0.659091</td>\n",
       "      <td>0.744186</td>\n",
       "      <td>0.732911</td>\n",
       "      <td>0.056238</td>\n",
       "      <td>40</td>\n",
       "      <td>1.000000</td>\n",
       "      <td>1.000000</td>\n",
       "      <td>1.000000</td>\n",
       "      <td>1.000000</td>\n",
       "      <td>0.000000</td>\n",
       "    </tr>\n",
       "    <tr>\n",
       "      <th>...</th>\n",
       "      <td>...</td>\n",
       "      <td>...</td>\n",
       "      <td>...</td>\n",
       "      <td>...</td>\n",
       "      <td>...</td>\n",
       "      <td>...</td>\n",
       "      <td>...</td>\n",
       "      <td>...</td>\n",
       "      <td>...</td>\n",
       "      <td>...</td>\n",
       "      <td>...</td>\n",
       "      <td>...</td>\n",
       "      <td>...</td>\n",
       "      <td>...</td>\n",
       "      <td>...</td>\n",
       "      <td>...</td>\n",
       "      <td>...</td>\n",
       "      <td>...</td>\n",
       "    </tr>\n",
       "    <tr>\n",
       "      <th>72</th>\n",
       "      <td>0.042552</td>\n",
       "      <td>1.695061e-03</td>\n",
       "      <td>0.005652</td>\n",
       "      <td>4.701340e-04</td>\n",
       "      <td>11</td>\n",
       "      <td>20</td>\n",
       "      <td>{'clf__max_features': 11, 'clf__n_estimators':...</td>\n",
       "      <td>0.772727</td>\n",
       "      <td>0.681818</td>\n",
       "      <td>0.720930</td>\n",
       "      <td>0.725159</td>\n",
       "      <td>0.037234</td>\n",
       "      <td>52</td>\n",
       "      <td>0.988506</td>\n",
       "      <td>1.000000</td>\n",
       "      <td>1.000000</td>\n",
       "      <td>0.996169</td>\n",
       "      <td>0.005418</td>\n",
       "    </tr>\n",
       "    <tr>\n",
       "      <th>73</th>\n",
       "      <td>0.044215</td>\n",
       "      <td>1.880873e-03</td>\n",
       "      <td>0.006486</td>\n",
       "      <td>1.473393e-03</td>\n",
       "      <td>11</td>\n",
       "      <td>21</td>\n",
       "      <td>{'clf__max_features': 11, 'clf__n_estimators':...</td>\n",
       "      <td>0.750000</td>\n",
       "      <td>0.704545</td>\n",
       "      <td>0.720930</td>\n",
       "      <td>0.725159</td>\n",
       "      <td>0.018796</td>\n",
       "      <td>52</td>\n",
       "      <td>0.988506</td>\n",
       "      <td>1.000000</td>\n",
       "      <td>1.000000</td>\n",
       "      <td>0.996169</td>\n",
       "      <td>0.005418</td>\n",
       "    </tr>\n",
       "    <tr>\n",
       "      <th>74</th>\n",
       "      <td>0.045054</td>\n",
       "      <td>4.701903e-04</td>\n",
       "      <td>0.004322</td>\n",
       "      <td>1.243943e-03</td>\n",
       "      <td>11</td>\n",
       "      <td>22</td>\n",
       "      <td>{'clf__max_features': 11, 'clf__n_estimators':...</td>\n",
       "      <td>0.795455</td>\n",
       "      <td>0.704545</td>\n",
       "      <td>0.720930</td>\n",
       "      <td>0.740310</td>\n",
       "      <td>0.039563</td>\n",
       "      <td>35</td>\n",
       "      <td>0.988506</td>\n",
       "      <td>1.000000</td>\n",
       "      <td>1.000000</td>\n",
       "      <td>0.996169</td>\n",
       "      <td>0.005418</td>\n",
       "    </tr>\n",
       "    <tr>\n",
       "      <th>75</th>\n",
       "      <td>0.058352</td>\n",
       "      <td>2.247832e-07</td>\n",
       "      <td>0.006649</td>\n",
       "      <td>4.700217e-04</td>\n",
       "      <td>11</td>\n",
       "      <td>30</td>\n",
       "      <td>{'clf__max_features': 11, 'clf__n_estimators':...</td>\n",
       "      <td>0.772727</td>\n",
       "      <td>0.681818</td>\n",
       "      <td>0.744186</td>\n",
       "      <td>0.732911</td>\n",
       "      <td>0.037960</td>\n",
       "      <td>40</td>\n",
       "      <td>1.000000</td>\n",
       "      <td>1.000000</td>\n",
       "      <td>1.000000</td>\n",
       "      <td>1.000000</td>\n",
       "      <td>0.000000</td>\n",
       "    </tr>\n",
       "    <tr>\n",
       "      <th>76</th>\n",
       "      <td>0.069988</td>\n",
       "      <td>6.219289e-03</td>\n",
       "      <td>0.004986</td>\n",
       "      <td>2.247832e-07</td>\n",
       "      <td>11</td>\n",
       "      <td>50</td>\n",
       "      <td>{'clf__max_features': 11, 'clf__n_estimators':...</td>\n",
       "      <td>0.772727</td>\n",
       "      <td>0.681818</td>\n",
       "      <td>0.767442</td>\n",
       "      <td>0.740662</td>\n",
       "      <td>0.041665</td>\n",
       "      <td>31</td>\n",
       "      <td>1.000000</td>\n",
       "      <td>1.000000</td>\n",
       "      <td>1.000000</td>\n",
       "      <td>1.000000</td>\n",
       "      <td>0.000000</td>\n",
       "    </tr>\n",
       "  </tbody>\n",
       "</table>\n",
       "<p>77 rows × 18 columns</p>\n",
       "</div>"
      ],
      "text/plain": [
       "    mean_fit_time  std_fit_time  mean_score_time  std_score_time  \\\n",
       "0        0.010305  4.701341e-04         0.003325    4.698531e-04   \n",
       "1        0.023271  4.701903e-04         0.003989    0.000000e+00   \n",
       "2        0.042554  9.392012e-04         0.006316    4.709782e-04   \n",
       "3        0.045545  1.243391e-03         0.005984    9.733398e-07   \n",
       "4        0.047539  2.350670e-03         0.005319    4.699655e-04   \n",
       "..            ...           ...              ...             ...   \n",
       "72       0.042552  1.695061e-03         0.005652    4.701340e-04   \n",
       "73       0.044215  1.880873e-03         0.006486    1.473393e-03   \n",
       "74       0.045054  4.701903e-04         0.004322    1.243943e-03   \n",
       "75       0.058352  2.247832e-07         0.006649    4.700217e-04   \n",
       "76       0.069988  6.219289e-03         0.004986    2.247832e-07   \n",
       "\n",
       "   param_clf__max_features param_clf__n_estimators  \\\n",
       "0                        1                       2   \n",
       "1                        1                      10   \n",
       "2                        1                      20   \n",
       "3                        1                      21   \n",
       "4                        1                      22   \n",
       "..                     ...                     ...   \n",
       "72                      11                      20   \n",
       "73                      11                      21   \n",
       "74                      11                      22   \n",
       "75                      11                      30   \n",
       "76                      11                      50   \n",
       "\n",
       "                                               params  split0_test_score  \\\n",
       "0    {'clf__max_features': 1, 'clf__n_estimators': 2}           0.659091   \n",
       "1   {'clf__max_features': 1, 'clf__n_estimators': 10}           0.750000   \n",
       "2   {'clf__max_features': 1, 'clf__n_estimators': 20}           0.795455   \n",
       "3   {'clf__max_features': 1, 'clf__n_estimators': 21}           0.795455   \n",
       "4   {'clf__max_features': 1, 'clf__n_estimators': 22}           0.795455   \n",
       "..                                                ...                ...   \n",
       "72  {'clf__max_features': 11, 'clf__n_estimators':...           0.772727   \n",
       "73  {'clf__max_features': 11, 'clf__n_estimators':...           0.750000   \n",
       "74  {'clf__max_features': 11, 'clf__n_estimators':...           0.795455   \n",
       "75  {'clf__max_features': 11, 'clf__n_estimators':...           0.772727   \n",
       "76  {'clf__max_features': 11, 'clf__n_estimators':...           0.772727   \n",
       "\n",
       "    split1_test_score  split2_test_score  mean_test_score  std_test_score  \\\n",
       "0            0.590909           0.651163         0.633721        0.030445   \n",
       "1            0.681818           0.697674         0.709831        0.029132   \n",
       "2            0.704545           0.744186         0.748062        0.037215   \n",
       "3            0.727273           0.744186         0.755638        0.028989   \n",
       "4            0.659091           0.744186         0.732911        0.056238   \n",
       "..                ...                ...              ...             ...   \n",
       "72           0.681818           0.720930         0.725159        0.037234   \n",
       "73           0.704545           0.720930         0.725159        0.018796   \n",
       "74           0.704545           0.720930         0.740310        0.039563   \n",
       "75           0.681818           0.744186         0.732911        0.037960   \n",
       "76           0.681818           0.767442         0.740662        0.041665   \n",
       "\n",
       "    rank_test_score  split0_train_score  split1_train_score  \\\n",
       "0                77            0.873563            0.896552   \n",
       "1                62            0.965517            0.988506   \n",
       "2                27            1.000000            1.000000   \n",
       "3                16            1.000000            1.000000   \n",
       "4                40            1.000000            1.000000   \n",
       "..              ...                 ...                 ...   \n",
       "72               52            0.988506            1.000000   \n",
       "73               52            0.988506            1.000000   \n",
       "74               35            0.988506            1.000000   \n",
       "75               40            1.000000            1.000000   \n",
       "76               31            1.000000            1.000000   \n",
       "\n",
       "    split2_train_score  mean_train_score  std_train_score  \n",
       "0             0.886364          0.885493         0.009405  \n",
       "1             1.000000          0.984674         0.014336  \n",
       "2             1.000000          1.000000         0.000000  \n",
       "3             1.000000          1.000000         0.000000  \n",
       "4             1.000000          1.000000         0.000000  \n",
       "..                 ...               ...              ...  \n",
       "72            1.000000          0.996169         0.005418  \n",
       "73            1.000000          0.996169         0.005418  \n",
       "74            1.000000          0.996169         0.005418  \n",
       "75            1.000000          1.000000         0.000000  \n",
       "76            1.000000          1.000000         0.000000  \n",
       "\n",
       "[77 rows x 18 columns]"
      ]
     },
     "execution_count": 732,
     "metadata": {},
     "output_type": "execute_result"
    }
   ],
   "source": [
    "pd.DataFrame(grid_search.cv_results_)"
   ]
  },
  {
   "cell_type": "code",
   "execution_count": 733,
   "id": "expired-eating",
   "metadata": {},
   "outputs": [
    {
     "data": {
      "text/plain": [
       "0.7329677017837695"
      ]
     },
     "execution_count": 733,
     "metadata": {},
     "output_type": "execute_result"
    }
   ],
   "source": [
    "pd.DataFrame(grid_search.cv_results_)['mean_test_score'].mean()"
   ]
  },
  {
   "cell_type": "code",
   "execution_count": 734,
   "id": "domestic-birmingham",
   "metadata": {},
   "outputs": [
    {
     "data": {
      "text/plain": [
       "0.027701775560083203"
      ]
     },
     "execution_count": 734,
     "metadata": {},
     "output_type": "execute_result"
    }
   ],
   "source": [
    "pd.DataFrame(grid_search.cv_results_)['mean_test_score'].std()"
   ]
  },
  {
   "cell_type": "code",
   "execution_count": 735,
   "id": "fuzzy-first",
   "metadata": {},
   "outputs": [],
   "source": [
    "feature_importances = grid_search.best_estimator_._final_estimator.feature_importances_"
   ]
  },
  {
   "cell_type": "code",
   "execution_count": 736,
   "id": "conditional-drilling",
   "metadata": {},
   "outputs": [
    {
     "data": {
      "text/plain": [
       "[(0.2826975965979045, 'serum_creatinine'),\n",
       " (0.20952664367732127, 'ejection_fraction'),\n",
       " (0.18106791751246842, 'age'),\n",
       " (0.11129680134980739, 'creatinine_phosphokinase'),\n",
       " (0.08597054105468234, 'serum_sodium'),\n",
       " (0.050857913289344595, 'platelets'),\n",
       " (0.029690747317963128, 'smoking'),\n",
       " (0.020102301790281343, 'sex'),\n",
       " (0.017382362209948415, 'high_blood_pressure'),\n",
       " (0.011407175200278646, 'diabetes'),\n",
       " (0.0, 'anaemia')]"
      ]
     },
     "execution_count": 736,
     "metadata": {},
     "output_type": "execute_result"
    }
   ],
   "source": [
    "sorted(zip(feature_importances, [col for col in df.columns if col != 'DEATH_EVENT']), reverse=True)"
   ]
  },
  {
   "cell_type": "code",
   "execution_count": 737,
   "id": "reasonable-contact",
   "metadata": {},
   "outputs": [],
   "source": [
    "features_ranking = sorted(zip([col for col in df.columns if col != 'DEATH_EVENT'], feature_importances), \n",
    "                          reverse=True, key=lambda x: x[1])"
   ]
  },
  {
   "cell_type": "code",
   "execution_count": 738,
   "id": "mineral-fifteen",
   "metadata": {},
   "outputs": [],
   "source": [
    "features = [x[0] for x in features_ranking]\n",
    "ranks = [x[1] for x in features_ranking]"
   ]
  },
  {
   "cell_type": "code",
   "execution_count": 739,
   "id": "serious-voice",
   "metadata": {},
   "outputs": [
    {
     "data": {
      "text/plain": [
       "Text(0.5, 0, 'Score')"
      ]
     },
     "execution_count": 739,
     "metadata": {},
     "output_type": "execute_result"
    },
    {
     "data": {
      "image/png": "[encoded data removed]",
      "text/plain": [
       "<Figure size 432x288 with 1 Axes>"
      ]
     },
     "metadata": {},
     "output_type": "display_data"
    }
   ],
   "source": [
    "sns.barplot(y=features, x=ranks, orient='h')\n",
    "plt.xlabel('Score')"
   ]
  },
  {
   "cell_type": "code",
   "execution_count": 744,
   "id": "civilian-electricity",
   "metadata": {},
   "outputs": [],
   "source": [
    "best_features = features[:grid_search.best_params_['clf__max_features']]"
   ]
  },
  {
   "cell_type": "code",
   "execution_count": 745,
   "id": "premium-disease",
   "metadata": {},
   "outputs": [],
   "source": [
    "clf = grid_search.best_estimator_"
   ]
  },
  {
   "cell_type": "code",
   "execution_count": 748,
   "id": "bright-chess",
   "metadata": {},
   "outputs": [],
   "source": [
    "from sklearn.model_selection import cross_val_predict"
   ]
  },
  {
   "cell_type": "code",
   "execution_count": 752,
   "id": "dress-steering",
   "metadata": {},
   "outputs": [
    {
     "data": {
      "text/plain": [
       "(131, 11)"
      ]
     },
     "execution_count": 752,
     "metadata": {},
     "output_type": "execute_result"
    }
   ],
   "source": [
    "X_train_tr.shape"
   ]
  },
  {
   "cell_type": "code",
   "execution_count": 753,
   "id": "limiting-taiwan",
   "metadata": {},
   "outputs": [
    {
     "data": {
      "text/plain": [
       "(131,)"
      ]
     },
     "execution_count": 753,
     "metadata": {},
     "output_type": "execute_result"
    }
   ],
   "source": [
    "y_train.shape"
   ]
  },
  {
   "cell_type": "code",
   "execution_count": 766,
   "id": "heated-insight",
   "metadata": {},
   "outputs": [],
   "source": [
    "y_probas = cross_val_predict(clf, X_train_tr, y=y_train, cv=2,\n",
    "                             method='predict_proba')"
   ]
  },
  {
   "cell_type": "code",
   "execution_count": 767,
   "id": "desperate-radar",
   "metadata": {},
   "outputs": [],
   "source": [
    "y_scores = y_probas[:, 1]"
   ]
  },
  {
   "cell_type": "code",
   "execution_count": 768,
   "id": "saving-anniversary",
   "metadata": {},
   "outputs": [
    {
     "data": {
      "text/plain": [
       "array([0.5, 0. , 0. , 0.5, 0.5, 0. , 0.5, 0.5, 0.5, 0. , 0.5, 0.5, 0.5,\n",
       "       0. , 0.5, 0.5, 0.5, 0.5, 0. , 0.5, 0. , 0. , 0.5, 0.5, 0. , 0. ,\n",
       "       0.5, 1. , 0.5, 0. , 0.5, 1. , 1. , 0.5, 0.5, 0. , 0. , 0.5, 0. ,\n",
       "       0.5, 1. , 0. , 0. , 0. , 0.5, 0.5, 0. , 0.5, 0. , 0.5, 0.5, 0. ,\n",
       "       1. , 0. , 0. , 0.5, 0. , 0.5, 0. , 0.5, 0. , 0.5, 0.5, 0.5, 0. ,\n",
       "       0. , 0.5, 1. , 1. , 1. , 1. , 0. , 0. , 1. , 0. , 0. , 1. , 0. ,\n",
       "       0.5, 0. , 1. , 0.5, 1. , 1. , 0.5, 0. , 0.5, 0.5, 1. , 1. , 0.5,\n",
       "       0.5, 0. , 0.5, 0. , 0.5, 1. , 1. , 0.5, 0.5, 1. , 1. , 0.5, 0.5,\n",
       "       0.5, 0. , 0.5, 0. , 0. , 0.5, 0. , 0.5, 0.5, 0.5, 0. , 0. , 0. ,\n",
       "       0. , 0. , 0.5, 0. , 0.5, 0.5, 0. , 0. , 0. , 0. , 0.5, 0.5, 0.5,\n",
       "       0. ])"
      ]
     },
     "execution_count": 768,
     "metadata": {},
     "output_type": "execute_result"
    }
   ],
   "source": [
    "y_scores"
   ]
  },
  {
   "cell_type": "code",
   "execution_count": 774,
   "id": "synthetic-parker",
   "metadata": {},
   "outputs": [],
   "source": [
    "#(clf.predict(X_test) == y_test).sum() / y_test.shape[0]"
   ]
  },
  {
   "cell_type": "code",
   "execution_count": 746,
   "id": "suspended-prison",
   "metadata": {},
   "outputs": [
    {
     "data": {
      "text/plain": [
       "array([[1., 0.],\n",
       "       [1., 0.],\n",
       "       [1., 0.],\n",
       "       [1., 0.],\n",
       "       [1., 0.]])"
      ]
     },
     "execution_count": 746,
     "metadata": {},
     "output_type": "execute_result"
    }
   ],
   "source": [
    "# clf.predict_proba(X_train_tr[:5])"
   ]
  },
  {
   "cell_type": "code",
   "execution_count": 740,
   "id": "adverse-prayer",
   "metadata": {},
   "outputs": [],
   "source": [
    "# Will we get the same x-validation performance using only the best two features?"
   ]
  },
  {
   "cell_type": "code",
   "execution_count": null,
   "id": "synthetic-premiere",
   "metadata": {},
   "outputs": [],
   "source": [
    "X_train_tr_best_features = pd.DataFrame(X_train_tr, columns=df.columns[:-1])[['time', 'serum_creatinine']]"
   ]
  },
  {
   "cell_type": "code",
   "execution_count": null,
   "id": "unauthorized-piece",
   "metadata": {},
   "outputs": [],
   "source": [
    "clf = RandomForestClassifier(**grid_search.best_params_, random_state=42)\n",
    "\n",
    "clf.fit(X_train_tr_best_features, y_train)"
   ]
  },
  {
   "cell_type": "code",
   "execution_count": null,
   "id": "banned-luxury",
   "metadata": {},
   "outputs": [],
   "source": [
    "scores = cross_val_score(clf, X_train_tr_best_features, y_train,\n",
    "                         scoring=\"accuracy\", cv=5)\n",
    "print(\"Scores:\", scores)\n",
    "print(\"Mean score:\", scores.mean())\n",
    "print(\"Std dev:\", scores.std())"
   ]
  },
  {
   "cell_type": "code",
   "execution_count": null,
   "id": "similar-circumstances",
   "metadata": {},
   "outputs": [],
   "source": [
    "# strangely nope!\n",
    "# Let's try using the full set"
   ]
  },
  {
   "cell_type": "code",
   "execution_count": null,
   "id": "straight-aruba",
   "metadata": {},
   "outputs": [],
   "source": [
    "scores = cross_val_score(clf, X_train_tr, y_train,\n",
    "                         scoring=\"accuracy\", cv=5)\n",
    "print(\"Scores:\", scores)\n",
    "print(\"Mean score:\", scores.mean())\n",
    "print(\"Std dev:\", scores.std())"
   ]
  },
  {
   "cell_type": "code",
   "execution_count": null,
   "id": "fallen-elimination",
   "metadata": {},
   "outputs": [],
   "source": [
    "# Again, after retraining it\n",
    "clf.fit(X_train_tr, y_train)\n",
    "scores = cross_val_score(clf, X_train_tr, y_train,\n",
    "                         scoring=\"accuracy\", cv=5)\n",
    "print(\"Scores:\", scores)\n",
    "print(\"Mean score:\", scores.mean())\n",
    "print(\"Std dev:\", scores.std())"
   ]
  },
  {
   "cell_type": "code",
   "execution_count": null,
   "id": "military-quantum",
   "metadata": {},
   "outputs": [],
   "source": [
    "# Let's use regression to get probabilities\n"
   ]
  },
  {
   "cell_type": "code",
   "execution_count": null,
   "id": "twelve-resource",
   "metadata": {},
   "outputs": [],
   "source": [
    "clf_best = grid_search.best_estimator_"
   ]
  },
  {
   "cell_type": "code",
   "execution_count": null,
   "id": "sapphire-arrangement",
   "metadata": {},
   "outputs": [],
   "source": [
    "# Save the best estimator\n",
    "# First retrain it on a smaller array so the unimportant features are not required in application\n",
    "clf = RandomForestClassifier(**grid_search.best_params_, random_state=42)\n",
    "clf.fit(X_train_tr_best_features, y_train)"
   ]
  },
  {
   "cell_type": "code",
   "execution_count": null,
   "id": "latest-scanning",
   "metadata": {},
   "outputs": [],
   "source": [
    "import joblib\n",
    "joblib.dump(clf, \"cardio_model.pkl\")\n",
    "# Train the pipeline to require exactly 2 features\n",
    "X_train_best_features = pd.DataFrame(X_train, columns=df.columns[:-1])[['time', 'serum_creatinine']]\n",
    "pipeline.fit(X_train_best_features)\n",
    "joblib.dump(pipeline, 'pipeline.pkl')"
   ]
  },
  {
   "cell_type": "code",
   "execution_count": null,
   "id": "coastal-speed",
   "metadata": {},
   "outputs": [],
   "source": [
    "# Test the model on hypothetical new cases\n",
    "model = joblib.load(\"cardio_model.pkl\")"
   ]
  },
  {
   "cell_type": "code",
   "execution_count": null,
   "id": "destroyed-eating",
   "metadata": {},
   "outputs": [],
   "source": [
    "X_train_tr_best_features[:3]"
   ]
  },
  {
   "cell_type": "code",
   "execution_count": null,
   "id": "right-opposition",
   "metadata": {},
   "outputs": [],
   "source": [
    "y_train[:3]"
   ]
  },
  {
   "cell_type": "code",
   "execution_count": null,
   "id": "approximate-table",
   "metadata": {},
   "outputs": [],
   "source": [
    "model.predict(X_train_tr_best_features[:3])"
   ]
  },
  {
   "cell_type": "code",
   "execution_count": null,
   "id": "purple-boxing",
   "metadata": {},
   "outputs": [],
   "source": [
    "X_train_tr_best_features[:3].shape"
   ]
  },
  {
   "cell_type": "markdown",
   "id": "important-express",
   "metadata": {},
   "source": [
    "# Evalute model performance on the test set"
   ]
  },
  {
   "cell_type": "code",
   "execution_count": null,
   "id": "occupied-borough",
   "metadata": {},
   "outputs": [],
   "source": [
    "# TODO: Before I do it, I should implement F1 score, precision/recall, ROC curves and so on in the training.\n",
    "# Otherwise I might be biased and select a model better performing on the test sample, overtraining it.\n",
    "\n",
    "# For now, let's just trust \"this model is OK\" and focus on deployment."
   ]
  },
  {
   "cell_type": "code",
   "execution_count": null,
   "id": "paperback-quarterly",
   "metadata": {},
   "outputs": [],
   "source": [
    "X_train_tr.shape"
   ]
  },
  {
   "cell_type": "code",
   "execution_count": null,
   "id": "stretch-thursday",
   "metadata": {},
   "outputs": [],
   "source": [
    "X_train_tr_best_features.shape"
   ]
  },
  {
   "cell_type": "code",
   "execution_count": null,
   "id": "diverse-female",
   "metadata": {},
   "outputs": [],
   "source": [
    "type(X_train_tr_best_features)"
   ]
  },
  {
   "cell_type": "code",
   "execution_count": null,
   "id": "organic-mozambique",
   "metadata": {},
   "outputs": [],
   "source": [
    "model.predict(np.array([[250, ]]))"
   ]
  }
 ],
 "metadata": {
  "kernelspec": {
   "display_name": "Python 3",
   "language": "python",
   "name": "python3"
  },
  "language_info": {
   "codemirror_mode": {
    "name": "ipython",
    "version": 3
   },
   "file_extension": ".py",
   "mimetype": "text/x-python",
   "name": "python",
   "nbconvert_exporter": "python",
   "pygments_lexer": "ipython3",
   "version": "3.8.5"
  }
 },
 "nbformat": 4,
 "nbformat_minor": 5
}

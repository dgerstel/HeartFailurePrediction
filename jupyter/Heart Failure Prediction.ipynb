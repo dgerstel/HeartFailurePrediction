{
 "cells": [
  {
   "cell_type": "code",
   "execution_count": 3,
   "id": "dimensional-journal",
   "metadata": {},
   "outputs": [],
   "source": [
    "import pandas as pd\n",
    "import numpy as np\n",
    "import matplotlib.pyplot as plt\n",
    "import seaborn as sns\n",
    "sns.set_theme()\n",
    "import math"
   ]
  },
  {
   "cell_type": "code",
   "execution_count": 4,
   "id": "related-legislature",
   "metadata": {},
   "outputs": [],
   "source": [
    "df = pd.read_csv('../data/heart_failure_clinical_records_dataset.csv')"
   ]
  },
  {
   "cell_type": "code",
   "execution_count": 5,
   "id": "dated-preservation",
   "metadata": {},
   "outputs": [
    {
     "data": {
      "text/html": [
       "<div>\n",
       "<style scoped>\n",
       "    .dataframe tbody tr th:only-of-type {\n",
       "        vertical-align: middle;\n",
       "    }\n",
       "\n",
       "    .dataframe tbody tr th {\n",
       "        vertical-align: top;\n",
       "    }\n",
       "\n",
       "    .dataframe thead th {\n",
       "        text-align: right;\n",
       "    }\n",
       "</style>\n",
       "<table border=\"1\" class=\"dataframe\">\n",
       "  <thead>\n",
       "    <tr style=\"text-align: right;\">\n",
       "      <th></th>\n",
       "      <th>age</th>\n",
       "      <th>anaemia</th>\n",
       "      <th>creatinine_phosphokinase</th>\n",
       "      <th>diabetes</th>\n",
       "      <th>ejection_fraction</th>\n",
       "      <th>high_blood_pressure</th>\n",
       "      <th>platelets</th>\n",
       "      <th>serum_creatinine</th>\n",
       "      <th>serum_sodium</th>\n",
       "      <th>sex</th>\n",
       "      <th>smoking</th>\n",
       "      <th>time</th>\n",
       "      <th>DEATH_EVENT</th>\n",
       "    </tr>\n",
       "  </thead>\n",
       "  <tbody>\n",
       "    <tr>\n",
       "      <th>0</th>\n",
       "      <td>75.0</td>\n",
       "      <td>0</td>\n",
       "      <td>582</td>\n",
       "      <td>0</td>\n",
       "      <td>20</td>\n",
       "      <td>1</td>\n",
       "      <td>265000.00</td>\n",
       "      <td>1.9</td>\n",
       "      <td>130</td>\n",
       "      <td>1</td>\n",
       "      <td>0</td>\n",
       "      <td>4</td>\n",
       "      <td>1</td>\n",
       "    </tr>\n",
       "    <tr>\n",
       "      <th>1</th>\n",
       "      <td>55.0</td>\n",
       "      <td>0</td>\n",
       "      <td>7861</td>\n",
       "      <td>0</td>\n",
       "      <td>38</td>\n",
       "      <td>0</td>\n",
       "      <td>263358.03</td>\n",
       "      <td>1.1</td>\n",
       "      <td>136</td>\n",
       "      <td>1</td>\n",
       "      <td>0</td>\n",
       "      <td>6</td>\n",
       "      <td>1</td>\n",
       "    </tr>\n",
       "    <tr>\n",
       "      <th>2</th>\n",
       "      <td>65.0</td>\n",
       "      <td>0</td>\n",
       "      <td>146</td>\n",
       "      <td>0</td>\n",
       "      <td>20</td>\n",
       "      <td>0</td>\n",
       "      <td>162000.00</td>\n",
       "      <td>1.3</td>\n",
       "      <td>129</td>\n",
       "      <td>1</td>\n",
       "      <td>1</td>\n",
       "      <td>7</td>\n",
       "      <td>1</td>\n",
       "    </tr>\n",
       "    <tr>\n",
       "      <th>3</th>\n",
       "      <td>50.0</td>\n",
       "      <td>1</td>\n",
       "      <td>111</td>\n",
       "      <td>0</td>\n",
       "      <td>20</td>\n",
       "      <td>0</td>\n",
       "      <td>210000.00</td>\n",
       "      <td>1.9</td>\n",
       "      <td>137</td>\n",
       "      <td>1</td>\n",
       "      <td>0</td>\n",
       "      <td>7</td>\n",
       "      <td>1</td>\n",
       "    </tr>\n",
       "    <tr>\n",
       "      <th>4</th>\n",
       "      <td>65.0</td>\n",
       "      <td>1</td>\n",
       "      <td>160</td>\n",
       "      <td>1</td>\n",
       "      <td>20</td>\n",
       "      <td>0</td>\n",
       "      <td>327000.00</td>\n",
       "      <td>2.7</td>\n",
       "      <td>116</td>\n",
       "      <td>0</td>\n",
       "      <td>0</td>\n",
       "      <td>8</td>\n",
       "      <td>1</td>\n",
       "    </tr>\n",
       "  </tbody>\n",
       "</table>\n",
       "</div>"
      ],
      "text/plain": [
       "    age  anaemia  creatinine_phosphokinase  diabetes  ejection_fraction  \\\n",
       "0  75.0        0                       582         0                 20   \n",
       "1  55.0        0                      7861         0                 38   \n",
       "2  65.0        0                       146         0                 20   \n",
       "3  50.0        1                       111         0                 20   \n",
       "4  65.0        1                       160         1                 20   \n",
       "\n",
       "   high_blood_pressure  platelets  serum_creatinine  serum_sodium  sex  \\\n",
       "0                    1  265000.00               1.9           130    1   \n",
       "1                    0  263358.03               1.1           136    1   \n",
       "2                    0  162000.00               1.3           129    1   \n",
       "3                    0  210000.00               1.9           137    1   \n",
       "4                    0  327000.00               2.7           116    0   \n",
       "\n",
       "   smoking  time  DEATH_EVENT  \n",
       "0        0     4            1  \n",
       "1        0     6            1  \n",
       "2        1     7            1  \n",
       "3        0     7            1  \n",
       "4        0     8            1  "
      ]
     },
     "execution_count": 5,
     "metadata": {},
     "output_type": "execute_result"
    }
   ],
   "source": [
    "df.head()"
   ]
  },
  {
   "cell_type": "code",
   "execution_count": 6,
   "id": "tough-count",
   "metadata": {},
   "outputs": [
    {
     "data": {
      "text/plain": [
       "(299, 13)"
      ]
     },
     "execution_count": 6,
     "metadata": {},
     "output_type": "execute_result"
    }
   ],
   "source": [
    "df.shape"
   ]
  },
  {
   "cell_type": "code",
   "execution_count": 7,
   "id": "cooked-diameter",
   "metadata": {},
   "outputs": [
    {
     "data": {
      "text/plain": [
       "0.3210702341137124"
      ]
     },
     "execution_count": 7,
     "metadata": {},
     "output_type": "execute_result"
    }
   ],
   "source": [
    "df['DEATH_EVENT'].sum() / df.shape[0]"
   ]
  },
  {
   "cell_type": "code",
   "execution_count": 8,
   "id": "proud-costs",
   "metadata": {},
   "outputs": [
    {
     "data": {
      "text/plain": [
       "Index(['age', 'anaemia', 'creatinine_phosphokinase', 'diabetes',\n",
       "       'ejection_fraction', 'high_blood_pressure', 'platelets',\n",
       "       'serum_creatinine', 'serum_sodium', 'sex', 'smoking', 'time',\n",
       "       'DEATH_EVENT'],\n",
       "      dtype='object')"
      ]
     },
     "execution_count": 8,
     "metadata": {},
     "output_type": "execute_result"
    }
   ],
   "source": [
    "df.columns"
   ]
  },
  {
   "cell_type": "code",
   "execution_count": 9,
   "id": "intense-analysis",
   "metadata": {},
   "outputs": [
    {
     "name": "stdout",
     "output_type": "stream",
     "text": [
      "Binary variables: ['anaemia', 'diabetes', 'high_blood_pressure', 'smoking']\n",
      "Multi-value variables: ['age', 'creatinine_phosphokinase', 'ejection_fraction', 'platelets', 'serum_creatinine', 'serum_sodium', 'time']\n"
     ]
    }
   ],
   "source": [
    "binary_vars = \"anaemia diabetes high_blood_pressure smoking\".split()\n",
    "multival_vars = [var for var in list(df.columns) if var not in binary_vars + [\"sex\", \"DEATH_EVENT\"]]\n",
    "print(\"Binary variables:\", binary_vars)\n",
    "print(\"Multi-value variables:\", multival_vars)"
   ]
  },
  {
   "cell_type": "code",
   "execution_count": 10,
   "id": "amber-trail",
   "metadata": {},
   "outputs": [
    {
     "data": {
      "image/png": "[encoded data removed]",
      "text/plain": [
       "<Figure size 720x576 with 4 Axes>"
      ]
     },
     "metadata": {},
     "output_type": "display_data"
    }
   ],
   "source": [
    "fig, ax = plt.subplots(2, 2, squeeze=False, figsize=(10, 8))\n",
    "for i in range(2):\n",
    "    for j in range(2):\n",
    "        sns.barplot(x=binary_vars[2*i+j], y='DEATH_EVENT', hue='sex', data=df, ax=ax[i, j], capsize=.15)"
   ]
  },
  {
   "cell_type": "markdown",
   "id": "cognitive-mobile",
   "metadata": {},
   "source": [
    "Perhaps surprisingly, the categorical features: anaemia, diabetes, hypertension and smoking, do not exhibit statistically significant impact on the patient survival prospects. Neither does the sex.\n",
    "Curiously, the big uncertainty for the smoking women (`sex = 0`) must be reflective of very few patients in this category."
   ]
  },
  {
   "cell_type": "code",
   "execution_count": 11,
   "id": "handmade-latitude",
   "metadata": {},
   "outputs": [
    {
     "data": {
      "text/plain": [
       "41     1\n",
       "54     1\n",
       "76     0\n",
       "105    1\n",
       "Name: DEATH_EVENT, dtype: int64"
      ]
     },
     "execution_count": 11,
     "metadata": {},
     "output_type": "execute_result"
    }
   ],
   "source": [
    "df.query('sex == 0 & smoking == 1')['DEATH_EVENT']"
   ]
  },
  {
   "cell_type": "markdown",
   "id": "reported-working",
   "metadata": {},
   "source": [
    "Indeed there were only 4 such women and 3 have passed away, yielding 75% value of the bar height and big uncertainty."
   ]
  },
  {
   "cell_type": "code",
   "execution_count": 12,
   "id": "fifth-equivalent",
   "metadata": {},
   "outputs": [],
   "source": [
    "# def a_over_b_err(a, b):\n",
    "#     def err(x):\n",
    "#         return np.sqrt(x)\n",
    "#     return a/b * np.sqrt((err(a)/a)**2 + (err(b)/b)**2 -2*err(a)*err(b)/a/b)\n",
    "# a_over_b_err(3, 4)"
   ]
  },
  {
   "cell_type": "code",
   "execution_count": 13,
   "id": "collect-toner",
   "metadata": {},
   "outputs": [
    {
     "data": {
      "text/plain": [
       "58.761906403940884"
      ]
     },
     "execution_count": 13,
     "metadata": {},
     "output_type": "execute_result"
    }
   ],
   "source": [
    "df[df[\"DEATH_EVENT\"] == 0]['age'].mean()"
   ]
  },
  {
   "cell_type": "code",
   "execution_count": 14,
   "id": "fresh-financing",
   "metadata": {},
   "outputs": [
    {
     "data": {
      "image/png": "[encoded data removed]",
      "text/plain": [
       "<Figure size 1080x576 with 9 Axes>"
      ]
     },
     "metadata": {},
     "output_type": "display_data"
    }
   ],
   "source": [
    "def print_fig(data, cols, ncols=3, figsize=(15,8)):\n",
    "    nrows = math.ceil(len(cols) / ncols)\n",
    "    fig, ax = plt.subplots(nrows, ncols, \n",
    "                           squeeze=False, figsize=figsize)\n",
    "    for i in range(nrows):\n",
    "        for j in range(ncols):\n",
    "            if i * nrows + j > len(cols) - 1:\n",
    "                break\n",
    "            cat1 = data[data[\"DEATH_EVENT\"] == 1]\n",
    "            cat2 = data[data[\"DEATH_EVENT\"] == 0]\n",
    "            cat1[cols[i*nrows+j]].hist(alpha=0.5, ax=ax[i, j], color='r', density=True, label='Deceased')\n",
    "            cat2[cols[i*nrows+j]].hist(alpha=0.5, ax=ax[i, j], color='b', density=True, label='Survived')\n",
    "            ax[i, j].set_title(cols[i*nrows+j])\n",
    "            ax[i, j].legend(loc='best')\n",
    "            plt.subplots_adjust(hspace=0.5, wspace=0.25, top=1.2)\n",
    "print_fig(data=df, cols=multival_vars)            \n",
    "# TODO: don't plot empty subplots: create subplots on demand"
   ]
  },
  {
   "cell_type": "markdown",
   "id": "urban-integer",
   "metadata": {},
   "source": [
    "- **age**: patients above the age of 70 are obviously at a higher risk\n",
    "- **ejection fraction** is a strong predictor, especially below around 30 units\n",
    "- **serum creatinine** is also a very strong feature, specifically about around 2 units\n",
    "- **serum sodium** might be a helpful feature, but a little less so than the two previous ones\n",
    "- **follow-up duration (time)**: We can tell that the patient chance to die in the follow-up period roughly follows an exponential distribution, for those that will not survive, as one might expect. The meaning of the follow-up period for the survivors is less clear: it seems it merely reflects how long these patients were monitored. In any case, this variable can help distinguish the two categories of patients."
   ]
  },
  {
   "cell_type": "code",
   "execution_count": 15,
   "id": "otherwise-lewis",
   "metadata": {},
   "outputs": [
    {
     "data": {
      "text/plain": [
       "<matplotlib.collections.LineCollection at 0x2101a786ee0>"
      ]
     },
     "execution_count": 15,
     "metadata": {},
     "output_type": "execute_result"
    },
    {
     "data": {
      "image/png": "[encoded data removed]",
      "text/plain": [
       "<Figure size 432x288 with 1 Axes>"
      ]
     },
     "metadata": {},
     "output_type": "display_data"
    }
   ],
   "source": [
    "plt.plot(np.array([np.random.binomial(100000, p=0.5) for _ in range(20)])\\\n",
    "         /1000, 'bo--')\n",
    "plt.hlines(y=50.000, xmin=plt.xlim()[0], xmax=plt.xlim()[1], color='red')"
   ]
  },
  {
   "cell_type": "markdown",
   "id": "electronic-thomas",
   "metadata": {},
   "source": [
    "# Train set and test set\n",
    "It is time to split the dataset into train and test sets.\n",
    "Due to rather small statistics, we need to use stratified sampling to ensure the subgroups (i.e. surviving and deceased patients, and train/test patients) are representative of the population (i.e. the full dataset)."
   ]
  },
  {
   "cell_type": "code",
   "execution_count": 16,
   "id": "living-dinner",
   "metadata": {},
   "outputs": [
    {
     "data": {
      "text/plain": [
       "StratifiedShuffleSplit(n_splits=5, random_state=0, test_size=0.5,\n",
       "            train_size=None)"
      ]
     },
     "execution_count": 16,
     "metadata": {},
     "output_type": "execute_result"
    }
   ],
   "source": [
    "from sklearn.model_selection import StratifiedShuffleSplit, train_test_split\n",
    "StratifiedShuffleSplit(n_splits=5, test_size=0.5, random_state=0)"
   ]
  },
  {
   "cell_type": "code",
   "execution_count": 17,
   "id": "canadian-intellectual",
   "metadata": {},
   "outputs": [],
   "source": [
    "train_set, test_set = train_test_split(df, test_size=0.4, random_state=42)"
   ]
  },
  {
   "cell_type": "code",
   "execution_count": 18,
   "id": "neutral-course",
   "metadata": {},
   "outputs": [
    {
     "data": {
      "text/html": [
       "<div>\n",
       "<style scoped>\n",
       "    .dataframe tbody tr th:only-of-type {\n",
       "        vertical-align: middle;\n",
       "    }\n",
       "\n",
       "    .dataframe tbody tr th {\n",
       "        vertical-align: top;\n",
       "    }\n",
       "\n",
       "    .dataframe thead th {\n",
       "        text-align: right;\n",
       "    }\n",
       "</style>\n",
       "<table border=\"1\" class=\"dataframe\">\n",
       "  <thead>\n",
       "    <tr style=\"text-align: right;\">\n",
       "      <th></th>\n",
       "      <th>age</th>\n",
       "      <th>anaemia</th>\n",
       "      <th>creatinine_phosphokinase</th>\n",
       "      <th>diabetes</th>\n",
       "      <th>ejection_fraction</th>\n",
       "      <th>high_blood_pressure</th>\n",
       "      <th>platelets</th>\n",
       "      <th>serum_creatinine</th>\n",
       "      <th>serum_sodium</th>\n",
       "      <th>sex</th>\n",
       "      <th>smoking</th>\n",
       "      <th>time</th>\n",
       "      <th>DEATH_EVENT</th>\n",
       "    </tr>\n",
       "  </thead>\n",
       "  <tbody>\n",
       "    <tr>\n",
       "      <th>232</th>\n",
       "      <td>40.000</td>\n",
       "      <td>1</td>\n",
       "      <td>129</td>\n",
       "      <td>0</td>\n",
       "      <td>35</td>\n",
       "      <td>0</td>\n",
       "      <td>255000.00</td>\n",
       "      <td>0.9</td>\n",
       "      <td>137</td>\n",
       "      <td>1</td>\n",
       "      <td>0</td>\n",
       "      <td>209</td>\n",
       "      <td>0</td>\n",
       "    </tr>\n",
       "    <tr>\n",
       "      <th>182</th>\n",
       "      <td>65.000</td>\n",
       "      <td>0</td>\n",
       "      <td>395</td>\n",
       "      <td>1</td>\n",
       "      <td>25</td>\n",
       "      <td>0</td>\n",
       "      <td>265000.00</td>\n",
       "      <td>1.2</td>\n",
       "      <td>136</td>\n",
       "      <td>1</td>\n",
       "      <td>1</td>\n",
       "      <td>154</td>\n",
       "      <td>1</td>\n",
       "    </tr>\n",
       "    <tr>\n",
       "      <th>180</th>\n",
       "      <td>40.000</td>\n",
       "      <td>0</td>\n",
       "      <td>478</td>\n",
       "      <td>1</td>\n",
       "      <td>30</td>\n",
       "      <td>0</td>\n",
       "      <td>303000.00</td>\n",
       "      <td>0.9</td>\n",
       "      <td>136</td>\n",
       "      <td>1</td>\n",
       "      <td>0</td>\n",
       "      <td>148</td>\n",
       "      <td>0</td>\n",
       "    </tr>\n",
       "    <tr>\n",
       "      <th>137</th>\n",
       "      <td>68.000</td>\n",
       "      <td>1</td>\n",
       "      <td>646</td>\n",
       "      <td>0</td>\n",
       "      <td>25</td>\n",
       "      <td>0</td>\n",
       "      <td>305000.00</td>\n",
       "      <td>2.1</td>\n",
       "      <td>130</td>\n",
       "      <td>1</td>\n",
       "      <td>0</td>\n",
       "      <td>108</td>\n",
       "      <td>0</td>\n",
       "    </tr>\n",
       "    <tr>\n",
       "      <th>251</th>\n",
       "      <td>55.000</td>\n",
       "      <td>0</td>\n",
       "      <td>572</td>\n",
       "      <td>1</td>\n",
       "      <td>35</td>\n",
       "      <td>0</td>\n",
       "      <td>231000.00</td>\n",
       "      <td>0.8</td>\n",
       "      <td>143</td>\n",
       "      <td>0</td>\n",
       "      <td>0</td>\n",
       "      <td>215</td>\n",
       "      <td>0</td>\n",
       "    </tr>\n",
       "    <tr>\n",
       "      <th>...</th>\n",
       "      <td>...</td>\n",
       "      <td>...</td>\n",
       "      <td>...</td>\n",
       "      <td>...</td>\n",
       "      <td>...</td>\n",
       "      <td>...</td>\n",
       "      <td>...</td>\n",
       "      <td>...</td>\n",
       "      <td>...</td>\n",
       "      <td>...</td>\n",
       "      <td>...</td>\n",
       "      <td>...</td>\n",
       "      <td>...</td>\n",
       "    </tr>\n",
       "    <tr>\n",
       "      <th>188</th>\n",
       "      <td>60.667</td>\n",
       "      <td>1</td>\n",
       "      <td>151</td>\n",
       "      <td>1</td>\n",
       "      <td>40</td>\n",
       "      <td>1</td>\n",
       "      <td>201000.00</td>\n",
       "      <td>1.0</td>\n",
       "      <td>136</td>\n",
       "      <td>0</td>\n",
       "      <td>0</td>\n",
       "      <td>172</td>\n",
       "      <td>0</td>\n",
       "    </tr>\n",
       "    <tr>\n",
       "      <th>71</th>\n",
       "      <td>58.000</td>\n",
       "      <td>0</td>\n",
       "      <td>582</td>\n",
       "      <td>1</td>\n",
       "      <td>35</td>\n",
       "      <td>0</td>\n",
       "      <td>122000.00</td>\n",
       "      <td>0.9</td>\n",
       "      <td>139</td>\n",
       "      <td>1</td>\n",
       "      <td>1</td>\n",
       "      <td>71</td>\n",
       "      <td>0</td>\n",
       "    </tr>\n",
       "    <tr>\n",
       "      <th>106</th>\n",
       "      <td>55.000</td>\n",
       "      <td>0</td>\n",
       "      <td>748</td>\n",
       "      <td>0</td>\n",
       "      <td>45</td>\n",
       "      <td>0</td>\n",
       "      <td>263000.00</td>\n",
       "      <td>1.3</td>\n",
       "      <td>137</td>\n",
       "      <td>1</td>\n",
       "      <td>0</td>\n",
       "      <td>88</td>\n",
       "      <td>0</td>\n",
       "    </tr>\n",
       "    <tr>\n",
       "      <th>270</th>\n",
       "      <td>44.000</td>\n",
       "      <td>0</td>\n",
       "      <td>582</td>\n",
       "      <td>1</td>\n",
       "      <td>30</td>\n",
       "      <td>1</td>\n",
       "      <td>263358.03</td>\n",
       "      <td>1.6</td>\n",
       "      <td>130</td>\n",
       "      <td>1</td>\n",
       "      <td>1</td>\n",
       "      <td>244</td>\n",
       "      <td>0</td>\n",
       "    </tr>\n",
       "    <tr>\n",
       "      <th>102</th>\n",
       "      <td>80.000</td>\n",
       "      <td>0</td>\n",
       "      <td>898</td>\n",
       "      <td>0</td>\n",
       "      <td>25</td>\n",
       "      <td>0</td>\n",
       "      <td>149000.00</td>\n",
       "      <td>1.1</td>\n",
       "      <td>144</td>\n",
       "      <td>1</td>\n",
       "      <td>1</td>\n",
       "      <td>87</td>\n",
       "      <td>0</td>\n",
       "    </tr>\n",
       "  </tbody>\n",
       "</table>\n",
       "<p>179 rows × 13 columns</p>\n",
       "</div>"
      ],
      "text/plain": [
       "        age  anaemia  creatinine_phosphokinase  diabetes  ejection_fraction  \\\n",
       "232  40.000        1                       129         0                 35   \n",
       "182  65.000        0                       395         1                 25   \n",
       "180  40.000        0                       478         1                 30   \n",
       "137  68.000        1                       646         0                 25   \n",
       "251  55.000        0                       572         1                 35   \n",
       "..      ...      ...                       ...       ...                ...   \n",
       "188  60.667        1                       151         1                 40   \n",
       "71   58.000        0                       582         1                 35   \n",
       "106  55.000        0                       748         0                 45   \n",
       "270  44.000        0                       582         1                 30   \n",
       "102  80.000        0                       898         0                 25   \n",
       "\n",
       "     high_blood_pressure  platelets  serum_creatinine  serum_sodium  sex  \\\n",
       "232                    0  255000.00               0.9           137    1   \n",
       "182                    0  265000.00               1.2           136    1   \n",
       "180                    0  303000.00               0.9           136    1   \n",
       "137                    0  305000.00               2.1           130    1   \n",
       "251                    0  231000.00               0.8           143    0   \n",
       "..                   ...        ...               ...           ...  ...   \n",
       "188                    1  201000.00               1.0           136    0   \n",
       "71                     0  122000.00               0.9           139    1   \n",
       "106                    0  263000.00               1.3           137    1   \n",
       "270                    1  263358.03               1.6           130    1   \n",
       "102                    0  149000.00               1.1           144    1   \n",
       "\n",
       "     smoking  time  DEATH_EVENT  \n",
       "232        0   209            0  \n",
       "182        1   154            1  \n",
       "180        0   148            0  \n",
       "137        0   108            0  \n",
       "251        0   215            0  \n",
       "..       ...   ...          ...  \n",
       "188        0   172            0  \n",
       "71         1    71            0  \n",
       "106        0    88            0  \n",
       "270        1   244            0  \n",
       "102        1    87            0  \n",
       "\n",
       "[179 rows x 13 columns]"
      ]
     },
     "execution_count": 18,
     "metadata": {},
     "output_type": "execute_result"
    }
   ],
   "source": [
    "train_set"
   ]
  },
  {
   "cell_type": "code",
   "execution_count": 19,
   "id": "reduced-december",
   "metadata": {},
   "outputs": [],
   "source": [
    "X_train = train_set.drop(\"DEATH_EVENT\", axis=1) # drop labels for training set\n",
    "y_train = train_set[\"DEATH_EVENT\"].copy()\n",
    "X_test = test_set.drop(\"DEATH_EVENT\", axis=1) # drop labels for test set\n",
    "y_test = test_set[\"DEATH_EVENT\"].copy()"
   ]
  },
  {
   "cell_type": "code",
   "execution_count": 20,
   "id": "brown-reality",
   "metadata": {},
   "outputs": [
    {
     "data": {
      "text/html": [
       "<div>\n",
       "<style scoped>\n",
       "    .dataframe tbody tr th:only-of-type {\n",
       "        vertical-align: middle;\n",
       "    }\n",
       "\n",
       "    .dataframe tbody tr th {\n",
       "        vertical-align: top;\n",
       "    }\n",
       "\n",
       "    .dataframe thead th {\n",
       "        text-align: right;\n",
       "    }\n",
       "</style>\n",
       "<table border=\"1\" class=\"dataframe\">\n",
       "  <thead>\n",
       "    <tr style=\"text-align: right;\">\n",
       "      <th></th>\n",
       "      <th>age</th>\n",
       "      <th>anaemia</th>\n",
       "      <th>creatinine_phosphokinase</th>\n",
       "      <th>diabetes</th>\n",
       "      <th>ejection_fraction</th>\n",
       "      <th>high_blood_pressure</th>\n",
       "      <th>platelets</th>\n",
       "      <th>serum_creatinine</th>\n",
       "      <th>serum_sodium</th>\n",
       "      <th>sex</th>\n",
       "      <th>smoking</th>\n",
       "      <th>time</th>\n",
       "    </tr>\n",
       "  </thead>\n",
       "  <tbody>\n",
       "    <tr>\n",
       "      <th>232</th>\n",
       "      <td>40.000</td>\n",
       "      <td>1</td>\n",
       "      <td>129</td>\n",
       "      <td>0</td>\n",
       "      <td>35</td>\n",
       "      <td>0</td>\n",
       "      <td>255000.00</td>\n",
       "      <td>0.9</td>\n",
       "      <td>137</td>\n",
       "      <td>1</td>\n",
       "      <td>0</td>\n",
       "      <td>209</td>\n",
       "    </tr>\n",
       "    <tr>\n",
       "      <th>182</th>\n",
       "      <td>65.000</td>\n",
       "      <td>0</td>\n",
       "      <td>395</td>\n",
       "      <td>1</td>\n",
       "      <td>25</td>\n",
       "      <td>0</td>\n",
       "      <td>265000.00</td>\n",
       "      <td>1.2</td>\n",
       "      <td>136</td>\n",
       "      <td>1</td>\n",
       "      <td>1</td>\n",
       "      <td>154</td>\n",
       "    </tr>\n",
       "    <tr>\n",
       "      <th>180</th>\n",
       "      <td>40.000</td>\n",
       "      <td>0</td>\n",
       "      <td>478</td>\n",
       "      <td>1</td>\n",
       "      <td>30</td>\n",
       "      <td>0</td>\n",
       "      <td>303000.00</td>\n",
       "      <td>0.9</td>\n",
       "      <td>136</td>\n",
       "      <td>1</td>\n",
       "      <td>0</td>\n",
       "      <td>148</td>\n",
       "    </tr>\n",
       "    <tr>\n",
       "      <th>137</th>\n",
       "      <td>68.000</td>\n",
       "      <td>1</td>\n",
       "      <td>646</td>\n",
       "      <td>0</td>\n",
       "      <td>25</td>\n",
       "      <td>0</td>\n",
       "      <td>305000.00</td>\n",
       "      <td>2.1</td>\n",
       "      <td>130</td>\n",
       "      <td>1</td>\n",
       "      <td>0</td>\n",
       "      <td>108</td>\n",
       "    </tr>\n",
       "    <tr>\n",
       "      <th>251</th>\n",
       "      <td>55.000</td>\n",
       "      <td>0</td>\n",
       "      <td>572</td>\n",
       "      <td>1</td>\n",
       "      <td>35</td>\n",
       "      <td>0</td>\n",
       "      <td>231000.00</td>\n",
       "      <td>0.8</td>\n",
       "      <td>143</td>\n",
       "      <td>0</td>\n",
       "      <td>0</td>\n",
       "      <td>215</td>\n",
       "    </tr>\n",
       "    <tr>\n",
       "      <th>...</th>\n",
       "      <td>...</td>\n",
       "      <td>...</td>\n",
       "      <td>...</td>\n",
       "      <td>...</td>\n",
       "      <td>...</td>\n",
       "      <td>...</td>\n",
       "      <td>...</td>\n",
       "      <td>...</td>\n",
       "      <td>...</td>\n",
       "      <td>...</td>\n",
       "      <td>...</td>\n",
       "      <td>...</td>\n",
       "    </tr>\n",
       "    <tr>\n",
       "      <th>188</th>\n",
       "      <td>60.667</td>\n",
       "      <td>1</td>\n",
       "      <td>151</td>\n",
       "      <td>1</td>\n",
       "      <td>40</td>\n",
       "      <td>1</td>\n",
       "      <td>201000.00</td>\n",
       "      <td>1.0</td>\n",
       "      <td>136</td>\n",
       "      <td>0</td>\n",
       "      <td>0</td>\n",
       "      <td>172</td>\n",
       "    </tr>\n",
       "    <tr>\n",
       "      <th>71</th>\n",
       "      <td>58.000</td>\n",
       "      <td>0</td>\n",
       "      <td>582</td>\n",
       "      <td>1</td>\n",
       "      <td>35</td>\n",
       "      <td>0</td>\n",
       "      <td>122000.00</td>\n",
       "      <td>0.9</td>\n",
       "      <td>139</td>\n",
       "      <td>1</td>\n",
       "      <td>1</td>\n",
       "      <td>71</td>\n",
       "    </tr>\n",
       "    <tr>\n",
       "      <th>106</th>\n",
       "      <td>55.000</td>\n",
       "      <td>0</td>\n",
       "      <td>748</td>\n",
       "      <td>0</td>\n",
       "      <td>45</td>\n",
       "      <td>0</td>\n",
       "      <td>263000.00</td>\n",
       "      <td>1.3</td>\n",
       "      <td>137</td>\n",
       "      <td>1</td>\n",
       "      <td>0</td>\n",
       "      <td>88</td>\n",
       "    </tr>\n",
       "    <tr>\n",
       "      <th>270</th>\n",
       "      <td>44.000</td>\n",
       "      <td>0</td>\n",
       "      <td>582</td>\n",
       "      <td>1</td>\n",
       "      <td>30</td>\n",
       "      <td>1</td>\n",
       "      <td>263358.03</td>\n",
       "      <td>1.6</td>\n",
       "      <td>130</td>\n",
       "      <td>1</td>\n",
       "      <td>1</td>\n",
       "      <td>244</td>\n",
       "    </tr>\n",
       "    <tr>\n",
       "      <th>102</th>\n",
       "      <td>80.000</td>\n",
       "      <td>0</td>\n",
       "      <td>898</td>\n",
       "      <td>0</td>\n",
       "      <td>25</td>\n",
       "      <td>0</td>\n",
       "      <td>149000.00</td>\n",
       "      <td>1.1</td>\n",
       "      <td>144</td>\n",
       "      <td>1</td>\n",
       "      <td>1</td>\n",
       "      <td>87</td>\n",
       "    </tr>\n",
       "  </tbody>\n",
       "</table>\n",
       "<p>179 rows × 12 columns</p>\n",
       "</div>"
      ],
      "text/plain": [
       "        age  anaemia  creatinine_phosphokinase  diabetes  ejection_fraction  \\\n",
       "232  40.000        1                       129         0                 35   \n",
       "182  65.000        0                       395         1                 25   \n",
       "180  40.000        0                       478         1                 30   \n",
       "137  68.000        1                       646         0                 25   \n",
       "251  55.000        0                       572         1                 35   \n",
       "..      ...      ...                       ...       ...                ...   \n",
       "188  60.667        1                       151         1                 40   \n",
       "71   58.000        0                       582         1                 35   \n",
       "106  55.000        0                       748         0                 45   \n",
       "270  44.000        0                       582         1                 30   \n",
       "102  80.000        0                       898         0                 25   \n",
       "\n",
       "     high_blood_pressure  platelets  serum_creatinine  serum_sodium  sex  \\\n",
       "232                    0  255000.00               0.9           137    1   \n",
       "182                    0  265000.00               1.2           136    1   \n",
       "180                    0  303000.00               0.9           136    1   \n",
       "137                    0  305000.00               2.1           130    1   \n",
       "251                    0  231000.00               0.8           143    0   \n",
       "..                   ...        ...               ...           ...  ...   \n",
       "188                    1  201000.00               1.0           136    0   \n",
       "71                     0  122000.00               0.9           139    1   \n",
       "106                    0  263000.00               1.3           137    1   \n",
       "270                    1  263358.03               1.6           130    1   \n",
       "102                    0  149000.00               1.1           144    1   \n",
       "\n",
       "     smoking  time  \n",
       "232        0   209  \n",
       "182        1   154  \n",
       "180        0   148  \n",
       "137        0   108  \n",
       "251        0   215  \n",
       "..       ...   ...  \n",
       "188        0   172  \n",
       "71         1    71  \n",
       "106        0    88  \n",
       "270        1   244  \n",
       "102        1    87  \n",
       "\n",
       "[179 rows x 12 columns]"
      ]
     },
     "execution_count": 20,
     "metadata": {},
     "output_type": "execute_result"
    }
   ],
   "source": [
    "X_train"
   ]
  },
  {
   "cell_type": "code",
   "execution_count": 21,
   "id": "proud-absence",
   "metadata": {},
   "outputs": [],
   "source": [
    "from sklearn.pipeline import Pipeline\n",
    "from sklearn.preprocessing import StandardScaler"
   ]
  },
  {
   "cell_type": "code",
   "execution_count": 22,
   "id": "statewide-headquarters",
   "metadata": {},
   "outputs": [],
   "source": [
    "pipeline = Pipeline([\n",
    "        ('std_scaler', StandardScaler()),\n",
    "    ])\n",
    "\n",
    "X_train_tr = pipeline.fit_transform(X_train)"
   ]
  },
  {
   "cell_type": "code",
   "execution_count": 23,
   "id": "hydraulic-recall",
   "metadata": {},
   "outputs": [
    {
     "data": {
      "text/plain": [
       "array([[-1.81904094,  1.1641577 , -0.47395701, ...,  0.80137497,\n",
       "        -0.67474777,  0.93495302],\n",
       "       [ 0.45560719, -0.85899015, -0.20260175, ...,  0.80137497,\n",
       "         1.48203528,  0.23763389],\n",
       "       [-1.81904094, -0.85899015, -0.11793074, ...,  0.80137497,\n",
       "        -0.67474777,  0.16156272],\n",
       "       ...,\n",
       "       [-0.45425206, -0.85899015,  0.15750505, ...,  0.80137497,\n",
       "        -0.67474777, -0.59914906],\n",
       "       [-1.45509724, -0.85899015, -0.01183696, ...,  0.80137497,\n",
       "         1.48203528,  1.37870156],\n",
       "       [ 1.82039607, -0.85899015,  0.31052494, ...,  0.80137497,\n",
       "         1.48203528, -0.61182759]])"
      ]
     },
     "execution_count": 23,
     "metadata": {},
     "output_type": "execute_result"
    }
   ],
   "source": [
    "X_train_tr"
   ]
  },
  {
   "cell_type": "code",
   "execution_count": 24,
   "id": "assumed-universe",
   "metadata": {},
   "outputs": [
    {
     "data": {
      "text/plain": [
       "LogisticRegression(n_jobs=-1, random_state=0)"
      ]
     },
     "execution_count": 24,
     "metadata": {},
     "output_type": "execute_result"
    }
   ],
   "source": [
    "from sklearn.linear_model import LogisticRegression\n",
    "log_reg = LogisticRegression(penalty='l2', C=1.0, random_state=0,\n",
    "                             n_jobs=-1)\n",
    "log_reg.fit(X_train_tr, y_train)"
   ]
  },
  {
   "cell_type": "code",
   "execution_count": 25,
   "id": "animated-focus",
   "metadata": {},
   "outputs": [
    {
     "data": {
      "text/plain": [
       "array([0, 0, 0, 0, 0], dtype=int64)"
      ]
     },
     "execution_count": 25,
     "metadata": {},
     "output_type": "execute_result"
    }
   ],
   "source": [
    "some_data = X_train_tr[:5].copy()\n",
    "log_reg.predict(some_data)"
   ]
  },
  {
   "cell_type": "code",
   "execution_count": 26,
   "id": "protecting-repository",
   "metadata": {},
   "outputs": [
    {
     "data": {
      "text/plain": [
       "array([[-1.81904094,  1.1641577 , -0.47395701, ...,  0.80137497,\n",
       "        -0.67474777,  0.93495302],\n",
       "       [ 0.45560719, -0.85899015, -0.20260175, ...,  0.80137497,\n",
       "         1.48203528,  0.23763389],\n",
       "       [-1.81904094, -0.85899015, -0.11793074, ...,  0.80137497,\n",
       "        -0.67474777,  0.16156272],\n",
       "       ...,\n",
       "       [-0.45425206, -0.85899015,  0.15750505, ...,  0.80137497,\n",
       "        -0.67474777, -0.59914906],\n",
       "       [-1.45509724, -0.85899015, -0.01183696, ...,  0.80137497,\n",
       "         1.48203528,  1.37870156],\n",
       "       [ 1.82039607, -0.85899015,  0.31052494, ...,  0.80137497,\n",
       "         1.48203528, -0.61182759]])"
      ]
     },
     "execution_count": 26,
     "metadata": {},
     "output_type": "execute_result"
    }
   ],
   "source": [
    "X_train_tr"
   ]
  },
  {
   "cell_type": "code",
   "execution_count": 27,
   "id": "danish-paradise",
   "metadata": {},
   "outputs": [
    {
     "data": {
      "text/html": [
       "<div>\n",
       "<style scoped>\n",
       "    .dataframe tbody tr th:only-of-type {\n",
       "        vertical-align: middle;\n",
       "    }\n",
       "\n",
       "    .dataframe tbody tr th {\n",
       "        vertical-align: top;\n",
       "    }\n",
       "\n",
       "    .dataframe thead th {\n",
       "        text-align: right;\n",
       "    }\n",
       "</style>\n",
       "<table border=\"1\" class=\"dataframe\">\n",
       "  <thead>\n",
       "    <tr style=\"text-align: right;\">\n",
       "      <th></th>\n",
       "      <th>age</th>\n",
       "      <th>anaemia</th>\n",
       "      <th>creatinine_phosphokinase</th>\n",
       "      <th>diabetes</th>\n",
       "      <th>ejection_fraction</th>\n",
       "      <th>high_blood_pressure</th>\n",
       "      <th>platelets</th>\n",
       "      <th>serum_creatinine</th>\n",
       "      <th>serum_sodium</th>\n",
       "      <th>sex</th>\n",
       "      <th>smoking</th>\n",
       "      <th>time</th>\n",
       "    </tr>\n",
       "  </thead>\n",
       "  <tbody>\n",
       "    <tr>\n",
       "      <th>0</th>\n",
       "      <td>40.0</td>\n",
       "      <td>1.0</td>\n",
       "      <td>129.0</td>\n",
       "      <td>0.0</td>\n",
       "      <td>35.0</td>\n",
       "      <td>0.0</td>\n",
       "      <td>255000.0</td>\n",
       "      <td>0.9</td>\n",
       "      <td>137.0</td>\n",
       "      <td>1.0</td>\n",
       "      <td>0.0</td>\n",
       "      <td>209.0</td>\n",
       "    </tr>\n",
       "    <tr>\n",
       "      <th>1</th>\n",
       "      <td>65.0</td>\n",
       "      <td>0.0</td>\n",
       "      <td>395.0</td>\n",
       "      <td>1.0</td>\n",
       "      <td>25.0</td>\n",
       "      <td>0.0</td>\n",
       "      <td>265000.0</td>\n",
       "      <td>1.2</td>\n",
       "      <td>136.0</td>\n",
       "      <td>1.0</td>\n",
       "      <td>1.0</td>\n",
       "      <td>154.0</td>\n",
       "    </tr>\n",
       "    <tr>\n",
       "      <th>2</th>\n",
       "      <td>40.0</td>\n",
       "      <td>0.0</td>\n",
       "      <td>478.0</td>\n",
       "      <td>1.0</td>\n",
       "      <td>30.0</td>\n",
       "      <td>0.0</td>\n",
       "      <td>303000.0</td>\n",
       "      <td>0.9</td>\n",
       "      <td>136.0</td>\n",
       "      <td>1.0</td>\n",
       "      <td>0.0</td>\n",
       "      <td>148.0</td>\n",
       "    </tr>\n",
       "    <tr>\n",
       "      <th>3</th>\n",
       "      <td>68.0</td>\n",
       "      <td>1.0</td>\n",
       "      <td>646.0</td>\n",
       "      <td>0.0</td>\n",
       "      <td>25.0</td>\n",
       "      <td>0.0</td>\n",
       "      <td>305000.0</td>\n",
       "      <td>2.1</td>\n",
       "      <td>130.0</td>\n",
       "      <td>1.0</td>\n",
       "      <td>0.0</td>\n",
       "      <td>108.0</td>\n",
       "    </tr>\n",
       "    <tr>\n",
       "      <th>4</th>\n",
       "      <td>55.0</td>\n",
       "      <td>0.0</td>\n",
       "      <td>572.0</td>\n",
       "      <td>1.0</td>\n",
       "      <td>35.0</td>\n",
       "      <td>0.0</td>\n",
       "      <td>231000.0</td>\n",
       "      <td>0.8</td>\n",
       "      <td>143.0</td>\n",
       "      <td>0.0</td>\n",
       "      <td>0.0</td>\n",
       "      <td>215.0</td>\n",
       "    </tr>\n",
       "  </tbody>\n",
       "</table>\n",
       "</div>"
      ],
      "text/plain": [
       "    age  anaemia  creatinine_phosphokinase  diabetes  ejection_fraction  \\\n",
       "0  40.0      1.0                     129.0       0.0               35.0   \n",
       "1  65.0      0.0                     395.0       1.0               25.0   \n",
       "2  40.0      0.0                     478.0       1.0               30.0   \n",
       "3  68.0      1.0                     646.0       0.0               25.0   \n",
       "4  55.0      0.0                     572.0       1.0               35.0   \n",
       "\n",
       "   high_blood_pressure  platelets  serum_creatinine  serum_sodium  sex  \\\n",
       "0                  0.0   255000.0               0.9         137.0  1.0   \n",
       "1                  0.0   265000.0               1.2         136.0  1.0   \n",
       "2                  0.0   303000.0               0.9         136.0  1.0   \n",
       "3                  0.0   305000.0               2.1         130.0  1.0   \n",
       "4                  0.0   231000.0               0.8         143.0  0.0   \n",
       "\n",
       "   smoking   time  \n",
       "0      0.0  209.0  \n",
       "1      1.0  154.0  \n",
       "2      0.0  148.0  \n",
       "3      0.0  108.0  \n",
       "4      0.0  215.0  "
      ]
     },
     "execution_count": 27,
     "metadata": {},
     "output_type": "execute_result"
    }
   ],
   "source": [
    "pd.DataFrame(pipeline.inverse_transform(some_data), columns=df.columns[:-1])"
   ]
  },
  {
   "cell_type": "code",
   "execution_count": 28,
   "id": "continent-undergraduate",
   "metadata": {},
   "outputs": [
    {
     "data": {
      "text/plain": [
       "232    0\n",
       "182    1\n",
       "180    0\n",
       "137    0\n",
       "251    0\n",
       "Name: DEATH_EVENT, dtype: int64"
      ]
     },
     "execution_count": 28,
     "metadata": {},
     "output_type": "execute_result"
    }
   ],
   "source": [
    "y_train[:5]"
   ]
  },
  {
   "cell_type": "code",
   "execution_count": 29,
   "id": "cleared-donna",
   "metadata": {},
   "outputs": [],
   "source": [
    "# Cross validation\n",
    "from sklearn.model_selection import cross_val_score"
   ]
  },
  {
   "cell_type": "code",
   "execution_count": 30,
   "id": "peaceful-banana",
   "metadata": {},
   "outputs": [
    {
     "name": "stdout",
     "output_type": "stream",
     "text": [
      "Scores: [0.80555556 0.91666667 0.88888889 0.66666667 0.8       ]\n",
      "Mean score: 0.8155555555555555\n",
      "Std dev: 0.08730533902472529\n"
     ]
    }
   ],
   "source": [
    "scores = cross_val_score(log_reg, X_train_tr, y_train,\n",
    "                         scoring=\"accuracy\", cv=5)\n",
    "print(\"Scores:\", scores)\n",
    "print(\"Mean score:\", scores.mean())\n",
    "print(\"Std dev:\", scores.std())"
   ]
  },
  {
   "cell_type": "code",
   "execution_count": 31,
   "id": "considerable-accreditation",
   "metadata": {},
   "outputs": [
    {
     "data": {
      "text/plain": [
       "array([0.80555556, 0.91666667, 0.88888889, 0.66666667, 0.8       ])"
      ]
     },
     "execution_count": 31,
     "metadata": {},
     "output_type": "execute_result"
    }
   ],
   "source": [
    "scores"
   ]
  },
  {
   "cell_type": "code",
   "execution_count": 32,
   "id": "close-bloom",
   "metadata": {},
   "outputs": [
    {
     "data": {
      "text/plain": [
       "0.08730533902472529"
      ]
     },
     "execution_count": 32,
     "metadata": {},
     "output_type": "execute_result"
    }
   ],
   "source": [
    "scores.std()"
   ]
  },
  {
   "cell_type": "code",
   "execution_count": 33,
   "id": "western-little",
   "metadata": {},
   "outputs": [
    {
     "data": {
      "text/plain": [
       "RandomForestClassifier(random_state=42)"
      ]
     },
     "execution_count": 33,
     "metadata": {},
     "output_type": "execute_result"
    }
   ],
   "source": [
    "from sklearn.ensemble import RandomForestClassifier\n",
    "forest_clf = RandomForestClassifier(n_estimators=100, random_state=42)\n",
    "forest_clf.fit(X_train_tr, y_train)"
   ]
  },
  {
   "cell_type": "code",
   "execution_count": 34,
   "id": "chief-philosophy",
   "metadata": {},
   "outputs": [
    {
     "name": "stdout",
     "output_type": "stream",
     "text": [
      "Scores: [0.80555556 0.88888889 0.88888889 0.80555556 0.94285714]\n",
      "Mean score: 0.8663492063492063\n",
      "Std dev: 0.05340650687008557\n"
     ]
    }
   ],
   "source": [
    "scores = cross_val_score(forest_clf, X_train_tr, y_train,\n",
    "                         scoring=\"accuracy\", cv=5)\n",
    "print(\"Scores:\", scores)\n",
    "print(\"Mean score:\", scores.mean())\n",
    "print(\"Std dev:\", scores.std())"
   ]
  },
  {
   "cell_type": "code",
   "execution_count": 35,
   "id": "latest-powell",
   "metadata": {},
   "outputs": [
    {
     "data": {
      "text/plain": [
       "GridSearchCV(cv=5, estimator=RandomForestClassifier(random_state=42), n_jobs=-1,\n",
       "             param_grid=[{'max_features': [1, 2, 3],\n",
       "                          'n_estimators': [20, 21, 22]}],\n",
       "             return_train_score=True, scoring='accuracy')"
      ]
     },
     "execution_count": 35,
     "metadata": {},
     "output_type": "execute_result"
    }
   ],
   "source": [
    "from sklearn.model_selection import GridSearchCV\n",
    "\n",
    "param_grid = [\n",
    "    {'n_estimators': [20, 21, 22], 'max_features': [1, 2, 3]},\n",
    "    #{'bootstrap': [False], 'n_estimators': [3, 10], 'max_features': [2, 3, 4]},\n",
    "  ]\n",
    "\n",
    "grid_search = GridSearchCV(forest_clf, param_grid, cv=5,\n",
    "                           scoring='accuracy',\n",
    "                           return_train_score=True,\n",
    "                           n_jobs=-1)\n",
    "grid_search.fit(X_train_tr, y_train)"
   ]
  },
  {
   "cell_type": "code",
   "execution_count": 36,
   "id": "conventional-house",
   "metadata": {},
   "outputs": [
    {
     "data": {
      "text/plain": [
       "RandomForestClassifier(max_features=2, n_estimators=21, random_state=42)"
      ]
     },
     "execution_count": 36,
     "metadata": {},
     "output_type": "execute_result"
    }
   ],
   "source": [
    "grid_search.best_estimator_"
   ]
  },
  {
   "cell_type": "code",
   "execution_count": 37,
   "id": "vietnamese-satellite",
   "metadata": {},
   "outputs": [
    {
     "data": {
      "text/plain": [
       "{'max_features': 2, 'n_estimators': 21}"
      ]
     },
     "execution_count": 37,
     "metadata": {},
     "output_type": "execute_result"
    }
   ],
   "source": [
    "grid_search.best_params_"
   ]
  },
  {
   "cell_type": "code",
   "execution_count": 38,
   "id": "prostate-hollow",
   "metadata": {},
   "outputs": [
    {
     "data": {
      "text/html": [
       "<div>\n",
       "<style scoped>\n",
       "    .dataframe tbody tr th:only-of-type {\n",
       "        vertical-align: middle;\n",
       "    }\n",
       "\n",
       "    .dataframe tbody tr th {\n",
       "        vertical-align: top;\n",
       "    }\n",
       "\n",
       "    .dataframe thead th {\n",
       "        text-align: right;\n",
       "    }\n",
       "</style>\n",
       "<table border=\"1\" class=\"dataframe\">\n",
       "  <thead>\n",
       "    <tr style=\"text-align: right;\">\n",
       "      <th></th>\n",
       "      <th>mean_fit_time</th>\n",
       "      <th>std_fit_time</th>\n",
       "      <th>mean_score_time</th>\n",
       "      <th>std_score_time</th>\n",
       "      <th>param_max_features</th>\n",
       "      <th>param_n_estimators</th>\n",
       "      <th>params</th>\n",
       "      <th>split0_test_score</th>\n",
       "      <th>split1_test_score</th>\n",
       "      <th>split2_test_score</th>\n",
       "      <th>...</th>\n",
       "      <th>mean_test_score</th>\n",
       "      <th>std_test_score</th>\n",
       "      <th>rank_test_score</th>\n",
       "      <th>split0_train_score</th>\n",
       "      <th>split1_train_score</th>\n",
       "      <th>split2_train_score</th>\n",
       "      <th>split3_train_score</th>\n",
       "      <th>split4_train_score</th>\n",
       "      <th>mean_train_score</th>\n",
       "      <th>std_train_score</th>\n",
       "    </tr>\n",
       "  </thead>\n",
       "  <tbody>\n",
       "    <tr>\n",
       "      <th>0</th>\n",
       "      <td>0.022741</td>\n",
       "      <td>0.004697</td>\n",
       "      <td>0.002591</td>\n",
       "      <td>0.000798</td>\n",
       "      <td>1</td>\n",
       "      <td>20</td>\n",
       "      <td>{'max_features': 1, 'n_estimators': 20}</td>\n",
       "      <td>0.750000</td>\n",
       "      <td>0.777778</td>\n",
       "      <td>0.833333</td>\n",
       "      <td>...</td>\n",
       "      <td>0.793492</td>\n",
       "      <td>0.032259</td>\n",
       "      <td>7</td>\n",
       "      <td>0.993007</td>\n",
       "      <td>1.000000</td>\n",
       "      <td>1.0</td>\n",
       "      <td>1.0</td>\n",
       "      <td>1.000000</td>\n",
       "      <td>0.998601</td>\n",
       "      <td>0.002797</td>\n",
       "    </tr>\n",
       "    <tr>\n",
       "      <th>1</th>\n",
       "      <td>0.035107</td>\n",
       "      <td>0.005691</td>\n",
       "      <td>0.003192</td>\n",
       "      <td>0.000747</td>\n",
       "      <td>1</td>\n",
       "      <td>21</td>\n",
       "      <td>{'max_features': 1, 'n_estimators': 21}</td>\n",
       "      <td>0.722222</td>\n",
       "      <td>0.777778</td>\n",
       "      <td>0.833333</td>\n",
       "      <td>...</td>\n",
       "      <td>0.782222</td>\n",
       "      <td>0.036243</td>\n",
       "      <td>9</td>\n",
       "      <td>1.000000</td>\n",
       "      <td>1.000000</td>\n",
       "      <td>1.0</td>\n",
       "      <td>1.0</td>\n",
       "      <td>1.000000</td>\n",
       "      <td>1.000000</td>\n",
       "      <td>0.000000</td>\n",
       "    </tr>\n",
       "    <tr>\n",
       "      <th>2</th>\n",
       "      <td>0.042487</td>\n",
       "      <td>0.001738</td>\n",
       "      <td>0.003391</td>\n",
       "      <td>0.000489</td>\n",
       "      <td>1</td>\n",
       "      <td>22</td>\n",
       "      <td>{'max_features': 1, 'n_estimators': 22}</td>\n",
       "      <td>0.750000</td>\n",
       "      <td>0.777778</td>\n",
       "      <td>0.833333</td>\n",
       "      <td>...</td>\n",
       "      <td>0.793333</td>\n",
       "      <td>0.027977</td>\n",
       "      <td>8</td>\n",
       "      <td>1.000000</td>\n",
       "      <td>1.000000</td>\n",
       "      <td>1.0</td>\n",
       "      <td>1.0</td>\n",
       "      <td>1.000000</td>\n",
       "      <td>1.000000</td>\n",
       "      <td>0.000000</td>\n",
       "    </tr>\n",
       "    <tr>\n",
       "      <th>3</th>\n",
       "      <td>0.038297</td>\n",
       "      <td>0.002491</td>\n",
       "      <td>0.003192</td>\n",
       "      <td>0.000399</td>\n",
       "      <td>2</td>\n",
       "      <td>20</td>\n",
       "      <td>{'max_features': 2, 'n_estimators': 20}</td>\n",
       "      <td>0.805556</td>\n",
       "      <td>0.861111</td>\n",
       "      <td>0.833333</td>\n",
       "      <td>...</td>\n",
       "      <td>0.855238</td>\n",
       "      <td>0.047201</td>\n",
       "      <td>6</td>\n",
       "      <td>0.993007</td>\n",
       "      <td>1.000000</td>\n",
       "      <td>1.0</td>\n",
       "      <td>1.0</td>\n",
       "      <td>0.993056</td>\n",
       "      <td>0.997213</td>\n",
       "      <td>0.003414</td>\n",
       "    </tr>\n",
       "    <tr>\n",
       "      <th>4</th>\n",
       "      <td>0.036702</td>\n",
       "      <td>0.000746</td>\n",
       "      <td>0.003194</td>\n",
       "      <td>0.000398</td>\n",
       "      <td>2</td>\n",
       "      <td>21</td>\n",
       "      <td>{'max_features': 2, 'n_estimators': 21}</td>\n",
       "      <td>0.805556</td>\n",
       "      <td>0.944444</td>\n",
       "      <td>0.916667</td>\n",
       "      <td>...</td>\n",
       "      <td>0.888571</td>\n",
       "      <td>0.057967</td>\n",
       "      <td>1</td>\n",
       "      <td>1.000000</td>\n",
       "      <td>1.000000</td>\n",
       "      <td>1.0</td>\n",
       "      <td>1.0</td>\n",
       "      <td>1.000000</td>\n",
       "      <td>1.000000</td>\n",
       "      <td>0.000000</td>\n",
       "    </tr>\n",
       "    <tr>\n",
       "      <th>5</th>\n",
       "      <td>0.038696</td>\n",
       "      <td>0.000399</td>\n",
       "      <td>0.003392</td>\n",
       "      <td>0.000489</td>\n",
       "      <td>2</td>\n",
       "      <td>22</td>\n",
       "      <td>{'max_features': 2, 'n_estimators': 22}</td>\n",
       "      <td>0.805556</td>\n",
       "      <td>0.944444</td>\n",
       "      <td>0.916667</td>\n",
       "      <td>...</td>\n",
       "      <td>0.888571</td>\n",
       "      <td>0.057967</td>\n",
       "      <td>1</td>\n",
       "      <td>1.000000</td>\n",
       "      <td>1.000000</td>\n",
       "      <td>1.0</td>\n",
       "      <td>1.0</td>\n",
       "      <td>1.000000</td>\n",
       "      <td>1.000000</td>\n",
       "      <td>0.000000</td>\n",
       "    </tr>\n",
       "    <tr>\n",
       "      <th>6</th>\n",
       "      <td>0.036101</td>\n",
       "      <td>0.000747</td>\n",
       "      <td>0.003191</td>\n",
       "      <td>0.000399</td>\n",
       "      <td>3</td>\n",
       "      <td>20</td>\n",
       "      <td>{'max_features': 3, 'n_estimators': 20}</td>\n",
       "      <td>0.861111</td>\n",
       "      <td>0.944444</td>\n",
       "      <td>0.888889</td>\n",
       "      <td>...</td>\n",
       "      <td>0.877302</td>\n",
       "      <td>0.056881</td>\n",
       "      <td>3</td>\n",
       "      <td>1.000000</td>\n",
       "      <td>0.993007</td>\n",
       "      <td>1.0</td>\n",
       "      <td>1.0</td>\n",
       "      <td>1.000000</td>\n",
       "      <td>0.998601</td>\n",
       "      <td>0.002797</td>\n",
       "    </tr>\n",
       "    <tr>\n",
       "      <th>7</th>\n",
       "      <td>0.037100</td>\n",
       "      <td>0.000399</td>\n",
       "      <td>0.003191</td>\n",
       "      <td>0.000399</td>\n",
       "      <td>3</td>\n",
       "      <td>21</td>\n",
       "      <td>{'max_features': 3, 'n_estimators': 21}</td>\n",
       "      <td>0.833333</td>\n",
       "      <td>0.944444</td>\n",
       "      <td>0.888889</td>\n",
       "      <td>...</td>\n",
       "      <td>0.871746</td>\n",
       "      <td>0.059488</td>\n",
       "      <td>5</td>\n",
       "      <td>1.000000</td>\n",
       "      <td>0.993007</td>\n",
       "      <td>1.0</td>\n",
       "      <td>1.0</td>\n",
       "      <td>1.000000</td>\n",
       "      <td>0.998601</td>\n",
       "      <td>0.002797</td>\n",
       "    </tr>\n",
       "    <tr>\n",
       "      <th>8</th>\n",
       "      <td>0.037499</td>\n",
       "      <td>0.001017</td>\n",
       "      <td>0.003591</td>\n",
       "      <td>0.000489</td>\n",
       "      <td>3</td>\n",
       "      <td>22</td>\n",
       "      <td>{'max_features': 3, 'n_estimators': 22}</td>\n",
       "      <td>0.861111</td>\n",
       "      <td>0.944444</td>\n",
       "      <td>0.888889</td>\n",
       "      <td>...</td>\n",
       "      <td>0.877302</td>\n",
       "      <td>0.056881</td>\n",
       "      <td>3</td>\n",
       "      <td>1.000000</td>\n",
       "      <td>0.993007</td>\n",
       "      <td>1.0</td>\n",
       "      <td>1.0</td>\n",
       "      <td>0.993056</td>\n",
       "      <td>0.997213</td>\n",
       "      <td>0.003414</td>\n",
       "    </tr>\n",
       "  </tbody>\n",
       "</table>\n",
       "<p>9 rows × 22 columns</p>\n",
       "</div>"
      ],
      "text/plain": [
       "   mean_fit_time  std_fit_time  mean_score_time  std_score_time  \\\n",
       "0       0.022741      0.004697         0.002591        0.000798   \n",
       "1       0.035107      0.005691         0.003192        0.000747   \n",
       "2       0.042487      0.001738         0.003391        0.000489   \n",
       "3       0.038297      0.002491         0.003192        0.000399   \n",
       "4       0.036702      0.000746         0.003194        0.000398   \n",
       "5       0.038696      0.000399         0.003392        0.000489   \n",
       "6       0.036101      0.000747         0.003191        0.000399   \n",
       "7       0.037100      0.000399         0.003191        0.000399   \n",
       "8       0.037499      0.001017         0.003591        0.000489   \n",
       "\n",
       "  param_max_features param_n_estimators  \\\n",
       "0                  1                 20   \n",
       "1                  1                 21   \n",
       "2                  1                 22   \n",
       "3                  2                 20   \n",
       "4                  2                 21   \n",
       "5                  2                 22   \n",
       "6                  3                 20   \n",
       "7                  3                 21   \n",
       "8                  3                 22   \n",
       "\n",
       "                                    params  split0_test_score  \\\n",
       "0  {'max_features': 1, 'n_estimators': 20}           0.750000   \n",
       "1  {'max_features': 1, 'n_estimators': 21}           0.722222   \n",
       "2  {'max_features': 1, 'n_estimators': 22}           0.750000   \n",
       "3  {'max_features': 2, 'n_estimators': 20}           0.805556   \n",
       "4  {'max_features': 2, 'n_estimators': 21}           0.805556   \n",
       "5  {'max_features': 2, 'n_estimators': 22}           0.805556   \n",
       "6  {'max_features': 3, 'n_estimators': 20}           0.861111   \n",
       "7  {'max_features': 3, 'n_estimators': 21}           0.833333   \n",
       "8  {'max_features': 3, 'n_estimators': 22}           0.861111   \n",
       "\n",
       "   split1_test_score  split2_test_score  ...  mean_test_score  std_test_score  \\\n",
       "0           0.777778           0.833333  ...         0.793492        0.032259   \n",
       "1           0.777778           0.833333  ...         0.782222        0.036243   \n",
       "2           0.777778           0.833333  ...         0.793333        0.027977   \n",
       "3           0.861111           0.833333  ...         0.855238        0.047201   \n",
       "4           0.944444           0.916667  ...         0.888571        0.057967   \n",
       "5           0.944444           0.916667  ...         0.888571        0.057967   \n",
       "6           0.944444           0.888889  ...         0.877302        0.056881   \n",
       "7           0.944444           0.888889  ...         0.871746        0.059488   \n",
       "8           0.944444           0.888889  ...         0.877302        0.056881   \n",
       "\n",
       "   rank_test_score  split0_train_score  split1_train_score  \\\n",
       "0                7            0.993007            1.000000   \n",
       "1                9            1.000000            1.000000   \n",
       "2                8            1.000000            1.000000   \n",
       "3                6            0.993007            1.000000   \n",
       "4                1            1.000000            1.000000   \n",
       "5                1            1.000000            1.000000   \n",
       "6                3            1.000000            0.993007   \n",
       "7                5            1.000000            0.993007   \n",
       "8                3            1.000000            0.993007   \n",
       "\n",
       "   split2_train_score  split3_train_score  split4_train_score  \\\n",
       "0                 1.0                 1.0            1.000000   \n",
       "1                 1.0                 1.0            1.000000   \n",
       "2                 1.0                 1.0            1.000000   \n",
       "3                 1.0                 1.0            0.993056   \n",
       "4                 1.0                 1.0            1.000000   \n",
       "5                 1.0                 1.0            1.000000   \n",
       "6                 1.0                 1.0            1.000000   \n",
       "7                 1.0                 1.0            1.000000   \n",
       "8                 1.0                 1.0            0.993056   \n",
       "\n",
       "   mean_train_score  std_train_score  \n",
       "0          0.998601         0.002797  \n",
       "1          1.000000         0.000000  \n",
       "2          1.000000         0.000000  \n",
       "3          0.997213         0.003414  \n",
       "4          1.000000         0.000000  \n",
       "5          1.000000         0.000000  \n",
       "6          0.998601         0.002797  \n",
       "7          0.998601         0.002797  \n",
       "8          0.997213         0.003414  \n",
       "\n",
       "[9 rows x 22 columns]"
      ]
     },
     "execution_count": 38,
     "metadata": {},
     "output_type": "execute_result"
    }
   ],
   "source": [
    "pd.DataFrame(grid_search.cv_results_)"
   ]
  },
  {
   "cell_type": "code",
   "execution_count": 39,
   "id": "expired-eating",
   "metadata": {},
   "outputs": [
    {
     "data": {
      "text/plain": [
       "0.8475308641975308"
      ]
     },
     "execution_count": 39,
     "metadata": {},
     "output_type": "execute_result"
    }
   ],
   "source": [
    "pd.DataFrame(grid_search.cv_results_)['mean_test_score'].mean()"
   ]
  },
  {
   "cell_type": "code",
   "execution_count": 40,
   "id": "domestic-birmingham",
   "metadata": {},
   "outputs": [
    {
     "data": {
      "text/plain": [
       "0.044595132240480305"
      ]
     },
     "execution_count": 40,
     "metadata": {},
     "output_type": "execute_result"
    }
   ],
   "source": [
    "pd.DataFrame(grid_search.cv_results_)['mean_test_score'].std()"
   ]
  },
  {
   "cell_type": "code",
   "execution_count": 41,
   "id": "fuzzy-first",
   "metadata": {},
   "outputs": [
    {
     "data": {
      "text/plain": [
       "array([0.07276743, 0.0082997 , 0.07937128, 0.0145291 , 0.14222282,\n",
       "       0.01281684, 0.07677559, 0.14434957, 0.07910009, 0.02572981,\n",
       "       0.00807836, 0.3359594 ])"
      ]
     },
     "execution_count": 41,
     "metadata": {},
     "output_type": "execute_result"
    }
   ],
   "source": [
    "feature_importances = grid_search.best_estimator_.feature_importances_\n",
    "feature_importances"
   ]
  },
  {
   "cell_type": "code",
   "execution_count": 42,
   "id": "conditional-drilling",
   "metadata": {},
   "outputs": [
    {
     "data": {
      "text/plain": [
       "[(0.33595939839567285, 'time'),\n",
       " (0.14434956898386767, 'serum_creatinine'),\n",
       " (0.14222282446683784, 'ejection_fraction'),\n",
       " (0.07937128193684642, 'creatinine_phosphokinase'),\n",
       " (0.07910008800280469, 'serum_sodium'),\n",
       " (0.07677559474187357, 'platelets'),\n",
       " (0.07276742955281437, 'age'),\n",
       " (0.02572981391156325, 'sex'),\n",
       " (0.014529098048612672, 'diabetes'),\n",
       " (0.012816838124891853, 'high_blood_pressure'),\n",
       " (0.008299703744316763, 'anaemia'),\n",
       " (0.008078360089898104, 'smoking')]"
      ]
     },
     "execution_count": 42,
     "metadata": {},
     "output_type": "execute_result"
    }
   ],
   "source": [
    "sorted(zip(feature_importances, df.columns[:-1]), reverse=True)"
   ]
  },
  {
   "cell_type": "code",
   "execution_count": 43,
   "id": "reasonable-contact",
   "metadata": {},
   "outputs": [],
   "source": [
    "features_ranking = sorted(zip(df.columns[:-1], feature_importances), reverse=True, key=lambda x: x[1])"
   ]
  },
  {
   "cell_type": "code",
   "execution_count": 44,
   "id": "mineral-fifteen",
   "metadata": {},
   "outputs": [],
   "source": [
    "features = [x[0] for x in features_ranking]\n",
    "ranks = [x[1] for x in features_ranking]"
   ]
  },
  {
   "cell_type": "code",
   "execution_count": 45,
   "id": "serious-voice",
   "metadata": {},
   "outputs": [
    {
     "data": {
      "text/plain": [
       "Text(0.5, 0, 'Score')"
      ]
     },
     "execution_count": 45,
     "metadata": {},
     "output_type": "execute_result"
    },
    {
     "data": {
      "image/png": "[encoded data removed]",
      "text/plain": [
       "<Figure size 432x288 with 1 Axes>"
      ]
     },
     "metadata": {},
     "output_type": "display_data"
    }
   ],
   "source": [
    "sns.barplot(y=features, x=ranks, orient='h')\n",
    "plt.xlabel('Score')"
   ]
  },
  {
   "cell_type": "code",
   "execution_count": 46,
   "id": "adverse-prayer",
   "metadata": {},
   "outputs": [],
   "source": [
    "# Will we get the same x-validation performance using only the best two features?"
   ]
  },
  {
   "cell_type": "code",
   "execution_count": 47,
   "id": "synthetic-premiere",
   "metadata": {},
   "outputs": [],
   "source": [
    "X_train_tr_best_features = pd.DataFrame(X_train_tr, columns=df.columns[:-1])[['time', 'serum_creatinine']]"
   ]
  },
  {
   "cell_type": "code",
   "execution_count": 48,
   "id": "unauthorized-piece",
   "metadata": {},
   "outputs": [
    {
     "data": {
      "text/plain": [
       "RandomForestClassifier(max_features=2, n_estimators=21, random_state=42)"
      ]
     },
     "execution_count": 48,
     "metadata": {},
     "output_type": "execute_result"
    }
   ],
   "source": [
    "clf = RandomForestClassifier(**grid_search.best_params_, random_state=42)\n",
    "\n",
    "clf.fit(X_train_tr_best_features, y_train)"
   ]
  },
  {
   "cell_type": "code",
   "execution_count": 49,
   "id": "banned-luxury",
   "metadata": {},
   "outputs": [
    {
     "name": "stdout",
     "output_type": "stream",
     "text": [
      "Scores: [0.75       0.91666667 0.83333333 0.75       0.88571429]\n",
      "Mean score: 0.8271428571428572\n",
      "Std dev: 0.06838930841636674\n"
     ]
    }
   ],
   "source": [
    "scores = cross_val_score(clf, X_train_tr_best_features, y_train,\n",
    "                         scoring=\"accuracy\", cv=5)\n",
    "print(\"Scores:\", scores)\n",
    "print(\"Mean score:\", scores.mean())\n",
    "print(\"Std dev:\", scores.std())"
   ]
  },
  {
   "cell_type": "code",
   "execution_count": 50,
   "id": "similar-circumstances",
   "metadata": {},
   "outputs": [],
   "source": [
    "# strangely nope!\n",
    "# Let's try using the full set"
   ]
  },
  {
   "cell_type": "code",
   "execution_count": 51,
   "id": "straight-aruba",
   "metadata": {},
   "outputs": [
    {
     "name": "stdout",
     "output_type": "stream",
     "text": [
      "Scores: [0.80555556 0.94444444 0.91666667 0.83333333 0.94285714]\n",
      "Mean score: 0.8885714285714286\n",
      "Std dev: 0.05796715866765426\n"
     ]
    }
   ],
   "source": [
    "scores = cross_val_score(clf, X_train_tr, y_train,\n",
    "                         scoring=\"accuracy\", cv=5)\n",
    "print(\"Scores:\", scores)\n",
    "print(\"Mean score:\", scores.mean())\n",
    "print(\"Std dev:\", scores.std())"
   ]
  },
  {
   "cell_type": "code",
   "execution_count": 52,
   "id": "fallen-elimination",
   "metadata": {},
   "outputs": [
    {
     "name": "stdout",
     "output_type": "stream",
     "text": [
      "Scores: [0.80555556 0.94444444 0.91666667 0.83333333 0.94285714]\n",
      "Mean score: 0.8885714285714286\n",
      "Std dev: 0.05796715866765426\n"
     ]
    }
   ],
   "source": [
    "# Again, after retraining it\n",
    "clf.fit(X_train_tr, y_train)\n",
    "scores = cross_val_score(clf, X_train_tr, y_train,\n",
    "                         scoring=\"accuracy\", cv=5)\n",
    "print(\"Scores:\", scores)\n",
    "print(\"Mean score:\", scores.mean())\n",
    "print(\"Std dev:\", scores.std())"
   ]
  },
  {
   "cell_type": "code",
   "execution_count": 53,
   "id": "military-quantum",
   "metadata": {},
   "outputs": [],
   "source": [
    "# Let's use regression to get probabilities\n"
   ]
  },
  {
   "cell_type": "markdown",
   "id": "narrow-investing",
   "metadata": {},
   "source": [
    "TODO:\n",
    "- [ ] Use regression or otherwise get probabilities\n",
    "- [ ] Deploy light-weight (perhaps not optimised) algorithm using Flask\n",
    "- [ ] Test on PythonAnywhere\n",
    "- [ ] Plot decision regions to understand how/why it works\n",
    "- [ ] Further optimise the Random Forest\n",
    "- [ ] Implement other algorithms: KNN, SVM\n",
    "- [ ] Use PCA: does it detect the same features? Is it useful in such a simple project?\n",
    "- [ ] Does MLP make sense in this project?\n",
    "- [ ] Is train/test split optimal? Is it really stratified?\n",
    "- [ ] Polish Flask interface: nice forms?\n",
    "- [ ] Save the model on disk"
   ]
  },
  {
   "cell_type": "code",
   "execution_count": 54,
   "id": "twelve-resource",
   "metadata": {},
   "outputs": [],
   "source": [
    "clf_best = grid_search.best_estimator_"
   ]
  },
  {
   "cell_type": "code",
   "execution_count": 55,
   "id": "sapphire-arrangement",
   "metadata": {},
   "outputs": [
    {
     "data": {
      "text/plain": [
       "RandomForestClassifier(max_features=2, n_estimators=21, random_state=42)"
      ]
     },
     "execution_count": 55,
     "metadata": {},
     "output_type": "execute_result"
    }
   ],
   "source": [
    "# Save the best estimator\n",
    "# First retrain it on a smaller array so the unimportant features are not required in application\n",
    "clf = RandomForestClassifier(**grid_search.best_params_, random_state=42)\n",
    "clf.fit(X_train_tr_best_features, y_train)"
   ]
  },
  {
   "cell_type": "code",
   "execution_count": 64,
   "id": "latest-scanning",
   "metadata": {},
   "outputs": [
    {
     "data": {
      "text/plain": [
       "['pipeline.pkl']"
      ]
     },
     "execution_count": 64,
     "metadata": {},
     "output_type": "execute_result"
    }
   ],
   "source": [
    "import joblib\n",
    "joblib.dump(clf, \"cardio_model.pkl\")\n",
    "# Train the pipeline to require exactly 2 features\n",
    "X_train_best_features = pd.DataFrame(X_train, columns=df.columns[:-1])[['time', 'serum_creatinine']]\n",
    "pipeline.fit(X_train_best_features)\n",
    "joblib.dump(pipeline, 'pipeline.pkl')"
   ]
  },
  {
   "cell_type": "code",
   "execution_count": 57,
   "id": "coastal-speed",
   "metadata": {},
   "outputs": [],
   "source": [
    "# Test the model on hypothetical new cases\n",
    "model = joblib.load(\"cardio_model.pkl\")"
   ]
  },
  {
   "cell_type": "code",
   "execution_count": 58,
   "id": "destroyed-eating",
   "metadata": {},
   "outputs": [
    {
     "data": {
      "text/html": [
       "<div>\n",
       "<style scoped>\n",
       "    .dataframe tbody tr th:only-of-type {\n",
       "        vertical-align: middle;\n",
       "    }\n",
       "\n",
       "    .dataframe tbody tr th {\n",
       "        vertical-align: top;\n",
       "    }\n",
       "\n",
       "    .dataframe thead th {\n",
       "        text-align: right;\n",
       "    }\n",
       "</style>\n",
       "<table border=\"1\" class=\"dataframe\">\n",
       "  <thead>\n",
       "    <tr style=\"text-align: right;\">\n",
       "      <th></th>\n",
       "      <th>time</th>\n",
       "      <th>serum_creatinine</th>\n",
       "    </tr>\n",
       "  </thead>\n",
       "  <tbody>\n",
       "    <tr>\n",
       "      <th>0</th>\n",
       "      <td>0.934953</td>\n",
       "      <td>-0.465356</td>\n",
       "    </tr>\n",
       "    <tr>\n",
       "      <th>1</th>\n",
       "      <td>0.237634</td>\n",
       "      <td>-0.178119</td>\n",
       "    </tr>\n",
       "    <tr>\n",
       "      <th>2</th>\n",
       "      <td>0.161563</td>\n",
       "      <td>-0.465356</td>\n",
       "    </tr>\n",
       "  </tbody>\n",
       "</table>\n",
       "</div>"
      ],
      "text/plain": [
       "       time  serum_creatinine\n",
       "0  0.934953         -0.465356\n",
       "1  0.237634         -0.178119\n",
       "2  0.161563         -0.465356"
      ]
     },
     "execution_count": 58,
     "metadata": {},
     "output_type": "execute_result"
    }
   ],
   "source": [
    "X_train_tr_best_features[:3]"
   ]
  },
  {
   "cell_type": "code",
   "execution_count": 59,
   "id": "right-opposition",
   "metadata": {},
   "outputs": [
    {
     "data": {
      "text/plain": [
       "232    0\n",
       "182    1\n",
       "180    0\n",
       "Name: DEATH_EVENT, dtype: int64"
      ]
     },
     "execution_count": 59,
     "metadata": {},
     "output_type": "execute_result"
    }
   ],
   "source": [
    "y_train[:3]"
   ]
  },
  {
   "cell_type": "code",
   "execution_count": 60,
   "id": "approximate-table",
   "metadata": {},
   "outputs": [
    {
     "data": {
      "text/plain": [
       "array([0, 1, 0], dtype=int64)"
      ]
     },
     "execution_count": 60,
     "metadata": {},
     "output_type": "execute_result"
    }
   ],
   "source": [
    "model.predict(X_train_tr_best_features[:3])"
   ]
  },
  {
   "cell_type": "code",
   "execution_count": 61,
   "id": "purple-boxing",
   "metadata": {},
   "outputs": [
    {
     "data": {
      "text/plain": [
       "(3, 2)"
      ]
     },
     "execution_count": 61,
     "metadata": {},
     "output_type": "execute_result"
    }
   ],
   "source": [
    "X_train_tr_best_features[:3].shape"
   ]
  },
  {
   "cell_type": "markdown",
   "id": "local-allowance",
   "metadata": {},
   "source": [
    "We need to feed the model some $n\\times 2$ matrix."
   ]
  },
  {
   "cell_type": "markdown",
   "id": "important-express",
   "metadata": {},
   "source": [
    "# Evalute model performance on the test set"
   ]
  },
  {
   "cell_type": "code",
   "execution_count": 62,
   "id": "occupied-borough",
   "metadata": {},
   "outputs": [],
   "source": [
    "# TODO: Before I do it, I should implement F1 score, precision/recall, ROC curves and so on in the training.\n",
    "# Otherwise I might be biased and select a model better performing on the test sample, overtraining it.\n",
    "\n",
    "# For now, let's just trust \"this model is OK\" and focus on deployment."
   ]
  },
  {
   "cell_type": "code",
   "execution_count": 66,
   "id": "paperback-quarterly",
   "metadata": {},
   "outputs": [
    {
     "data": {
      "text/plain": [
       "(179, 12)"
      ]
     },
     "execution_count": 66,
     "metadata": {},
     "output_type": "execute_result"
    }
   ],
   "source": [
    "X_train_tr.shape"
   ]
  },
  {
   "cell_type": "code",
   "execution_count": 68,
   "id": "unknown-hospital",
   "metadata": {},
   "outputs": [
    {
     "data": {
      "text/plain": [
       "(179, 2)"
      ]
     },
     "execution_count": 68,
     "metadata": {},
     "output_type": "execute_result"
    }
   ],
   "source": [
    "X_train_tr_best_features.shape"
   ]
  },
  {
   "cell_type": "code",
   "execution_count": 69,
   "id": "dietary-springer",
   "metadata": {},
   "outputs": [
    {
     "data": {
      "text/plain": [
       "pandas.core.frame.DataFrame"
      ]
     },
     "execution_count": 69,
     "metadata": {},
     "output_type": "execute_result"
    }
   ],
   "source": [
    "type(X_train_tr_best_features)"
   ]
  },
  {
   "cell_type": "code",
   "execution_count": null,
   "id": "emerging-jimmy",
   "metadata": {},
   "outputs": [],
   "source": [
    "model.predict(np.array([[250, ]]))"
   ]
  }
 ],
 "metadata": {
  "kernelspec": {
   "display_name": "Python 3",
   "language": "python",
   "name": "python3"
  },
  "language_info": {
   "codemirror_mode": {
    "name": "ipython",
    "version": 3
   },
   "file_extension": ".py",
   "mimetype": "text/x-python",
   "name": "python",
   "nbconvert_exporter": "python",
   "pygments_lexer": "ipython3",
   "version": "3.8.5"
  }
 },
 "nbformat": 4,
 "nbformat_minor": 5
}

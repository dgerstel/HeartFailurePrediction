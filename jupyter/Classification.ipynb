{
 "cells": [
  {
   "cell_type": "markdown",
   "id": "double-profit",
   "metadata": {},
   "source": [
    "# Load The Dataset\n",
    "\n",
    "Let's load the cleaned up dataset from the previous step and make a sanity\n",
    "check it's alright."
   ]
  },
  {
   "cell_type": "code",
   "execution_count": 257,
   "id": "dimensional-journal",
   "metadata": {},
   "outputs": [],
   "source": [
    "import joblib\n",
    "import os\n",
    "import math\n",
    "import pandas as pd\n",
    "import numpy as np\n",
    "import matplotlib.pyplot as plt\n",
    "import seaborn as sns\n",
    "sns.set_theme(style=\"darkgrid\")\n",
    "\n",
    "FIG_DIR = \"../flask/static\""
   ]
  },
  {
   "cell_type": "code",
   "execution_count": 258,
   "id": "related-legislature",
   "metadata": {},
   "outputs": [],
   "source": [
    "df = joblib.load(\"df.pkl\")"
   ]
  },
  {
   "cell_type": "code",
   "execution_count": 259,
   "id": "dated-preservation",
   "metadata": {},
   "outputs": [
    {
     "data": {
      "text/html": [
       "<div>\n",
       "<style scoped>\n",
       "    .dataframe tbody tr th:only-of-type {\n",
       "        vertical-align: middle;\n",
       "    }\n",
       "\n",
       "    .dataframe tbody tr th {\n",
       "        vertical-align: top;\n",
       "    }\n",
       "\n",
       "    .dataframe thead th {\n",
       "        text-align: right;\n",
       "    }\n",
       "</style>\n",
       "<table border=\"1\" class=\"dataframe\">\n",
       "  <thead>\n",
       "    <tr style=\"text-align: right;\">\n",
       "      <th></th>\n",
       "      <th>Age [years]</th>\n",
       "      <th>Anaemia</th>\n",
       "      <th>Creatine Phosphokinase [mcg/L]</th>\n",
       "      <th>Diabetes</th>\n",
       "      <th>Ejection Fraction [%]</th>\n",
       "      <th>High Blood Pressure</th>\n",
       "      <th>Platelets [1000 platelets/mL]</th>\n",
       "      <th>Serum Creatinine [mg/dL]</th>\n",
       "      <th>Serum Sodium [mEq/L]</th>\n",
       "      <th>Male</th>\n",
       "      <th>Smoking</th>\n",
       "      <th>Time [days]</th>\n",
       "      <th>DEATH_EVENT</th>\n",
       "    </tr>\n",
       "  </thead>\n",
       "  <tbody>\n",
       "    <tr>\n",
       "      <th>0</th>\n",
       "      <td>75.0</td>\n",
       "      <td>0</td>\n",
       "      <td>582</td>\n",
       "      <td>0</td>\n",
       "      <td>20</td>\n",
       "      <td>1</td>\n",
       "      <td>265.00000</td>\n",
       "      <td>1.9</td>\n",
       "      <td>130</td>\n",
       "      <td>1</td>\n",
       "      <td>0</td>\n",
       "      <td>4</td>\n",
       "      <td>1</td>\n",
       "    </tr>\n",
       "    <tr>\n",
       "      <th>1</th>\n",
       "      <td>55.0</td>\n",
       "      <td>0</td>\n",
       "      <td>7861</td>\n",
       "      <td>0</td>\n",
       "      <td>38</td>\n",
       "      <td>0</td>\n",
       "      <td>263.35803</td>\n",
       "      <td>1.1</td>\n",
       "      <td>136</td>\n",
       "      <td>1</td>\n",
       "      <td>0</td>\n",
       "      <td>6</td>\n",
       "      <td>1</td>\n",
       "    </tr>\n",
       "    <tr>\n",
       "      <th>2</th>\n",
       "      <td>65.0</td>\n",
       "      <td>0</td>\n",
       "      <td>146</td>\n",
       "      <td>0</td>\n",
       "      <td>20</td>\n",
       "      <td>0</td>\n",
       "      <td>162.00000</td>\n",
       "      <td>1.3</td>\n",
       "      <td>129</td>\n",
       "      <td>1</td>\n",
       "      <td>1</td>\n",
       "      <td>7</td>\n",
       "      <td>1</td>\n",
       "    </tr>\n",
       "    <tr>\n",
       "      <th>3</th>\n",
       "      <td>50.0</td>\n",
       "      <td>1</td>\n",
       "      <td>111</td>\n",
       "      <td>0</td>\n",
       "      <td>20</td>\n",
       "      <td>0</td>\n",
       "      <td>210.00000</td>\n",
       "      <td>1.9</td>\n",
       "      <td>137</td>\n",
       "      <td>1</td>\n",
       "      <td>0</td>\n",
       "      <td>7</td>\n",
       "      <td>1</td>\n",
       "    </tr>\n",
       "    <tr>\n",
       "      <th>4</th>\n",
       "      <td>65.0</td>\n",
       "      <td>1</td>\n",
       "      <td>160</td>\n",
       "      <td>1</td>\n",
       "      <td>20</td>\n",
       "      <td>0</td>\n",
       "      <td>327.00000</td>\n",
       "      <td>2.7</td>\n",
       "      <td>116</td>\n",
       "      <td>0</td>\n",
       "      <td>0</td>\n",
       "      <td>8</td>\n",
       "      <td>1</td>\n",
       "    </tr>\n",
       "  </tbody>\n",
       "</table>\n",
       "</div>"
      ],
      "text/plain": [
       "   Age [years]  Anaemia  Creatine Phosphokinase [mcg/L]  Diabetes  \\\n",
       "0         75.0        0                             582         0   \n",
       "1         55.0        0                            7861         0   \n",
       "2         65.0        0                             146         0   \n",
       "3         50.0        1                             111         0   \n",
       "4         65.0        1                             160         1   \n",
       "\n",
       "   Ejection Fraction [%]  High Blood Pressure  Platelets [1000 platelets/mL]  \\\n",
       "0                     20                    1                      265.00000   \n",
       "1                     38                    0                      263.35803   \n",
       "2                     20                    0                      162.00000   \n",
       "3                     20                    0                      210.00000   \n",
       "4                     20                    0                      327.00000   \n",
       "\n",
       "   Serum Creatinine [mg/dL]  Serum Sodium [mEq/L]  Male  Smoking  Time [days]  \\\n",
       "0                       1.9                   130     1        0            4   \n",
       "1                       1.1                   136     1        0            6   \n",
       "2                       1.3                   129     1        1            7   \n",
       "3                       1.9                   137     1        0            7   \n",
       "4                       2.7                   116     0        0            8   \n",
       "\n",
       "   DEATH_EVENT  \n",
       "0            1  \n",
       "1            1  \n",
       "2            1  \n",
       "3            1  \n",
       "4            1  "
      ]
     },
     "execution_count": 259,
     "metadata": {},
     "output_type": "execute_result"
    }
   ],
   "source": [
    "df.head()"
   ]
  },
  {
   "cell_type": "code",
   "execution_count": 260,
   "id": "tough-count",
   "metadata": {},
   "outputs": [
    {
     "data": {
      "text/plain": [
       "(299, 13)"
      ]
     },
     "execution_count": 260,
     "metadata": {},
     "output_type": "execute_result"
    }
   ],
   "source": [
    "df.shape"
   ]
  },
  {
   "cell_type": "markdown",
   "id": "pressing-delicious",
   "metadata": {},
   "source": [
    "We can see everything is as expected:\n",
    "- there is 299 patients like previously\n",
    "- column names include units and better formatting"
   ]
  },
  {
   "cell_type": "markdown",
   "id": "electronic-thomas",
   "metadata": {},
   "source": [
    "# Split the data into train and test sets\n",
    "It is time to split the dataset into train and test sets.\n",
    "As explained in the previous post, we're going to select the patients \n",
    "in the following categories:\n",
    "- **survivors**: survived _at least_ the first $100$ days\n",
    "- **deceased** ones: passed away _within_ the first $100$ days"
   ]
  },
  {
   "cell_type": "code",
   "execution_count": 261,
   "id": "multiple-collective",
   "metadata": {},
   "outputs": [
    {
     "data": {
      "text/html": [
       "<div>\n",
       "<style scoped>\n",
       "    .dataframe tbody tr th:only-of-type {\n",
       "        vertical-align: middle;\n",
       "    }\n",
       "\n",
       "    .dataframe tbody tr th {\n",
       "        vertical-align: top;\n",
       "    }\n",
       "\n",
       "    .dataframe thead th {\n",
       "        text-align: right;\n",
       "    }\n",
       "</style>\n",
       "<table border=\"1\" class=\"dataframe\">\n",
       "  <thead>\n",
       "    <tr style=\"text-align: right;\">\n",
       "      <th></th>\n",
       "      <th>Age [years]</th>\n",
       "      <th>Anaemia</th>\n",
       "      <th>Creatine Phosphokinase [mcg/L]</th>\n",
       "      <th>Diabetes</th>\n",
       "      <th>Ejection Fraction [%]</th>\n",
       "      <th>High Blood Pressure</th>\n",
       "      <th>Platelets [1000 platelets/mL]</th>\n",
       "      <th>Serum Creatinine [mg/dL]</th>\n",
       "      <th>Serum Sodium [mEq/L]</th>\n",
       "      <th>Male</th>\n",
       "      <th>Smoking</th>\n",
       "      <th>DEATH_EVENT</th>\n",
       "    </tr>\n",
       "  </thead>\n",
       "  <tbody>\n",
       "    <tr>\n",
       "      <th>0</th>\n",
       "      <td>75.0</td>\n",
       "      <td>0</td>\n",
       "      <td>582</td>\n",
       "      <td>0</td>\n",
       "      <td>20</td>\n",
       "      <td>1</td>\n",
       "      <td>265.00000</td>\n",
       "      <td>1.9</td>\n",
       "      <td>130</td>\n",
       "      <td>1</td>\n",
       "      <td>0</td>\n",
       "      <td>1</td>\n",
       "    </tr>\n",
       "    <tr>\n",
       "      <th>1</th>\n",
       "      <td>55.0</td>\n",
       "      <td>0</td>\n",
       "      <td>7861</td>\n",
       "      <td>0</td>\n",
       "      <td>38</td>\n",
       "      <td>0</td>\n",
       "      <td>263.35803</td>\n",
       "      <td>1.1</td>\n",
       "      <td>136</td>\n",
       "      <td>1</td>\n",
       "      <td>0</td>\n",
       "      <td>1</td>\n",
       "    </tr>\n",
       "    <tr>\n",
       "      <th>2</th>\n",
       "      <td>65.0</td>\n",
       "      <td>0</td>\n",
       "      <td>146</td>\n",
       "      <td>0</td>\n",
       "      <td>20</td>\n",
       "      <td>0</td>\n",
       "      <td>162.00000</td>\n",
       "      <td>1.3</td>\n",
       "      <td>129</td>\n",
       "      <td>1</td>\n",
       "      <td>1</td>\n",
       "      <td>1</td>\n",
       "    </tr>\n",
       "    <tr>\n",
       "      <th>3</th>\n",
       "      <td>50.0</td>\n",
       "      <td>1</td>\n",
       "      <td>111</td>\n",
       "      <td>0</td>\n",
       "      <td>20</td>\n",
       "      <td>0</td>\n",
       "      <td>210.00000</td>\n",
       "      <td>1.9</td>\n",
       "      <td>137</td>\n",
       "      <td>1</td>\n",
       "      <td>0</td>\n",
       "      <td>1</td>\n",
       "    </tr>\n",
       "    <tr>\n",
       "      <th>4</th>\n",
       "      <td>65.0</td>\n",
       "      <td>1</td>\n",
       "      <td>160</td>\n",
       "      <td>1</td>\n",
       "      <td>20</td>\n",
       "      <td>0</td>\n",
       "      <td>327.00000</td>\n",
       "      <td>2.7</td>\n",
       "      <td>116</td>\n",
       "      <td>0</td>\n",
       "      <td>0</td>\n",
       "      <td>1</td>\n",
       "    </tr>\n",
       "  </tbody>\n",
       "</table>\n",
       "</div>"
      ],
      "text/plain": [
       "   Age [years]  Anaemia  Creatine Phosphokinase [mcg/L]  Diabetes  \\\n",
       "0         75.0        0                             582         0   \n",
       "1         55.0        0                            7861         0   \n",
       "2         65.0        0                             146         0   \n",
       "3         50.0        1                             111         0   \n",
       "4         65.0        1                             160         1   \n",
       "\n",
       "   Ejection Fraction [%]  High Blood Pressure  Platelets [1000 platelets/mL]  \\\n",
       "0                     20                    1                      265.00000   \n",
       "1                     38                    0                      263.35803   \n",
       "2                     20                    0                      162.00000   \n",
       "3                     20                    0                      210.00000   \n",
       "4                     20                    0                      327.00000   \n",
       "\n",
       "   Serum Creatinine [mg/dL]  Serum Sodium [mEq/L]  Male  Smoking  DEATH_EVENT  \n",
       "0                       1.9                   130     1        0            1  \n",
       "1                       1.1                   136     1        0            1  \n",
       "2                       1.3                   129     1        1            1  \n",
       "3                       1.9                   137     1        0            1  \n",
       "4                       2.7                   116     0        0            1  "
      ]
     },
     "execution_count": 261,
     "metadata": {},
     "output_type": "execute_result"
    }
   ],
   "source": [
    "def select_df(n=100):\n",
    "    \"\"\"Select the patients that survived / didn't the first n days\"\"\"\n",
    "    select = (((df['DEATH_EVENT'] == 0) & (df['Time [days]'] > n)) |\n",
    "              ((df['DEATH_EVENT'] == 1) & (df['Time [days]'] < n)))\n",
    "    return df[select]\n",
    "\n",
    "\n",
    "df = select_df()\n",
    "\n",
    "# Remove not useful features\n",
    "df = df.drop([\"Time [days]\"], axis=1)\n",
    "df.head()"
   ]
  },
  {
   "cell_type": "code",
   "execution_count": 262,
   "id": "finished-dylan",
   "metadata": {},
   "outputs": [
    {
     "data": {
      "text/plain": [
       "(219, 12)"
      ]
     },
     "execution_count": 262,
     "metadata": {},
     "output_type": "execute_result"
    }
   ],
   "source": [
    "df.shape"
   ]
  },
  {
   "cell_type": "markdown",
   "id": "requested-password",
   "metadata": {},
   "source": [
    "There are $219$ patients in this category.\n",
    "It's a small statistics, which implies a few things:\n",
    "- If we split train/test set in the $60\\%/40\\%$ ratio, we'll end up with\n",
    "  around $130$ and $90$ patients in the respective categories\n",
    "- It's likely to overtrain a model given a big number of features relative to the dataset size\n",
    "\n",
    "To tackle the problem, we must rely on a simple classifier, perhaps with reduced\n",
    "number of features.\n",
    "\n",
    "Let's proceed step-by-step, starting with splitting the dataset into the\n",
    "train and test sets in the $60\\%/40\\%$ ratio."
   ]
  },
  {
   "cell_type": "code",
   "execution_count": 396,
   "id": "living-dinner",
   "metadata": {},
   "outputs": [],
   "source": [
    "from sklearn.model_selection import train_test_split"
   ]
  },
  {
   "cell_type": "code",
   "execution_count": 397,
   "id": "canadian-intellectual",
   "metadata": {},
   "outputs": [],
   "source": [
    "train_set, test_set = train_test_split(df, test_size=0.4, random_state=42)"
   ]
  },
  {
   "cell_type": "code",
   "execution_count": 398,
   "id": "finite-latex",
   "metadata": {},
   "outputs": [
    {
     "data": {
      "text/plain": [
       "0    88\n",
       "1    43\n",
       "Name: DEATH_EVENT, dtype: int64"
      ]
     },
     "execution_count": 398,
     "metadata": {},
     "output_type": "execute_result"
    }
   ],
   "source": [
    "train_set['DEATH_EVENT'].value_counts()"
   ]
  },
  {
   "cell_type": "markdown",
   "id": "express-venice",
   "metadata": {},
   "source": [
    "We end up with $88$ surviving and $43$ deceased patients in the training set.\n",
    "\n",
    "Now, we'll separate the features from the labels."
   ]
  },
  {
   "cell_type": "code",
   "execution_count": 266,
   "id": "reduced-december",
   "metadata": {},
   "outputs": [],
   "source": [
    "# drop labels and time for training set\n",
    "X_train = train_set.drop([\"DEATH_EVENT\"], axis=1)\n",
    "y_train = train_set[\"DEATH_EVENT\"].copy()\n",
    "# drop labels and time for test set\n",
    "X_test = test_set.drop([\"DEATH_EVENT\"], axis=1)\n",
    "y_test = test_set[\"DEATH_EVENT\"].copy()"
   ]
  },
  {
   "cell_type": "markdown",
   "id": "floating-tulsa",
   "metadata": {},
   "source": [
    "# Scale features and make a pipeline\n",
    "\n",
    "Many algorithms require all parameters to be of the same scale.\n",
    "More precisely, the features might be _normalised_ by mapping onto the $[0,1]$\n",
    "range, or _standardised_ by subtracting the mean and dividing by the\n",
    "standard deviation, making sure the results will have unit variance.\n",
    "\n",
    "The former might be preferable for neural networks that require $[0, 1]$-range\n",
    "input. The latter, on the other hand, are less impacted by the outliers.\n",
    "Since we'll be focused on simpler classifiers _standardisation_ should be\n",
    "a better choice.\n",
    "\n",
    "Moreover, we'll put the scaling procedure in a pipeline for easier\n",
    "reproducibility. Were there more preprocessing steps needed, we would\n",
    "add them in the pipeline as well."
   ]
  },
  {
   "cell_type": "code",
   "execution_count": 267,
   "id": "proud-absence",
   "metadata": {},
   "outputs": [],
   "source": [
    "from sklearn.pipeline import Pipeline\n",
    "from sklearn.preprocessing import StandardScaler"
   ]
  },
  {
   "cell_type": "code",
   "execution_count": 268,
   "id": "statewide-headquarters",
   "metadata": {},
   "outputs": [],
   "source": [
    "pipeline = Pipeline([\n",
    "    ('std_scaler', StandardScaler()),\n",
    "])\n",
    "\n",
    "X_train_tr = pipeline.fit_transform(X_train)"
   ]
  },
  {
   "cell_type": "code",
   "execution_count": 269,
   "id": "hydraulic-recall",
   "metadata": {},
   "outputs": [
    {
     "data": {
      "text/plain": [
       "array([[-1.13, -0.84, -0.06, ..., -0.62,  0.72, -0.7 ],\n",
       "       [-0.46, -0.84,  0.17, ...,  0.75,  0.72,  1.43],\n",
       "       [ 0.21,  1.19,  1.  , ...,  0.06,  0.72, -0.7 ],\n",
       "       ...,\n",
       "       [-0.88, -0.84, -0.47, ..., -0.62,  0.72,  1.43],\n",
       "       [-0.21, -0.84, -0.46, ...,  0.52,  0.72, -0.7 ],\n",
       "       [ 0.21,  1.19, -0.06, ...,  0.06,  0.72,  1.43]])"
      ]
     },
     "execution_count": 269,
     "metadata": {},
     "output_type": "execute_result"
    }
   ],
   "source": [
    "X_train_tr"
   ]
  },
  {
   "cell_type": "markdown",
   "id": "ultimate-republic",
   "metadata": {},
   "source": [
    "That was just a technical check. We'll actually use standardisation later on."
   ]
  },
  {
   "cell_type": "markdown",
   "id": "surrounded-garbage",
   "metadata": {},
   "source": [
    "# Dimensionality Reduction with PCA\n",
    "\n",
    "To simplify the model, perhaps some features can be skipped with no big loss\n",
    "to the performance and increased generalisation.\n",
    "To this end we'll use the Principal Component Analysis (PCA) that projects\n",
    "the features onto hyperplanes preserving most of the variance. Each successive plane is orthogonal to the previous ones and has the largest remaining variance of the dataset. Intuitively, the bigger the variance, the better resolution we have to then separate instances of various classes."
   ]
  },
  {
   "cell_type": "code",
   "execution_count": 408,
   "id": "junior-thread",
   "metadata": {},
   "outputs": [
    {
     "data": {
      "image/png": "[encoded data removed]",
      "text/plain": [
       "<Figure size 432x288 with 1 Axes>"
      ]
     },
     "metadata": {},
     "output_type": "display_data"
    }
   ],
   "source": [
    "from sklearn.decomposition import PCA\n",
    "\n",
    "pca = PCA()\n",
    "# It's important to standardise features before PCA\n",
    "# or else features that are just big will artificially have big variance.\n",
    "pca.fit(X_train_tr)\n",
    "\n",
    "def plot_explained_variance():\n",
    "    cumsum = np.cumsum(pca.explained_variance_ratio_)\n",
    "    plt.plot(range(1, len(cumsum)+1), cumsum, 'o-')\n",
    "    plt.xlabel(\"Number of Features\")\n",
    "    plt.ylabel(\"Variance Fraction Explained\")\n",
    "    n_features = X_train_tr.shape[1]\n",
    "    plt.hlines(y=0.95, xmin=1, xmax=n_features, linestyles='dashed',\n",
    "               color='k', label='95%')\n",
    "    plt.legend(loc='best')\n",
    "plot_explained_variance()"
   ]
  },
  {
   "cell_type": "markdown",
   "id": "minor-variation",
   "metadata": {},
   "source": [
    "We can see that 10 features are required to preserve $95\\%$ of the total variance.\n",
    "This could be obtained more directly, but without visualisation as follows."
   ]
  },
  {
   "cell_type": "code",
   "execution_count": 271,
   "id": "remarkable-novel",
   "metadata": {},
   "outputs": [
    {
     "data": {
      "text/plain": [
       "(11, 10)"
      ]
     },
     "execution_count": 271,
     "metadata": {},
     "output_type": "execute_result"
    }
   ],
   "source": [
    "pca = PCA(n_components=0.95)\n",
    "\n",
    "pca.fit_transform(X_train_tr)\n",
    "pca.components_.T.shape # 11 x 10 matrix -> reduce to 10 dimensions"
   ]
  },
  {
   "cell_type": "markdown",
   "id": "shared-fishing",
   "metadata": {},
   "source": [
    "Later on, we'll use PCA in a grid search to find whether it helps improve\n",
    "the results and, if so, how many components are useful."
   ]
  },
  {
   "cell_type": "markdown",
   "id": "exposed-visibility",
   "metadata": {},
   "source": [
    "# Logistic Regression Classifier\n",
    "Since we don't have much data, it's better to focus on simple classifiers.\n",
    "Otherwise, we risk overtraining.\n",
    "\n",
    "Logistic regression is one of the simplest classifiers.\n",
    "Let's train it first."
   ]
  },
  {
   "cell_type": "code",
   "execution_count": 279,
   "id": "assumed-universe",
   "metadata": {},
   "outputs": [],
   "source": [
    "from sklearn.linear_model import LogisticRegression\n",
    "# #log_reg = LogisticRegression(penalty='l2', C=1.0, random_state=0,\n",
    "#                              n_jobs=-1)"
   ]
  },
  {
   "cell_type": "code",
   "execution_count": 280,
   "id": "cleared-donna",
   "metadata": {},
   "outputs": [],
   "source": [
    "# Cross validation\n",
    "from sklearn.model_selection import cross_val_score"
   ]
  },
  {
   "cell_type": "code",
   "execution_count": 281,
   "id": "peaceful-banana",
   "metadata": {},
   "outputs": [
    {
     "name": "stdout",
     "output_type": "stream",
     "text": [
      "Scores: [0.55 0.63]\n",
      "Mean score: 0.5923852183650617\n",
      "Std dev: 0.039193729003359434\n"
     ]
    }
   ],
   "source": [
    "scores = cross_val_score(log_reg, X_train_tr, y_train,\n",
    "                         scoring=\"f1\", cv=2)\n",
    "print(\"Scores:\", scores)\n",
    "print(\"Mean score:\", scores.mean())\n",
    "print(\"Std dev:\", scores.std())"
   ]
  },
  {
   "cell_type": "code",
   "execution_count": 282,
   "id": "coordinated-cliff",
   "metadata": {},
   "outputs": [
    {
     "data": {
      "text/plain": [
       "array([[71, 17],\n",
       "       [18, 25]])"
      ]
     },
     "execution_count": 282,
     "metadata": {},
     "output_type": "execute_result"
    }
   ],
   "source": [
    "from sklearn.metrics import confusion_matrix\n",
    "from sklearn.model_selection import cross_val_predict\n",
    "y_train_pred = cross_val_predict(log_reg, X_train_tr, y_train, cv=2)\n",
    "confusion_matrix(y_train, y_train_pred)"
   ]
  },
  {
   "cell_type": "code",
   "execution_count": 283,
   "id": "biological-despite",
   "metadata": {},
   "outputs": [],
   "source": [
    "from sklearn.metrics import precision_score, recall_score"
   ]
  },
  {
   "cell_type": "code",
   "execution_count": 284,
   "id": "covered-writing",
   "metadata": {},
   "outputs": [
    {
     "data": {
      "text/plain": [
       "0.5952380952380952"
      ]
     },
     "execution_count": 284,
     "metadata": {},
     "output_type": "execute_result"
    }
   ],
   "source": [
    "precision_score(y_train, y_train_pred)"
   ]
  },
  {
   "cell_type": "code",
   "execution_count": 285,
   "id": "likely-sigma",
   "metadata": {},
   "outputs": [
    {
     "data": {
      "text/plain": [
       "0.5952380952380952"
      ]
     },
     "execution_count": 285,
     "metadata": {},
     "output_type": "execute_result"
    }
   ],
   "source": [
    "# precision = TP / (TP + FP)\n",
    "25 / (25 + 17)"
   ]
  },
  {
   "cell_type": "code",
   "execution_count": 286,
   "id": "convinced-transparency",
   "metadata": {},
   "outputs": [
    {
     "data": {
      "text/plain": [
       "0.5813953488372093"
      ]
     },
     "execution_count": 286,
     "metadata": {},
     "output_type": "execute_result"
    }
   ],
   "source": [
    "recall_score(y_train, y_train_pred)"
   ]
  },
  {
   "cell_type": "code",
   "execution_count": 287,
   "id": "objective-district",
   "metadata": {},
   "outputs": [
    {
     "data": {
      "text/plain": [
       "0.5813953488372093"
      ]
     },
     "execution_count": 287,
     "metadata": {},
     "output_type": "execute_result"
    }
   ],
   "source": [
    "# recall = TP / (TP + FN)\n",
    "25 / (25 + 18)"
   ]
  },
  {
   "cell_type": "code",
   "execution_count": 288,
   "id": "different-persian",
   "metadata": {},
   "outputs": [
    {
     "data": {
      "text/plain": [
       "0.5882352941176471"
      ]
     },
     "execution_count": 288,
     "metadata": {},
     "output_type": "execute_result"
    }
   ],
   "source": [
    "from sklearn.metrics import f1_score\n",
    "f1_score(y_train, y_train_pred)"
   ]
  },
  {
   "cell_type": "markdown",
   "id": "immediate-moral",
   "metadata": {},
   "source": [
    "### Hyperparameter Tuning and Regularisation\n",
    "\n",
    "These hyperparameter questions we want to find answers to with a help of the grid search:\n",
    "- Whether to use PCA or not; if so, how many components?\n",
    "- Regularisation: Ridge ($\\ell_2$), Lasso ($\\ell_1$) or Elastic Net (in-between)\n",
    "- Class weight: shall the class imabalance be accounted for by attributing bigger weights to less common class (i.e. patients that passed away)?\n",
    "- Which solver to use in the training algorithm? This depends:\n",
    "  - liblinear is good for small datasets\n",
    "  - Elastic Net is supported only by the saga solver\n",
    "\n",
    "Besides, how many folds should be used in $k-$fold validation?\n",
    "Since in each iteration the model is trained on $k-1$ folds and tested on the remaining one,\n",
    "to ensure the test is reliable, we'd better not reduced it too much.\n",
    "Therefore, splitting our roughly $120$ patients into $2-3$ folds should be the upper limit.\n",
    "\n",
    "The **metric** we want to optimise should not be accuracy as it is sensitive\n",
    "to the class imbalance. Instead, precision and recall seem more pertinant, or their harmonic average, $F_1 = \\frac{2}{1/P + 1/R}$, where $P$ and $R$ stand for precision and recall respectively and are computed as:\n",
    "precision = $TP / (TP + FP)$ (\"purity\" of the positive-labeled group)\n",
    "and recall = $TP / (TP + FN)$ (i.e. \"have we labeled all the positive guys as such?\")."
   ]
  },
  {
   "cell_type": "code",
   "execution_count": 289,
   "id": "canadian-glasgow",
   "metadata": {},
   "outputs": [
    {
     "name": "stdout",
     "output_type": "stream",
     "text": [
      "Fitting 2 folds for each of 768 candidates, totalling 1536 fits\n"
     ]
    },
    {
     "name": "stderr",
     "output_type": "stream",
     "text": [
      "[Parallel(n_jobs=-1)]: Using backend LokyBackend with 12 concurrent workers.\n",
      "[Parallel(n_jobs=-1)]: Done  26 tasks      | elapsed:    0.7s\n",
      "[Parallel(n_jobs=-1)]: Done 1536 out of 1536 | elapsed:    2.4s finished\n"
     ]
    },
    {
     "data": {
      "text/plain": [
       "GridSearchCV(cv=2,\n",
       "             estimator=Pipeline(steps=[('std_scaler', StandardScaler()),\n",
       "                                       ('pca', PCA()),\n",
       "                                       ('clf', LogisticRegression())]),\n",
       "             n_jobs=-1,\n",
       "             param_grid=[{'clf__C': [0.1, 0.5, 0.75, 1.0, 1.25, 1.5, 1.75, 2.0],\n",
       "                          'clf__class_weight': [None, 'balanced'],\n",
       "                          'clf__penalty': ['l2', 'l1'],\n",
       "                          'clf__random_state': [42],\n",
       "                          'clf__solver': ['liblinear'],\n",
       "                          'pca': ['passthrough', PCA(n_components=1),\n",
       "                                  P...\n",
       "                         {'clf__C': [0.1, 0.5, 0.75, 1.0, 1.25, 1.5, 1.75, 2.0],\n",
       "                          'clf__class_weight': [None, 'balanced'],\n",
       "                          'clf__l1_ratio': [0.0, 0.1, 0.25, 0.5, 0.75, 1.0],\n",
       "                          'clf__penalty': ['elastic_net'],\n",
       "                          'clf__random_state': [42], 'clf__solver': ['saga'],\n",
       "                          'pca': ['passthrough', PCA(n_components=1),\n",
       "                                  PCA(n_components=3), PCA(n_components=9),\n",
       "                                  PCA(n_components=10),\n",
       "                                  PCA(n_components=11)]}],\n",
       "             return_train_score=True, scoring='f1', verbose=1)"
      ]
     },
     "execution_count": 289,
     "metadata": {},
     "output_type": "execute_result"
    }
   ],
   "source": [
    "# Let's optimise Logistic Regression\n",
    "from sklearn.model_selection import GridSearchCV\n",
    "\n",
    "pipeline = Pipeline([\n",
    "    ('std_scaler', StandardScaler()),    \n",
    "    ('pca', PCA()),\n",
    "    ('clf', LogisticRegression()),\n",
    "])\n",
    "\n",
    "param_grid = [\n",
    "    {'pca': ['passthrough', PCA(1), PCA(3), PCA(9), PCA(10), PCA(11)],\n",
    "     'clf__penalty': ['l2', 'l1'],\n",
    "     'clf__C': [.1, .5, .75, 1.0, 1.25, 1.50, 1.75, 2.0],\n",
    "     'clf__class_weight': [None, 'balanced'],\n",
    "     'clf__solver': ['liblinear'],  # good for small datasets\n",
    "     'clf__random_state': [42]\n",
    "     },\n",
    "    # Elastic net is only supported by the ‘saga’ solver\n",
    "    # and it requires l1_ratio parameter.\n",
    "    {'pca': ['passthrough', PCA(1), PCA(3), PCA(9), PCA(10), PCA(11)],\n",
    "     'clf__penalty': ['elastic_net'],\n",
    "     'clf__C': [.1, .5, .75, 1.0, 1.25, 1.50, 1.75, 2.0],\n",
    "     'clf__class_weight': [None, 'balanced'],\n",
    "     'clf__solver': ['saga'],\n",
    "     'clf__l1_ratio': [0.0, 0.1, 0.25, 0.5, 0.75, 1.0],\n",
    "     'clf__random_state': [42]\n",
    "     }\n",
    "]\n",
    "grid_search = GridSearchCV(pipeline, param_grid, cv=2,\n",
    "                           scoring='f1',\n",
    "                           return_train_score=True,\n",
    "                           verbose=1,\n",
    "                           n_jobs=-1)\n",
    "grid_search.fit(X_train, y_train)"
   ]
  },
  {
   "cell_type": "code",
   "execution_count": 290,
   "id": "victorian-christianity",
   "metadata": {},
   "outputs": [
    {
     "data": {
      "text/plain": [
       "{'clf__C': 0.75,\n",
       " 'clf__class_weight': None,\n",
       " 'clf__penalty': 'l1',\n",
       " 'clf__random_state': 42,\n",
       " 'clf__solver': 'liblinear',\n",
       " 'pca': 'passthrough'}"
      ]
     },
     "execution_count": 290,
     "metadata": {},
     "output_type": "execute_result"
    }
   ],
   "source": [
    "grid_search.best_params_"
   ]
  },
  {
   "cell_type": "code",
   "execution_count": 291,
   "id": "third-burner",
   "metadata": {},
   "outputs": [
    {
     "data": {
      "text/plain": [
       "Pipeline(steps=[('std_scaler', StandardScaler()), ('pca', 'passthrough'),\n",
       "                ('clf',\n",
       "                 LogisticRegression(C=0.75, penalty='l1', random_state=42,\n",
       "                                    solver='liblinear'))])"
      ]
     },
     "execution_count": 291,
     "metadata": {},
     "output_type": "execute_result"
    }
   ],
   "source": [
    "log_clf = grid_search.best_estimator_\n",
    "log_clf"
   ]
  },
  {
   "cell_type": "code",
   "execution_count": 292,
   "id": "southeast-collect",
   "metadata": {},
   "outputs": [],
   "source": [
    "cvres = grid_search.cv_results_"
   ]
  },
  {
   "cell_type": "code",
   "execution_count": 293,
   "id": "faced-doubt",
   "metadata": {},
   "outputs": [
    {
     "name": "stdout",
     "output_type": "stream",
     "text": [
      "0.5720823798627002 {'clf__C': 0.1, 'clf__class_weight': None, 'clf__penalty': 'l2', 'clf__random_state': 42, 'clf__solver': 'liblinear', 'pca': 'passthrough'}\n",
      "0.08347826086956522 {'clf__C': 0.1, 'clf__class_weight': None, 'clf__penalty': 'l2', 'clf__random_state': 42, 'clf__solver': 'liblinear', 'pca': PCA(n_components=1)}\n",
      "0.18406593406593408 {'clf__C': 0.1, 'clf__class_weight': None, 'clf__penalty': 'l2', 'clf__random_state': 42, 'clf__solver': 'liblinear', 'pca': PCA(n_components=3)}\n",
      "0.5202702702702702 {'clf__C': 0.1, 'clf__class_weight': None, 'clf__penalty': 'l2', 'clf__random_state': 42, 'clf__solver': 'liblinear', 'pca': PCA(n_components=9)}\n",
      "0.5184770436730123 {'clf__C': 0.1, 'clf__class_weight': None, 'clf__penalty': 'l2', 'clf__random_state': 42, 'clf__solver': 'liblinear', 'pca': PCA(n_components=10)}\n",
      "0.5720823798627002 {'clf__C': 0.1, 'clf__class_weight': None, 'clf__penalty': 'l2', 'clf__random_state': 42, 'clf__solver': 'liblinear', 'pca': PCA(n_components=11)}\n",
      "0.26829268292682923 {'clf__C': 0.1, 'clf__class_weight': None, 'clf__penalty': 'l1', 'clf__random_state': 42, 'clf__solver': 'liblinear', 'pca': 'passthrough'}\n",
      "0.0 {'clf__C': 0.1, 'clf__class_weight': None, 'clf__penalty': 'l1', 'clf__random_state': 42, 'clf__solver': 'liblinear', 'pca': PCA(n_components=1)}\n",
      "0.0 {'clf__C': 0.1, 'clf__class_weight': None, 'clf__penalty': 'l1', 'clf__random_state': 42, 'clf__solver': 'liblinear', 'pca': PCA(n_components=3)}\n",
      "0.43278301886792453 {'clf__C': 0.1, 'clf__class_weight': None, 'clf__penalty': 'l1', 'clf__random_state': 42, 'clf__solver': 'liblinear', 'pca': PCA(n_components=9)}\n",
      "0.43278301886792453 {'clf__C': 0.1, 'clf__class_weight': None, 'clf__penalty': 'l1', 'clf__random_state': 42, 'clf__solver': 'liblinear', 'pca': PCA(n_components=10)}\n",
      "0.43278301886792453 {'clf__C': 0.1, 'clf__class_weight': None, 'clf__penalty': 'l1', 'clf__random_state': 42, 'clf__solver': 'liblinear', 'pca': PCA(n_components=11)}\n",
      "0.5581140350877194 {'clf__C': 0.1, 'clf__class_weight': 'balanced', 'clf__penalty': 'l2', 'clf__random_state': 42, 'clf__solver': 'liblinear', 'pca': 'passthrough'}\n",
      "0.4242424242424242 {'clf__C': 0.1, 'clf__class_weight': 'balanced', 'clf__penalty': 'l2', 'clf__random_state': 42, 'clf__solver': 'liblinear', 'pca': PCA(n_components=1)}\n",
      "0.37916894477856755 {'clf__C': 0.1, 'clf__class_weight': 'balanced', 'clf__penalty': 'l2', 'clf__random_state': 42, 'clf__solver': 'liblinear', 'pca': PCA(n_components=3)}\n",
      "0.5222097797685704 {'clf__C': 0.1, 'clf__class_weight': 'balanced', 'clf__penalty': 'l2', 'clf__random_state': 42, 'clf__solver': 'liblinear', 'pca': PCA(n_components=9)}\n",
      "0.5022488755622189 {'clf__C': 0.1, 'clf__class_weight': 'balanced', 'clf__penalty': 'l2', 'clf__random_state': 42, 'clf__solver': 'liblinear', 'pca': PCA(n_components=10)}\n",
      "0.5581140350877194 {'clf__C': 0.1, 'clf__class_weight': 'balanced', 'clf__penalty': 'l2', 'clf__random_state': 42, 'clf__solver': 'liblinear', 'pca': PCA(n_components=11)}\n",
      "0.2608695652173913 {'clf__C': 0.1, 'clf__class_weight': 'balanced', 'clf__penalty': 'l1', 'clf__random_state': 42, 'clf__solver': 'liblinear', 'pca': 'passthrough'}\n",
      "0.16666666666666666 {'clf__C': 0.1, 'clf__class_weight': 'balanced', 'clf__penalty': 'l1', 'clf__random_state': 42, 'clf__solver': 'liblinear', 'pca': PCA(n_components=1)}\n",
      "0.16666666666666666 {'clf__C': 0.1, 'clf__class_weight': 'balanced', 'clf__penalty': 'l1', 'clf__random_state': 42, 'clf__solver': 'liblinear', 'pca': PCA(n_components=3)}\n",
      "0.5115384615384615 {'clf__C': 0.1, 'clf__class_weight': 'balanced', 'clf__penalty': 'l1', 'clf__random_state': 42, 'clf__solver': 'liblinear', 'pca': PCA(n_components=9)}\n",
      "0.5115384615384615 {'clf__C': 0.1, 'clf__class_weight': 'balanced', 'clf__penalty': 'l1', 'clf__random_state': 42, 'clf__solver': 'liblinear', 'pca': PCA(n_components=10)}\n",
      "0.5115384615384615 {'clf__C': 0.1, 'clf__class_weight': 'balanced', 'clf__penalty': 'l1', 'clf__random_state': 42, 'clf__solver': 'liblinear', 'pca': PCA(n_components=11)}\n",
      "0.5842880523731588 {'clf__C': 0.5, 'clf__class_weight': None, 'clf__penalty': 'l2', 'clf__random_state': 42, 'clf__solver': 'liblinear', 'pca': 'passthrough'}\n",
      "0.04347826086956522 {'clf__C': 0.5, 'clf__class_weight': None, 'clf__penalty': 'l2', 'clf__random_state': 42, 'clf__solver': 'liblinear', 'pca': PCA(n_components=1)}\n",
      "0.15692307692307694 {'clf__C': 0.5, 'clf__class_weight': None, 'clf__penalty': 'l2', 'clf__random_state': 42, 'clf__solver': 'liblinear', 'pca': PCA(n_components=3)}\n",
      "0.5184770436730123 {'clf__C': 0.5, 'clf__class_weight': None, 'clf__penalty': 'l2', 'clf__random_state': 42, 'clf__solver': 'liblinear', 'pca': PCA(n_components=9)}\n",
      "0.4977116704805492 {'clf__C': 0.5, 'clf__class_weight': None, 'clf__penalty': 'l2', 'clf__random_state': 42, 'clf__solver': 'liblinear', 'pca': PCA(n_components=10)}\n",
      "0.5842880523731588 {'clf__C': 0.5, 'clf__class_weight': None, 'clf__penalty': 'l2', 'clf__random_state': 42, 'clf__solver': 'liblinear', 'pca': PCA(n_components=11)}\n",
      "0.575984990619137 {'clf__C': 0.5, 'clf__class_weight': None, 'clf__penalty': 'l1', 'clf__random_state': 42, 'clf__solver': 'liblinear', 'pca': 'passthrough'}\n",
      "0.0 {'clf__C': 0.5, 'clf__class_weight': None, 'clf__penalty': 'l1', 'clf__random_state': 42, 'clf__solver': 'liblinear', 'pca': PCA(n_components=1)}\n",
      "0.16333333333333333 {'clf__C': 0.5, 'clf__class_weight': None, 'clf__penalty': 'l1', 'clf__random_state': 42, 'clf__solver': 'liblinear', 'pca': PCA(n_components=3)}\n",
      "0.5411036036036037 {'clf__C': 0.5, 'clf__class_weight': None, 'clf__penalty': 'l1', 'clf__random_state': 42, 'clf__solver': 'liblinear', 'pca': PCA(n_components=9)}\n",
      "0.5411036036036037 {'clf__C': 0.5, 'clf__class_weight': None, 'clf__penalty': 'l1', 'clf__random_state': 42, 'clf__solver': 'liblinear', 'pca': PCA(n_components=10)}\n",
      "0.5681306306306306 {'clf__C': 0.5, 'clf__class_weight': None, 'clf__penalty': 'l1', 'clf__random_state': 42, 'clf__solver': 'liblinear', 'pca': PCA(n_components=11)}\n",
      "0.5588932806324112 {'clf__C': 0.5, 'clf__class_weight': 'balanced', 'clf__penalty': 'l2', 'clf__random_state': 42, 'clf__solver': 'liblinear', 'pca': 'passthrough'}\n",
      "0.4299895506792058 {'clf__C': 0.5, 'clf__class_weight': 'balanced', 'clf__penalty': 'l2', 'clf__random_state': 42, 'clf__solver': 'liblinear', 'pca': PCA(n_components=1)}\n",
      "0.3682871678914641 {'clf__C': 0.5, 'clf__class_weight': 'balanced', 'clf__penalty': 'l2', 'clf__random_state': 42, 'clf__solver': 'liblinear', 'pca': PCA(n_components=3)}\n",
      "0.5481481481481482 {'clf__C': 0.5, 'clf__class_weight': 'balanced', 'clf__penalty': 'l2', 'clf__random_state': 42, 'clf__solver': 'liblinear', 'pca': PCA(n_components=9)}\n",
      "0.5547138047138047 {'clf__C': 0.5, 'clf__class_weight': 'balanced', 'clf__penalty': 'l2', 'clf__random_state': 42, 'clf__solver': 'liblinear', 'pca': PCA(n_components=10)}\n",
      "0.5588932806324112 {'clf__C': 0.5, 'clf__class_weight': 'balanced', 'clf__penalty': 'l2', 'clf__random_state': 42, 'clf__solver': 'liblinear', 'pca': PCA(n_components=11)}\n",
      "0.561030235162374 {'clf__C': 0.5, 'clf__class_weight': 'balanced', 'clf__penalty': 'l1', 'clf__random_state': 42, 'clf__solver': 'liblinear', 'pca': 'passthrough'}\n",
      "0.4242424242424242 {'clf__C': 0.5, 'clf__class_weight': 'balanced', 'clf__penalty': 'l1', 'clf__random_state': 42, 'clf__solver': 'liblinear', 'pca': PCA(n_components=1)}\n",
      "0.3758407317729352 {'clf__C': 0.5, 'clf__class_weight': 'balanced', 'clf__penalty': 'l1', 'clf__random_state': 42, 'clf__solver': 'liblinear', 'pca': PCA(n_components=3)}\n",
      "0.5690587811034981 {'clf__C': 0.5, 'clf__class_weight': 'balanced', 'clf__penalty': 'l1', 'clf__random_state': 42, 'clf__solver': 'liblinear', 'pca': PCA(n_components=9)}\n",
      "0.5690587811034981 {'clf__C': 0.5, 'clf__class_weight': 'balanced', 'clf__penalty': 'l1', 'clf__random_state': 42, 'clf__solver': 'liblinear', 'pca': PCA(n_components=10)}\n",
      "0.5755342667649227 {'clf__C': 0.5, 'clf__class_weight': 'balanced', 'clf__penalty': 'l1', 'clf__random_state': 42, 'clf__solver': 'liblinear', 'pca': PCA(n_components=11)}\n",
      "0.5842880523731588 {'clf__C': 0.75, 'clf__class_weight': None, 'clf__penalty': 'l2', 'clf__random_state': 42, 'clf__solver': 'liblinear', 'pca': 'passthrough'}\n",
      "0.04347826086956522 {'clf__C': 0.75, 'clf__class_weight': None, 'clf__penalty': 'l2', 'clf__random_state': 42, 'clf__solver': 'liblinear', 'pca': PCA(n_components=1)}\n",
      "0.15692307692307694 {'clf__C': 0.75, 'clf__class_weight': None, 'clf__penalty': 'l2', 'clf__random_state': 42, 'clf__solver': 'liblinear', 'pca': PCA(n_components=3)}\n",
      "0.5064102564102564 {'clf__C': 0.75, 'clf__class_weight': None, 'clf__penalty': 'l2', 'clf__random_state': 42, 'clf__solver': 'liblinear', 'pca': PCA(n_components=9)}\n",
      "0.5117294053464266 {'clf__C': 0.75, 'clf__class_weight': None, 'clf__penalty': 'l2', 'clf__random_state': 42, 'clf__solver': 'liblinear', 'pca': PCA(n_components=10)}\n",
      "0.5842880523731588 {'clf__C': 0.75, 'clf__class_weight': None, 'clf__penalty': 'l2', 'clf__random_state': 42, 'clf__solver': 'liblinear', 'pca': PCA(n_components=11)}\n",
      "0.607608695652174 {'clf__C': 0.75, 'clf__class_weight': None, 'clf__penalty': 'l1', 'clf__random_state': 42, 'clf__solver': 'liblinear', 'pca': 'passthrough'}\n",
      "0.04347826086956522 {'clf__C': 0.75, 'clf__class_weight': None, 'clf__penalty': 'l1', 'clf__random_state': 42, 'clf__solver': 'liblinear', 'pca': PCA(n_components=1)}\n",
      "0.16025641025641027 {'clf__C': 0.75, 'clf__class_weight': None, 'clf__penalty': 'l1', 'clf__random_state': 42, 'clf__solver': 'liblinear', 'pca': PCA(n_components=3)}\n",
      "0.5284640171858217 {'clf__C': 0.75, 'clf__class_weight': None, 'clf__penalty': 'l1', 'clf__random_state': 42, 'clf__solver': 'liblinear', 'pca': PCA(n_components=9)}\n",
      "0.5284640171858217 {'clf__C': 0.75, 'clf__class_weight': None, 'clf__penalty': 'l1', 'clf__random_state': 42, 'clf__solver': 'liblinear', 'pca': PCA(n_components=10)}\n",
      "0.5986394557823129 {'clf__C': 0.75, 'clf__class_weight': None, 'clf__penalty': 'l1', 'clf__random_state': 42, 'clf__solver': 'liblinear', 'pca': PCA(n_components=11)}\n",
      "0.5727272727272728 {'clf__C': 0.75, 'clf__class_weight': 'balanced', 'clf__penalty': 'l2', 'clf__random_state': 42, 'clf__solver': 'liblinear', 'pca': 'passthrough'}\n",
      "0.41856763925729445 {'clf__C': 0.75, 'clf__class_weight': 'balanced', 'clf__penalty': 'l2', 'clf__random_state': 42, 'clf__solver': 'liblinear', 'pca': PCA(n_components=1)}\n",
      "0.3682871678914641 {'clf__C': 0.75, 'clf__class_weight': 'balanced', 'clf__penalty': 'l2', 'clf__random_state': 42, 'clf__solver': 'liblinear', 'pca': PCA(n_components=3)}\n",
      "0.5547138047138047 {'clf__C': 0.75, 'clf__class_weight': 'balanced', 'clf__penalty': 'l2', 'clf__random_state': 42, 'clf__solver': 'liblinear', 'pca': PCA(n_components=9)}\n",
      "0.5547138047138047 {'clf__C': 0.75, 'clf__class_weight': 'balanced', 'clf__penalty': 'l2', 'clf__random_state': 42, 'clf__solver': 'liblinear', 'pca': PCA(n_components=10)}\n",
      "0.5727272727272728 {'clf__C': 0.75, 'clf__class_weight': 'balanced', 'clf__penalty': 'l2', 'clf__random_state': 42, 'clf__solver': 'liblinear', 'pca': PCA(n_components=11)}\n",
      "0.5588932806324112 {'clf__C': 0.75, 'clf__class_weight': 'balanced', 'clf__penalty': 'l1', 'clf__random_state': 42, 'clf__solver': 'liblinear', 'pca': 'passthrough'}\n",
      "0.4242424242424242 {'clf__C': 0.75, 'clf__class_weight': 'balanced', 'clf__penalty': 'l1', 'clf__random_state': 42, 'clf__solver': 'liblinear', 'pca': PCA(n_components=1)}\n",
      "0.3758407317729352 {'clf__C': 0.75, 'clf__class_weight': 'balanced', 'clf__penalty': 'l1', 'clf__random_state': 42, 'clf__solver': 'liblinear', 'pca': PCA(n_components=3)}\n",
      "0.5900621118012422 {'clf__C': 0.75, 'clf__class_weight': 'balanced', 'clf__penalty': 'l1', 'clf__random_state': 42, 'clf__solver': 'liblinear', 'pca': PCA(n_components=9)}\n",
      "0.5900621118012422 {'clf__C': 0.75, 'clf__class_weight': 'balanced', 'clf__penalty': 'l1', 'clf__random_state': 42, 'clf__solver': 'liblinear', 'pca': PCA(n_components=10)}\n",
      "0.5789682539682539 {'clf__C': 0.75, 'clf__class_weight': 'balanced', 'clf__penalty': 'l1', 'clf__random_state': 42, 'clf__solver': 'liblinear', 'pca': PCA(n_components=11)}\n",
      "0.5842880523731588 {'clf__C': 1.0, 'clf__class_weight': None, 'clf__penalty': 'l2', 'clf__random_state': 42, 'clf__solver': 'liblinear', 'pca': 'passthrough'}\n",
      "0.04347826086956522 {'clf__C': 1.0, 'clf__class_weight': None, 'clf__penalty': 'l2', 'clf__random_state': 42, 'clf__solver': 'liblinear', 'pca': PCA(n_components=1)}\n",
      "0.15692307692307694 {'clf__C': 1.0, 'clf__class_weight': None, 'clf__penalty': 'l2', 'clf__random_state': 42, 'clf__solver': 'liblinear', 'pca': PCA(n_components=3)}\n",
      "0.5064102564102564 {'clf__C': 1.0, 'clf__class_weight': None, 'clf__penalty': 'l2', 'clf__random_state': 42, 'clf__solver': 'liblinear', 'pca': PCA(n_components=9)}\n",
      "0.5117294053464266 {'clf__C': 1.0, 'clf__class_weight': None, 'clf__penalty': 'l2', 'clf__random_state': 42, 'clf__solver': 'liblinear', 'pca': PCA(n_components=10)}\n",
      "0.5842880523731588 {'clf__C': 1.0, 'clf__class_weight': None, 'clf__penalty': 'l2', 'clf__random_state': 42, 'clf__solver': 'liblinear', 'pca': PCA(n_components=11)}\n",
      "0.5903010033444815 {'clf__C': 1.0, 'clf__class_weight': None, 'clf__penalty': 'l1', 'clf__random_state': 42, 'clf__solver': 'liblinear', 'pca': 'passthrough'}\n",
      "0.04347826086956522 {'clf__C': 1.0, 'clf__class_weight': None, 'clf__penalty': 'l1', 'clf__random_state': 42, 'clf__solver': 'liblinear', 'pca': PCA(n_components=1)}\n",
      "0.16025641025641027 {'clf__C': 1.0, 'clf__class_weight': None, 'clf__penalty': 'l1', 'clf__random_state': 42, 'clf__solver': 'liblinear', 'pca': PCA(n_components=3)}\n",
      "0.5064102564102564 {'clf__C': 1.0, 'clf__class_weight': None, 'clf__penalty': 'l1', 'clf__random_state': 42, 'clf__solver': 'liblinear', 'pca': PCA(n_components=9)}\n",
      "0.5064102564102564 {'clf__C': 1.0, 'clf__class_weight': None, 'clf__penalty': 'l1', 'clf__random_state': 42, 'clf__solver': 'liblinear', 'pca': PCA(n_components=10)}\n",
      "0.6041666666666667 {'clf__C': 1.0, 'clf__class_weight': None, 'clf__penalty': 'l1', 'clf__random_state': 42, 'clf__solver': 'liblinear', 'pca': PCA(n_components=11)}\n",
      "0.5727272727272728 {'clf__C': 1.0, 'clf__class_weight': 'balanced', 'clf__penalty': 'l2', 'clf__random_state': 42, 'clf__solver': 'liblinear', 'pca': 'passthrough'}\n",
      "0.41856763925729445 {'clf__C': 1.0, 'clf__class_weight': 'balanced', 'clf__penalty': 'l2', 'clf__random_state': 42, 'clf__solver': 'liblinear', 'pca': PCA(n_components=1)}\n",
      "0.3682871678914641 {'clf__C': 1.0, 'clf__class_weight': 'balanced', 'clf__penalty': 'l2', 'clf__random_state': 42, 'clf__solver': 'liblinear', 'pca': PCA(n_components=3)}\n",
      "0.5547138047138047 {'clf__C': 1.0, 'clf__class_weight': 'balanced', 'clf__penalty': 'l2', 'clf__random_state': 42, 'clf__solver': 'liblinear', 'pca': PCA(n_components=9)}\n",
      "0.5547138047138047 {'clf__C': 1.0, 'clf__class_weight': 'balanced', 'clf__penalty': 'l2', 'clf__random_state': 42, 'clf__solver': 'liblinear', 'pca': PCA(n_components=10)}\n",
      "0.5727272727272728 {'clf__C': 1.0, 'clf__class_weight': 'balanced', 'clf__penalty': 'l2', 'clf__random_state': 42, 'clf__solver': 'liblinear', 'pca': PCA(n_components=11)}\n",
      "0.5611111111111111 {'clf__C': 1.0, 'clf__class_weight': 'balanced', 'clf__penalty': 'l1', 'clf__random_state': 42, 'clf__solver': 'liblinear', 'pca': 'passthrough'}\n",
      "0.4242424242424242 {'clf__C': 1.0, 'clf__class_weight': 'balanced', 'clf__penalty': 'l1', 'clf__random_state': 42, 'clf__solver': 'liblinear', 'pca': PCA(n_components=1)}\n",
      "0.373015873015873 {'clf__C': 1.0, 'clf__class_weight': 'balanced', 'clf__penalty': 'l1', 'clf__random_state': 42, 'clf__solver': 'liblinear', 'pca': PCA(n_components=3)}\n",
      "0.5968253968253968 {'clf__C': 1.0, 'clf__class_weight': 'balanced', 'clf__penalty': 'l1', 'clf__random_state': 42, 'clf__solver': 'liblinear', 'pca': PCA(n_components=9)}\n",
      "0.5968253968253968 {'clf__C': 1.0, 'clf__class_weight': 'balanced', 'clf__penalty': 'l1', 'clf__random_state': 42, 'clf__solver': 'liblinear', 'pca': PCA(n_components=10)}\n",
      "0.5656565656565657 {'clf__C': 1.0, 'clf__class_weight': 'balanced', 'clf__penalty': 'l1', 'clf__random_state': 42, 'clf__solver': 'liblinear', 'pca': PCA(n_components=11)}\n",
      "0.5993589743589743 {'clf__C': 1.25, 'clf__class_weight': None, 'clf__penalty': 'l2', 'clf__random_state': 42, 'clf__solver': 'liblinear', 'pca': 'passthrough'}\n",
      "0.04347826086956522 {'clf__C': 1.25, 'clf__class_weight': None, 'clf__penalty': 'l2', 'clf__random_state': 42, 'clf__solver': 'liblinear', 'pca': PCA(n_components=1)}\n",
      "0.15692307692307694 {'clf__C': 1.25, 'clf__class_weight': None, 'clf__penalty': 'l2', 'clf__random_state': 42, 'clf__solver': 'liblinear', 'pca': PCA(n_components=3)}\n",
      "0.5064102564102564 {'clf__C': 1.25, 'clf__class_weight': None, 'clf__penalty': 'l2', 'clf__random_state': 42, 'clf__solver': 'liblinear', 'pca': PCA(n_components=9)}\n",
      "0.5117294053464266 {'clf__C': 1.25, 'clf__class_weight': None, 'clf__penalty': 'l2', 'clf__random_state': 42, 'clf__solver': 'liblinear', 'pca': PCA(n_components=10)}\n",
      "0.5993589743589743 {'clf__C': 1.25, 'clf__class_weight': None, 'clf__penalty': 'l2', 'clf__random_state': 42, 'clf__solver': 'liblinear', 'pca': PCA(n_components=11)}\n",
      "0.5842880523731588 {'clf__C': 1.25, 'clf__class_weight': None, 'clf__penalty': 'l1', 'clf__random_state': 42, 'clf__solver': 'liblinear', 'pca': 'passthrough'}\n",
      "0.04347826086956522 {'clf__C': 1.25, 'clf__class_weight': None, 'clf__penalty': 'l1', 'clf__random_state': 42, 'clf__solver': 'liblinear', 'pca': PCA(n_components=1)}\n",
      "0.16025641025641027 {'clf__C': 1.25, 'clf__class_weight': None, 'clf__penalty': 'l1', 'clf__random_state': 42, 'clf__solver': 'liblinear', 'pca': PCA(n_components=3)}\n",
      "0.5064102564102564 {'clf__C': 1.25, 'clf__class_weight': None, 'clf__penalty': 'l1', 'clf__random_state': 42, 'clf__solver': 'liblinear', 'pca': PCA(n_components=9)}\n",
      "0.5064102564102564 {'clf__C': 1.25, 'clf__class_weight': None, 'clf__penalty': 'l1', 'clf__random_state': 42, 'clf__solver': 'liblinear', 'pca': PCA(n_components=10)}\n",
      "0.5986394557823129 {'clf__C': 1.25, 'clf__class_weight': None, 'clf__penalty': 'l1', 'clf__random_state': 42, 'clf__solver': 'liblinear', 'pca': PCA(n_components=11)}\n",
      "0.5615848406546081 {'clf__C': 1.25, 'clf__class_weight': 'balanced', 'clf__penalty': 'l2', 'clf__random_state': 42, 'clf__solver': 'liblinear', 'pca': 'passthrough'}\n",
      "0.41856763925729445 {'clf__C': 1.25, 'clf__class_weight': 'balanced', 'clf__penalty': 'l2', 'clf__random_state': 42, 'clf__solver': 'liblinear', 'pca': PCA(n_components=1)}\n",
      "0.3682871678914641 {'clf__C': 1.25, 'clf__class_weight': 'balanced', 'clf__penalty': 'l2', 'clf__random_state': 42, 'clf__solver': 'liblinear', 'pca': PCA(n_components=3)}\n",
      "0.5547138047138047 {'clf__C': 1.25, 'clf__class_weight': 'balanced', 'clf__penalty': 'l2', 'clf__random_state': 42, 'clf__solver': 'liblinear', 'pca': PCA(n_components=9)}\n",
      "0.5383290267011196 {'clf__C': 1.25, 'clf__class_weight': 'balanced', 'clf__penalty': 'l2', 'clf__random_state': 42, 'clf__solver': 'liblinear', 'pca': PCA(n_components=10)}\n",
      "0.5615848406546081 {'clf__C': 1.25, 'clf__class_weight': 'balanced', 'clf__penalty': 'l2', 'clf__random_state': 42, 'clf__solver': 'liblinear', 'pca': PCA(n_components=11)}\n",
      "0.5656565656565657 {'clf__C': 1.25, 'clf__class_weight': 'balanced', 'clf__penalty': 'l1', 'clf__random_state': 42, 'clf__solver': 'liblinear', 'pca': 'passthrough'}\n",
      "0.4242424242424242 {'clf__C': 1.25, 'clf__class_weight': 'balanced', 'clf__penalty': 'l1', 'clf__random_state': 42, 'clf__solver': 'liblinear', 'pca': PCA(n_components=1)}\n",
      "0.373015873015873 {'clf__C': 1.25, 'clf__class_weight': 'balanced', 'clf__penalty': 'l1', 'clf__random_state': 42, 'clf__solver': 'liblinear', 'pca': PCA(n_components=3)}\n",
      "0.591812865497076 {'clf__C': 1.25, 'clf__class_weight': 'balanced', 'clf__penalty': 'l1', 'clf__random_state': 42, 'clf__solver': 'liblinear', 'pca': PCA(n_components=9)}\n",
      "0.5761562998405103 {'clf__C': 1.25, 'clf__class_weight': 'balanced', 'clf__penalty': 'l1', 'clf__random_state': 42, 'clf__solver': 'liblinear', 'pca': PCA(n_components=10)}\n",
      "0.5611111111111111 {'clf__C': 1.25, 'clf__class_weight': 'balanced', 'clf__penalty': 'l1', 'clf__random_state': 42, 'clf__solver': 'liblinear', 'pca': PCA(n_components=11)}\n",
      "0.5993589743589743 {'clf__C': 1.5, 'clf__class_weight': None, 'clf__penalty': 'l2', 'clf__random_state': 42, 'clf__solver': 'liblinear', 'pca': 'passthrough'}\n",
      "0.04347826086956522 {'clf__C': 1.5, 'clf__class_weight': None, 'clf__penalty': 'l2', 'clf__random_state': 42, 'clf__solver': 'liblinear', 'pca': PCA(n_components=1)}\n",
      "0.15692307692307694 {'clf__C': 1.5, 'clf__class_weight': None, 'clf__penalty': 'l2', 'clf__random_state': 42, 'clf__solver': 'liblinear', 'pca': PCA(n_components=3)}\n",
      "0.5064102564102564 {'clf__C': 1.5, 'clf__class_weight': None, 'clf__penalty': 'l2', 'clf__random_state': 42, 'clf__solver': 'liblinear', 'pca': PCA(n_components=9)}\n",
      "0.5117294053464266 {'clf__C': 1.5, 'clf__class_weight': None, 'clf__penalty': 'l2', 'clf__random_state': 42, 'clf__solver': 'liblinear', 'pca': PCA(n_components=10)}\n",
      "0.5993589743589743 {'clf__C': 1.5, 'clf__class_weight': None, 'clf__penalty': 'l2', 'clf__random_state': 42, 'clf__solver': 'liblinear', 'pca': PCA(n_components=11)}\n",
      "0.5842880523731588 {'clf__C': 1.5, 'clf__class_weight': None, 'clf__penalty': 'l1', 'clf__random_state': 42, 'clf__solver': 'liblinear', 'pca': 'passthrough'}\n",
      "0.04347826086956522 {'clf__C': 1.5, 'clf__class_weight': None, 'clf__penalty': 'l1', 'clf__random_state': 42, 'clf__solver': 'liblinear', 'pca': PCA(n_components=1)}\n",
      "0.16025641025641027 {'clf__C': 1.5, 'clf__class_weight': None, 'clf__penalty': 'l1', 'clf__random_state': 42, 'clf__solver': 'liblinear', 'pca': PCA(n_components=3)}\n",
      "0.5064102564102564 {'clf__C': 1.5, 'clf__class_weight': None, 'clf__penalty': 'l1', 'clf__random_state': 42, 'clf__solver': 'liblinear', 'pca': PCA(n_components=9)}\n",
      "0.5064102564102564 {'clf__C': 1.5, 'clf__class_weight': None, 'clf__penalty': 'l1', 'clf__random_state': 42, 'clf__solver': 'liblinear', 'pca': PCA(n_components=10)}\n",
      "0.5903061224489796 {'clf__C': 1.5, 'clf__class_weight': None, 'clf__penalty': 'l1', 'clf__random_state': 42, 'clf__solver': 'liblinear', 'pca': PCA(n_components=11)}\n",
      "0.5615848406546081 {'clf__C': 1.5, 'clf__class_weight': 'balanced', 'clf__penalty': 'l2', 'clf__random_state': 42, 'clf__solver': 'liblinear', 'pca': 'passthrough'}\n",
      "0.41856763925729445 {'clf__C': 1.5, 'clf__class_weight': 'balanced', 'clf__penalty': 'l2', 'clf__random_state': 42, 'clf__solver': 'liblinear', 'pca': PCA(n_components=1)}\n",
      "0.3682871678914641 {'clf__C': 1.5, 'clf__class_weight': 'balanced', 'clf__penalty': 'l2', 'clf__random_state': 42, 'clf__solver': 'liblinear', 'pca': PCA(n_components=3)}\n",
      "0.5547138047138047 {'clf__C': 1.5, 'clf__class_weight': 'balanced', 'clf__penalty': 'l2', 'clf__random_state': 42, 'clf__solver': 'liblinear', 'pca': PCA(n_components=9)}\n",
      "0.5383290267011196 {'clf__C': 1.5, 'clf__class_weight': 'balanced', 'clf__penalty': 'l2', 'clf__random_state': 42, 'clf__solver': 'liblinear', 'pca': PCA(n_components=10)}\n",
      "0.5615848406546081 {'clf__C': 1.5, 'clf__class_weight': 'balanced', 'clf__penalty': 'l2', 'clf__random_state': 42, 'clf__solver': 'liblinear', 'pca': PCA(n_components=11)}\n",
      "0.5774410774410774 {'clf__C': 1.5, 'clf__class_weight': 'balanced', 'clf__penalty': 'l1', 'clf__random_state': 42, 'clf__solver': 'liblinear', 'pca': 'passthrough'}\n",
      "0.4242424242424242 {'clf__C': 1.5, 'clf__class_weight': 'balanced', 'clf__penalty': 'l1', 'clf__random_state': 42, 'clf__solver': 'liblinear', 'pca': PCA(n_components=1)}\n",
      "0.373015873015873 {'clf__C': 1.5, 'clf__class_weight': 'balanced', 'clf__penalty': 'l1', 'clf__random_state': 42, 'clf__solver': 'liblinear', 'pca': PCA(n_components=3)}\n",
      "0.591812865497076 {'clf__C': 1.5, 'clf__class_weight': 'balanced', 'clf__penalty': 'l1', 'clf__random_state': 42, 'clf__solver': 'liblinear', 'pca': PCA(n_components=9)}\n",
      "0.5761562998405103 {'clf__C': 1.5, 'clf__class_weight': 'balanced', 'clf__penalty': 'l1', 'clf__random_state': 42, 'clf__solver': 'liblinear', 'pca': PCA(n_components=10)}\n",
      "0.5727272727272728 {'clf__C': 1.5, 'clf__class_weight': 'balanced', 'clf__penalty': 'l1', 'clf__random_state': 42, 'clf__solver': 'liblinear', 'pca': PCA(n_components=11)}\n",
      "0.5993589743589743 {'clf__C': 1.75, 'clf__class_weight': None, 'clf__penalty': 'l2', 'clf__random_state': 42, 'clf__solver': 'liblinear', 'pca': 'passthrough'}\n",
      "0.04347826086956522 {'clf__C': 1.75, 'clf__class_weight': None, 'clf__penalty': 'l2', 'clf__random_state': 42, 'clf__solver': 'liblinear', 'pca': PCA(n_components=1)}\n",
      "0.15692307692307694 {'clf__C': 1.75, 'clf__class_weight': None, 'clf__penalty': 'l2', 'clf__random_state': 42, 'clf__solver': 'liblinear', 'pca': PCA(n_components=3)}\n",
      "0.5064102564102564 {'clf__C': 1.75, 'clf__class_weight': None, 'clf__penalty': 'l2', 'clf__random_state': 42, 'clf__solver': 'liblinear', 'pca': PCA(n_components=9)}\n",
      "0.5117294053464266 {'clf__C': 1.75, 'clf__class_weight': None, 'clf__penalty': 'l2', 'clf__random_state': 42, 'clf__solver': 'liblinear', 'pca': PCA(n_components=10)}\n",
      "0.5993589743589743 {'clf__C': 1.75, 'clf__class_weight': None, 'clf__penalty': 'l2', 'clf__random_state': 42, 'clf__solver': 'liblinear', 'pca': PCA(n_components=11)}\n",
      "0.5842880523731588 {'clf__C': 1.75, 'clf__class_weight': None, 'clf__penalty': 'l1', 'clf__random_state': 42, 'clf__solver': 'liblinear', 'pca': 'passthrough'}\n",
      "0.04347826086956522 {'clf__C': 1.75, 'clf__class_weight': None, 'clf__penalty': 'l1', 'clf__random_state': 42, 'clf__solver': 'liblinear', 'pca': PCA(n_components=1)}\n",
      "0.16025641025641027 {'clf__C': 1.75, 'clf__class_weight': None, 'clf__penalty': 'l1', 'clf__random_state': 42, 'clf__solver': 'liblinear', 'pca': PCA(n_components=3)}\n",
      "0.5013082155939299 {'clf__C': 1.75, 'clf__class_weight': None, 'clf__penalty': 'l1', 'clf__random_state': 42, 'clf__solver': 'liblinear', 'pca': PCA(n_components=9)}\n",
      "0.5013082155939299 {'clf__C': 1.75, 'clf__class_weight': None, 'clf__penalty': 'l1', 'clf__random_state': 42, 'clf__solver': 'liblinear', 'pca': PCA(n_components=10)}\n",
      "0.6050000000000001 {'clf__C': 1.75, 'clf__class_weight': None, 'clf__penalty': 'l1', 'clf__random_state': 42, 'clf__solver': 'liblinear', 'pca': PCA(n_components=11)}\n",
      "0.5615848406546081 {'clf__C': 1.75, 'clf__class_weight': 'balanced', 'clf__penalty': 'l2', 'clf__random_state': 42, 'clf__solver': 'liblinear', 'pca': 'passthrough'}\n",
      "0.41856763925729445 {'clf__C': 1.75, 'clf__class_weight': 'balanced', 'clf__penalty': 'l2', 'clf__random_state': 42, 'clf__solver': 'liblinear', 'pca': PCA(n_components=1)}\n",
      "0.3682871678914641 {'clf__C': 1.75, 'clf__class_weight': 'balanced', 'clf__penalty': 'l2', 'clf__random_state': 42, 'clf__solver': 'liblinear', 'pca': PCA(n_components=3)}\n",
      "0.5547138047138047 {'clf__C': 1.75, 'clf__class_weight': 'balanced', 'clf__penalty': 'l2', 'clf__random_state': 42, 'clf__solver': 'liblinear', 'pca': PCA(n_components=9)}\n",
      "0.5383290267011196 {'clf__C': 1.75, 'clf__class_weight': 'balanced', 'clf__penalty': 'l2', 'clf__random_state': 42, 'clf__solver': 'liblinear', 'pca': PCA(n_components=10)}\n",
      "0.5615848406546081 {'clf__C': 1.75, 'clf__class_weight': 'balanced', 'clf__penalty': 'l2', 'clf__random_state': 42, 'clf__solver': 'liblinear', 'pca': PCA(n_components=11)}\n",
      "0.5774410774410774 {'clf__C': 1.75, 'clf__class_weight': 'balanced', 'clf__penalty': 'l1', 'clf__random_state': 42, 'clf__solver': 'liblinear', 'pca': 'passthrough'}\n",
      "0.4242424242424242 {'clf__C': 1.75, 'clf__class_weight': 'balanced', 'clf__penalty': 'l1', 'clf__random_state': 42, 'clf__solver': 'liblinear', 'pca': PCA(n_components=1)}\n",
      "0.3615216201423098 {'clf__C': 1.75, 'clf__class_weight': 'balanced', 'clf__penalty': 'l1', 'clf__random_state': 42, 'clf__solver': 'liblinear', 'pca': PCA(n_components=3)}\n",
      "0.5656565656565657 {'clf__C': 1.75, 'clf__class_weight': 'balanced', 'clf__penalty': 'l1', 'clf__random_state': 42, 'clf__solver': 'liblinear', 'pca': PCA(n_components=9)}\n",
      "0.55 {'clf__C': 1.75, 'clf__class_weight': 'balanced', 'clf__penalty': 'l1', 'clf__random_state': 42, 'clf__solver': 'liblinear', 'pca': PCA(n_components=10)}\n",
      "0.5727272727272728 {'clf__C': 1.75, 'clf__class_weight': 'balanced', 'clf__penalty': 'l1', 'clf__random_state': 42, 'clf__solver': 'liblinear', 'pca': PCA(n_components=11)}\n",
      "0.5993589743589743 {'clf__C': 2.0, 'clf__class_weight': None, 'clf__penalty': 'l2', 'clf__random_state': 42, 'clf__solver': 'liblinear', 'pca': 'passthrough'}\n",
      "0.04347826086956522 {'clf__C': 2.0, 'clf__class_weight': None, 'clf__penalty': 'l2', 'clf__random_state': 42, 'clf__solver': 'liblinear', 'pca': PCA(n_components=1)}\n",
      "0.15692307692307694 {'clf__C': 2.0, 'clf__class_weight': None, 'clf__penalty': 'l2', 'clf__random_state': 42, 'clf__solver': 'liblinear', 'pca': PCA(n_components=3)}\n",
      "0.5064102564102564 {'clf__C': 2.0, 'clf__class_weight': None, 'clf__penalty': 'l2', 'clf__random_state': 42, 'clf__solver': 'liblinear', 'pca': PCA(n_components=9)}\n",
      "0.5117294053464266 {'clf__C': 2.0, 'clf__class_weight': None, 'clf__penalty': 'l2', 'clf__random_state': 42, 'clf__solver': 'liblinear', 'pca': PCA(n_components=10)}\n",
      "0.5993589743589743 {'clf__C': 2.0, 'clf__class_weight': None, 'clf__penalty': 'l2', 'clf__random_state': 42, 'clf__solver': 'liblinear', 'pca': PCA(n_components=11)}\n",
      "0.5842880523731588 {'clf__C': 2.0, 'clf__class_weight': None, 'clf__penalty': 'l1', 'clf__random_state': 42, 'clf__solver': 'liblinear', 'pca': 'passthrough'}\n",
      "0.04347826086956522 {'clf__C': 2.0, 'clf__class_weight': None, 'clf__penalty': 'l1', 'clf__random_state': 42, 'clf__solver': 'liblinear', 'pca': PCA(n_components=1)}\n",
      "0.16025641025641027 {'clf__C': 2.0, 'clf__class_weight': None, 'clf__penalty': 'l1', 'clf__random_state': 42, 'clf__solver': 'liblinear', 'pca': PCA(n_components=3)}\n",
      "0.5013082155939299 {'clf__C': 2.0, 'clf__class_weight': None, 'clf__penalty': 'l1', 'clf__random_state': 42, 'clf__solver': 'liblinear', 'pca': PCA(n_components=9)}\n",
      "0.5013082155939299 {'clf__C': 2.0, 'clf__class_weight': None, 'clf__penalty': 'l1', 'clf__random_state': 42, 'clf__solver': 'liblinear', 'pca': PCA(n_components=10)}\n",
      "0.6050000000000001 {'clf__C': 2.0, 'clf__class_weight': None, 'clf__penalty': 'l1', 'clf__random_state': 42, 'clf__solver': 'liblinear', 'pca': PCA(n_components=11)}\n",
      "0.5615848406546081 {'clf__C': 2.0, 'clf__class_weight': 'balanced', 'clf__penalty': 'l2', 'clf__random_state': 42, 'clf__solver': 'liblinear', 'pca': 'passthrough'}\n",
      "0.41856763925729445 {'clf__C': 2.0, 'clf__class_weight': 'balanced', 'clf__penalty': 'l2', 'clf__random_state': 42, 'clf__solver': 'liblinear', 'pca': PCA(n_components=1)}\n",
      "0.3682871678914641 {'clf__C': 2.0, 'clf__class_weight': 'balanced', 'clf__penalty': 'l2', 'clf__random_state': 42, 'clf__solver': 'liblinear', 'pca': PCA(n_components=3)}\n",
      "0.5547138047138047 {'clf__C': 2.0, 'clf__class_weight': 'balanced', 'clf__penalty': 'l2', 'clf__random_state': 42, 'clf__solver': 'liblinear', 'pca': PCA(n_components=9)}\n",
      "0.5383290267011196 {'clf__C': 2.0, 'clf__class_weight': 'balanced', 'clf__penalty': 'l2', 'clf__random_state': 42, 'clf__solver': 'liblinear', 'pca': PCA(n_components=10)}\n",
      "0.5615848406546081 {'clf__C': 2.0, 'clf__class_weight': 'balanced', 'clf__penalty': 'l2', 'clf__random_state': 42, 'clf__solver': 'liblinear', 'pca': PCA(n_components=11)}\n",
      "0.5848406546080964 {'clf__C': 2.0, 'clf__class_weight': 'balanced', 'clf__penalty': 'l1', 'clf__random_state': 42, 'clf__solver': 'liblinear', 'pca': 'passthrough'}\n",
      "0.4242424242424242 {'clf__C': 2.0, 'clf__class_weight': 'balanced', 'clf__penalty': 'l1', 'clf__random_state': 42, 'clf__solver': 'liblinear', 'pca': PCA(n_components=1)}\n",
      "0.3615216201423098 {'clf__C': 2.0, 'clf__class_weight': 'balanced', 'clf__penalty': 'l1', 'clf__random_state': 42, 'clf__solver': 'liblinear', 'pca': PCA(n_components=3)}\n",
      "0.5656565656565657 {'clf__C': 2.0, 'clf__class_weight': 'balanced', 'clf__penalty': 'l1', 'clf__random_state': 42, 'clf__solver': 'liblinear', 'pca': PCA(n_components=9)}\n",
      "0.5336152219873149 {'clf__C': 2.0, 'clf__class_weight': 'balanced', 'clf__penalty': 'l1', 'clf__random_state': 42, 'clf__solver': 'liblinear', 'pca': PCA(n_components=10)}\n",
      "0.5727272727272728 {'clf__C': 2.0, 'clf__class_weight': 'balanced', 'clf__penalty': 'l1', 'clf__random_state': 42, 'clf__solver': 'liblinear', 'pca': PCA(n_components=11)}\n",
      "nan {'clf__C': 0.1, 'clf__class_weight': None, 'clf__l1_ratio': 0.0, 'clf__penalty': 'elastic_net', 'clf__random_state': 42, 'clf__solver': 'saga', 'pca': 'passthrough'}\n",
      "nan {'clf__C': 0.1, 'clf__class_weight': None, 'clf__l1_ratio': 0.0, 'clf__penalty': 'elastic_net', 'clf__random_state': 42, 'clf__solver': 'saga', 'pca': PCA(n_components=1)}\n",
      "nan {'clf__C': 0.1, 'clf__class_weight': None, 'clf__l1_ratio': 0.0, 'clf__penalty': 'elastic_net', 'clf__random_state': 42, 'clf__solver': 'saga', 'pca': PCA(n_components=3)}\n",
      "nan {'clf__C': 0.1, 'clf__class_weight': None, 'clf__l1_ratio': 0.0, 'clf__penalty': 'elastic_net', 'clf__random_state': 42, 'clf__solver': 'saga', 'pca': PCA(n_components=9)}\n",
      "nan {'clf__C': 0.1, 'clf__class_weight': None, 'clf__l1_ratio': 0.0, 'clf__penalty': 'elastic_net', 'clf__random_state': 42, 'clf__solver': 'saga', 'pca': PCA(n_components=10)}\n",
      "nan {'clf__C': 0.1, 'clf__class_weight': None, 'clf__l1_ratio': 0.0, 'clf__penalty': 'elastic_net', 'clf__random_state': 42, 'clf__solver': 'saga', 'pca': PCA(n_components=11)}\n",
      "nan {'clf__C': 0.1, 'clf__class_weight': None, 'clf__l1_ratio': 0.1, 'clf__penalty': 'elastic_net', 'clf__random_state': 42, 'clf__solver': 'saga', 'pca': 'passthrough'}\n",
      "nan {'clf__C': 0.1, 'clf__class_weight': None, 'clf__l1_ratio': 0.1, 'clf__penalty': 'elastic_net', 'clf__random_state': 42, 'clf__solver': 'saga', 'pca': PCA(n_components=1)}\n",
      "nan {'clf__C': 0.1, 'clf__class_weight': None, 'clf__l1_ratio': 0.1, 'clf__penalty': 'elastic_net', 'clf__random_state': 42, 'clf__solver': 'saga', 'pca': PCA(n_components=3)}\n",
      "nan {'clf__C': 0.1, 'clf__class_weight': None, 'clf__l1_ratio': 0.1, 'clf__penalty': 'elastic_net', 'clf__random_state': 42, 'clf__solver': 'saga', 'pca': PCA(n_components=9)}\n",
      "nan {'clf__C': 0.1, 'clf__class_weight': None, 'clf__l1_ratio': 0.1, 'clf__penalty': 'elastic_net', 'clf__random_state': 42, 'clf__solver': 'saga', 'pca': PCA(n_components=10)}\n",
      "nan {'clf__C': 0.1, 'clf__class_weight': None, 'clf__l1_ratio': 0.1, 'clf__penalty': 'elastic_net', 'clf__random_state': 42, 'clf__solver': 'saga', 'pca': PCA(n_components=11)}\n",
      "nan {'clf__C': 0.1, 'clf__class_weight': None, 'clf__l1_ratio': 0.25, 'clf__penalty': 'elastic_net', 'clf__random_state': 42, 'clf__solver': 'saga', 'pca': 'passthrough'}\n",
      "nan {'clf__C': 0.1, 'clf__class_weight': None, 'clf__l1_ratio': 0.25, 'clf__penalty': 'elastic_net', 'clf__random_state': 42, 'clf__solver': 'saga', 'pca': PCA(n_components=1)}\n",
      "nan {'clf__C': 0.1, 'clf__class_weight': None, 'clf__l1_ratio': 0.25, 'clf__penalty': 'elastic_net', 'clf__random_state': 42, 'clf__solver': 'saga', 'pca': PCA(n_components=3)}\n",
      "nan {'clf__C': 0.1, 'clf__class_weight': None, 'clf__l1_ratio': 0.25, 'clf__penalty': 'elastic_net', 'clf__random_state': 42, 'clf__solver': 'saga', 'pca': PCA(n_components=9)}\n",
      "nan {'clf__C': 0.1, 'clf__class_weight': None, 'clf__l1_ratio': 0.25, 'clf__penalty': 'elastic_net', 'clf__random_state': 42, 'clf__solver': 'saga', 'pca': PCA(n_components=10)}\n",
      "nan {'clf__C': 0.1, 'clf__class_weight': None, 'clf__l1_ratio': 0.25, 'clf__penalty': 'elastic_net', 'clf__random_state': 42, 'clf__solver': 'saga', 'pca': PCA(n_components=11)}\n",
      "nan {'clf__C': 0.1, 'clf__class_weight': None, 'clf__l1_ratio': 0.5, 'clf__penalty': 'elastic_net', 'clf__random_state': 42, 'clf__solver': 'saga', 'pca': 'passthrough'}\n",
      "nan {'clf__C': 0.1, 'clf__class_weight': None, 'clf__l1_ratio': 0.5, 'clf__penalty': 'elastic_net', 'clf__random_state': 42, 'clf__solver': 'saga', 'pca': PCA(n_components=1)}\n",
      "nan {'clf__C': 0.1, 'clf__class_weight': None, 'clf__l1_ratio': 0.5, 'clf__penalty': 'elastic_net', 'clf__random_state': 42, 'clf__solver': 'saga', 'pca': PCA(n_components=3)}\n",
      "nan {'clf__C': 0.1, 'clf__class_weight': None, 'clf__l1_ratio': 0.5, 'clf__penalty': 'elastic_net', 'clf__random_state': 42, 'clf__solver': 'saga', 'pca': PCA(n_components=9)}\n",
      "nan {'clf__C': 0.1, 'clf__class_weight': None, 'clf__l1_ratio': 0.5, 'clf__penalty': 'elastic_net', 'clf__random_state': 42, 'clf__solver': 'saga', 'pca': PCA(n_components=10)}\n",
      "nan {'clf__C': 0.1, 'clf__class_weight': None, 'clf__l1_ratio': 0.5, 'clf__penalty': 'elastic_net', 'clf__random_state': 42, 'clf__solver': 'saga', 'pca': PCA(n_components=11)}\n",
      "nan {'clf__C': 0.1, 'clf__class_weight': None, 'clf__l1_ratio': 0.75, 'clf__penalty': 'elastic_net', 'clf__random_state': 42, 'clf__solver': 'saga', 'pca': 'passthrough'}\n",
      "nan {'clf__C': 0.1, 'clf__class_weight': None, 'clf__l1_ratio': 0.75, 'clf__penalty': 'elastic_net', 'clf__random_state': 42, 'clf__solver': 'saga', 'pca': PCA(n_components=1)}\n",
      "nan {'clf__C': 0.1, 'clf__class_weight': None, 'clf__l1_ratio': 0.75, 'clf__penalty': 'elastic_net', 'clf__random_state': 42, 'clf__solver': 'saga', 'pca': PCA(n_components=3)}\n",
      "nan {'clf__C': 0.1, 'clf__class_weight': None, 'clf__l1_ratio': 0.75, 'clf__penalty': 'elastic_net', 'clf__random_state': 42, 'clf__solver': 'saga', 'pca': PCA(n_components=9)}\n",
      "nan {'clf__C': 0.1, 'clf__class_weight': None, 'clf__l1_ratio': 0.75, 'clf__penalty': 'elastic_net', 'clf__random_state': 42, 'clf__solver': 'saga', 'pca': PCA(n_components=10)}\n",
      "nan {'clf__C': 0.1, 'clf__class_weight': None, 'clf__l1_ratio': 0.75, 'clf__penalty': 'elastic_net', 'clf__random_state': 42, 'clf__solver': 'saga', 'pca': PCA(n_components=11)}\n",
      "nan {'clf__C': 0.1, 'clf__class_weight': None, 'clf__l1_ratio': 1.0, 'clf__penalty': 'elastic_net', 'clf__random_state': 42, 'clf__solver': 'saga', 'pca': 'passthrough'}\n",
      "nan {'clf__C': 0.1, 'clf__class_weight': None, 'clf__l1_ratio': 1.0, 'clf__penalty': 'elastic_net', 'clf__random_state': 42, 'clf__solver': 'saga', 'pca': PCA(n_components=1)}\n",
      "nan {'clf__C': 0.1, 'clf__class_weight': None, 'clf__l1_ratio': 1.0, 'clf__penalty': 'elastic_net', 'clf__random_state': 42, 'clf__solver': 'saga', 'pca': PCA(n_components=3)}\n",
      "nan {'clf__C': 0.1, 'clf__class_weight': None, 'clf__l1_ratio': 1.0, 'clf__penalty': 'elastic_net', 'clf__random_state': 42, 'clf__solver': 'saga', 'pca': PCA(n_components=9)}\n",
      "nan {'clf__C': 0.1, 'clf__class_weight': None, 'clf__l1_ratio': 1.0, 'clf__penalty': 'elastic_net', 'clf__random_state': 42, 'clf__solver': 'saga', 'pca': PCA(n_components=10)}\n",
      "nan {'clf__C': 0.1, 'clf__class_weight': None, 'clf__l1_ratio': 1.0, 'clf__penalty': 'elastic_net', 'clf__random_state': 42, 'clf__solver': 'saga', 'pca': PCA(n_components=11)}\n",
      "nan {'clf__C': 0.1, 'clf__class_weight': 'balanced', 'clf__l1_ratio': 0.0, 'clf__penalty': 'elastic_net', 'clf__random_state': 42, 'clf__solver': 'saga', 'pca': 'passthrough'}\n",
      "nan {'clf__C': 0.1, 'clf__class_weight': 'balanced', 'clf__l1_ratio': 0.0, 'clf__penalty': 'elastic_net', 'clf__random_state': 42, 'clf__solver': 'saga', 'pca': PCA(n_components=1)}\n",
      "nan {'clf__C': 0.1, 'clf__class_weight': 'balanced', 'clf__l1_ratio': 0.0, 'clf__penalty': 'elastic_net', 'clf__random_state': 42, 'clf__solver': 'saga', 'pca': PCA(n_components=3)}\n",
      "nan {'clf__C': 0.1, 'clf__class_weight': 'balanced', 'clf__l1_ratio': 0.0, 'clf__penalty': 'elastic_net', 'clf__random_state': 42, 'clf__solver': 'saga', 'pca': PCA(n_components=9)}\n",
      "nan {'clf__C': 0.1, 'clf__class_weight': 'balanced', 'clf__l1_ratio': 0.0, 'clf__penalty': 'elastic_net', 'clf__random_state': 42, 'clf__solver': 'saga', 'pca': PCA(n_components=10)}\n",
      "nan {'clf__C': 0.1, 'clf__class_weight': 'balanced', 'clf__l1_ratio': 0.0, 'clf__penalty': 'elastic_net', 'clf__random_state': 42, 'clf__solver': 'saga', 'pca': PCA(n_components=11)}\n",
      "nan {'clf__C': 0.1, 'clf__class_weight': 'balanced', 'clf__l1_ratio': 0.1, 'clf__penalty': 'elastic_net', 'clf__random_state': 42, 'clf__solver': 'saga', 'pca': 'passthrough'}\n",
      "nan {'clf__C': 0.1, 'clf__class_weight': 'balanced', 'clf__l1_ratio': 0.1, 'clf__penalty': 'elastic_net', 'clf__random_state': 42, 'clf__solver': 'saga', 'pca': PCA(n_components=1)}\n",
      "nan {'clf__C': 0.1, 'clf__class_weight': 'balanced', 'clf__l1_ratio': 0.1, 'clf__penalty': 'elastic_net', 'clf__random_state': 42, 'clf__solver': 'saga', 'pca': PCA(n_components=3)}\n",
      "nan {'clf__C': 0.1, 'clf__class_weight': 'balanced', 'clf__l1_ratio': 0.1, 'clf__penalty': 'elastic_net', 'clf__random_state': 42, 'clf__solver': 'saga', 'pca': PCA(n_components=9)}\n",
      "nan {'clf__C': 0.1, 'clf__class_weight': 'balanced', 'clf__l1_ratio': 0.1, 'clf__penalty': 'elastic_net', 'clf__random_state': 42, 'clf__solver': 'saga', 'pca': PCA(n_components=10)}\n",
      "nan {'clf__C': 0.1, 'clf__class_weight': 'balanced', 'clf__l1_ratio': 0.1, 'clf__penalty': 'elastic_net', 'clf__random_state': 42, 'clf__solver': 'saga', 'pca': PCA(n_components=11)}\n",
      "nan {'clf__C': 0.1, 'clf__class_weight': 'balanced', 'clf__l1_ratio': 0.25, 'clf__penalty': 'elastic_net', 'clf__random_state': 42, 'clf__solver': 'saga', 'pca': 'passthrough'}\n",
      "nan {'clf__C': 0.1, 'clf__class_weight': 'balanced', 'clf__l1_ratio': 0.25, 'clf__penalty': 'elastic_net', 'clf__random_state': 42, 'clf__solver': 'saga', 'pca': PCA(n_components=1)}\n",
      "nan {'clf__C': 0.1, 'clf__class_weight': 'balanced', 'clf__l1_ratio': 0.25, 'clf__penalty': 'elastic_net', 'clf__random_state': 42, 'clf__solver': 'saga', 'pca': PCA(n_components=3)}\n",
      "nan {'clf__C': 0.1, 'clf__class_weight': 'balanced', 'clf__l1_ratio': 0.25, 'clf__penalty': 'elastic_net', 'clf__random_state': 42, 'clf__solver': 'saga', 'pca': PCA(n_components=9)}\n",
      "nan {'clf__C': 0.1, 'clf__class_weight': 'balanced', 'clf__l1_ratio': 0.25, 'clf__penalty': 'elastic_net', 'clf__random_state': 42, 'clf__solver': 'saga', 'pca': PCA(n_components=10)}\n",
      "nan {'clf__C': 0.1, 'clf__class_weight': 'balanced', 'clf__l1_ratio': 0.25, 'clf__penalty': 'elastic_net', 'clf__random_state': 42, 'clf__solver': 'saga', 'pca': PCA(n_components=11)}\n",
      "nan {'clf__C': 0.1, 'clf__class_weight': 'balanced', 'clf__l1_ratio': 0.5, 'clf__penalty': 'elastic_net', 'clf__random_state': 42, 'clf__solver': 'saga', 'pca': 'passthrough'}\n",
      "nan {'clf__C': 0.1, 'clf__class_weight': 'balanced', 'clf__l1_ratio': 0.5, 'clf__penalty': 'elastic_net', 'clf__random_state': 42, 'clf__solver': 'saga', 'pca': PCA(n_components=1)}\n",
      "nan {'clf__C': 0.1, 'clf__class_weight': 'balanced', 'clf__l1_ratio': 0.5, 'clf__penalty': 'elastic_net', 'clf__random_state': 42, 'clf__solver': 'saga', 'pca': PCA(n_components=3)}\n",
      "nan {'clf__C': 0.1, 'clf__class_weight': 'balanced', 'clf__l1_ratio': 0.5, 'clf__penalty': 'elastic_net', 'clf__random_state': 42, 'clf__solver': 'saga', 'pca': PCA(n_components=9)}\n",
      "nan {'clf__C': 0.1, 'clf__class_weight': 'balanced', 'clf__l1_ratio': 0.5, 'clf__penalty': 'elastic_net', 'clf__random_state': 42, 'clf__solver': 'saga', 'pca': PCA(n_components=10)}\n",
      "nan {'clf__C': 0.1, 'clf__class_weight': 'balanced', 'clf__l1_ratio': 0.5, 'clf__penalty': 'elastic_net', 'clf__random_state': 42, 'clf__solver': 'saga', 'pca': PCA(n_components=11)}\n",
      "nan {'clf__C': 0.1, 'clf__class_weight': 'balanced', 'clf__l1_ratio': 0.75, 'clf__penalty': 'elastic_net', 'clf__random_state': 42, 'clf__solver': 'saga', 'pca': 'passthrough'}\n",
      "nan {'clf__C': 0.1, 'clf__class_weight': 'balanced', 'clf__l1_ratio': 0.75, 'clf__penalty': 'elastic_net', 'clf__random_state': 42, 'clf__solver': 'saga', 'pca': PCA(n_components=1)}\n",
      "nan {'clf__C': 0.1, 'clf__class_weight': 'balanced', 'clf__l1_ratio': 0.75, 'clf__penalty': 'elastic_net', 'clf__random_state': 42, 'clf__solver': 'saga', 'pca': PCA(n_components=3)}\n",
      "nan {'clf__C': 0.1, 'clf__class_weight': 'balanced', 'clf__l1_ratio': 0.75, 'clf__penalty': 'elastic_net', 'clf__random_state': 42, 'clf__solver': 'saga', 'pca': PCA(n_components=9)}\n",
      "nan {'clf__C': 0.1, 'clf__class_weight': 'balanced', 'clf__l1_ratio': 0.75, 'clf__penalty': 'elastic_net', 'clf__random_state': 42, 'clf__solver': 'saga', 'pca': PCA(n_components=10)}\n",
      "nan {'clf__C': 0.1, 'clf__class_weight': 'balanced', 'clf__l1_ratio': 0.75, 'clf__penalty': 'elastic_net', 'clf__random_state': 42, 'clf__solver': 'saga', 'pca': PCA(n_components=11)}\n",
      "nan {'clf__C': 0.1, 'clf__class_weight': 'balanced', 'clf__l1_ratio': 1.0, 'clf__penalty': 'elastic_net', 'clf__random_state': 42, 'clf__solver': 'saga', 'pca': 'passthrough'}\n",
      "nan {'clf__C': 0.1, 'clf__class_weight': 'balanced', 'clf__l1_ratio': 1.0, 'clf__penalty': 'elastic_net', 'clf__random_state': 42, 'clf__solver': 'saga', 'pca': PCA(n_components=1)}\n",
      "nan {'clf__C': 0.1, 'clf__class_weight': 'balanced', 'clf__l1_ratio': 1.0, 'clf__penalty': 'elastic_net', 'clf__random_state': 42, 'clf__solver': 'saga', 'pca': PCA(n_components=3)}\n",
      "nan {'clf__C': 0.1, 'clf__class_weight': 'balanced', 'clf__l1_ratio': 1.0, 'clf__penalty': 'elastic_net', 'clf__random_state': 42, 'clf__solver': 'saga', 'pca': PCA(n_components=9)}\n",
      "nan {'clf__C': 0.1, 'clf__class_weight': 'balanced', 'clf__l1_ratio': 1.0, 'clf__penalty': 'elastic_net', 'clf__random_state': 42, 'clf__solver': 'saga', 'pca': PCA(n_components=10)}\n",
      "nan {'clf__C': 0.1, 'clf__class_weight': 'balanced', 'clf__l1_ratio': 1.0, 'clf__penalty': 'elastic_net', 'clf__random_state': 42, 'clf__solver': 'saga', 'pca': PCA(n_components=11)}\n",
      "nan {'clf__C': 0.5, 'clf__class_weight': None, 'clf__l1_ratio': 0.0, 'clf__penalty': 'elastic_net', 'clf__random_state': 42, 'clf__solver': 'saga', 'pca': 'passthrough'}\n",
      "nan {'clf__C': 0.5, 'clf__class_weight': None, 'clf__l1_ratio': 0.0, 'clf__penalty': 'elastic_net', 'clf__random_state': 42, 'clf__solver': 'saga', 'pca': PCA(n_components=1)}\n",
      "nan {'clf__C': 0.5, 'clf__class_weight': None, 'clf__l1_ratio': 0.0, 'clf__penalty': 'elastic_net', 'clf__random_state': 42, 'clf__solver': 'saga', 'pca': PCA(n_components=3)}\n",
      "nan {'clf__C': 0.5, 'clf__class_weight': None, 'clf__l1_ratio': 0.0, 'clf__penalty': 'elastic_net', 'clf__random_state': 42, 'clf__solver': 'saga', 'pca': PCA(n_components=9)}\n",
      "nan {'clf__C': 0.5, 'clf__class_weight': None, 'clf__l1_ratio': 0.0, 'clf__penalty': 'elastic_net', 'clf__random_state': 42, 'clf__solver': 'saga', 'pca': PCA(n_components=10)}\n",
      "nan {'clf__C': 0.5, 'clf__class_weight': None, 'clf__l1_ratio': 0.0, 'clf__penalty': 'elastic_net', 'clf__random_state': 42, 'clf__solver': 'saga', 'pca': PCA(n_components=11)}\n",
      "nan {'clf__C': 0.5, 'clf__class_weight': None, 'clf__l1_ratio': 0.1, 'clf__penalty': 'elastic_net', 'clf__random_state': 42, 'clf__solver': 'saga', 'pca': 'passthrough'}\n",
      "nan {'clf__C': 0.5, 'clf__class_weight': None, 'clf__l1_ratio': 0.1, 'clf__penalty': 'elastic_net', 'clf__random_state': 42, 'clf__solver': 'saga', 'pca': PCA(n_components=1)}\n",
      "nan {'clf__C': 0.5, 'clf__class_weight': None, 'clf__l1_ratio': 0.1, 'clf__penalty': 'elastic_net', 'clf__random_state': 42, 'clf__solver': 'saga', 'pca': PCA(n_components=3)}\n",
      "nan {'clf__C': 0.5, 'clf__class_weight': None, 'clf__l1_ratio': 0.1, 'clf__penalty': 'elastic_net', 'clf__random_state': 42, 'clf__solver': 'saga', 'pca': PCA(n_components=9)}\n",
      "nan {'clf__C': 0.5, 'clf__class_weight': None, 'clf__l1_ratio': 0.1, 'clf__penalty': 'elastic_net', 'clf__random_state': 42, 'clf__solver': 'saga', 'pca': PCA(n_components=10)}\n",
      "nan {'clf__C': 0.5, 'clf__class_weight': None, 'clf__l1_ratio': 0.1, 'clf__penalty': 'elastic_net', 'clf__random_state': 42, 'clf__solver': 'saga', 'pca': PCA(n_components=11)}\n",
      "nan {'clf__C': 0.5, 'clf__class_weight': None, 'clf__l1_ratio': 0.25, 'clf__penalty': 'elastic_net', 'clf__random_state': 42, 'clf__solver': 'saga', 'pca': 'passthrough'}\n",
      "nan {'clf__C': 0.5, 'clf__class_weight': None, 'clf__l1_ratio': 0.25, 'clf__penalty': 'elastic_net', 'clf__random_state': 42, 'clf__solver': 'saga', 'pca': PCA(n_components=1)}\n",
      "nan {'clf__C': 0.5, 'clf__class_weight': None, 'clf__l1_ratio': 0.25, 'clf__penalty': 'elastic_net', 'clf__random_state': 42, 'clf__solver': 'saga', 'pca': PCA(n_components=3)}\n",
      "nan {'clf__C': 0.5, 'clf__class_weight': None, 'clf__l1_ratio': 0.25, 'clf__penalty': 'elastic_net', 'clf__random_state': 42, 'clf__solver': 'saga', 'pca': PCA(n_components=9)}\n",
      "nan {'clf__C': 0.5, 'clf__class_weight': None, 'clf__l1_ratio': 0.25, 'clf__penalty': 'elastic_net', 'clf__random_state': 42, 'clf__solver': 'saga', 'pca': PCA(n_components=10)}\n",
      "nan {'clf__C': 0.5, 'clf__class_weight': None, 'clf__l1_ratio': 0.25, 'clf__penalty': 'elastic_net', 'clf__random_state': 42, 'clf__solver': 'saga', 'pca': PCA(n_components=11)}\n",
      "nan {'clf__C': 0.5, 'clf__class_weight': None, 'clf__l1_ratio': 0.5, 'clf__penalty': 'elastic_net', 'clf__random_state': 42, 'clf__solver': 'saga', 'pca': 'passthrough'}\n",
      "nan {'clf__C': 0.5, 'clf__class_weight': None, 'clf__l1_ratio': 0.5, 'clf__penalty': 'elastic_net', 'clf__random_state': 42, 'clf__solver': 'saga', 'pca': PCA(n_components=1)}\n",
      "nan {'clf__C': 0.5, 'clf__class_weight': None, 'clf__l1_ratio': 0.5, 'clf__penalty': 'elastic_net', 'clf__random_state': 42, 'clf__solver': 'saga', 'pca': PCA(n_components=3)}\n",
      "nan {'clf__C': 0.5, 'clf__class_weight': None, 'clf__l1_ratio': 0.5, 'clf__penalty': 'elastic_net', 'clf__random_state': 42, 'clf__solver': 'saga', 'pca': PCA(n_components=9)}\n",
      "nan {'clf__C': 0.5, 'clf__class_weight': None, 'clf__l1_ratio': 0.5, 'clf__penalty': 'elastic_net', 'clf__random_state': 42, 'clf__solver': 'saga', 'pca': PCA(n_components=10)}\n",
      "nan {'clf__C': 0.5, 'clf__class_weight': None, 'clf__l1_ratio': 0.5, 'clf__penalty': 'elastic_net', 'clf__random_state': 42, 'clf__solver': 'saga', 'pca': PCA(n_components=11)}\n",
      "nan {'clf__C': 0.5, 'clf__class_weight': None, 'clf__l1_ratio': 0.75, 'clf__penalty': 'elastic_net', 'clf__random_state': 42, 'clf__solver': 'saga', 'pca': 'passthrough'}\n",
      "nan {'clf__C': 0.5, 'clf__class_weight': None, 'clf__l1_ratio': 0.75, 'clf__penalty': 'elastic_net', 'clf__random_state': 42, 'clf__solver': 'saga', 'pca': PCA(n_components=1)}\n",
      "nan {'clf__C': 0.5, 'clf__class_weight': None, 'clf__l1_ratio': 0.75, 'clf__penalty': 'elastic_net', 'clf__random_state': 42, 'clf__solver': 'saga', 'pca': PCA(n_components=3)}\n",
      "nan {'clf__C': 0.5, 'clf__class_weight': None, 'clf__l1_ratio': 0.75, 'clf__penalty': 'elastic_net', 'clf__random_state': 42, 'clf__solver': 'saga', 'pca': PCA(n_components=9)}\n",
      "nan {'clf__C': 0.5, 'clf__class_weight': None, 'clf__l1_ratio': 0.75, 'clf__penalty': 'elastic_net', 'clf__random_state': 42, 'clf__solver': 'saga', 'pca': PCA(n_components=10)}\n",
      "nan {'clf__C': 0.5, 'clf__class_weight': None, 'clf__l1_ratio': 0.75, 'clf__penalty': 'elastic_net', 'clf__random_state': 42, 'clf__solver': 'saga', 'pca': PCA(n_components=11)}\n",
      "nan {'clf__C': 0.5, 'clf__class_weight': None, 'clf__l1_ratio': 1.0, 'clf__penalty': 'elastic_net', 'clf__random_state': 42, 'clf__solver': 'saga', 'pca': 'passthrough'}\n",
      "nan {'clf__C': 0.5, 'clf__class_weight': None, 'clf__l1_ratio': 1.0, 'clf__penalty': 'elastic_net', 'clf__random_state': 42, 'clf__solver': 'saga', 'pca': PCA(n_components=1)}\n",
      "nan {'clf__C': 0.5, 'clf__class_weight': None, 'clf__l1_ratio': 1.0, 'clf__penalty': 'elastic_net', 'clf__random_state': 42, 'clf__solver': 'saga', 'pca': PCA(n_components=3)}\n",
      "nan {'clf__C': 0.5, 'clf__class_weight': None, 'clf__l1_ratio': 1.0, 'clf__penalty': 'elastic_net', 'clf__random_state': 42, 'clf__solver': 'saga', 'pca': PCA(n_components=9)}\n",
      "nan {'clf__C': 0.5, 'clf__class_weight': None, 'clf__l1_ratio': 1.0, 'clf__penalty': 'elastic_net', 'clf__random_state': 42, 'clf__solver': 'saga', 'pca': PCA(n_components=10)}\n",
      "nan {'clf__C': 0.5, 'clf__class_weight': None, 'clf__l1_ratio': 1.0, 'clf__penalty': 'elastic_net', 'clf__random_state': 42, 'clf__solver': 'saga', 'pca': PCA(n_components=11)}\n",
      "nan {'clf__C': 0.5, 'clf__class_weight': 'balanced', 'clf__l1_ratio': 0.0, 'clf__penalty': 'elastic_net', 'clf__random_state': 42, 'clf__solver': 'saga', 'pca': 'passthrough'}\n",
      "nan {'clf__C': 0.5, 'clf__class_weight': 'balanced', 'clf__l1_ratio': 0.0, 'clf__penalty': 'elastic_net', 'clf__random_state': 42, 'clf__solver': 'saga', 'pca': PCA(n_components=1)}\n",
      "nan {'clf__C': 0.5, 'clf__class_weight': 'balanced', 'clf__l1_ratio': 0.0, 'clf__penalty': 'elastic_net', 'clf__random_state': 42, 'clf__solver': 'saga', 'pca': PCA(n_components=3)}\n",
      "nan {'clf__C': 0.5, 'clf__class_weight': 'balanced', 'clf__l1_ratio': 0.0, 'clf__penalty': 'elastic_net', 'clf__random_state': 42, 'clf__solver': 'saga', 'pca': PCA(n_components=9)}\n",
      "nan {'clf__C': 0.5, 'clf__class_weight': 'balanced', 'clf__l1_ratio': 0.0, 'clf__penalty': 'elastic_net', 'clf__random_state': 42, 'clf__solver': 'saga', 'pca': PCA(n_components=10)}\n",
      "nan {'clf__C': 0.5, 'clf__class_weight': 'balanced', 'clf__l1_ratio': 0.0, 'clf__penalty': 'elastic_net', 'clf__random_state': 42, 'clf__solver': 'saga', 'pca': PCA(n_components=11)}\n",
      "nan {'clf__C': 0.5, 'clf__class_weight': 'balanced', 'clf__l1_ratio': 0.1, 'clf__penalty': 'elastic_net', 'clf__random_state': 42, 'clf__solver': 'saga', 'pca': 'passthrough'}\n",
      "nan {'clf__C': 0.5, 'clf__class_weight': 'balanced', 'clf__l1_ratio': 0.1, 'clf__penalty': 'elastic_net', 'clf__random_state': 42, 'clf__solver': 'saga', 'pca': PCA(n_components=1)}\n",
      "nan {'clf__C': 0.5, 'clf__class_weight': 'balanced', 'clf__l1_ratio': 0.1, 'clf__penalty': 'elastic_net', 'clf__random_state': 42, 'clf__solver': 'saga', 'pca': PCA(n_components=3)}\n",
      "nan {'clf__C': 0.5, 'clf__class_weight': 'balanced', 'clf__l1_ratio': 0.1, 'clf__penalty': 'elastic_net', 'clf__random_state': 42, 'clf__solver': 'saga', 'pca': PCA(n_components=9)}\n",
      "nan {'clf__C': 0.5, 'clf__class_weight': 'balanced', 'clf__l1_ratio': 0.1, 'clf__penalty': 'elastic_net', 'clf__random_state': 42, 'clf__solver': 'saga', 'pca': PCA(n_components=10)}\n",
      "nan {'clf__C': 0.5, 'clf__class_weight': 'balanced', 'clf__l1_ratio': 0.1, 'clf__penalty': 'elastic_net', 'clf__random_state': 42, 'clf__solver': 'saga', 'pca': PCA(n_components=11)}\n",
      "nan {'clf__C': 0.5, 'clf__class_weight': 'balanced', 'clf__l1_ratio': 0.25, 'clf__penalty': 'elastic_net', 'clf__random_state': 42, 'clf__solver': 'saga', 'pca': 'passthrough'}\n",
      "nan {'clf__C': 0.5, 'clf__class_weight': 'balanced', 'clf__l1_ratio': 0.25, 'clf__penalty': 'elastic_net', 'clf__random_state': 42, 'clf__solver': 'saga', 'pca': PCA(n_components=1)}\n",
      "nan {'clf__C': 0.5, 'clf__class_weight': 'balanced', 'clf__l1_ratio': 0.25, 'clf__penalty': 'elastic_net', 'clf__random_state': 42, 'clf__solver': 'saga', 'pca': PCA(n_components=3)}\n",
      "nan {'clf__C': 0.5, 'clf__class_weight': 'balanced', 'clf__l1_ratio': 0.25, 'clf__penalty': 'elastic_net', 'clf__random_state': 42, 'clf__solver': 'saga', 'pca': PCA(n_components=9)}\n",
      "nan {'clf__C': 0.5, 'clf__class_weight': 'balanced', 'clf__l1_ratio': 0.25, 'clf__penalty': 'elastic_net', 'clf__random_state': 42, 'clf__solver': 'saga', 'pca': PCA(n_components=10)}\n",
      "nan {'clf__C': 0.5, 'clf__class_weight': 'balanced', 'clf__l1_ratio': 0.25, 'clf__penalty': 'elastic_net', 'clf__random_state': 42, 'clf__solver': 'saga', 'pca': PCA(n_components=11)}\n",
      "nan {'clf__C': 0.5, 'clf__class_weight': 'balanced', 'clf__l1_ratio': 0.5, 'clf__penalty': 'elastic_net', 'clf__random_state': 42, 'clf__solver': 'saga', 'pca': 'passthrough'}\n",
      "nan {'clf__C': 0.5, 'clf__class_weight': 'balanced', 'clf__l1_ratio': 0.5, 'clf__penalty': 'elastic_net', 'clf__random_state': 42, 'clf__solver': 'saga', 'pca': PCA(n_components=1)}\n",
      "nan {'clf__C': 0.5, 'clf__class_weight': 'balanced', 'clf__l1_ratio': 0.5, 'clf__penalty': 'elastic_net', 'clf__random_state': 42, 'clf__solver': 'saga', 'pca': PCA(n_components=3)}\n",
      "nan {'clf__C': 0.5, 'clf__class_weight': 'balanced', 'clf__l1_ratio': 0.5, 'clf__penalty': 'elastic_net', 'clf__random_state': 42, 'clf__solver': 'saga', 'pca': PCA(n_components=9)}\n",
      "nan {'clf__C': 0.5, 'clf__class_weight': 'balanced', 'clf__l1_ratio': 0.5, 'clf__penalty': 'elastic_net', 'clf__random_state': 42, 'clf__solver': 'saga', 'pca': PCA(n_components=10)}\n",
      "nan {'clf__C': 0.5, 'clf__class_weight': 'balanced', 'clf__l1_ratio': 0.5, 'clf__penalty': 'elastic_net', 'clf__random_state': 42, 'clf__solver': 'saga', 'pca': PCA(n_components=11)}\n",
      "nan {'clf__C': 0.5, 'clf__class_weight': 'balanced', 'clf__l1_ratio': 0.75, 'clf__penalty': 'elastic_net', 'clf__random_state': 42, 'clf__solver': 'saga', 'pca': 'passthrough'}\n",
      "nan {'clf__C': 0.5, 'clf__class_weight': 'balanced', 'clf__l1_ratio': 0.75, 'clf__penalty': 'elastic_net', 'clf__random_state': 42, 'clf__solver': 'saga', 'pca': PCA(n_components=1)}\n",
      "nan {'clf__C': 0.5, 'clf__class_weight': 'balanced', 'clf__l1_ratio': 0.75, 'clf__penalty': 'elastic_net', 'clf__random_state': 42, 'clf__solver': 'saga', 'pca': PCA(n_components=3)}\n",
      "nan {'clf__C': 0.5, 'clf__class_weight': 'balanced', 'clf__l1_ratio': 0.75, 'clf__penalty': 'elastic_net', 'clf__random_state': 42, 'clf__solver': 'saga', 'pca': PCA(n_components=9)}\n",
      "nan {'clf__C': 0.5, 'clf__class_weight': 'balanced', 'clf__l1_ratio': 0.75, 'clf__penalty': 'elastic_net', 'clf__random_state': 42, 'clf__solver': 'saga', 'pca': PCA(n_components=10)}\n",
      "nan {'clf__C': 0.5, 'clf__class_weight': 'balanced', 'clf__l1_ratio': 0.75, 'clf__penalty': 'elastic_net', 'clf__random_state': 42, 'clf__solver': 'saga', 'pca': PCA(n_components=11)}\n",
      "nan {'clf__C': 0.5, 'clf__class_weight': 'balanced', 'clf__l1_ratio': 1.0, 'clf__penalty': 'elastic_net', 'clf__random_state': 42, 'clf__solver': 'saga', 'pca': 'passthrough'}\n",
      "nan {'clf__C': 0.5, 'clf__class_weight': 'balanced', 'clf__l1_ratio': 1.0, 'clf__penalty': 'elastic_net', 'clf__random_state': 42, 'clf__solver': 'saga', 'pca': PCA(n_components=1)}\n",
      "nan {'clf__C': 0.5, 'clf__class_weight': 'balanced', 'clf__l1_ratio': 1.0, 'clf__penalty': 'elastic_net', 'clf__random_state': 42, 'clf__solver': 'saga', 'pca': PCA(n_components=3)}\n",
      "nan {'clf__C': 0.5, 'clf__class_weight': 'balanced', 'clf__l1_ratio': 1.0, 'clf__penalty': 'elastic_net', 'clf__random_state': 42, 'clf__solver': 'saga', 'pca': PCA(n_components=9)}\n",
      "nan {'clf__C': 0.5, 'clf__class_weight': 'balanced', 'clf__l1_ratio': 1.0, 'clf__penalty': 'elastic_net', 'clf__random_state': 42, 'clf__solver': 'saga', 'pca': PCA(n_components=10)}\n",
      "nan {'clf__C': 0.5, 'clf__class_weight': 'balanced', 'clf__l1_ratio': 1.0, 'clf__penalty': 'elastic_net', 'clf__random_state': 42, 'clf__solver': 'saga', 'pca': PCA(n_components=11)}\n",
      "nan {'clf__C': 0.75, 'clf__class_weight': None, 'clf__l1_ratio': 0.0, 'clf__penalty': 'elastic_net', 'clf__random_state': 42, 'clf__solver': 'saga', 'pca': 'passthrough'}\n",
      "nan {'clf__C': 0.75, 'clf__class_weight': None, 'clf__l1_ratio': 0.0, 'clf__penalty': 'elastic_net', 'clf__random_state': 42, 'clf__solver': 'saga', 'pca': PCA(n_components=1)}\n",
      "nan {'clf__C': 0.75, 'clf__class_weight': None, 'clf__l1_ratio': 0.0, 'clf__penalty': 'elastic_net', 'clf__random_state': 42, 'clf__solver': 'saga', 'pca': PCA(n_components=3)}\n",
      "nan {'clf__C': 0.75, 'clf__class_weight': None, 'clf__l1_ratio': 0.0, 'clf__penalty': 'elastic_net', 'clf__random_state': 42, 'clf__solver': 'saga', 'pca': PCA(n_components=9)}\n",
      "nan {'clf__C': 0.75, 'clf__class_weight': None, 'clf__l1_ratio': 0.0, 'clf__penalty': 'elastic_net', 'clf__random_state': 42, 'clf__solver': 'saga', 'pca': PCA(n_components=10)}\n",
      "nan {'clf__C': 0.75, 'clf__class_weight': None, 'clf__l1_ratio': 0.0, 'clf__penalty': 'elastic_net', 'clf__random_state': 42, 'clf__solver': 'saga', 'pca': PCA(n_components=11)}\n",
      "nan {'clf__C': 0.75, 'clf__class_weight': None, 'clf__l1_ratio': 0.1, 'clf__penalty': 'elastic_net', 'clf__random_state': 42, 'clf__solver': 'saga', 'pca': 'passthrough'}\n",
      "nan {'clf__C': 0.75, 'clf__class_weight': None, 'clf__l1_ratio': 0.1, 'clf__penalty': 'elastic_net', 'clf__random_state': 42, 'clf__solver': 'saga', 'pca': PCA(n_components=1)}\n",
      "nan {'clf__C': 0.75, 'clf__class_weight': None, 'clf__l1_ratio': 0.1, 'clf__penalty': 'elastic_net', 'clf__random_state': 42, 'clf__solver': 'saga', 'pca': PCA(n_components=3)}\n",
      "nan {'clf__C': 0.75, 'clf__class_weight': None, 'clf__l1_ratio': 0.1, 'clf__penalty': 'elastic_net', 'clf__random_state': 42, 'clf__solver': 'saga', 'pca': PCA(n_components=9)}\n",
      "nan {'clf__C': 0.75, 'clf__class_weight': None, 'clf__l1_ratio': 0.1, 'clf__penalty': 'elastic_net', 'clf__random_state': 42, 'clf__solver': 'saga', 'pca': PCA(n_components=10)}\n",
      "nan {'clf__C': 0.75, 'clf__class_weight': None, 'clf__l1_ratio': 0.1, 'clf__penalty': 'elastic_net', 'clf__random_state': 42, 'clf__solver': 'saga', 'pca': PCA(n_components=11)}\n",
      "nan {'clf__C': 0.75, 'clf__class_weight': None, 'clf__l1_ratio': 0.25, 'clf__penalty': 'elastic_net', 'clf__random_state': 42, 'clf__solver': 'saga', 'pca': 'passthrough'}\n",
      "nan {'clf__C': 0.75, 'clf__class_weight': None, 'clf__l1_ratio': 0.25, 'clf__penalty': 'elastic_net', 'clf__random_state': 42, 'clf__solver': 'saga', 'pca': PCA(n_components=1)}\n",
      "nan {'clf__C': 0.75, 'clf__class_weight': None, 'clf__l1_ratio': 0.25, 'clf__penalty': 'elastic_net', 'clf__random_state': 42, 'clf__solver': 'saga', 'pca': PCA(n_components=3)}\n",
      "nan {'clf__C': 0.75, 'clf__class_weight': None, 'clf__l1_ratio': 0.25, 'clf__penalty': 'elastic_net', 'clf__random_state': 42, 'clf__solver': 'saga', 'pca': PCA(n_components=9)}\n",
      "nan {'clf__C': 0.75, 'clf__class_weight': None, 'clf__l1_ratio': 0.25, 'clf__penalty': 'elastic_net', 'clf__random_state': 42, 'clf__solver': 'saga', 'pca': PCA(n_components=10)}\n",
      "nan {'clf__C': 0.75, 'clf__class_weight': None, 'clf__l1_ratio': 0.25, 'clf__penalty': 'elastic_net', 'clf__random_state': 42, 'clf__solver': 'saga', 'pca': PCA(n_components=11)}\n",
      "nan {'clf__C': 0.75, 'clf__class_weight': None, 'clf__l1_ratio': 0.5, 'clf__penalty': 'elastic_net', 'clf__random_state': 42, 'clf__solver': 'saga', 'pca': 'passthrough'}\n",
      "nan {'clf__C': 0.75, 'clf__class_weight': None, 'clf__l1_ratio': 0.5, 'clf__penalty': 'elastic_net', 'clf__random_state': 42, 'clf__solver': 'saga', 'pca': PCA(n_components=1)}\n",
      "nan {'clf__C': 0.75, 'clf__class_weight': None, 'clf__l1_ratio': 0.5, 'clf__penalty': 'elastic_net', 'clf__random_state': 42, 'clf__solver': 'saga', 'pca': PCA(n_components=3)}\n",
      "nan {'clf__C': 0.75, 'clf__class_weight': None, 'clf__l1_ratio': 0.5, 'clf__penalty': 'elastic_net', 'clf__random_state': 42, 'clf__solver': 'saga', 'pca': PCA(n_components=9)}\n",
      "nan {'clf__C': 0.75, 'clf__class_weight': None, 'clf__l1_ratio': 0.5, 'clf__penalty': 'elastic_net', 'clf__random_state': 42, 'clf__solver': 'saga', 'pca': PCA(n_components=10)}\n",
      "nan {'clf__C': 0.75, 'clf__class_weight': None, 'clf__l1_ratio': 0.5, 'clf__penalty': 'elastic_net', 'clf__random_state': 42, 'clf__solver': 'saga', 'pca': PCA(n_components=11)}\n",
      "nan {'clf__C': 0.75, 'clf__class_weight': None, 'clf__l1_ratio': 0.75, 'clf__penalty': 'elastic_net', 'clf__random_state': 42, 'clf__solver': 'saga', 'pca': 'passthrough'}\n",
      "nan {'clf__C': 0.75, 'clf__class_weight': None, 'clf__l1_ratio': 0.75, 'clf__penalty': 'elastic_net', 'clf__random_state': 42, 'clf__solver': 'saga', 'pca': PCA(n_components=1)}\n",
      "nan {'clf__C': 0.75, 'clf__class_weight': None, 'clf__l1_ratio': 0.75, 'clf__penalty': 'elastic_net', 'clf__random_state': 42, 'clf__solver': 'saga', 'pca': PCA(n_components=3)}\n",
      "nan {'clf__C': 0.75, 'clf__class_weight': None, 'clf__l1_ratio': 0.75, 'clf__penalty': 'elastic_net', 'clf__random_state': 42, 'clf__solver': 'saga', 'pca': PCA(n_components=9)}\n",
      "nan {'clf__C': 0.75, 'clf__class_weight': None, 'clf__l1_ratio': 0.75, 'clf__penalty': 'elastic_net', 'clf__random_state': 42, 'clf__solver': 'saga', 'pca': PCA(n_components=10)}\n",
      "nan {'clf__C': 0.75, 'clf__class_weight': None, 'clf__l1_ratio': 0.75, 'clf__penalty': 'elastic_net', 'clf__random_state': 42, 'clf__solver': 'saga', 'pca': PCA(n_components=11)}\n",
      "nan {'clf__C': 0.75, 'clf__class_weight': None, 'clf__l1_ratio': 1.0, 'clf__penalty': 'elastic_net', 'clf__random_state': 42, 'clf__solver': 'saga', 'pca': 'passthrough'}\n",
      "nan {'clf__C': 0.75, 'clf__class_weight': None, 'clf__l1_ratio': 1.0, 'clf__penalty': 'elastic_net', 'clf__random_state': 42, 'clf__solver': 'saga', 'pca': PCA(n_components=1)}\n",
      "nan {'clf__C': 0.75, 'clf__class_weight': None, 'clf__l1_ratio': 1.0, 'clf__penalty': 'elastic_net', 'clf__random_state': 42, 'clf__solver': 'saga', 'pca': PCA(n_components=3)}\n",
      "nan {'clf__C': 0.75, 'clf__class_weight': None, 'clf__l1_ratio': 1.0, 'clf__penalty': 'elastic_net', 'clf__random_state': 42, 'clf__solver': 'saga', 'pca': PCA(n_components=9)}\n",
      "nan {'clf__C': 0.75, 'clf__class_weight': None, 'clf__l1_ratio': 1.0, 'clf__penalty': 'elastic_net', 'clf__random_state': 42, 'clf__solver': 'saga', 'pca': PCA(n_components=10)}\n",
      "nan {'clf__C': 0.75, 'clf__class_weight': None, 'clf__l1_ratio': 1.0, 'clf__penalty': 'elastic_net', 'clf__random_state': 42, 'clf__solver': 'saga', 'pca': PCA(n_components=11)}\n",
      "nan {'clf__C': 0.75, 'clf__class_weight': 'balanced', 'clf__l1_ratio': 0.0, 'clf__penalty': 'elastic_net', 'clf__random_state': 42, 'clf__solver': 'saga', 'pca': 'passthrough'}\n",
      "nan {'clf__C': 0.75, 'clf__class_weight': 'balanced', 'clf__l1_ratio': 0.0, 'clf__penalty': 'elastic_net', 'clf__random_state': 42, 'clf__solver': 'saga', 'pca': PCA(n_components=1)}\n",
      "nan {'clf__C': 0.75, 'clf__class_weight': 'balanced', 'clf__l1_ratio': 0.0, 'clf__penalty': 'elastic_net', 'clf__random_state': 42, 'clf__solver': 'saga', 'pca': PCA(n_components=3)}\n",
      "nan {'clf__C': 0.75, 'clf__class_weight': 'balanced', 'clf__l1_ratio': 0.0, 'clf__penalty': 'elastic_net', 'clf__random_state': 42, 'clf__solver': 'saga', 'pca': PCA(n_components=9)}\n",
      "nan {'clf__C': 0.75, 'clf__class_weight': 'balanced', 'clf__l1_ratio': 0.0, 'clf__penalty': 'elastic_net', 'clf__random_state': 42, 'clf__solver': 'saga', 'pca': PCA(n_components=10)}\n",
      "nan {'clf__C': 0.75, 'clf__class_weight': 'balanced', 'clf__l1_ratio': 0.0, 'clf__penalty': 'elastic_net', 'clf__random_state': 42, 'clf__solver': 'saga', 'pca': PCA(n_components=11)}\n",
      "nan {'clf__C': 0.75, 'clf__class_weight': 'balanced', 'clf__l1_ratio': 0.1, 'clf__penalty': 'elastic_net', 'clf__random_state': 42, 'clf__solver': 'saga', 'pca': 'passthrough'}\n",
      "nan {'clf__C': 0.75, 'clf__class_weight': 'balanced', 'clf__l1_ratio': 0.1, 'clf__penalty': 'elastic_net', 'clf__random_state': 42, 'clf__solver': 'saga', 'pca': PCA(n_components=1)}\n",
      "nan {'clf__C': 0.75, 'clf__class_weight': 'balanced', 'clf__l1_ratio': 0.1, 'clf__penalty': 'elastic_net', 'clf__random_state': 42, 'clf__solver': 'saga', 'pca': PCA(n_components=3)}\n",
      "nan {'clf__C': 0.75, 'clf__class_weight': 'balanced', 'clf__l1_ratio': 0.1, 'clf__penalty': 'elastic_net', 'clf__random_state': 42, 'clf__solver': 'saga', 'pca': PCA(n_components=9)}\n",
      "nan {'clf__C': 0.75, 'clf__class_weight': 'balanced', 'clf__l1_ratio': 0.1, 'clf__penalty': 'elastic_net', 'clf__random_state': 42, 'clf__solver': 'saga', 'pca': PCA(n_components=10)}\n",
      "nan {'clf__C': 0.75, 'clf__class_weight': 'balanced', 'clf__l1_ratio': 0.1, 'clf__penalty': 'elastic_net', 'clf__random_state': 42, 'clf__solver': 'saga', 'pca': PCA(n_components=11)}\n",
      "nan {'clf__C': 0.75, 'clf__class_weight': 'balanced', 'clf__l1_ratio': 0.25, 'clf__penalty': 'elastic_net', 'clf__random_state': 42, 'clf__solver': 'saga', 'pca': 'passthrough'}\n",
      "nan {'clf__C': 0.75, 'clf__class_weight': 'balanced', 'clf__l1_ratio': 0.25, 'clf__penalty': 'elastic_net', 'clf__random_state': 42, 'clf__solver': 'saga', 'pca': PCA(n_components=1)}\n",
      "nan {'clf__C': 0.75, 'clf__class_weight': 'balanced', 'clf__l1_ratio': 0.25, 'clf__penalty': 'elastic_net', 'clf__random_state': 42, 'clf__solver': 'saga', 'pca': PCA(n_components=3)}\n",
      "nan {'clf__C': 0.75, 'clf__class_weight': 'balanced', 'clf__l1_ratio': 0.25, 'clf__penalty': 'elastic_net', 'clf__random_state': 42, 'clf__solver': 'saga', 'pca': PCA(n_components=9)}\n",
      "nan {'clf__C': 0.75, 'clf__class_weight': 'balanced', 'clf__l1_ratio': 0.25, 'clf__penalty': 'elastic_net', 'clf__random_state': 42, 'clf__solver': 'saga', 'pca': PCA(n_components=10)}\n",
      "nan {'clf__C': 0.75, 'clf__class_weight': 'balanced', 'clf__l1_ratio': 0.25, 'clf__penalty': 'elastic_net', 'clf__random_state': 42, 'clf__solver': 'saga', 'pca': PCA(n_components=11)}\n",
      "nan {'clf__C': 0.75, 'clf__class_weight': 'balanced', 'clf__l1_ratio': 0.5, 'clf__penalty': 'elastic_net', 'clf__random_state': 42, 'clf__solver': 'saga', 'pca': 'passthrough'}\n",
      "nan {'clf__C': 0.75, 'clf__class_weight': 'balanced', 'clf__l1_ratio': 0.5, 'clf__penalty': 'elastic_net', 'clf__random_state': 42, 'clf__solver': 'saga', 'pca': PCA(n_components=1)}\n",
      "nan {'clf__C': 0.75, 'clf__class_weight': 'balanced', 'clf__l1_ratio': 0.5, 'clf__penalty': 'elastic_net', 'clf__random_state': 42, 'clf__solver': 'saga', 'pca': PCA(n_components=3)}\n",
      "nan {'clf__C': 0.75, 'clf__class_weight': 'balanced', 'clf__l1_ratio': 0.5, 'clf__penalty': 'elastic_net', 'clf__random_state': 42, 'clf__solver': 'saga', 'pca': PCA(n_components=9)}\n",
      "nan {'clf__C': 0.75, 'clf__class_weight': 'balanced', 'clf__l1_ratio': 0.5, 'clf__penalty': 'elastic_net', 'clf__random_state': 42, 'clf__solver': 'saga', 'pca': PCA(n_components=10)}\n",
      "nan {'clf__C': 0.75, 'clf__class_weight': 'balanced', 'clf__l1_ratio': 0.5, 'clf__penalty': 'elastic_net', 'clf__random_state': 42, 'clf__solver': 'saga', 'pca': PCA(n_components=11)}\n",
      "nan {'clf__C': 0.75, 'clf__class_weight': 'balanced', 'clf__l1_ratio': 0.75, 'clf__penalty': 'elastic_net', 'clf__random_state': 42, 'clf__solver': 'saga', 'pca': 'passthrough'}\n",
      "nan {'clf__C': 0.75, 'clf__class_weight': 'balanced', 'clf__l1_ratio': 0.75, 'clf__penalty': 'elastic_net', 'clf__random_state': 42, 'clf__solver': 'saga', 'pca': PCA(n_components=1)}\n",
      "nan {'clf__C': 0.75, 'clf__class_weight': 'balanced', 'clf__l1_ratio': 0.75, 'clf__penalty': 'elastic_net', 'clf__random_state': 42, 'clf__solver': 'saga', 'pca': PCA(n_components=3)}\n",
      "nan {'clf__C': 0.75, 'clf__class_weight': 'balanced', 'clf__l1_ratio': 0.75, 'clf__penalty': 'elastic_net', 'clf__random_state': 42, 'clf__solver': 'saga', 'pca': PCA(n_components=9)}\n",
      "nan {'clf__C': 0.75, 'clf__class_weight': 'balanced', 'clf__l1_ratio': 0.75, 'clf__penalty': 'elastic_net', 'clf__random_state': 42, 'clf__solver': 'saga', 'pca': PCA(n_components=10)}\n",
      "nan {'clf__C': 0.75, 'clf__class_weight': 'balanced', 'clf__l1_ratio': 0.75, 'clf__penalty': 'elastic_net', 'clf__random_state': 42, 'clf__solver': 'saga', 'pca': PCA(n_components=11)}\n",
      "nan {'clf__C': 0.75, 'clf__class_weight': 'balanced', 'clf__l1_ratio': 1.0, 'clf__penalty': 'elastic_net', 'clf__random_state': 42, 'clf__solver': 'saga', 'pca': 'passthrough'}\n",
      "nan {'clf__C': 0.75, 'clf__class_weight': 'balanced', 'clf__l1_ratio': 1.0, 'clf__penalty': 'elastic_net', 'clf__random_state': 42, 'clf__solver': 'saga', 'pca': PCA(n_components=1)}\n",
      "nan {'clf__C': 0.75, 'clf__class_weight': 'balanced', 'clf__l1_ratio': 1.0, 'clf__penalty': 'elastic_net', 'clf__random_state': 42, 'clf__solver': 'saga', 'pca': PCA(n_components=3)}\n",
      "nan {'clf__C': 0.75, 'clf__class_weight': 'balanced', 'clf__l1_ratio': 1.0, 'clf__penalty': 'elastic_net', 'clf__random_state': 42, 'clf__solver': 'saga', 'pca': PCA(n_components=9)}\n",
      "nan {'clf__C': 0.75, 'clf__class_weight': 'balanced', 'clf__l1_ratio': 1.0, 'clf__penalty': 'elastic_net', 'clf__random_state': 42, 'clf__solver': 'saga', 'pca': PCA(n_components=10)}\n",
      "nan {'clf__C': 0.75, 'clf__class_weight': 'balanced', 'clf__l1_ratio': 1.0, 'clf__penalty': 'elastic_net', 'clf__random_state': 42, 'clf__solver': 'saga', 'pca': PCA(n_components=11)}\n",
      "nan {'clf__C': 1.0, 'clf__class_weight': None, 'clf__l1_ratio': 0.0, 'clf__penalty': 'elastic_net', 'clf__random_state': 42, 'clf__solver': 'saga', 'pca': 'passthrough'}\n",
      "nan {'clf__C': 1.0, 'clf__class_weight': None, 'clf__l1_ratio': 0.0, 'clf__penalty': 'elastic_net', 'clf__random_state': 42, 'clf__solver': 'saga', 'pca': PCA(n_components=1)}\n",
      "nan {'clf__C': 1.0, 'clf__class_weight': None, 'clf__l1_ratio': 0.0, 'clf__penalty': 'elastic_net', 'clf__random_state': 42, 'clf__solver': 'saga', 'pca': PCA(n_components=3)}\n",
      "nan {'clf__C': 1.0, 'clf__class_weight': None, 'clf__l1_ratio': 0.0, 'clf__penalty': 'elastic_net', 'clf__random_state': 42, 'clf__solver': 'saga', 'pca': PCA(n_components=9)}\n",
      "nan {'clf__C': 1.0, 'clf__class_weight': None, 'clf__l1_ratio': 0.0, 'clf__penalty': 'elastic_net', 'clf__random_state': 42, 'clf__solver': 'saga', 'pca': PCA(n_components=10)}\n",
      "nan {'clf__C': 1.0, 'clf__class_weight': None, 'clf__l1_ratio': 0.0, 'clf__penalty': 'elastic_net', 'clf__random_state': 42, 'clf__solver': 'saga', 'pca': PCA(n_components=11)}\n",
      "nan {'clf__C': 1.0, 'clf__class_weight': None, 'clf__l1_ratio': 0.1, 'clf__penalty': 'elastic_net', 'clf__random_state': 42, 'clf__solver': 'saga', 'pca': 'passthrough'}\n",
      "nan {'clf__C': 1.0, 'clf__class_weight': None, 'clf__l1_ratio': 0.1, 'clf__penalty': 'elastic_net', 'clf__random_state': 42, 'clf__solver': 'saga', 'pca': PCA(n_components=1)}\n",
      "nan {'clf__C': 1.0, 'clf__class_weight': None, 'clf__l1_ratio': 0.1, 'clf__penalty': 'elastic_net', 'clf__random_state': 42, 'clf__solver': 'saga', 'pca': PCA(n_components=3)}\n",
      "nan {'clf__C': 1.0, 'clf__class_weight': None, 'clf__l1_ratio': 0.1, 'clf__penalty': 'elastic_net', 'clf__random_state': 42, 'clf__solver': 'saga', 'pca': PCA(n_components=9)}\n",
      "nan {'clf__C': 1.0, 'clf__class_weight': None, 'clf__l1_ratio': 0.1, 'clf__penalty': 'elastic_net', 'clf__random_state': 42, 'clf__solver': 'saga', 'pca': PCA(n_components=10)}\n",
      "nan {'clf__C': 1.0, 'clf__class_weight': None, 'clf__l1_ratio': 0.1, 'clf__penalty': 'elastic_net', 'clf__random_state': 42, 'clf__solver': 'saga', 'pca': PCA(n_components=11)}\n",
      "nan {'clf__C': 1.0, 'clf__class_weight': None, 'clf__l1_ratio': 0.25, 'clf__penalty': 'elastic_net', 'clf__random_state': 42, 'clf__solver': 'saga', 'pca': 'passthrough'}\n",
      "nan {'clf__C': 1.0, 'clf__class_weight': None, 'clf__l1_ratio': 0.25, 'clf__penalty': 'elastic_net', 'clf__random_state': 42, 'clf__solver': 'saga', 'pca': PCA(n_components=1)}\n",
      "nan {'clf__C': 1.0, 'clf__class_weight': None, 'clf__l1_ratio': 0.25, 'clf__penalty': 'elastic_net', 'clf__random_state': 42, 'clf__solver': 'saga', 'pca': PCA(n_components=3)}\n",
      "nan {'clf__C': 1.0, 'clf__class_weight': None, 'clf__l1_ratio': 0.25, 'clf__penalty': 'elastic_net', 'clf__random_state': 42, 'clf__solver': 'saga', 'pca': PCA(n_components=9)}\n",
      "nan {'clf__C': 1.0, 'clf__class_weight': None, 'clf__l1_ratio': 0.25, 'clf__penalty': 'elastic_net', 'clf__random_state': 42, 'clf__solver': 'saga', 'pca': PCA(n_components=10)}\n",
      "nan {'clf__C': 1.0, 'clf__class_weight': None, 'clf__l1_ratio': 0.25, 'clf__penalty': 'elastic_net', 'clf__random_state': 42, 'clf__solver': 'saga', 'pca': PCA(n_components=11)}\n",
      "nan {'clf__C': 1.0, 'clf__class_weight': None, 'clf__l1_ratio': 0.5, 'clf__penalty': 'elastic_net', 'clf__random_state': 42, 'clf__solver': 'saga', 'pca': 'passthrough'}\n",
      "nan {'clf__C': 1.0, 'clf__class_weight': None, 'clf__l1_ratio': 0.5, 'clf__penalty': 'elastic_net', 'clf__random_state': 42, 'clf__solver': 'saga', 'pca': PCA(n_components=1)}\n",
      "nan {'clf__C': 1.0, 'clf__class_weight': None, 'clf__l1_ratio': 0.5, 'clf__penalty': 'elastic_net', 'clf__random_state': 42, 'clf__solver': 'saga', 'pca': PCA(n_components=3)}\n",
      "nan {'clf__C': 1.0, 'clf__class_weight': None, 'clf__l1_ratio': 0.5, 'clf__penalty': 'elastic_net', 'clf__random_state': 42, 'clf__solver': 'saga', 'pca': PCA(n_components=9)}\n",
      "nan {'clf__C': 1.0, 'clf__class_weight': None, 'clf__l1_ratio': 0.5, 'clf__penalty': 'elastic_net', 'clf__random_state': 42, 'clf__solver': 'saga', 'pca': PCA(n_components=10)}\n",
      "nan {'clf__C': 1.0, 'clf__class_weight': None, 'clf__l1_ratio': 0.5, 'clf__penalty': 'elastic_net', 'clf__random_state': 42, 'clf__solver': 'saga', 'pca': PCA(n_components=11)}\n",
      "nan {'clf__C': 1.0, 'clf__class_weight': None, 'clf__l1_ratio': 0.75, 'clf__penalty': 'elastic_net', 'clf__random_state': 42, 'clf__solver': 'saga', 'pca': 'passthrough'}\n",
      "nan {'clf__C': 1.0, 'clf__class_weight': None, 'clf__l1_ratio': 0.75, 'clf__penalty': 'elastic_net', 'clf__random_state': 42, 'clf__solver': 'saga', 'pca': PCA(n_components=1)}\n",
      "nan {'clf__C': 1.0, 'clf__class_weight': None, 'clf__l1_ratio': 0.75, 'clf__penalty': 'elastic_net', 'clf__random_state': 42, 'clf__solver': 'saga', 'pca': PCA(n_components=3)}\n",
      "nan {'clf__C': 1.0, 'clf__class_weight': None, 'clf__l1_ratio': 0.75, 'clf__penalty': 'elastic_net', 'clf__random_state': 42, 'clf__solver': 'saga', 'pca': PCA(n_components=9)}\n",
      "nan {'clf__C': 1.0, 'clf__class_weight': None, 'clf__l1_ratio': 0.75, 'clf__penalty': 'elastic_net', 'clf__random_state': 42, 'clf__solver': 'saga', 'pca': PCA(n_components=10)}\n",
      "nan {'clf__C': 1.0, 'clf__class_weight': None, 'clf__l1_ratio': 0.75, 'clf__penalty': 'elastic_net', 'clf__random_state': 42, 'clf__solver': 'saga', 'pca': PCA(n_components=11)}\n",
      "nan {'clf__C': 1.0, 'clf__class_weight': None, 'clf__l1_ratio': 1.0, 'clf__penalty': 'elastic_net', 'clf__random_state': 42, 'clf__solver': 'saga', 'pca': 'passthrough'}\n",
      "nan {'clf__C': 1.0, 'clf__class_weight': None, 'clf__l1_ratio': 1.0, 'clf__penalty': 'elastic_net', 'clf__random_state': 42, 'clf__solver': 'saga', 'pca': PCA(n_components=1)}\n",
      "nan {'clf__C': 1.0, 'clf__class_weight': None, 'clf__l1_ratio': 1.0, 'clf__penalty': 'elastic_net', 'clf__random_state': 42, 'clf__solver': 'saga', 'pca': PCA(n_components=3)}\n",
      "nan {'clf__C': 1.0, 'clf__class_weight': None, 'clf__l1_ratio': 1.0, 'clf__penalty': 'elastic_net', 'clf__random_state': 42, 'clf__solver': 'saga', 'pca': PCA(n_components=9)}\n",
      "nan {'clf__C': 1.0, 'clf__class_weight': None, 'clf__l1_ratio': 1.0, 'clf__penalty': 'elastic_net', 'clf__random_state': 42, 'clf__solver': 'saga', 'pca': PCA(n_components=10)}\n",
      "nan {'clf__C': 1.0, 'clf__class_weight': None, 'clf__l1_ratio': 1.0, 'clf__penalty': 'elastic_net', 'clf__random_state': 42, 'clf__solver': 'saga', 'pca': PCA(n_components=11)}\n",
      "nan {'clf__C': 1.0, 'clf__class_weight': 'balanced', 'clf__l1_ratio': 0.0, 'clf__penalty': 'elastic_net', 'clf__random_state': 42, 'clf__solver': 'saga', 'pca': 'passthrough'}\n",
      "nan {'clf__C': 1.0, 'clf__class_weight': 'balanced', 'clf__l1_ratio': 0.0, 'clf__penalty': 'elastic_net', 'clf__random_state': 42, 'clf__solver': 'saga', 'pca': PCA(n_components=1)}\n",
      "nan {'clf__C': 1.0, 'clf__class_weight': 'balanced', 'clf__l1_ratio': 0.0, 'clf__penalty': 'elastic_net', 'clf__random_state': 42, 'clf__solver': 'saga', 'pca': PCA(n_components=3)}\n",
      "nan {'clf__C': 1.0, 'clf__class_weight': 'balanced', 'clf__l1_ratio': 0.0, 'clf__penalty': 'elastic_net', 'clf__random_state': 42, 'clf__solver': 'saga', 'pca': PCA(n_components=9)}\n",
      "nan {'clf__C': 1.0, 'clf__class_weight': 'balanced', 'clf__l1_ratio': 0.0, 'clf__penalty': 'elastic_net', 'clf__random_state': 42, 'clf__solver': 'saga', 'pca': PCA(n_components=10)}\n",
      "nan {'clf__C': 1.0, 'clf__class_weight': 'balanced', 'clf__l1_ratio': 0.0, 'clf__penalty': 'elastic_net', 'clf__random_state': 42, 'clf__solver': 'saga', 'pca': PCA(n_components=11)}\n",
      "nan {'clf__C': 1.0, 'clf__class_weight': 'balanced', 'clf__l1_ratio': 0.1, 'clf__penalty': 'elastic_net', 'clf__random_state': 42, 'clf__solver': 'saga', 'pca': 'passthrough'}\n",
      "nan {'clf__C': 1.0, 'clf__class_weight': 'balanced', 'clf__l1_ratio': 0.1, 'clf__penalty': 'elastic_net', 'clf__random_state': 42, 'clf__solver': 'saga', 'pca': PCA(n_components=1)}\n",
      "nan {'clf__C': 1.0, 'clf__class_weight': 'balanced', 'clf__l1_ratio': 0.1, 'clf__penalty': 'elastic_net', 'clf__random_state': 42, 'clf__solver': 'saga', 'pca': PCA(n_components=3)}\n",
      "nan {'clf__C': 1.0, 'clf__class_weight': 'balanced', 'clf__l1_ratio': 0.1, 'clf__penalty': 'elastic_net', 'clf__random_state': 42, 'clf__solver': 'saga', 'pca': PCA(n_components=9)}\n",
      "nan {'clf__C': 1.0, 'clf__class_weight': 'balanced', 'clf__l1_ratio': 0.1, 'clf__penalty': 'elastic_net', 'clf__random_state': 42, 'clf__solver': 'saga', 'pca': PCA(n_components=10)}\n",
      "nan {'clf__C': 1.0, 'clf__class_weight': 'balanced', 'clf__l1_ratio': 0.1, 'clf__penalty': 'elastic_net', 'clf__random_state': 42, 'clf__solver': 'saga', 'pca': PCA(n_components=11)}\n",
      "nan {'clf__C': 1.0, 'clf__class_weight': 'balanced', 'clf__l1_ratio': 0.25, 'clf__penalty': 'elastic_net', 'clf__random_state': 42, 'clf__solver': 'saga', 'pca': 'passthrough'}\n",
      "nan {'clf__C': 1.0, 'clf__class_weight': 'balanced', 'clf__l1_ratio': 0.25, 'clf__penalty': 'elastic_net', 'clf__random_state': 42, 'clf__solver': 'saga', 'pca': PCA(n_components=1)}\n",
      "nan {'clf__C': 1.0, 'clf__class_weight': 'balanced', 'clf__l1_ratio': 0.25, 'clf__penalty': 'elastic_net', 'clf__random_state': 42, 'clf__solver': 'saga', 'pca': PCA(n_components=3)}\n",
      "nan {'clf__C': 1.0, 'clf__class_weight': 'balanced', 'clf__l1_ratio': 0.25, 'clf__penalty': 'elastic_net', 'clf__random_state': 42, 'clf__solver': 'saga', 'pca': PCA(n_components=9)}\n",
      "nan {'clf__C': 1.0, 'clf__class_weight': 'balanced', 'clf__l1_ratio': 0.25, 'clf__penalty': 'elastic_net', 'clf__random_state': 42, 'clf__solver': 'saga', 'pca': PCA(n_components=10)}\n",
      "nan {'clf__C': 1.0, 'clf__class_weight': 'balanced', 'clf__l1_ratio': 0.25, 'clf__penalty': 'elastic_net', 'clf__random_state': 42, 'clf__solver': 'saga', 'pca': PCA(n_components=11)}\n",
      "nan {'clf__C': 1.0, 'clf__class_weight': 'balanced', 'clf__l1_ratio': 0.5, 'clf__penalty': 'elastic_net', 'clf__random_state': 42, 'clf__solver': 'saga', 'pca': 'passthrough'}\n",
      "nan {'clf__C': 1.0, 'clf__class_weight': 'balanced', 'clf__l1_ratio': 0.5, 'clf__penalty': 'elastic_net', 'clf__random_state': 42, 'clf__solver': 'saga', 'pca': PCA(n_components=1)}\n",
      "nan {'clf__C': 1.0, 'clf__class_weight': 'balanced', 'clf__l1_ratio': 0.5, 'clf__penalty': 'elastic_net', 'clf__random_state': 42, 'clf__solver': 'saga', 'pca': PCA(n_components=3)}\n",
      "nan {'clf__C': 1.0, 'clf__class_weight': 'balanced', 'clf__l1_ratio': 0.5, 'clf__penalty': 'elastic_net', 'clf__random_state': 42, 'clf__solver': 'saga', 'pca': PCA(n_components=9)}\n",
      "nan {'clf__C': 1.0, 'clf__class_weight': 'balanced', 'clf__l1_ratio': 0.5, 'clf__penalty': 'elastic_net', 'clf__random_state': 42, 'clf__solver': 'saga', 'pca': PCA(n_components=10)}\n",
      "nan {'clf__C': 1.0, 'clf__class_weight': 'balanced', 'clf__l1_ratio': 0.5, 'clf__penalty': 'elastic_net', 'clf__random_state': 42, 'clf__solver': 'saga', 'pca': PCA(n_components=11)}\n",
      "nan {'clf__C': 1.0, 'clf__class_weight': 'balanced', 'clf__l1_ratio': 0.75, 'clf__penalty': 'elastic_net', 'clf__random_state': 42, 'clf__solver': 'saga', 'pca': 'passthrough'}\n",
      "nan {'clf__C': 1.0, 'clf__class_weight': 'balanced', 'clf__l1_ratio': 0.75, 'clf__penalty': 'elastic_net', 'clf__random_state': 42, 'clf__solver': 'saga', 'pca': PCA(n_components=1)}\n",
      "nan {'clf__C': 1.0, 'clf__class_weight': 'balanced', 'clf__l1_ratio': 0.75, 'clf__penalty': 'elastic_net', 'clf__random_state': 42, 'clf__solver': 'saga', 'pca': PCA(n_components=3)}\n",
      "nan {'clf__C': 1.0, 'clf__class_weight': 'balanced', 'clf__l1_ratio': 0.75, 'clf__penalty': 'elastic_net', 'clf__random_state': 42, 'clf__solver': 'saga', 'pca': PCA(n_components=9)}\n",
      "nan {'clf__C': 1.0, 'clf__class_weight': 'balanced', 'clf__l1_ratio': 0.75, 'clf__penalty': 'elastic_net', 'clf__random_state': 42, 'clf__solver': 'saga', 'pca': PCA(n_components=10)}\n",
      "nan {'clf__C': 1.0, 'clf__class_weight': 'balanced', 'clf__l1_ratio': 0.75, 'clf__penalty': 'elastic_net', 'clf__random_state': 42, 'clf__solver': 'saga', 'pca': PCA(n_components=11)}\n",
      "nan {'clf__C': 1.0, 'clf__class_weight': 'balanced', 'clf__l1_ratio': 1.0, 'clf__penalty': 'elastic_net', 'clf__random_state': 42, 'clf__solver': 'saga', 'pca': 'passthrough'}\n",
      "nan {'clf__C': 1.0, 'clf__class_weight': 'balanced', 'clf__l1_ratio': 1.0, 'clf__penalty': 'elastic_net', 'clf__random_state': 42, 'clf__solver': 'saga', 'pca': PCA(n_components=1)}\n",
      "nan {'clf__C': 1.0, 'clf__class_weight': 'balanced', 'clf__l1_ratio': 1.0, 'clf__penalty': 'elastic_net', 'clf__random_state': 42, 'clf__solver': 'saga', 'pca': PCA(n_components=3)}\n",
      "nan {'clf__C': 1.0, 'clf__class_weight': 'balanced', 'clf__l1_ratio': 1.0, 'clf__penalty': 'elastic_net', 'clf__random_state': 42, 'clf__solver': 'saga', 'pca': PCA(n_components=9)}\n",
      "nan {'clf__C': 1.0, 'clf__class_weight': 'balanced', 'clf__l1_ratio': 1.0, 'clf__penalty': 'elastic_net', 'clf__random_state': 42, 'clf__solver': 'saga', 'pca': PCA(n_components=10)}\n",
      "nan {'clf__C': 1.0, 'clf__class_weight': 'balanced', 'clf__l1_ratio': 1.0, 'clf__penalty': 'elastic_net', 'clf__random_state': 42, 'clf__solver': 'saga', 'pca': PCA(n_components=11)}\n",
      "nan {'clf__C': 1.25, 'clf__class_weight': None, 'clf__l1_ratio': 0.0, 'clf__penalty': 'elastic_net', 'clf__random_state': 42, 'clf__solver': 'saga', 'pca': 'passthrough'}\n",
      "nan {'clf__C': 1.25, 'clf__class_weight': None, 'clf__l1_ratio': 0.0, 'clf__penalty': 'elastic_net', 'clf__random_state': 42, 'clf__solver': 'saga', 'pca': PCA(n_components=1)}\n",
      "nan {'clf__C': 1.25, 'clf__class_weight': None, 'clf__l1_ratio': 0.0, 'clf__penalty': 'elastic_net', 'clf__random_state': 42, 'clf__solver': 'saga', 'pca': PCA(n_components=3)}\n",
      "nan {'clf__C': 1.25, 'clf__class_weight': None, 'clf__l1_ratio': 0.0, 'clf__penalty': 'elastic_net', 'clf__random_state': 42, 'clf__solver': 'saga', 'pca': PCA(n_components=9)}\n",
      "nan {'clf__C': 1.25, 'clf__class_weight': None, 'clf__l1_ratio': 0.0, 'clf__penalty': 'elastic_net', 'clf__random_state': 42, 'clf__solver': 'saga', 'pca': PCA(n_components=10)}\n",
      "nan {'clf__C': 1.25, 'clf__class_weight': None, 'clf__l1_ratio': 0.0, 'clf__penalty': 'elastic_net', 'clf__random_state': 42, 'clf__solver': 'saga', 'pca': PCA(n_components=11)}\n",
      "nan {'clf__C': 1.25, 'clf__class_weight': None, 'clf__l1_ratio': 0.1, 'clf__penalty': 'elastic_net', 'clf__random_state': 42, 'clf__solver': 'saga', 'pca': 'passthrough'}\n",
      "nan {'clf__C': 1.25, 'clf__class_weight': None, 'clf__l1_ratio': 0.1, 'clf__penalty': 'elastic_net', 'clf__random_state': 42, 'clf__solver': 'saga', 'pca': PCA(n_components=1)}\n",
      "nan {'clf__C': 1.25, 'clf__class_weight': None, 'clf__l1_ratio': 0.1, 'clf__penalty': 'elastic_net', 'clf__random_state': 42, 'clf__solver': 'saga', 'pca': PCA(n_components=3)}\n",
      "nan {'clf__C': 1.25, 'clf__class_weight': None, 'clf__l1_ratio': 0.1, 'clf__penalty': 'elastic_net', 'clf__random_state': 42, 'clf__solver': 'saga', 'pca': PCA(n_components=9)}\n",
      "nan {'clf__C': 1.25, 'clf__class_weight': None, 'clf__l1_ratio': 0.1, 'clf__penalty': 'elastic_net', 'clf__random_state': 42, 'clf__solver': 'saga', 'pca': PCA(n_components=10)}\n",
      "nan {'clf__C': 1.25, 'clf__class_weight': None, 'clf__l1_ratio': 0.1, 'clf__penalty': 'elastic_net', 'clf__random_state': 42, 'clf__solver': 'saga', 'pca': PCA(n_components=11)}\n",
      "nan {'clf__C': 1.25, 'clf__class_weight': None, 'clf__l1_ratio': 0.25, 'clf__penalty': 'elastic_net', 'clf__random_state': 42, 'clf__solver': 'saga', 'pca': 'passthrough'}\n",
      "nan {'clf__C': 1.25, 'clf__class_weight': None, 'clf__l1_ratio': 0.25, 'clf__penalty': 'elastic_net', 'clf__random_state': 42, 'clf__solver': 'saga', 'pca': PCA(n_components=1)}\n",
      "nan {'clf__C': 1.25, 'clf__class_weight': None, 'clf__l1_ratio': 0.25, 'clf__penalty': 'elastic_net', 'clf__random_state': 42, 'clf__solver': 'saga', 'pca': PCA(n_components=3)}\n",
      "nan {'clf__C': 1.25, 'clf__class_weight': None, 'clf__l1_ratio': 0.25, 'clf__penalty': 'elastic_net', 'clf__random_state': 42, 'clf__solver': 'saga', 'pca': PCA(n_components=9)}\n",
      "nan {'clf__C': 1.25, 'clf__class_weight': None, 'clf__l1_ratio': 0.25, 'clf__penalty': 'elastic_net', 'clf__random_state': 42, 'clf__solver': 'saga', 'pca': PCA(n_components=10)}\n",
      "nan {'clf__C': 1.25, 'clf__class_weight': None, 'clf__l1_ratio': 0.25, 'clf__penalty': 'elastic_net', 'clf__random_state': 42, 'clf__solver': 'saga', 'pca': PCA(n_components=11)}\n",
      "nan {'clf__C': 1.25, 'clf__class_weight': None, 'clf__l1_ratio': 0.5, 'clf__penalty': 'elastic_net', 'clf__random_state': 42, 'clf__solver': 'saga', 'pca': 'passthrough'}\n",
      "nan {'clf__C': 1.25, 'clf__class_weight': None, 'clf__l1_ratio': 0.5, 'clf__penalty': 'elastic_net', 'clf__random_state': 42, 'clf__solver': 'saga', 'pca': PCA(n_components=1)}\n",
      "nan {'clf__C': 1.25, 'clf__class_weight': None, 'clf__l1_ratio': 0.5, 'clf__penalty': 'elastic_net', 'clf__random_state': 42, 'clf__solver': 'saga', 'pca': PCA(n_components=3)}\n",
      "nan {'clf__C': 1.25, 'clf__class_weight': None, 'clf__l1_ratio': 0.5, 'clf__penalty': 'elastic_net', 'clf__random_state': 42, 'clf__solver': 'saga', 'pca': PCA(n_components=9)}\n",
      "nan {'clf__C': 1.25, 'clf__class_weight': None, 'clf__l1_ratio': 0.5, 'clf__penalty': 'elastic_net', 'clf__random_state': 42, 'clf__solver': 'saga', 'pca': PCA(n_components=10)}\n",
      "nan {'clf__C': 1.25, 'clf__class_weight': None, 'clf__l1_ratio': 0.5, 'clf__penalty': 'elastic_net', 'clf__random_state': 42, 'clf__solver': 'saga', 'pca': PCA(n_components=11)}\n",
      "nan {'clf__C': 1.25, 'clf__class_weight': None, 'clf__l1_ratio': 0.75, 'clf__penalty': 'elastic_net', 'clf__random_state': 42, 'clf__solver': 'saga', 'pca': 'passthrough'}\n",
      "nan {'clf__C': 1.25, 'clf__class_weight': None, 'clf__l1_ratio': 0.75, 'clf__penalty': 'elastic_net', 'clf__random_state': 42, 'clf__solver': 'saga', 'pca': PCA(n_components=1)}\n",
      "nan {'clf__C': 1.25, 'clf__class_weight': None, 'clf__l1_ratio': 0.75, 'clf__penalty': 'elastic_net', 'clf__random_state': 42, 'clf__solver': 'saga', 'pca': PCA(n_components=3)}\n",
      "nan {'clf__C': 1.25, 'clf__class_weight': None, 'clf__l1_ratio': 0.75, 'clf__penalty': 'elastic_net', 'clf__random_state': 42, 'clf__solver': 'saga', 'pca': PCA(n_components=9)}\n",
      "nan {'clf__C': 1.25, 'clf__class_weight': None, 'clf__l1_ratio': 0.75, 'clf__penalty': 'elastic_net', 'clf__random_state': 42, 'clf__solver': 'saga', 'pca': PCA(n_components=10)}\n",
      "nan {'clf__C': 1.25, 'clf__class_weight': None, 'clf__l1_ratio': 0.75, 'clf__penalty': 'elastic_net', 'clf__random_state': 42, 'clf__solver': 'saga', 'pca': PCA(n_components=11)}\n",
      "nan {'clf__C': 1.25, 'clf__class_weight': None, 'clf__l1_ratio': 1.0, 'clf__penalty': 'elastic_net', 'clf__random_state': 42, 'clf__solver': 'saga', 'pca': 'passthrough'}\n",
      "nan {'clf__C': 1.25, 'clf__class_weight': None, 'clf__l1_ratio': 1.0, 'clf__penalty': 'elastic_net', 'clf__random_state': 42, 'clf__solver': 'saga', 'pca': PCA(n_components=1)}\n",
      "nan {'clf__C': 1.25, 'clf__class_weight': None, 'clf__l1_ratio': 1.0, 'clf__penalty': 'elastic_net', 'clf__random_state': 42, 'clf__solver': 'saga', 'pca': PCA(n_components=3)}\n",
      "nan {'clf__C': 1.25, 'clf__class_weight': None, 'clf__l1_ratio': 1.0, 'clf__penalty': 'elastic_net', 'clf__random_state': 42, 'clf__solver': 'saga', 'pca': PCA(n_components=9)}\n",
      "nan {'clf__C': 1.25, 'clf__class_weight': None, 'clf__l1_ratio': 1.0, 'clf__penalty': 'elastic_net', 'clf__random_state': 42, 'clf__solver': 'saga', 'pca': PCA(n_components=10)}\n",
      "nan {'clf__C': 1.25, 'clf__class_weight': None, 'clf__l1_ratio': 1.0, 'clf__penalty': 'elastic_net', 'clf__random_state': 42, 'clf__solver': 'saga', 'pca': PCA(n_components=11)}\n",
      "nan {'clf__C': 1.25, 'clf__class_weight': 'balanced', 'clf__l1_ratio': 0.0, 'clf__penalty': 'elastic_net', 'clf__random_state': 42, 'clf__solver': 'saga', 'pca': 'passthrough'}\n",
      "nan {'clf__C': 1.25, 'clf__class_weight': 'balanced', 'clf__l1_ratio': 0.0, 'clf__penalty': 'elastic_net', 'clf__random_state': 42, 'clf__solver': 'saga', 'pca': PCA(n_components=1)}\n",
      "nan {'clf__C': 1.25, 'clf__class_weight': 'balanced', 'clf__l1_ratio': 0.0, 'clf__penalty': 'elastic_net', 'clf__random_state': 42, 'clf__solver': 'saga', 'pca': PCA(n_components=3)}\n",
      "nan {'clf__C': 1.25, 'clf__class_weight': 'balanced', 'clf__l1_ratio': 0.0, 'clf__penalty': 'elastic_net', 'clf__random_state': 42, 'clf__solver': 'saga', 'pca': PCA(n_components=9)}\n",
      "nan {'clf__C': 1.25, 'clf__class_weight': 'balanced', 'clf__l1_ratio': 0.0, 'clf__penalty': 'elastic_net', 'clf__random_state': 42, 'clf__solver': 'saga', 'pca': PCA(n_components=10)}\n",
      "nan {'clf__C': 1.25, 'clf__class_weight': 'balanced', 'clf__l1_ratio': 0.0, 'clf__penalty': 'elastic_net', 'clf__random_state': 42, 'clf__solver': 'saga', 'pca': PCA(n_components=11)}\n",
      "nan {'clf__C': 1.25, 'clf__class_weight': 'balanced', 'clf__l1_ratio': 0.1, 'clf__penalty': 'elastic_net', 'clf__random_state': 42, 'clf__solver': 'saga', 'pca': 'passthrough'}\n",
      "nan {'clf__C': 1.25, 'clf__class_weight': 'balanced', 'clf__l1_ratio': 0.1, 'clf__penalty': 'elastic_net', 'clf__random_state': 42, 'clf__solver': 'saga', 'pca': PCA(n_components=1)}\n",
      "nan {'clf__C': 1.25, 'clf__class_weight': 'balanced', 'clf__l1_ratio': 0.1, 'clf__penalty': 'elastic_net', 'clf__random_state': 42, 'clf__solver': 'saga', 'pca': PCA(n_components=3)}\n",
      "nan {'clf__C': 1.25, 'clf__class_weight': 'balanced', 'clf__l1_ratio': 0.1, 'clf__penalty': 'elastic_net', 'clf__random_state': 42, 'clf__solver': 'saga', 'pca': PCA(n_components=9)}\n",
      "nan {'clf__C': 1.25, 'clf__class_weight': 'balanced', 'clf__l1_ratio': 0.1, 'clf__penalty': 'elastic_net', 'clf__random_state': 42, 'clf__solver': 'saga', 'pca': PCA(n_components=10)}\n",
      "nan {'clf__C': 1.25, 'clf__class_weight': 'balanced', 'clf__l1_ratio': 0.1, 'clf__penalty': 'elastic_net', 'clf__random_state': 42, 'clf__solver': 'saga', 'pca': PCA(n_components=11)}\n",
      "nan {'clf__C': 1.25, 'clf__class_weight': 'balanced', 'clf__l1_ratio': 0.25, 'clf__penalty': 'elastic_net', 'clf__random_state': 42, 'clf__solver': 'saga', 'pca': 'passthrough'}\n",
      "nan {'clf__C': 1.25, 'clf__class_weight': 'balanced', 'clf__l1_ratio': 0.25, 'clf__penalty': 'elastic_net', 'clf__random_state': 42, 'clf__solver': 'saga', 'pca': PCA(n_components=1)}\n",
      "nan {'clf__C': 1.25, 'clf__class_weight': 'balanced', 'clf__l1_ratio': 0.25, 'clf__penalty': 'elastic_net', 'clf__random_state': 42, 'clf__solver': 'saga', 'pca': PCA(n_components=3)}\n",
      "nan {'clf__C': 1.25, 'clf__class_weight': 'balanced', 'clf__l1_ratio': 0.25, 'clf__penalty': 'elastic_net', 'clf__random_state': 42, 'clf__solver': 'saga', 'pca': PCA(n_components=9)}\n",
      "nan {'clf__C': 1.25, 'clf__class_weight': 'balanced', 'clf__l1_ratio': 0.25, 'clf__penalty': 'elastic_net', 'clf__random_state': 42, 'clf__solver': 'saga', 'pca': PCA(n_components=10)}\n",
      "nan {'clf__C': 1.25, 'clf__class_weight': 'balanced', 'clf__l1_ratio': 0.25, 'clf__penalty': 'elastic_net', 'clf__random_state': 42, 'clf__solver': 'saga', 'pca': PCA(n_components=11)}\n",
      "nan {'clf__C': 1.25, 'clf__class_weight': 'balanced', 'clf__l1_ratio': 0.5, 'clf__penalty': 'elastic_net', 'clf__random_state': 42, 'clf__solver': 'saga', 'pca': 'passthrough'}\n",
      "nan {'clf__C': 1.25, 'clf__class_weight': 'balanced', 'clf__l1_ratio': 0.5, 'clf__penalty': 'elastic_net', 'clf__random_state': 42, 'clf__solver': 'saga', 'pca': PCA(n_components=1)}\n",
      "nan {'clf__C': 1.25, 'clf__class_weight': 'balanced', 'clf__l1_ratio': 0.5, 'clf__penalty': 'elastic_net', 'clf__random_state': 42, 'clf__solver': 'saga', 'pca': PCA(n_components=3)}\n",
      "nan {'clf__C': 1.25, 'clf__class_weight': 'balanced', 'clf__l1_ratio': 0.5, 'clf__penalty': 'elastic_net', 'clf__random_state': 42, 'clf__solver': 'saga', 'pca': PCA(n_components=9)}\n",
      "nan {'clf__C': 1.25, 'clf__class_weight': 'balanced', 'clf__l1_ratio': 0.5, 'clf__penalty': 'elastic_net', 'clf__random_state': 42, 'clf__solver': 'saga', 'pca': PCA(n_components=10)}\n",
      "nan {'clf__C': 1.25, 'clf__class_weight': 'balanced', 'clf__l1_ratio': 0.5, 'clf__penalty': 'elastic_net', 'clf__random_state': 42, 'clf__solver': 'saga', 'pca': PCA(n_components=11)}\n",
      "nan {'clf__C': 1.25, 'clf__class_weight': 'balanced', 'clf__l1_ratio': 0.75, 'clf__penalty': 'elastic_net', 'clf__random_state': 42, 'clf__solver': 'saga', 'pca': 'passthrough'}\n",
      "nan {'clf__C': 1.25, 'clf__class_weight': 'balanced', 'clf__l1_ratio': 0.75, 'clf__penalty': 'elastic_net', 'clf__random_state': 42, 'clf__solver': 'saga', 'pca': PCA(n_components=1)}\n",
      "nan {'clf__C': 1.25, 'clf__class_weight': 'balanced', 'clf__l1_ratio': 0.75, 'clf__penalty': 'elastic_net', 'clf__random_state': 42, 'clf__solver': 'saga', 'pca': PCA(n_components=3)}\n",
      "nan {'clf__C': 1.25, 'clf__class_weight': 'balanced', 'clf__l1_ratio': 0.75, 'clf__penalty': 'elastic_net', 'clf__random_state': 42, 'clf__solver': 'saga', 'pca': PCA(n_components=9)}\n",
      "nan {'clf__C': 1.25, 'clf__class_weight': 'balanced', 'clf__l1_ratio': 0.75, 'clf__penalty': 'elastic_net', 'clf__random_state': 42, 'clf__solver': 'saga', 'pca': PCA(n_components=10)}\n",
      "nan {'clf__C': 1.25, 'clf__class_weight': 'balanced', 'clf__l1_ratio': 0.75, 'clf__penalty': 'elastic_net', 'clf__random_state': 42, 'clf__solver': 'saga', 'pca': PCA(n_components=11)}\n",
      "nan {'clf__C': 1.25, 'clf__class_weight': 'balanced', 'clf__l1_ratio': 1.0, 'clf__penalty': 'elastic_net', 'clf__random_state': 42, 'clf__solver': 'saga', 'pca': 'passthrough'}\n",
      "nan {'clf__C': 1.25, 'clf__class_weight': 'balanced', 'clf__l1_ratio': 1.0, 'clf__penalty': 'elastic_net', 'clf__random_state': 42, 'clf__solver': 'saga', 'pca': PCA(n_components=1)}\n",
      "nan {'clf__C': 1.25, 'clf__class_weight': 'balanced', 'clf__l1_ratio': 1.0, 'clf__penalty': 'elastic_net', 'clf__random_state': 42, 'clf__solver': 'saga', 'pca': PCA(n_components=3)}\n",
      "nan {'clf__C': 1.25, 'clf__class_weight': 'balanced', 'clf__l1_ratio': 1.0, 'clf__penalty': 'elastic_net', 'clf__random_state': 42, 'clf__solver': 'saga', 'pca': PCA(n_components=9)}\n",
      "nan {'clf__C': 1.25, 'clf__class_weight': 'balanced', 'clf__l1_ratio': 1.0, 'clf__penalty': 'elastic_net', 'clf__random_state': 42, 'clf__solver': 'saga', 'pca': PCA(n_components=10)}\n",
      "nan {'clf__C': 1.25, 'clf__class_weight': 'balanced', 'clf__l1_ratio': 1.0, 'clf__penalty': 'elastic_net', 'clf__random_state': 42, 'clf__solver': 'saga', 'pca': PCA(n_components=11)}\n",
      "nan {'clf__C': 1.5, 'clf__class_weight': None, 'clf__l1_ratio': 0.0, 'clf__penalty': 'elastic_net', 'clf__random_state': 42, 'clf__solver': 'saga', 'pca': 'passthrough'}\n",
      "nan {'clf__C': 1.5, 'clf__class_weight': None, 'clf__l1_ratio': 0.0, 'clf__penalty': 'elastic_net', 'clf__random_state': 42, 'clf__solver': 'saga', 'pca': PCA(n_components=1)}\n",
      "nan {'clf__C': 1.5, 'clf__class_weight': None, 'clf__l1_ratio': 0.0, 'clf__penalty': 'elastic_net', 'clf__random_state': 42, 'clf__solver': 'saga', 'pca': PCA(n_components=3)}\n",
      "nan {'clf__C': 1.5, 'clf__class_weight': None, 'clf__l1_ratio': 0.0, 'clf__penalty': 'elastic_net', 'clf__random_state': 42, 'clf__solver': 'saga', 'pca': PCA(n_components=9)}\n",
      "nan {'clf__C': 1.5, 'clf__class_weight': None, 'clf__l1_ratio': 0.0, 'clf__penalty': 'elastic_net', 'clf__random_state': 42, 'clf__solver': 'saga', 'pca': PCA(n_components=10)}\n",
      "nan {'clf__C': 1.5, 'clf__class_weight': None, 'clf__l1_ratio': 0.0, 'clf__penalty': 'elastic_net', 'clf__random_state': 42, 'clf__solver': 'saga', 'pca': PCA(n_components=11)}\n",
      "nan {'clf__C': 1.5, 'clf__class_weight': None, 'clf__l1_ratio': 0.1, 'clf__penalty': 'elastic_net', 'clf__random_state': 42, 'clf__solver': 'saga', 'pca': 'passthrough'}\n",
      "nan {'clf__C': 1.5, 'clf__class_weight': None, 'clf__l1_ratio': 0.1, 'clf__penalty': 'elastic_net', 'clf__random_state': 42, 'clf__solver': 'saga', 'pca': PCA(n_components=1)}\n",
      "nan {'clf__C': 1.5, 'clf__class_weight': None, 'clf__l1_ratio': 0.1, 'clf__penalty': 'elastic_net', 'clf__random_state': 42, 'clf__solver': 'saga', 'pca': PCA(n_components=3)}\n",
      "nan {'clf__C': 1.5, 'clf__class_weight': None, 'clf__l1_ratio': 0.1, 'clf__penalty': 'elastic_net', 'clf__random_state': 42, 'clf__solver': 'saga', 'pca': PCA(n_components=9)}\n",
      "nan {'clf__C': 1.5, 'clf__class_weight': None, 'clf__l1_ratio': 0.1, 'clf__penalty': 'elastic_net', 'clf__random_state': 42, 'clf__solver': 'saga', 'pca': PCA(n_components=10)}\n",
      "nan {'clf__C': 1.5, 'clf__class_weight': None, 'clf__l1_ratio': 0.1, 'clf__penalty': 'elastic_net', 'clf__random_state': 42, 'clf__solver': 'saga', 'pca': PCA(n_components=11)}\n",
      "nan {'clf__C': 1.5, 'clf__class_weight': None, 'clf__l1_ratio': 0.25, 'clf__penalty': 'elastic_net', 'clf__random_state': 42, 'clf__solver': 'saga', 'pca': 'passthrough'}\n",
      "nan {'clf__C': 1.5, 'clf__class_weight': None, 'clf__l1_ratio': 0.25, 'clf__penalty': 'elastic_net', 'clf__random_state': 42, 'clf__solver': 'saga', 'pca': PCA(n_components=1)}\n",
      "nan {'clf__C': 1.5, 'clf__class_weight': None, 'clf__l1_ratio': 0.25, 'clf__penalty': 'elastic_net', 'clf__random_state': 42, 'clf__solver': 'saga', 'pca': PCA(n_components=3)}\n",
      "nan {'clf__C': 1.5, 'clf__class_weight': None, 'clf__l1_ratio': 0.25, 'clf__penalty': 'elastic_net', 'clf__random_state': 42, 'clf__solver': 'saga', 'pca': PCA(n_components=9)}\n",
      "nan {'clf__C': 1.5, 'clf__class_weight': None, 'clf__l1_ratio': 0.25, 'clf__penalty': 'elastic_net', 'clf__random_state': 42, 'clf__solver': 'saga', 'pca': PCA(n_components=10)}\n",
      "nan {'clf__C': 1.5, 'clf__class_weight': None, 'clf__l1_ratio': 0.25, 'clf__penalty': 'elastic_net', 'clf__random_state': 42, 'clf__solver': 'saga', 'pca': PCA(n_components=11)}\n",
      "nan {'clf__C': 1.5, 'clf__class_weight': None, 'clf__l1_ratio': 0.5, 'clf__penalty': 'elastic_net', 'clf__random_state': 42, 'clf__solver': 'saga', 'pca': 'passthrough'}\n",
      "nan {'clf__C': 1.5, 'clf__class_weight': None, 'clf__l1_ratio': 0.5, 'clf__penalty': 'elastic_net', 'clf__random_state': 42, 'clf__solver': 'saga', 'pca': PCA(n_components=1)}\n",
      "nan {'clf__C': 1.5, 'clf__class_weight': None, 'clf__l1_ratio': 0.5, 'clf__penalty': 'elastic_net', 'clf__random_state': 42, 'clf__solver': 'saga', 'pca': PCA(n_components=3)}\n",
      "nan {'clf__C': 1.5, 'clf__class_weight': None, 'clf__l1_ratio': 0.5, 'clf__penalty': 'elastic_net', 'clf__random_state': 42, 'clf__solver': 'saga', 'pca': PCA(n_components=9)}\n",
      "nan {'clf__C': 1.5, 'clf__class_weight': None, 'clf__l1_ratio': 0.5, 'clf__penalty': 'elastic_net', 'clf__random_state': 42, 'clf__solver': 'saga', 'pca': PCA(n_components=10)}\n",
      "nan {'clf__C': 1.5, 'clf__class_weight': None, 'clf__l1_ratio': 0.5, 'clf__penalty': 'elastic_net', 'clf__random_state': 42, 'clf__solver': 'saga', 'pca': PCA(n_components=11)}\n",
      "nan {'clf__C': 1.5, 'clf__class_weight': None, 'clf__l1_ratio': 0.75, 'clf__penalty': 'elastic_net', 'clf__random_state': 42, 'clf__solver': 'saga', 'pca': 'passthrough'}\n",
      "nan {'clf__C': 1.5, 'clf__class_weight': None, 'clf__l1_ratio': 0.75, 'clf__penalty': 'elastic_net', 'clf__random_state': 42, 'clf__solver': 'saga', 'pca': PCA(n_components=1)}\n",
      "nan {'clf__C': 1.5, 'clf__class_weight': None, 'clf__l1_ratio': 0.75, 'clf__penalty': 'elastic_net', 'clf__random_state': 42, 'clf__solver': 'saga', 'pca': PCA(n_components=3)}\n",
      "nan {'clf__C': 1.5, 'clf__class_weight': None, 'clf__l1_ratio': 0.75, 'clf__penalty': 'elastic_net', 'clf__random_state': 42, 'clf__solver': 'saga', 'pca': PCA(n_components=9)}\n",
      "nan {'clf__C': 1.5, 'clf__class_weight': None, 'clf__l1_ratio': 0.75, 'clf__penalty': 'elastic_net', 'clf__random_state': 42, 'clf__solver': 'saga', 'pca': PCA(n_components=10)}\n",
      "nan {'clf__C': 1.5, 'clf__class_weight': None, 'clf__l1_ratio': 0.75, 'clf__penalty': 'elastic_net', 'clf__random_state': 42, 'clf__solver': 'saga', 'pca': PCA(n_components=11)}\n",
      "nan {'clf__C': 1.5, 'clf__class_weight': None, 'clf__l1_ratio': 1.0, 'clf__penalty': 'elastic_net', 'clf__random_state': 42, 'clf__solver': 'saga', 'pca': 'passthrough'}\n",
      "nan {'clf__C': 1.5, 'clf__class_weight': None, 'clf__l1_ratio': 1.0, 'clf__penalty': 'elastic_net', 'clf__random_state': 42, 'clf__solver': 'saga', 'pca': PCA(n_components=1)}\n",
      "nan {'clf__C': 1.5, 'clf__class_weight': None, 'clf__l1_ratio': 1.0, 'clf__penalty': 'elastic_net', 'clf__random_state': 42, 'clf__solver': 'saga', 'pca': PCA(n_components=3)}\n",
      "nan {'clf__C': 1.5, 'clf__class_weight': None, 'clf__l1_ratio': 1.0, 'clf__penalty': 'elastic_net', 'clf__random_state': 42, 'clf__solver': 'saga', 'pca': PCA(n_components=9)}\n",
      "nan {'clf__C': 1.5, 'clf__class_weight': None, 'clf__l1_ratio': 1.0, 'clf__penalty': 'elastic_net', 'clf__random_state': 42, 'clf__solver': 'saga', 'pca': PCA(n_components=10)}\n",
      "nan {'clf__C': 1.5, 'clf__class_weight': None, 'clf__l1_ratio': 1.0, 'clf__penalty': 'elastic_net', 'clf__random_state': 42, 'clf__solver': 'saga', 'pca': PCA(n_components=11)}\n",
      "nan {'clf__C': 1.5, 'clf__class_weight': 'balanced', 'clf__l1_ratio': 0.0, 'clf__penalty': 'elastic_net', 'clf__random_state': 42, 'clf__solver': 'saga', 'pca': 'passthrough'}\n",
      "nan {'clf__C': 1.5, 'clf__class_weight': 'balanced', 'clf__l1_ratio': 0.0, 'clf__penalty': 'elastic_net', 'clf__random_state': 42, 'clf__solver': 'saga', 'pca': PCA(n_components=1)}\n",
      "nan {'clf__C': 1.5, 'clf__class_weight': 'balanced', 'clf__l1_ratio': 0.0, 'clf__penalty': 'elastic_net', 'clf__random_state': 42, 'clf__solver': 'saga', 'pca': PCA(n_components=3)}\n",
      "nan {'clf__C': 1.5, 'clf__class_weight': 'balanced', 'clf__l1_ratio': 0.0, 'clf__penalty': 'elastic_net', 'clf__random_state': 42, 'clf__solver': 'saga', 'pca': PCA(n_components=9)}\n",
      "nan {'clf__C': 1.5, 'clf__class_weight': 'balanced', 'clf__l1_ratio': 0.0, 'clf__penalty': 'elastic_net', 'clf__random_state': 42, 'clf__solver': 'saga', 'pca': PCA(n_components=10)}\n",
      "nan {'clf__C': 1.5, 'clf__class_weight': 'balanced', 'clf__l1_ratio': 0.0, 'clf__penalty': 'elastic_net', 'clf__random_state': 42, 'clf__solver': 'saga', 'pca': PCA(n_components=11)}\n",
      "nan {'clf__C': 1.5, 'clf__class_weight': 'balanced', 'clf__l1_ratio': 0.1, 'clf__penalty': 'elastic_net', 'clf__random_state': 42, 'clf__solver': 'saga', 'pca': 'passthrough'}\n",
      "nan {'clf__C': 1.5, 'clf__class_weight': 'balanced', 'clf__l1_ratio': 0.1, 'clf__penalty': 'elastic_net', 'clf__random_state': 42, 'clf__solver': 'saga', 'pca': PCA(n_components=1)}\n",
      "nan {'clf__C': 1.5, 'clf__class_weight': 'balanced', 'clf__l1_ratio': 0.1, 'clf__penalty': 'elastic_net', 'clf__random_state': 42, 'clf__solver': 'saga', 'pca': PCA(n_components=3)}\n",
      "nan {'clf__C': 1.5, 'clf__class_weight': 'balanced', 'clf__l1_ratio': 0.1, 'clf__penalty': 'elastic_net', 'clf__random_state': 42, 'clf__solver': 'saga', 'pca': PCA(n_components=9)}\n",
      "nan {'clf__C': 1.5, 'clf__class_weight': 'balanced', 'clf__l1_ratio': 0.1, 'clf__penalty': 'elastic_net', 'clf__random_state': 42, 'clf__solver': 'saga', 'pca': PCA(n_components=10)}\n",
      "nan {'clf__C': 1.5, 'clf__class_weight': 'balanced', 'clf__l1_ratio': 0.1, 'clf__penalty': 'elastic_net', 'clf__random_state': 42, 'clf__solver': 'saga', 'pca': PCA(n_components=11)}\n",
      "nan {'clf__C': 1.5, 'clf__class_weight': 'balanced', 'clf__l1_ratio': 0.25, 'clf__penalty': 'elastic_net', 'clf__random_state': 42, 'clf__solver': 'saga', 'pca': 'passthrough'}\n",
      "nan {'clf__C': 1.5, 'clf__class_weight': 'balanced', 'clf__l1_ratio': 0.25, 'clf__penalty': 'elastic_net', 'clf__random_state': 42, 'clf__solver': 'saga', 'pca': PCA(n_components=1)}\n",
      "nan {'clf__C': 1.5, 'clf__class_weight': 'balanced', 'clf__l1_ratio': 0.25, 'clf__penalty': 'elastic_net', 'clf__random_state': 42, 'clf__solver': 'saga', 'pca': PCA(n_components=3)}\n",
      "nan {'clf__C': 1.5, 'clf__class_weight': 'balanced', 'clf__l1_ratio': 0.25, 'clf__penalty': 'elastic_net', 'clf__random_state': 42, 'clf__solver': 'saga', 'pca': PCA(n_components=9)}\n",
      "nan {'clf__C': 1.5, 'clf__class_weight': 'balanced', 'clf__l1_ratio': 0.25, 'clf__penalty': 'elastic_net', 'clf__random_state': 42, 'clf__solver': 'saga', 'pca': PCA(n_components=10)}\n",
      "nan {'clf__C': 1.5, 'clf__class_weight': 'balanced', 'clf__l1_ratio': 0.25, 'clf__penalty': 'elastic_net', 'clf__random_state': 42, 'clf__solver': 'saga', 'pca': PCA(n_components=11)}\n",
      "nan {'clf__C': 1.5, 'clf__class_weight': 'balanced', 'clf__l1_ratio': 0.5, 'clf__penalty': 'elastic_net', 'clf__random_state': 42, 'clf__solver': 'saga', 'pca': 'passthrough'}\n",
      "nan {'clf__C': 1.5, 'clf__class_weight': 'balanced', 'clf__l1_ratio': 0.5, 'clf__penalty': 'elastic_net', 'clf__random_state': 42, 'clf__solver': 'saga', 'pca': PCA(n_components=1)}\n",
      "nan {'clf__C': 1.5, 'clf__class_weight': 'balanced', 'clf__l1_ratio': 0.5, 'clf__penalty': 'elastic_net', 'clf__random_state': 42, 'clf__solver': 'saga', 'pca': PCA(n_components=3)}\n",
      "nan {'clf__C': 1.5, 'clf__class_weight': 'balanced', 'clf__l1_ratio': 0.5, 'clf__penalty': 'elastic_net', 'clf__random_state': 42, 'clf__solver': 'saga', 'pca': PCA(n_components=9)}\n",
      "nan {'clf__C': 1.5, 'clf__class_weight': 'balanced', 'clf__l1_ratio': 0.5, 'clf__penalty': 'elastic_net', 'clf__random_state': 42, 'clf__solver': 'saga', 'pca': PCA(n_components=10)}\n",
      "nan {'clf__C': 1.5, 'clf__class_weight': 'balanced', 'clf__l1_ratio': 0.5, 'clf__penalty': 'elastic_net', 'clf__random_state': 42, 'clf__solver': 'saga', 'pca': PCA(n_components=11)}\n",
      "nan {'clf__C': 1.5, 'clf__class_weight': 'balanced', 'clf__l1_ratio': 0.75, 'clf__penalty': 'elastic_net', 'clf__random_state': 42, 'clf__solver': 'saga', 'pca': 'passthrough'}\n",
      "nan {'clf__C': 1.5, 'clf__class_weight': 'balanced', 'clf__l1_ratio': 0.75, 'clf__penalty': 'elastic_net', 'clf__random_state': 42, 'clf__solver': 'saga', 'pca': PCA(n_components=1)}\n",
      "nan {'clf__C': 1.5, 'clf__class_weight': 'balanced', 'clf__l1_ratio': 0.75, 'clf__penalty': 'elastic_net', 'clf__random_state': 42, 'clf__solver': 'saga', 'pca': PCA(n_components=3)}\n",
      "nan {'clf__C': 1.5, 'clf__class_weight': 'balanced', 'clf__l1_ratio': 0.75, 'clf__penalty': 'elastic_net', 'clf__random_state': 42, 'clf__solver': 'saga', 'pca': PCA(n_components=9)}\n",
      "nan {'clf__C': 1.5, 'clf__class_weight': 'balanced', 'clf__l1_ratio': 0.75, 'clf__penalty': 'elastic_net', 'clf__random_state': 42, 'clf__solver': 'saga', 'pca': PCA(n_components=10)}\n",
      "nan {'clf__C': 1.5, 'clf__class_weight': 'balanced', 'clf__l1_ratio': 0.75, 'clf__penalty': 'elastic_net', 'clf__random_state': 42, 'clf__solver': 'saga', 'pca': PCA(n_components=11)}\n",
      "nan {'clf__C': 1.5, 'clf__class_weight': 'balanced', 'clf__l1_ratio': 1.0, 'clf__penalty': 'elastic_net', 'clf__random_state': 42, 'clf__solver': 'saga', 'pca': 'passthrough'}\n",
      "nan {'clf__C': 1.5, 'clf__class_weight': 'balanced', 'clf__l1_ratio': 1.0, 'clf__penalty': 'elastic_net', 'clf__random_state': 42, 'clf__solver': 'saga', 'pca': PCA(n_components=1)}\n",
      "nan {'clf__C': 1.5, 'clf__class_weight': 'balanced', 'clf__l1_ratio': 1.0, 'clf__penalty': 'elastic_net', 'clf__random_state': 42, 'clf__solver': 'saga', 'pca': PCA(n_components=3)}\n",
      "nan {'clf__C': 1.5, 'clf__class_weight': 'balanced', 'clf__l1_ratio': 1.0, 'clf__penalty': 'elastic_net', 'clf__random_state': 42, 'clf__solver': 'saga', 'pca': PCA(n_components=9)}\n",
      "nan {'clf__C': 1.5, 'clf__class_weight': 'balanced', 'clf__l1_ratio': 1.0, 'clf__penalty': 'elastic_net', 'clf__random_state': 42, 'clf__solver': 'saga', 'pca': PCA(n_components=10)}\n",
      "nan {'clf__C': 1.5, 'clf__class_weight': 'balanced', 'clf__l1_ratio': 1.0, 'clf__penalty': 'elastic_net', 'clf__random_state': 42, 'clf__solver': 'saga', 'pca': PCA(n_components=11)}\n",
      "nan {'clf__C': 1.75, 'clf__class_weight': None, 'clf__l1_ratio': 0.0, 'clf__penalty': 'elastic_net', 'clf__random_state': 42, 'clf__solver': 'saga', 'pca': 'passthrough'}\n",
      "nan {'clf__C': 1.75, 'clf__class_weight': None, 'clf__l1_ratio': 0.0, 'clf__penalty': 'elastic_net', 'clf__random_state': 42, 'clf__solver': 'saga', 'pca': PCA(n_components=1)}\n",
      "nan {'clf__C': 1.75, 'clf__class_weight': None, 'clf__l1_ratio': 0.0, 'clf__penalty': 'elastic_net', 'clf__random_state': 42, 'clf__solver': 'saga', 'pca': PCA(n_components=3)}\n",
      "nan {'clf__C': 1.75, 'clf__class_weight': None, 'clf__l1_ratio': 0.0, 'clf__penalty': 'elastic_net', 'clf__random_state': 42, 'clf__solver': 'saga', 'pca': PCA(n_components=9)}\n",
      "nan {'clf__C': 1.75, 'clf__class_weight': None, 'clf__l1_ratio': 0.0, 'clf__penalty': 'elastic_net', 'clf__random_state': 42, 'clf__solver': 'saga', 'pca': PCA(n_components=10)}\n",
      "nan {'clf__C': 1.75, 'clf__class_weight': None, 'clf__l1_ratio': 0.0, 'clf__penalty': 'elastic_net', 'clf__random_state': 42, 'clf__solver': 'saga', 'pca': PCA(n_components=11)}\n",
      "nan {'clf__C': 1.75, 'clf__class_weight': None, 'clf__l1_ratio': 0.1, 'clf__penalty': 'elastic_net', 'clf__random_state': 42, 'clf__solver': 'saga', 'pca': 'passthrough'}\n",
      "nan {'clf__C': 1.75, 'clf__class_weight': None, 'clf__l1_ratio': 0.1, 'clf__penalty': 'elastic_net', 'clf__random_state': 42, 'clf__solver': 'saga', 'pca': PCA(n_components=1)}\n",
      "nan {'clf__C': 1.75, 'clf__class_weight': None, 'clf__l1_ratio': 0.1, 'clf__penalty': 'elastic_net', 'clf__random_state': 42, 'clf__solver': 'saga', 'pca': PCA(n_components=3)}\n",
      "nan {'clf__C': 1.75, 'clf__class_weight': None, 'clf__l1_ratio': 0.1, 'clf__penalty': 'elastic_net', 'clf__random_state': 42, 'clf__solver': 'saga', 'pca': PCA(n_components=9)}\n",
      "nan {'clf__C': 1.75, 'clf__class_weight': None, 'clf__l1_ratio': 0.1, 'clf__penalty': 'elastic_net', 'clf__random_state': 42, 'clf__solver': 'saga', 'pca': PCA(n_components=10)}\n",
      "nan {'clf__C': 1.75, 'clf__class_weight': None, 'clf__l1_ratio': 0.1, 'clf__penalty': 'elastic_net', 'clf__random_state': 42, 'clf__solver': 'saga', 'pca': PCA(n_components=11)}\n",
      "nan {'clf__C': 1.75, 'clf__class_weight': None, 'clf__l1_ratio': 0.25, 'clf__penalty': 'elastic_net', 'clf__random_state': 42, 'clf__solver': 'saga', 'pca': 'passthrough'}\n",
      "nan {'clf__C': 1.75, 'clf__class_weight': None, 'clf__l1_ratio': 0.25, 'clf__penalty': 'elastic_net', 'clf__random_state': 42, 'clf__solver': 'saga', 'pca': PCA(n_components=1)}\n",
      "nan {'clf__C': 1.75, 'clf__class_weight': None, 'clf__l1_ratio': 0.25, 'clf__penalty': 'elastic_net', 'clf__random_state': 42, 'clf__solver': 'saga', 'pca': PCA(n_components=3)}\n",
      "nan {'clf__C': 1.75, 'clf__class_weight': None, 'clf__l1_ratio': 0.25, 'clf__penalty': 'elastic_net', 'clf__random_state': 42, 'clf__solver': 'saga', 'pca': PCA(n_components=9)}\n",
      "nan {'clf__C': 1.75, 'clf__class_weight': None, 'clf__l1_ratio': 0.25, 'clf__penalty': 'elastic_net', 'clf__random_state': 42, 'clf__solver': 'saga', 'pca': PCA(n_components=10)}\n",
      "nan {'clf__C': 1.75, 'clf__class_weight': None, 'clf__l1_ratio': 0.25, 'clf__penalty': 'elastic_net', 'clf__random_state': 42, 'clf__solver': 'saga', 'pca': PCA(n_components=11)}\n",
      "nan {'clf__C': 1.75, 'clf__class_weight': None, 'clf__l1_ratio': 0.5, 'clf__penalty': 'elastic_net', 'clf__random_state': 42, 'clf__solver': 'saga', 'pca': 'passthrough'}\n",
      "nan {'clf__C': 1.75, 'clf__class_weight': None, 'clf__l1_ratio': 0.5, 'clf__penalty': 'elastic_net', 'clf__random_state': 42, 'clf__solver': 'saga', 'pca': PCA(n_components=1)}\n",
      "nan {'clf__C': 1.75, 'clf__class_weight': None, 'clf__l1_ratio': 0.5, 'clf__penalty': 'elastic_net', 'clf__random_state': 42, 'clf__solver': 'saga', 'pca': PCA(n_components=3)}\n",
      "nan {'clf__C': 1.75, 'clf__class_weight': None, 'clf__l1_ratio': 0.5, 'clf__penalty': 'elastic_net', 'clf__random_state': 42, 'clf__solver': 'saga', 'pca': PCA(n_components=9)}\n",
      "nan {'clf__C': 1.75, 'clf__class_weight': None, 'clf__l1_ratio': 0.5, 'clf__penalty': 'elastic_net', 'clf__random_state': 42, 'clf__solver': 'saga', 'pca': PCA(n_components=10)}\n",
      "nan {'clf__C': 1.75, 'clf__class_weight': None, 'clf__l1_ratio': 0.5, 'clf__penalty': 'elastic_net', 'clf__random_state': 42, 'clf__solver': 'saga', 'pca': PCA(n_components=11)}\n",
      "nan {'clf__C': 1.75, 'clf__class_weight': None, 'clf__l1_ratio': 0.75, 'clf__penalty': 'elastic_net', 'clf__random_state': 42, 'clf__solver': 'saga', 'pca': 'passthrough'}\n",
      "nan {'clf__C': 1.75, 'clf__class_weight': None, 'clf__l1_ratio': 0.75, 'clf__penalty': 'elastic_net', 'clf__random_state': 42, 'clf__solver': 'saga', 'pca': PCA(n_components=1)}\n",
      "nan {'clf__C': 1.75, 'clf__class_weight': None, 'clf__l1_ratio': 0.75, 'clf__penalty': 'elastic_net', 'clf__random_state': 42, 'clf__solver': 'saga', 'pca': PCA(n_components=3)}\n",
      "nan {'clf__C': 1.75, 'clf__class_weight': None, 'clf__l1_ratio': 0.75, 'clf__penalty': 'elastic_net', 'clf__random_state': 42, 'clf__solver': 'saga', 'pca': PCA(n_components=9)}\n",
      "nan {'clf__C': 1.75, 'clf__class_weight': None, 'clf__l1_ratio': 0.75, 'clf__penalty': 'elastic_net', 'clf__random_state': 42, 'clf__solver': 'saga', 'pca': PCA(n_components=10)}\n",
      "nan {'clf__C': 1.75, 'clf__class_weight': None, 'clf__l1_ratio': 0.75, 'clf__penalty': 'elastic_net', 'clf__random_state': 42, 'clf__solver': 'saga', 'pca': PCA(n_components=11)}\n",
      "nan {'clf__C': 1.75, 'clf__class_weight': None, 'clf__l1_ratio': 1.0, 'clf__penalty': 'elastic_net', 'clf__random_state': 42, 'clf__solver': 'saga', 'pca': 'passthrough'}\n",
      "nan {'clf__C': 1.75, 'clf__class_weight': None, 'clf__l1_ratio': 1.0, 'clf__penalty': 'elastic_net', 'clf__random_state': 42, 'clf__solver': 'saga', 'pca': PCA(n_components=1)}\n",
      "nan {'clf__C': 1.75, 'clf__class_weight': None, 'clf__l1_ratio': 1.0, 'clf__penalty': 'elastic_net', 'clf__random_state': 42, 'clf__solver': 'saga', 'pca': PCA(n_components=3)}\n",
      "nan {'clf__C': 1.75, 'clf__class_weight': None, 'clf__l1_ratio': 1.0, 'clf__penalty': 'elastic_net', 'clf__random_state': 42, 'clf__solver': 'saga', 'pca': PCA(n_components=9)}\n",
      "nan {'clf__C': 1.75, 'clf__class_weight': None, 'clf__l1_ratio': 1.0, 'clf__penalty': 'elastic_net', 'clf__random_state': 42, 'clf__solver': 'saga', 'pca': PCA(n_components=10)}\n",
      "nan {'clf__C': 1.75, 'clf__class_weight': None, 'clf__l1_ratio': 1.0, 'clf__penalty': 'elastic_net', 'clf__random_state': 42, 'clf__solver': 'saga', 'pca': PCA(n_components=11)}\n",
      "nan {'clf__C': 1.75, 'clf__class_weight': 'balanced', 'clf__l1_ratio': 0.0, 'clf__penalty': 'elastic_net', 'clf__random_state': 42, 'clf__solver': 'saga', 'pca': 'passthrough'}\n",
      "nan {'clf__C': 1.75, 'clf__class_weight': 'balanced', 'clf__l1_ratio': 0.0, 'clf__penalty': 'elastic_net', 'clf__random_state': 42, 'clf__solver': 'saga', 'pca': PCA(n_components=1)}\n",
      "nan {'clf__C': 1.75, 'clf__class_weight': 'balanced', 'clf__l1_ratio': 0.0, 'clf__penalty': 'elastic_net', 'clf__random_state': 42, 'clf__solver': 'saga', 'pca': PCA(n_components=3)}\n",
      "nan {'clf__C': 1.75, 'clf__class_weight': 'balanced', 'clf__l1_ratio': 0.0, 'clf__penalty': 'elastic_net', 'clf__random_state': 42, 'clf__solver': 'saga', 'pca': PCA(n_components=9)}\n",
      "nan {'clf__C': 1.75, 'clf__class_weight': 'balanced', 'clf__l1_ratio': 0.0, 'clf__penalty': 'elastic_net', 'clf__random_state': 42, 'clf__solver': 'saga', 'pca': PCA(n_components=10)}\n",
      "nan {'clf__C': 1.75, 'clf__class_weight': 'balanced', 'clf__l1_ratio': 0.0, 'clf__penalty': 'elastic_net', 'clf__random_state': 42, 'clf__solver': 'saga', 'pca': PCA(n_components=11)}\n",
      "nan {'clf__C': 1.75, 'clf__class_weight': 'balanced', 'clf__l1_ratio': 0.1, 'clf__penalty': 'elastic_net', 'clf__random_state': 42, 'clf__solver': 'saga', 'pca': 'passthrough'}\n",
      "nan {'clf__C': 1.75, 'clf__class_weight': 'balanced', 'clf__l1_ratio': 0.1, 'clf__penalty': 'elastic_net', 'clf__random_state': 42, 'clf__solver': 'saga', 'pca': PCA(n_components=1)}\n",
      "nan {'clf__C': 1.75, 'clf__class_weight': 'balanced', 'clf__l1_ratio': 0.1, 'clf__penalty': 'elastic_net', 'clf__random_state': 42, 'clf__solver': 'saga', 'pca': PCA(n_components=3)}\n",
      "nan {'clf__C': 1.75, 'clf__class_weight': 'balanced', 'clf__l1_ratio': 0.1, 'clf__penalty': 'elastic_net', 'clf__random_state': 42, 'clf__solver': 'saga', 'pca': PCA(n_components=9)}\n",
      "nan {'clf__C': 1.75, 'clf__class_weight': 'balanced', 'clf__l1_ratio': 0.1, 'clf__penalty': 'elastic_net', 'clf__random_state': 42, 'clf__solver': 'saga', 'pca': PCA(n_components=10)}\n",
      "nan {'clf__C': 1.75, 'clf__class_weight': 'balanced', 'clf__l1_ratio': 0.1, 'clf__penalty': 'elastic_net', 'clf__random_state': 42, 'clf__solver': 'saga', 'pca': PCA(n_components=11)}\n",
      "nan {'clf__C': 1.75, 'clf__class_weight': 'balanced', 'clf__l1_ratio': 0.25, 'clf__penalty': 'elastic_net', 'clf__random_state': 42, 'clf__solver': 'saga', 'pca': 'passthrough'}\n",
      "nan {'clf__C': 1.75, 'clf__class_weight': 'balanced', 'clf__l1_ratio': 0.25, 'clf__penalty': 'elastic_net', 'clf__random_state': 42, 'clf__solver': 'saga', 'pca': PCA(n_components=1)}\n",
      "nan {'clf__C': 1.75, 'clf__class_weight': 'balanced', 'clf__l1_ratio': 0.25, 'clf__penalty': 'elastic_net', 'clf__random_state': 42, 'clf__solver': 'saga', 'pca': PCA(n_components=3)}\n",
      "nan {'clf__C': 1.75, 'clf__class_weight': 'balanced', 'clf__l1_ratio': 0.25, 'clf__penalty': 'elastic_net', 'clf__random_state': 42, 'clf__solver': 'saga', 'pca': PCA(n_components=9)}\n",
      "nan {'clf__C': 1.75, 'clf__class_weight': 'balanced', 'clf__l1_ratio': 0.25, 'clf__penalty': 'elastic_net', 'clf__random_state': 42, 'clf__solver': 'saga', 'pca': PCA(n_components=10)}\n",
      "nan {'clf__C': 1.75, 'clf__class_weight': 'balanced', 'clf__l1_ratio': 0.25, 'clf__penalty': 'elastic_net', 'clf__random_state': 42, 'clf__solver': 'saga', 'pca': PCA(n_components=11)}\n",
      "nan {'clf__C': 1.75, 'clf__class_weight': 'balanced', 'clf__l1_ratio': 0.5, 'clf__penalty': 'elastic_net', 'clf__random_state': 42, 'clf__solver': 'saga', 'pca': 'passthrough'}\n",
      "nan {'clf__C': 1.75, 'clf__class_weight': 'balanced', 'clf__l1_ratio': 0.5, 'clf__penalty': 'elastic_net', 'clf__random_state': 42, 'clf__solver': 'saga', 'pca': PCA(n_components=1)}\n",
      "nan {'clf__C': 1.75, 'clf__class_weight': 'balanced', 'clf__l1_ratio': 0.5, 'clf__penalty': 'elastic_net', 'clf__random_state': 42, 'clf__solver': 'saga', 'pca': PCA(n_components=3)}\n",
      "nan {'clf__C': 1.75, 'clf__class_weight': 'balanced', 'clf__l1_ratio': 0.5, 'clf__penalty': 'elastic_net', 'clf__random_state': 42, 'clf__solver': 'saga', 'pca': PCA(n_components=9)}\n",
      "nan {'clf__C': 1.75, 'clf__class_weight': 'balanced', 'clf__l1_ratio': 0.5, 'clf__penalty': 'elastic_net', 'clf__random_state': 42, 'clf__solver': 'saga', 'pca': PCA(n_components=10)}\n",
      "nan {'clf__C': 1.75, 'clf__class_weight': 'balanced', 'clf__l1_ratio': 0.5, 'clf__penalty': 'elastic_net', 'clf__random_state': 42, 'clf__solver': 'saga', 'pca': PCA(n_components=11)}\n",
      "nan {'clf__C': 1.75, 'clf__class_weight': 'balanced', 'clf__l1_ratio': 0.75, 'clf__penalty': 'elastic_net', 'clf__random_state': 42, 'clf__solver': 'saga', 'pca': 'passthrough'}\n",
      "nan {'clf__C': 1.75, 'clf__class_weight': 'balanced', 'clf__l1_ratio': 0.75, 'clf__penalty': 'elastic_net', 'clf__random_state': 42, 'clf__solver': 'saga', 'pca': PCA(n_components=1)}\n",
      "nan {'clf__C': 1.75, 'clf__class_weight': 'balanced', 'clf__l1_ratio': 0.75, 'clf__penalty': 'elastic_net', 'clf__random_state': 42, 'clf__solver': 'saga', 'pca': PCA(n_components=3)}\n",
      "nan {'clf__C': 1.75, 'clf__class_weight': 'balanced', 'clf__l1_ratio': 0.75, 'clf__penalty': 'elastic_net', 'clf__random_state': 42, 'clf__solver': 'saga', 'pca': PCA(n_components=9)}\n",
      "nan {'clf__C': 1.75, 'clf__class_weight': 'balanced', 'clf__l1_ratio': 0.75, 'clf__penalty': 'elastic_net', 'clf__random_state': 42, 'clf__solver': 'saga', 'pca': PCA(n_components=10)}\n",
      "nan {'clf__C': 1.75, 'clf__class_weight': 'balanced', 'clf__l1_ratio': 0.75, 'clf__penalty': 'elastic_net', 'clf__random_state': 42, 'clf__solver': 'saga', 'pca': PCA(n_components=11)}\n",
      "nan {'clf__C': 1.75, 'clf__class_weight': 'balanced', 'clf__l1_ratio': 1.0, 'clf__penalty': 'elastic_net', 'clf__random_state': 42, 'clf__solver': 'saga', 'pca': 'passthrough'}\n",
      "nan {'clf__C': 1.75, 'clf__class_weight': 'balanced', 'clf__l1_ratio': 1.0, 'clf__penalty': 'elastic_net', 'clf__random_state': 42, 'clf__solver': 'saga', 'pca': PCA(n_components=1)}\n",
      "nan {'clf__C': 1.75, 'clf__class_weight': 'balanced', 'clf__l1_ratio': 1.0, 'clf__penalty': 'elastic_net', 'clf__random_state': 42, 'clf__solver': 'saga', 'pca': PCA(n_components=3)}\n",
      "nan {'clf__C': 1.75, 'clf__class_weight': 'balanced', 'clf__l1_ratio': 1.0, 'clf__penalty': 'elastic_net', 'clf__random_state': 42, 'clf__solver': 'saga', 'pca': PCA(n_components=9)}\n",
      "nan {'clf__C': 1.75, 'clf__class_weight': 'balanced', 'clf__l1_ratio': 1.0, 'clf__penalty': 'elastic_net', 'clf__random_state': 42, 'clf__solver': 'saga', 'pca': PCA(n_components=10)}\n",
      "nan {'clf__C': 1.75, 'clf__class_weight': 'balanced', 'clf__l1_ratio': 1.0, 'clf__penalty': 'elastic_net', 'clf__random_state': 42, 'clf__solver': 'saga', 'pca': PCA(n_components=11)}\n",
      "nan {'clf__C': 2.0, 'clf__class_weight': None, 'clf__l1_ratio': 0.0, 'clf__penalty': 'elastic_net', 'clf__random_state': 42, 'clf__solver': 'saga', 'pca': 'passthrough'}\n",
      "nan {'clf__C': 2.0, 'clf__class_weight': None, 'clf__l1_ratio': 0.0, 'clf__penalty': 'elastic_net', 'clf__random_state': 42, 'clf__solver': 'saga', 'pca': PCA(n_components=1)}\n",
      "nan {'clf__C': 2.0, 'clf__class_weight': None, 'clf__l1_ratio': 0.0, 'clf__penalty': 'elastic_net', 'clf__random_state': 42, 'clf__solver': 'saga', 'pca': PCA(n_components=3)}\n",
      "nan {'clf__C': 2.0, 'clf__class_weight': None, 'clf__l1_ratio': 0.0, 'clf__penalty': 'elastic_net', 'clf__random_state': 42, 'clf__solver': 'saga', 'pca': PCA(n_components=9)}\n",
      "nan {'clf__C': 2.0, 'clf__class_weight': None, 'clf__l1_ratio': 0.0, 'clf__penalty': 'elastic_net', 'clf__random_state': 42, 'clf__solver': 'saga', 'pca': PCA(n_components=10)}\n",
      "nan {'clf__C': 2.0, 'clf__class_weight': None, 'clf__l1_ratio': 0.0, 'clf__penalty': 'elastic_net', 'clf__random_state': 42, 'clf__solver': 'saga', 'pca': PCA(n_components=11)}\n",
      "nan {'clf__C': 2.0, 'clf__class_weight': None, 'clf__l1_ratio': 0.1, 'clf__penalty': 'elastic_net', 'clf__random_state': 42, 'clf__solver': 'saga', 'pca': 'passthrough'}\n",
      "nan {'clf__C': 2.0, 'clf__class_weight': None, 'clf__l1_ratio': 0.1, 'clf__penalty': 'elastic_net', 'clf__random_state': 42, 'clf__solver': 'saga', 'pca': PCA(n_components=1)}\n",
      "nan {'clf__C': 2.0, 'clf__class_weight': None, 'clf__l1_ratio': 0.1, 'clf__penalty': 'elastic_net', 'clf__random_state': 42, 'clf__solver': 'saga', 'pca': PCA(n_components=3)}\n",
      "nan {'clf__C': 2.0, 'clf__class_weight': None, 'clf__l1_ratio': 0.1, 'clf__penalty': 'elastic_net', 'clf__random_state': 42, 'clf__solver': 'saga', 'pca': PCA(n_components=9)}\n",
      "nan {'clf__C': 2.0, 'clf__class_weight': None, 'clf__l1_ratio': 0.1, 'clf__penalty': 'elastic_net', 'clf__random_state': 42, 'clf__solver': 'saga', 'pca': PCA(n_components=10)}\n",
      "nan {'clf__C': 2.0, 'clf__class_weight': None, 'clf__l1_ratio': 0.1, 'clf__penalty': 'elastic_net', 'clf__random_state': 42, 'clf__solver': 'saga', 'pca': PCA(n_components=11)}\n",
      "nan {'clf__C': 2.0, 'clf__class_weight': None, 'clf__l1_ratio': 0.25, 'clf__penalty': 'elastic_net', 'clf__random_state': 42, 'clf__solver': 'saga', 'pca': 'passthrough'}\n",
      "nan {'clf__C': 2.0, 'clf__class_weight': None, 'clf__l1_ratio': 0.25, 'clf__penalty': 'elastic_net', 'clf__random_state': 42, 'clf__solver': 'saga', 'pca': PCA(n_components=1)}\n",
      "nan {'clf__C': 2.0, 'clf__class_weight': None, 'clf__l1_ratio': 0.25, 'clf__penalty': 'elastic_net', 'clf__random_state': 42, 'clf__solver': 'saga', 'pca': PCA(n_components=3)}\n",
      "nan {'clf__C': 2.0, 'clf__class_weight': None, 'clf__l1_ratio': 0.25, 'clf__penalty': 'elastic_net', 'clf__random_state': 42, 'clf__solver': 'saga', 'pca': PCA(n_components=9)}\n",
      "nan {'clf__C': 2.0, 'clf__class_weight': None, 'clf__l1_ratio': 0.25, 'clf__penalty': 'elastic_net', 'clf__random_state': 42, 'clf__solver': 'saga', 'pca': PCA(n_components=10)}\n",
      "nan {'clf__C': 2.0, 'clf__class_weight': None, 'clf__l1_ratio': 0.25, 'clf__penalty': 'elastic_net', 'clf__random_state': 42, 'clf__solver': 'saga', 'pca': PCA(n_components=11)}\n",
      "nan {'clf__C': 2.0, 'clf__class_weight': None, 'clf__l1_ratio': 0.5, 'clf__penalty': 'elastic_net', 'clf__random_state': 42, 'clf__solver': 'saga', 'pca': 'passthrough'}\n",
      "nan {'clf__C': 2.0, 'clf__class_weight': None, 'clf__l1_ratio': 0.5, 'clf__penalty': 'elastic_net', 'clf__random_state': 42, 'clf__solver': 'saga', 'pca': PCA(n_components=1)}\n",
      "nan {'clf__C': 2.0, 'clf__class_weight': None, 'clf__l1_ratio': 0.5, 'clf__penalty': 'elastic_net', 'clf__random_state': 42, 'clf__solver': 'saga', 'pca': PCA(n_components=3)}\n",
      "nan {'clf__C': 2.0, 'clf__class_weight': None, 'clf__l1_ratio': 0.5, 'clf__penalty': 'elastic_net', 'clf__random_state': 42, 'clf__solver': 'saga', 'pca': PCA(n_components=9)}\n",
      "nan {'clf__C': 2.0, 'clf__class_weight': None, 'clf__l1_ratio': 0.5, 'clf__penalty': 'elastic_net', 'clf__random_state': 42, 'clf__solver': 'saga', 'pca': PCA(n_components=10)}\n",
      "nan {'clf__C': 2.0, 'clf__class_weight': None, 'clf__l1_ratio': 0.5, 'clf__penalty': 'elastic_net', 'clf__random_state': 42, 'clf__solver': 'saga', 'pca': PCA(n_components=11)}\n",
      "nan {'clf__C': 2.0, 'clf__class_weight': None, 'clf__l1_ratio': 0.75, 'clf__penalty': 'elastic_net', 'clf__random_state': 42, 'clf__solver': 'saga', 'pca': 'passthrough'}\n",
      "nan {'clf__C': 2.0, 'clf__class_weight': None, 'clf__l1_ratio': 0.75, 'clf__penalty': 'elastic_net', 'clf__random_state': 42, 'clf__solver': 'saga', 'pca': PCA(n_components=1)}\n",
      "nan {'clf__C': 2.0, 'clf__class_weight': None, 'clf__l1_ratio': 0.75, 'clf__penalty': 'elastic_net', 'clf__random_state': 42, 'clf__solver': 'saga', 'pca': PCA(n_components=3)}\n",
      "nan {'clf__C': 2.0, 'clf__class_weight': None, 'clf__l1_ratio': 0.75, 'clf__penalty': 'elastic_net', 'clf__random_state': 42, 'clf__solver': 'saga', 'pca': PCA(n_components=9)}\n",
      "nan {'clf__C': 2.0, 'clf__class_weight': None, 'clf__l1_ratio': 0.75, 'clf__penalty': 'elastic_net', 'clf__random_state': 42, 'clf__solver': 'saga', 'pca': PCA(n_components=10)}\n",
      "nan {'clf__C': 2.0, 'clf__class_weight': None, 'clf__l1_ratio': 0.75, 'clf__penalty': 'elastic_net', 'clf__random_state': 42, 'clf__solver': 'saga', 'pca': PCA(n_components=11)}\n",
      "nan {'clf__C': 2.0, 'clf__class_weight': None, 'clf__l1_ratio': 1.0, 'clf__penalty': 'elastic_net', 'clf__random_state': 42, 'clf__solver': 'saga', 'pca': 'passthrough'}\n",
      "nan {'clf__C': 2.0, 'clf__class_weight': None, 'clf__l1_ratio': 1.0, 'clf__penalty': 'elastic_net', 'clf__random_state': 42, 'clf__solver': 'saga', 'pca': PCA(n_components=1)}\n",
      "nan {'clf__C': 2.0, 'clf__class_weight': None, 'clf__l1_ratio': 1.0, 'clf__penalty': 'elastic_net', 'clf__random_state': 42, 'clf__solver': 'saga', 'pca': PCA(n_components=3)}\n",
      "nan {'clf__C': 2.0, 'clf__class_weight': None, 'clf__l1_ratio': 1.0, 'clf__penalty': 'elastic_net', 'clf__random_state': 42, 'clf__solver': 'saga', 'pca': PCA(n_components=9)}\n",
      "nan {'clf__C': 2.0, 'clf__class_weight': None, 'clf__l1_ratio': 1.0, 'clf__penalty': 'elastic_net', 'clf__random_state': 42, 'clf__solver': 'saga', 'pca': PCA(n_components=10)}\n",
      "nan {'clf__C': 2.0, 'clf__class_weight': None, 'clf__l1_ratio': 1.0, 'clf__penalty': 'elastic_net', 'clf__random_state': 42, 'clf__solver': 'saga', 'pca': PCA(n_components=11)}\n",
      "nan {'clf__C': 2.0, 'clf__class_weight': 'balanced', 'clf__l1_ratio': 0.0, 'clf__penalty': 'elastic_net', 'clf__random_state': 42, 'clf__solver': 'saga', 'pca': 'passthrough'}\n",
      "nan {'clf__C': 2.0, 'clf__class_weight': 'balanced', 'clf__l1_ratio': 0.0, 'clf__penalty': 'elastic_net', 'clf__random_state': 42, 'clf__solver': 'saga', 'pca': PCA(n_components=1)}\n",
      "nan {'clf__C': 2.0, 'clf__class_weight': 'balanced', 'clf__l1_ratio': 0.0, 'clf__penalty': 'elastic_net', 'clf__random_state': 42, 'clf__solver': 'saga', 'pca': PCA(n_components=3)}\n",
      "nan {'clf__C': 2.0, 'clf__class_weight': 'balanced', 'clf__l1_ratio': 0.0, 'clf__penalty': 'elastic_net', 'clf__random_state': 42, 'clf__solver': 'saga', 'pca': PCA(n_components=9)}\n",
      "nan {'clf__C': 2.0, 'clf__class_weight': 'balanced', 'clf__l1_ratio': 0.0, 'clf__penalty': 'elastic_net', 'clf__random_state': 42, 'clf__solver': 'saga', 'pca': PCA(n_components=10)}\n",
      "nan {'clf__C': 2.0, 'clf__class_weight': 'balanced', 'clf__l1_ratio': 0.0, 'clf__penalty': 'elastic_net', 'clf__random_state': 42, 'clf__solver': 'saga', 'pca': PCA(n_components=11)}\n",
      "nan {'clf__C': 2.0, 'clf__class_weight': 'balanced', 'clf__l1_ratio': 0.1, 'clf__penalty': 'elastic_net', 'clf__random_state': 42, 'clf__solver': 'saga', 'pca': 'passthrough'}\n",
      "nan {'clf__C': 2.0, 'clf__class_weight': 'balanced', 'clf__l1_ratio': 0.1, 'clf__penalty': 'elastic_net', 'clf__random_state': 42, 'clf__solver': 'saga', 'pca': PCA(n_components=1)}\n",
      "nan {'clf__C': 2.0, 'clf__class_weight': 'balanced', 'clf__l1_ratio': 0.1, 'clf__penalty': 'elastic_net', 'clf__random_state': 42, 'clf__solver': 'saga', 'pca': PCA(n_components=3)}\n",
      "nan {'clf__C': 2.0, 'clf__class_weight': 'balanced', 'clf__l1_ratio': 0.1, 'clf__penalty': 'elastic_net', 'clf__random_state': 42, 'clf__solver': 'saga', 'pca': PCA(n_components=9)}\n",
      "nan {'clf__C': 2.0, 'clf__class_weight': 'balanced', 'clf__l1_ratio': 0.1, 'clf__penalty': 'elastic_net', 'clf__random_state': 42, 'clf__solver': 'saga', 'pca': PCA(n_components=10)}\n",
      "nan {'clf__C': 2.0, 'clf__class_weight': 'balanced', 'clf__l1_ratio': 0.1, 'clf__penalty': 'elastic_net', 'clf__random_state': 42, 'clf__solver': 'saga', 'pca': PCA(n_components=11)}\n",
      "nan {'clf__C': 2.0, 'clf__class_weight': 'balanced', 'clf__l1_ratio': 0.25, 'clf__penalty': 'elastic_net', 'clf__random_state': 42, 'clf__solver': 'saga', 'pca': 'passthrough'}\n",
      "nan {'clf__C': 2.0, 'clf__class_weight': 'balanced', 'clf__l1_ratio': 0.25, 'clf__penalty': 'elastic_net', 'clf__random_state': 42, 'clf__solver': 'saga', 'pca': PCA(n_components=1)}\n",
      "nan {'clf__C': 2.0, 'clf__class_weight': 'balanced', 'clf__l1_ratio': 0.25, 'clf__penalty': 'elastic_net', 'clf__random_state': 42, 'clf__solver': 'saga', 'pca': PCA(n_components=3)}\n",
      "nan {'clf__C': 2.0, 'clf__class_weight': 'balanced', 'clf__l1_ratio': 0.25, 'clf__penalty': 'elastic_net', 'clf__random_state': 42, 'clf__solver': 'saga', 'pca': PCA(n_components=9)}\n",
      "nan {'clf__C': 2.0, 'clf__class_weight': 'balanced', 'clf__l1_ratio': 0.25, 'clf__penalty': 'elastic_net', 'clf__random_state': 42, 'clf__solver': 'saga', 'pca': PCA(n_components=10)}\n",
      "nan {'clf__C': 2.0, 'clf__class_weight': 'balanced', 'clf__l1_ratio': 0.25, 'clf__penalty': 'elastic_net', 'clf__random_state': 42, 'clf__solver': 'saga', 'pca': PCA(n_components=11)}\n",
      "nan {'clf__C': 2.0, 'clf__class_weight': 'balanced', 'clf__l1_ratio': 0.5, 'clf__penalty': 'elastic_net', 'clf__random_state': 42, 'clf__solver': 'saga', 'pca': 'passthrough'}\n",
      "nan {'clf__C': 2.0, 'clf__class_weight': 'balanced', 'clf__l1_ratio': 0.5, 'clf__penalty': 'elastic_net', 'clf__random_state': 42, 'clf__solver': 'saga', 'pca': PCA(n_components=1)}\n",
      "nan {'clf__C': 2.0, 'clf__class_weight': 'balanced', 'clf__l1_ratio': 0.5, 'clf__penalty': 'elastic_net', 'clf__random_state': 42, 'clf__solver': 'saga', 'pca': PCA(n_components=3)}\n",
      "nan {'clf__C': 2.0, 'clf__class_weight': 'balanced', 'clf__l1_ratio': 0.5, 'clf__penalty': 'elastic_net', 'clf__random_state': 42, 'clf__solver': 'saga', 'pca': PCA(n_components=9)}\n",
      "nan {'clf__C': 2.0, 'clf__class_weight': 'balanced', 'clf__l1_ratio': 0.5, 'clf__penalty': 'elastic_net', 'clf__random_state': 42, 'clf__solver': 'saga', 'pca': PCA(n_components=10)}\n",
      "nan {'clf__C': 2.0, 'clf__class_weight': 'balanced', 'clf__l1_ratio': 0.5, 'clf__penalty': 'elastic_net', 'clf__random_state': 42, 'clf__solver': 'saga', 'pca': PCA(n_components=11)}\n",
      "nan {'clf__C': 2.0, 'clf__class_weight': 'balanced', 'clf__l1_ratio': 0.75, 'clf__penalty': 'elastic_net', 'clf__random_state': 42, 'clf__solver': 'saga', 'pca': 'passthrough'}\n",
      "nan {'clf__C': 2.0, 'clf__class_weight': 'balanced', 'clf__l1_ratio': 0.75, 'clf__penalty': 'elastic_net', 'clf__random_state': 42, 'clf__solver': 'saga', 'pca': PCA(n_components=1)}\n",
      "nan {'clf__C': 2.0, 'clf__class_weight': 'balanced', 'clf__l1_ratio': 0.75, 'clf__penalty': 'elastic_net', 'clf__random_state': 42, 'clf__solver': 'saga', 'pca': PCA(n_components=3)}\n",
      "nan {'clf__C': 2.0, 'clf__class_weight': 'balanced', 'clf__l1_ratio': 0.75, 'clf__penalty': 'elastic_net', 'clf__random_state': 42, 'clf__solver': 'saga', 'pca': PCA(n_components=9)}\n",
      "nan {'clf__C': 2.0, 'clf__class_weight': 'balanced', 'clf__l1_ratio': 0.75, 'clf__penalty': 'elastic_net', 'clf__random_state': 42, 'clf__solver': 'saga', 'pca': PCA(n_components=10)}\n",
      "nan {'clf__C': 2.0, 'clf__class_weight': 'balanced', 'clf__l1_ratio': 0.75, 'clf__penalty': 'elastic_net', 'clf__random_state': 42, 'clf__solver': 'saga', 'pca': PCA(n_components=11)}\n",
      "nan {'clf__C': 2.0, 'clf__class_weight': 'balanced', 'clf__l1_ratio': 1.0, 'clf__penalty': 'elastic_net', 'clf__random_state': 42, 'clf__solver': 'saga', 'pca': 'passthrough'}\n",
      "nan {'clf__C': 2.0, 'clf__class_weight': 'balanced', 'clf__l1_ratio': 1.0, 'clf__penalty': 'elastic_net', 'clf__random_state': 42, 'clf__solver': 'saga', 'pca': PCA(n_components=1)}\n",
      "nan {'clf__C': 2.0, 'clf__class_weight': 'balanced', 'clf__l1_ratio': 1.0, 'clf__penalty': 'elastic_net', 'clf__random_state': 42, 'clf__solver': 'saga', 'pca': PCA(n_components=3)}\n",
      "nan {'clf__C': 2.0, 'clf__class_weight': 'balanced', 'clf__l1_ratio': 1.0, 'clf__penalty': 'elastic_net', 'clf__random_state': 42, 'clf__solver': 'saga', 'pca': PCA(n_components=9)}\n",
      "nan {'clf__C': 2.0, 'clf__class_weight': 'balanced', 'clf__l1_ratio': 1.0, 'clf__penalty': 'elastic_net', 'clf__random_state': 42, 'clf__solver': 'saga', 'pca': PCA(n_components=10)}\n",
      "nan {'clf__C': 2.0, 'clf__class_weight': 'balanced', 'clf__l1_ratio': 1.0, 'clf__penalty': 'elastic_net', 'clf__random_state': 42, 'clf__solver': 'saga', 'pca': PCA(n_components=11)}\n"
     ]
    }
   ],
   "source": [
    "for mean_score, params in zip(cvres['mean_test_score'], cvres['params']):\n",
    "    print(mean_score, params)"
   ]
  },
  {
   "cell_type": "markdown",
   "id": "terminal-graph",
   "metadata": {},
   "source": [
    "F1 = .6"
   ]
  },
  {
   "cell_type": "code",
   "execution_count": 294,
   "id": "disciplinary-barrel",
   "metadata": {},
   "outputs": [
    {
     "name": "stdout",
     "output_type": "stream",
     "text": [
      "Best score: 0.61 +/- 0.04\n"
     ]
    }
   ],
   "source": [
    "def best_score(grid_search):\n",
    "    res = pd.DataFrame(grid_search.cv_results_)\n",
    "    argmax = res['mean_test_score'].argmax()\n",
    "    max_score = res['mean_test_score'].iloc[argmax]\n",
    "    max_score_std = res['std_test_score'].iloc[argmax]\n",
    "    return max_score, max_score_std\n",
    "\n",
    "\n",
    "def print_best_score(grid_search):\n",
    "    x, xerr = best_score(grid_search)\n",
    "    print(\"Best score: {:.2f} +/- {:.2f}\".format(x, xerr))\n",
    "\n",
    "\n",
    "print_best_score(grid_search)"
   ]
  },
  {
   "cell_type": "code",
   "execution_count": 295,
   "id": "hearing-candle",
   "metadata": {},
   "outputs": [
    {
     "data": {
      "text/plain": [
       "223    0\n",
       "179    0\n",
       "200    0\n",
       "2      1\n",
       "133    0\n",
       "Name: DEATH_EVENT, dtype: int64"
      ]
     },
     "execution_count": 295,
     "metadata": {},
     "output_type": "execute_result"
    }
   ],
   "source": [
    "y_train[:5]"
   ]
  },
  {
   "cell_type": "code",
   "execution_count": 296,
   "id": "vietnamese-stretch",
   "metadata": {},
   "outputs": [
    {
     "data": {
      "text/plain": [
       "array([0, 0, 0, 0, 0])"
      ]
     },
     "execution_count": 296,
     "metadata": {},
     "output_type": "execute_result"
    }
   ],
   "source": [
    "grid_search.predict(X_train[:5])"
   ]
  },
  {
   "cell_type": "code",
   "execution_count": 297,
   "id": "closing-sword",
   "metadata": {},
   "outputs": [
    {
     "data": {
      "text/plain": [
       "array([[0.91, 0.09],\n",
       "       [0.9 , 0.1 ],\n",
       "       [0.9 , 0.1 ],\n",
       "       [0.56, 0.44],\n",
       "       [0.87, 0.13]])"
      ]
     },
     "execution_count": 297,
     "metadata": {},
     "output_type": "execute_result"
    }
   ],
   "source": [
    "grid_search.predict_proba(X_train[:5])"
   ]
  },
  {
   "cell_type": "markdown",
   "id": "organic-great",
   "metadata": {},
   "source": [
    "The fourth patient was predicted as likely to survive despite actually\n",
    "passing away. Looking at the probablities, though, the classifier attributed\n",
    "only $56\\%$ chance of surviving. Quite 'on the fence' regarding the \n",
    "limited statistics. Not bad! Of course, it's merely a technical check up, since\n",
    "we used the train set."
   ]
  },
  {
   "cell_type": "markdown",
   "id": "strong-arctic",
   "metadata": {},
   "source": [
    "# Random Forest Classifier"
   ]
  },
  {
   "cell_type": "code",
   "execution_count": 298,
   "id": "western-little",
   "metadata": {},
   "outputs": [
    {
     "data": {
      "text/plain": [
       "RandomForestClassifier(random_state=42)"
      ]
     },
     "execution_count": 298,
     "metadata": {},
     "output_type": "execute_result"
    }
   ],
   "source": [
    "from sklearn.ensemble import RandomForestClassifier\n",
    "forest_clf = RandomForestClassifier(n_estimators=100, random_state=42)\n",
    "forest_clf.fit(X_train_tr, y_train)"
   ]
  },
  {
   "cell_type": "code",
   "execution_count": 299,
   "id": "chief-philosophy",
   "metadata": {},
   "outputs": [
    {
     "name": "stdout",
     "output_type": "stream",
     "text": [
      "Scores: [0.54 0.57]\n",
      "Mean score: 0.554006968641115\n",
      "Std dev: 0.017421602787456414\n"
     ]
    }
   ],
   "source": [
    "scores = cross_val_score(forest_clf, X_train_tr, y_train,\n",
    "                         scoring=\"f1\", cv=2)\n",
    "print(\"Scores:\", scores)\n",
    "print(\"Mean score:\", scores.mean())\n",
    "print(\"Std dev:\", scores.std())"
   ]
  },
  {
   "cell_type": "code",
   "execution_count": 300,
   "id": "cleared-sequence",
   "metadata": {},
   "outputs": [
    {
     "data": {
      "text/plain": [
       "10"
      ]
     },
     "execution_count": 300,
     "metadata": {},
     "output_type": "execute_result"
    }
   ],
   "source": [
    "len(df.columns)-2"
   ]
  },
  {
   "cell_type": "code",
   "execution_count": 301,
   "id": "bright-gregory",
   "metadata": {},
   "outputs": [],
   "source": [
    "pipeline = Pipeline([\n",
    "    #('time_bin', TimeBinning(bin_size=30)),\n",
    "    ('std_scaler', StandardScaler()),\n",
    "    ('clf', RandomForestClassifier(max_features=10, random_state=42))\n",
    "])"
   ]
  },
  {
   "cell_type": "code",
   "execution_count": 302,
   "id": "latest-powell",
   "metadata": {},
   "outputs": [
    {
     "data": {
      "text/plain": [
       "GridSearchCV(cv=2,\n",
       "             estimator=Pipeline(steps=[('std_scaler', StandardScaler()),\n",
       "                                       ('clf',\n",
       "                                        RandomForestClassifier(max_features=10,\n",
       "                                                               random_state=42))]),\n",
       "             n_jobs=-1,\n",
       "             param_grid=[{'clf__max_features': [1, 2, 3, 4, 5, 6, 7, 8, 9, 10,\n",
       "                                                11],\n",
       "                          'clf__n_estimators': [2, 10, 20, 21, 22, 30, 50]}],\n",
       "             return_train_score=True, scoring='f1')"
      ]
     },
     "execution_count": 302,
     "metadata": {},
     "output_type": "execute_result"
    }
   ],
   "source": [
    "from sklearn.model_selection import GridSearchCV\n",
    "\n",
    "param_grid = [\n",
    "    {  # 'time_bin__bin_size': [1, 2, 3, 4, 5],\n",
    "        'clf__n_estimators': [2, 10, 20, 21, 22, 30, 50],\n",
    "        'clf__max_features': [1, 2, 3, 4, 5, 6, 7, 8, 9, 10, 11]},\n",
    "    #{'bootstrap': [False], 'n_estimators': [3, 10], 'max_features': [2, 3, 4]},\n",
    "]\n",
    "\n",
    "grid_search = GridSearchCV(pipeline, param_grid, cv=2,\n",
    "                           scoring='f1',\n",
    "                           return_train_score=True,\n",
    "                           n_jobs=-1)\n",
    "grid_search.fit(X_train, y_train)"
   ]
  },
  {
   "cell_type": "code",
   "execution_count": 303,
   "id": "conventional-house",
   "metadata": {},
   "outputs": [
    {
     "data": {
      "text/plain": [
       "Pipeline(steps=[('std_scaler', StandardScaler()),\n",
       "                ('clf',\n",
       "                 RandomForestClassifier(max_features=5, n_estimators=50,\n",
       "                                        random_state=42))])"
      ]
     },
     "execution_count": 303,
     "metadata": {},
     "output_type": "execute_result"
    }
   ],
   "source": [
    "grid_search.best_estimator_"
   ]
  },
  {
   "cell_type": "code",
   "execution_count": 304,
   "id": "vietnamese-satellite",
   "metadata": {},
   "outputs": [
    {
     "data": {
      "text/plain": [
       "{'clf__max_features': 5, 'clf__n_estimators': 50}"
      ]
     },
     "execution_count": 304,
     "metadata": {},
     "output_type": "execute_result"
    }
   ],
   "source": [
    "grid_search.best_params_"
   ]
  },
  {
   "cell_type": "code",
   "execution_count": 305,
   "id": "prostate-hollow",
   "metadata": {},
   "outputs": [
    {
     "data": {
      "text/html": [
       "<div>\n",
       "<style scoped>\n",
       "    .dataframe tbody tr th:only-of-type {\n",
       "        vertical-align: middle;\n",
       "    }\n",
       "\n",
       "    .dataframe tbody tr th {\n",
       "        vertical-align: top;\n",
       "    }\n",
       "\n",
       "    .dataframe thead th {\n",
       "        text-align: right;\n",
       "    }\n",
       "</style>\n",
       "<table border=\"1\" class=\"dataframe\">\n",
       "  <thead>\n",
       "    <tr style=\"text-align: right;\">\n",
       "      <th></th>\n",
       "      <th>mean_fit_time</th>\n",
       "      <th>std_fit_time</th>\n",
       "      <th>mean_score_time</th>\n",
       "      <th>std_score_time</th>\n",
       "      <th>param_clf__max_features</th>\n",
       "      <th>param_clf__n_estimators</th>\n",
       "      <th>params</th>\n",
       "      <th>split0_test_score</th>\n",
       "      <th>split1_test_score</th>\n",
       "      <th>mean_test_score</th>\n",
       "      <th>std_test_score</th>\n",
       "      <th>rank_test_score</th>\n",
       "      <th>split0_train_score</th>\n",
       "      <th>split1_train_score</th>\n",
       "      <th>mean_train_score</th>\n",
       "      <th>std_train_score</th>\n",
       "    </tr>\n",
       "  </thead>\n",
       "  <tbody>\n",
       "    <tr>\n",
       "      <th>0</th>\n",
       "      <td>0.010302</td>\n",
       "      <td>0.000030</td>\n",
       "      <td>0.004192</td>\n",
       "      <td>0.000089</td>\n",
       "      <td>1</td>\n",
       "      <td>2</td>\n",
       "      <td>{'clf__max_features': 1, 'clf__n_estimators': 2}</td>\n",
       "      <td>0.410256</td>\n",
       "      <td>0.076923</td>\n",
       "      <td>0.243590</td>\n",
       "      <td>1.666667e-01</td>\n",
       "      <td>76</td>\n",
       "      <td>0.777778</td>\n",
       "      <td>0.742857</td>\n",
       "      <td>0.760317</td>\n",
       "      <td>0.017460</td>\n",
       "    </tr>\n",
       "    <tr>\n",
       "      <th>1</th>\n",
       "      <td>0.023500</td>\n",
       "      <td>0.000695</td>\n",
       "      <td>0.005471</td>\n",
       "      <td>0.000105</td>\n",
       "      <td>1</td>\n",
       "      <td>10</td>\n",
       "      <td>{'clf__max_features': 1, 'clf__n_estimators': 10}</td>\n",
       "      <td>0.315789</td>\n",
       "      <td>0.240000</td>\n",
       "      <td>0.277895</td>\n",
       "      <td>3.789474e-02</td>\n",
       "      <td>75</td>\n",
       "      <td>1.000000</td>\n",
       "      <td>0.976744</td>\n",
       "      <td>0.988372</td>\n",
       "      <td>0.011628</td>\n",
       "    </tr>\n",
       "    <tr>\n",
       "      <th>2</th>\n",
       "      <td>0.042416</td>\n",
       "      <td>0.000463</td>\n",
       "      <td>0.007136</td>\n",
       "      <td>0.000147</td>\n",
       "      <td>1</td>\n",
       "      <td>20</td>\n",
       "      <td>{'clf__max_features': 1, 'clf__n_estimators': 20}</td>\n",
       "      <td>0.352941</td>\n",
       "      <td>0.230769</td>\n",
       "      <td>0.291855</td>\n",
       "      <td>6.108597e-02</td>\n",
       "      <td>74</td>\n",
       "      <td>1.000000</td>\n",
       "      <td>1.000000</td>\n",
       "      <td>1.000000</td>\n",
       "      <td>0.000000</td>\n",
       "    </tr>\n",
       "    <tr>\n",
       "      <th>3</th>\n",
       "      <td>0.049576</td>\n",
       "      <td>0.006877</td>\n",
       "      <td>0.007290</td>\n",
       "      <td>0.000299</td>\n",
       "      <td>1</td>\n",
       "      <td>21</td>\n",
       "      <td>{'clf__max_features': 1, 'clf__n_estimators': 21}</td>\n",
       "      <td>0.400000</td>\n",
       "      <td>0.400000</td>\n",
       "      <td>0.400000</td>\n",
       "      <td>3.925231e-17</td>\n",
       "      <td>62</td>\n",
       "      <td>1.000000</td>\n",
       "      <td>1.000000</td>\n",
       "      <td>1.000000</td>\n",
       "      <td>0.000000</td>\n",
       "    </tr>\n",
       "    <tr>\n",
       "      <th>4</th>\n",
       "      <td>0.056624</td>\n",
       "      <td>0.006205</td>\n",
       "      <td>0.008853</td>\n",
       "      <td>0.000360</td>\n",
       "      <td>1</td>\n",
       "      <td>22</td>\n",
       "      <td>{'clf__max_features': 1, 'clf__n_estimators': 22}</td>\n",
       "      <td>0.411765</td>\n",
       "      <td>0.222222</td>\n",
       "      <td>0.316993</td>\n",
       "      <td>9.477124e-02</td>\n",
       "      <td>73</td>\n",
       "      <td>1.000000</td>\n",
       "      <td>1.000000</td>\n",
       "      <td>1.000000</td>\n",
       "      <td>0.000000</td>\n",
       "    </tr>\n",
       "    <tr>\n",
       "      <th>...</th>\n",
       "      <td>...</td>\n",
       "      <td>...</td>\n",
       "      <td>...</td>\n",
       "      <td>...</td>\n",
       "      <td>...</td>\n",
       "      <td>...</td>\n",
       "      <td>...</td>\n",
       "      <td>...</td>\n",
       "      <td>...</td>\n",
       "      <td>...</td>\n",
       "      <td>...</td>\n",
       "      <td>...</td>\n",
       "      <td>...</td>\n",
       "      <td>...</td>\n",
       "      <td>...</td>\n",
       "      <td>...</td>\n",
       "    </tr>\n",
       "    <tr>\n",
       "      <th>72</th>\n",
       "      <td>0.040331</td>\n",
       "      <td>0.001088</td>\n",
       "      <td>0.006114</td>\n",
       "      <td>0.000189</td>\n",
       "      <td>11</td>\n",
       "      <td>20</td>\n",
       "      <td>{'clf__max_features': 11, 'clf__n_estimators':...</td>\n",
       "      <td>0.470588</td>\n",
       "      <td>0.564103</td>\n",
       "      <td>0.517345</td>\n",
       "      <td>4.675716e-02</td>\n",
       "      <td>31</td>\n",
       "      <td>1.000000</td>\n",
       "      <td>1.000000</td>\n",
       "      <td>1.000000</td>\n",
       "      <td>0.000000</td>\n",
       "    </tr>\n",
       "    <tr>\n",
       "      <th>73</th>\n",
       "      <td>0.041691</td>\n",
       "      <td>0.000015</td>\n",
       "      <td>0.006120</td>\n",
       "      <td>0.000065</td>\n",
       "      <td>11</td>\n",
       "      <td>21</td>\n",
       "      <td>{'clf__max_features': 11, 'clf__n_estimators':...</td>\n",
       "      <td>0.465116</td>\n",
       "      <td>0.536585</td>\n",
       "      <td>0.500851</td>\n",
       "      <td>3.573454e-02</td>\n",
       "      <td>40</td>\n",
       "      <td>1.000000</td>\n",
       "      <td>1.000000</td>\n",
       "      <td>1.000000</td>\n",
       "      <td>0.000000</td>\n",
       "    </tr>\n",
       "    <tr>\n",
       "      <th>74</th>\n",
       "      <td>0.044738</td>\n",
       "      <td>0.001508</td>\n",
       "      <td>0.006189</td>\n",
       "      <td>0.000193</td>\n",
       "      <td>11</td>\n",
       "      <td>22</td>\n",
       "      <td>{'clf__max_features': 11, 'clf__n_estimators':...</td>\n",
       "      <td>0.432432</td>\n",
       "      <td>0.564103</td>\n",
       "      <td>0.498267</td>\n",
       "      <td>6.583507e-02</td>\n",
       "      <td>43</td>\n",
       "      <td>1.000000</td>\n",
       "      <td>1.000000</td>\n",
       "      <td>1.000000</td>\n",
       "      <td>0.000000</td>\n",
       "    </tr>\n",
       "    <tr>\n",
       "      <th>75</th>\n",
       "      <td>0.047781</td>\n",
       "      <td>0.006322</td>\n",
       "      <td>0.004622</td>\n",
       "      <td>0.000221</td>\n",
       "      <td>11</td>\n",
       "      <td>30</td>\n",
       "      <td>{'clf__max_features': 11, 'clf__n_estimators':...</td>\n",
       "      <td>0.500000</td>\n",
       "      <td>0.611111</td>\n",
       "      <td>0.555556</td>\n",
       "      <td>5.555556e-02</td>\n",
       "      <td>11</td>\n",
       "      <td>1.000000</td>\n",
       "      <td>1.000000</td>\n",
       "      <td>1.000000</td>\n",
       "      <td>0.000000</td>\n",
       "    </tr>\n",
       "    <tr>\n",
       "      <th>76</th>\n",
       "      <td>0.062343</td>\n",
       "      <td>0.004299</td>\n",
       "      <td>0.005783</td>\n",
       "      <td>0.000048</td>\n",
       "      <td>11</td>\n",
       "      <td>50</td>\n",
       "      <td>{'clf__max_features': 11, 'clf__n_estimators':...</td>\n",
       "      <td>0.489796</td>\n",
       "      <td>0.578947</td>\n",
       "      <td>0.534372</td>\n",
       "      <td>4.457573e-02</td>\n",
       "      <td>24</td>\n",
       "      <td>1.000000</td>\n",
       "      <td>1.000000</td>\n",
       "      <td>1.000000</td>\n",
       "      <td>0.000000</td>\n",
       "    </tr>\n",
       "  </tbody>\n",
       "</table>\n",
       "<p>77 rows × 16 columns</p>\n",
       "</div>"
      ],
      "text/plain": [
       "    mean_fit_time  std_fit_time  mean_score_time  std_score_time  \\\n",
       "0        0.010302      0.000030         0.004192        0.000089   \n",
       "1        0.023500      0.000695         0.005471        0.000105   \n",
       "2        0.042416      0.000463         0.007136        0.000147   \n",
       "3        0.049576      0.006877         0.007290        0.000299   \n",
       "4        0.056624      0.006205         0.008853        0.000360   \n",
       "..            ...           ...              ...             ...   \n",
       "72       0.040331      0.001088         0.006114        0.000189   \n",
       "73       0.041691      0.000015         0.006120        0.000065   \n",
       "74       0.044738      0.001508         0.006189        0.000193   \n",
       "75       0.047781      0.006322         0.004622        0.000221   \n",
       "76       0.062343      0.004299         0.005783        0.000048   \n",
       "\n",
       "   param_clf__max_features param_clf__n_estimators  \\\n",
       "0                        1                       2   \n",
       "1                        1                      10   \n",
       "2                        1                      20   \n",
       "3                        1                      21   \n",
       "4                        1                      22   \n",
       "..                     ...                     ...   \n",
       "72                      11                      20   \n",
       "73                      11                      21   \n",
       "74                      11                      22   \n",
       "75                      11                      30   \n",
       "76                      11                      50   \n",
       "\n",
       "                                               params  split0_test_score  \\\n",
       "0    {'clf__max_features': 1, 'clf__n_estimators': 2}           0.410256   \n",
       "1   {'clf__max_features': 1, 'clf__n_estimators': 10}           0.315789   \n",
       "2   {'clf__max_features': 1, 'clf__n_estimators': 20}           0.352941   \n",
       "3   {'clf__max_features': 1, 'clf__n_estimators': 21}           0.400000   \n",
       "4   {'clf__max_features': 1, 'clf__n_estimators': 22}           0.411765   \n",
       "..                                                ...                ...   \n",
       "72  {'clf__max_features': 11, 'clf__n_estimators':...           0.470588   \n",
       "73  {'clf__max_features': 11, 'clf__n_estimators':...           0.465116   \n",
       "74  {'clf__max_features': 11, 'clf__n_estimators':...           0.432432   \n",
       "75  {'clf__max_features': 11, 'clf__n_estimators':...           0.500000   \n",
       "76  {'clf__max_features': 11, 'clf__n_estimators':...           0.489796   \n",
       "\n",
       "    split1_test_score  mean_test_score  std_test_score  rank_test_score  \\\n",
       "0            0.076923         0.243590    1.666667e-01               76   \n",
       "1            0.240000         0.277895    3.789474e-02               75   \n",
       "2            0.230769         0.291855    6.108597e-02               74   \n",
       "3            0.400000         0.400000    3.925231e-17               62   \n",
       "4            0.222222         0.316993    9.477124e-02               73   \n",
       "..                ...              ...             ...              ...   \n",
       "72           0.564103         0.517345    4.675716e-02               31   \n",
       "73           0.536585         0.500851    3.573454e-02               40   \n",
       "74           0.564103         0.498267    6.583507e-02               43   \n",
       "75           0.611111         0.555556    5.555556e-02               11   \n",
       "76           0.578947         0.534372    4.457573e-02               24   \n",
       "\n",
       "    split0_train_score  split1_train_score  mean_train_score  std_train_score  \n",
       "0             0.777778            0.742857          0.760317         0.017460  \n",
       "1             1.000000            0.976744          0.988372         0.011628  \n",
       "2             1.000000            1.000000          1.000000         0.000000  \n",
       "3             1.000000            1.000000          1.000000         0.000000  \n",
       "4             1.000000            1.000000          1.000000         0.000000  \n",
       "..                 ...                 ...               ...              ...  \n",
       "72            1.000000            1.000000          1.000000         0.000000  \n",
       "73            1.000000            1.000000          1.000000         0.000000  \n",
       "74            1.000000            1.000000          1.000000         0.000000  \n",
       "75            1.000000            1.000000          1.000000         0.000000  \n",
       "76            1.000000            1.000000          1.000000         0.000000  \n",
       "\n",
       "[77 rows x 16 columns]"
      ]
     },
     "execution_count": 305,
     "metadata": {},
     "output_type": "execute_result"
    }
   ],
   "source": [
    "pd.DataFrame(grid_search.cv_results_)"
   ]
  },
  {
   "cell_type": "code",
   "execution_count": 306,
   "id": "casual-annual",
   "metadata": {},
   "outputs": [
    {
     "name": "stdout",
     "output_type": "stream",
     "text": [
      "Best score: 0.61 +/- 0.06\n"
     ]
    }
   ],
   "source": [
    "print_best_score(grid_search)"
   ]
  },
  {
   "cell_type": "code",
   "execution_count": 307,
   "id": "fuzzy-first",
   "metadata": {},
   "outputs": [],
   "source": [
    "feature_importances = grid_search.best_estimator_._final_estimator.feature_importances_"
   ]
  },
  {
   "cell_type": "code",
   "execution_count": 308,
   "id": "conditional-drilling",
   "metadata": {},
   "outputs": [
    {
     "data": {
      "text/plain": [
       "[(0.21648613313287135, 'Ejection Fraction [%]'),\n",
       " (0.211694318004643, 'Serum Creatinine [mg/dL]'),\n",
       " (0.15741975436922348, 'Age [years]'),\n",
       " (0.11871210336246503, 'Creatine Phosphokinase [mcg/L]'),\n",
       " (0.10494607566958161, 'Platelets [1000 platelets/mL]'),\n",
       " (0.09755688886691977, 'Serum Sodium [mEq/L]'),\n",
       " (0.02180785890990473, 'Anaemia'),\n",
       " (0.02139835993319598, 'High Blood Pressure'),\n",
       " (0.020540345520868173, 'Diabetes'),\n",
       " (0.017327645219996322, 'Smoking'),\n",
       " (0.012110517010330616, 'Male')]"
      ]
     },
     "execution_count": 308,
     "metadata": {},
     "output_type": "execute_result"
    }
   ],
   "source": [
    "sorted(zip(feature_importances, [\n",
    "       col for col in df.columns if col != 'DEATH_EVENT']), reverse=True)"
   ]
  },
  {
   "cell_type": "code",
   "execution_count": 309,
   "id": "reasonable-contact",
   "metadata": {},
   "outputs": [],
   "source": [
    "features_ranking = sorted(zip(\n",
    "    [col for col in df.columns if col != 'DEATH_EVENT'], feature_importances),\n",
    "                          reverse=True,\n",
    "                          key=lambda x: x[1])"
   ]
  },
  {
   "cell_type": "code",
   "execution_count": 310,
   "id": "mineral-fifteen",
   "metadata": {},
   "outputs": [],
   "source": [
    "features = [x[0] for x in features_ranking]\n",
    "ranks = [x[1] for x in features_ranking]"
   ]
  },
  {
   "cell_type": "code",
   "execution_count": 311,
   "id": "serious-voice",
   "metadata": {},
   "outputs": [
    {
     "data": {
      "text/plain": [
       "Text(0.5, 0, 'Score')"
      ]
     },
     "execution_count": 311,
     "metadata": {},
     "output_type": "execute_result"
    },
    {
     "data": {
      "image/png": "[encoded data removed]",
      "text/plain": [
       "<Figure size 432x288 with 1 Axes>"
      ]
     },
     "metadata": {},
     "output_type": "display_data"
    }
   ],
   "source": [
    "sns.barplot(y=features, x=ranks, orient='h')\n",
    "plt.xlabel('Score')"
   ]
  },
  {
   "cell_type": "code",
   "execution_count": 312,
   "id": "civilian-electricity",
   "metadata": {},
   "outputs": [],
   "source": [
    "best_features = features[:grid_search.best_params_['clf__max_features']]"
   ]
  },
  {
   "cell_type": "code",
   "execution_count": 313,
   "id": "premium-disease",
   "metadata": {},
   "outputs": [],
   "source": [
    "rf_clf = grid_search.best_estimator_"
   ]
  },
  {
   "cell_type": "code",
   "execution_count": 314,
   "id": "bright-chess",
   "metadata": {},
   "outputs": [],
   "source": [
    "from sklearn.model_selection import cross_val_predict"
   ]
  },
  {
   "cell_type": "code",
   "execution_count": 315,
   "id": "dress-steering",
   "metadata": {},
   "outputs": [
    {
     "data": {
      "text/plain": [
       "(131, 11)"
      ]
     },
     "execution_count": 315,
     "metadata": {},
     "output_type": "execute_result"
    }
   ],
   "source": [
    "X_train_tr.shape"
   ]
  },
  {
   "cell_type": "code",
   "execution_count": 316,
   "id": "limiting-taiwan",
   "metadata": {},
   "outputs": [
    {
     "data": {
      "text/plain": [
       "(131,)"
      ]
     },
     "execution_count": 316,
     "metadata": {},
     "output_type": "execute_result"
    }
   ],
   "source": [
    "y_train.shape"
   ]
  },
  {
   "cell_type": "code",
   "execution_count": 317,
   "id": "heated-insight",
   "metadata": {},
   "outputs": [],
   "source": [
    "y_probas = cross_val_predict(rf_clf, X_train_tr, y=y_train, cv=2,\n",
    "                             method='predict_proba')"
   ]
  },
  {
   "cell_type": "code",
   "execution_count": 318,
   "id": "desperate-radar",
   "metadata": {},
   "outputs": [],
   "source": [
    "y_scores = y_probas[:, 1]"
   ]
  },
  {
   "cell_type": "code",
   "execution_count": 319,
   "id": "saving-anniversary",
   "metadata": {},
   "outputs": [
    {
     "data": {
      "text/plain": [
       "array([0.2 , 0.04, 0.06, 0.44, 0.66, 0.72, 0.18, 0.22, 0.04, 0.22, 0.28,\n",
       "       0.42, 0.28, 0.16, 0.66, 0.66, 0.34, 0.16, 0.6 , 0.26, 0.06, 0.26,\n",
       "       0.7 , 0.72, 0.18, 0.08, 0.54, 0.86, 0.42, 0.1 , 0.52, 0.68, 0.66,\n",
       "       0.56, 0.56, 0.36, 0.26, 0.66, 0.26, 0.78, 0.52, 0.2 , 0.26, 0.36,\n",
       "       0.54, 0.56, 0.26, 0.28, 0.38, 0.54, 0.3 , 0.48, 0.68, 0.36, 0.02,\n",
       "       0.42, 0.24, 0.28, 0.28, 0.6 , 0.5 , 0.58, 0.34, 0.6 , 0.14, 0.08,\n",
       "       0.38, 0.28, 0.74, 0.48, 0.78, 0.22, 0.12, 0.48, 0.1 , 0.42, 0.38,\n",
       "       0.02, 0.26, 0.04, 0.7 , 0.14, 0.52, 0.76, 0.14, 0.24, 0.28, 0.44,\n",
       "       0.44, 0.8 , 0.66, 0.04, 0.08, 0.52, 0.08, 0.06, 0.7 , 0.66, 0.66,\n",
       "       0.32, 0.64, 0.58, 0.42, 0.24, 0.36, 0.  , 0.16, 0.2 , 0.04, 0.24,\n",
       "       0.02, 0.42, 0.28, 0.76, 0.12, 0.06, 0.2 , 0.1 , 0.16, 0.66, 0.06,\n",
       "       0.18, 0.2 , 0.18, 0.02, 0.04, 0.1 , 0.54, 0.26, 0.14, 0.18])"
      ]
     },
     "execution_count": 319,
     "metadata": {},
     "output_type": "execute_result"
    }
   ],
   "source": [
    "y_scores"
   ]
  },
  {
   "cell_type": "code",
   "execution_count": 320,
   "id": "synthetic-parker",
   "metadata": {},
   "outputs": [],
   "source": [
    "#(clf.predict(X_test) == y_test).sum() / y_test.shape[0]"
   ]
  },
  {
   "cell_type": "code",
   "execution_count": 321,
   "id": "aggressive-lingerie",
   "metadata": {},
   "outputs": [
    {
     "data": {
      "text/plain": [
       "223    0\n",
       "179    0\n",
       "200    0\n",
       "2      1\n",
       "133    0\n",
       "Name: DEATH_EVENT, dtype: int64"
      ]
     },
     "execution_count": 321,
     "metadata": {},
     "output_type": "execute_result"
    }
   ],
   "source": [
    "y_train[:5]"
   ]
  },
  {
   "cell_type": "code",
   "execution_count": 322,
   "id": "suspended-prison",
   "metadata": {},
   "outputs": [
    {
     "data": {
      "text/plain": [
       "array([0.42, 0.42, 0.44, 0.42, 0.46])"
      ]
     },
     "execution_count": 322,
     "metadata": {},
     "output_type": "execute_result"
    }
   ],
   "source": [
    "rf_clf.predict_proba(X_train_tr[:5])[:, 1]"
   ]
  },
  {
   "cell_type": "markdown",
   "id": "retired-jurisdiction",
   "metadata": {},
   "source": [
    "# SVM\n"
   ]
  },
  {
   "cell_type": "code",
   "execution_count": 371,
   "id": "together-belle",
   "metadata": {},
   "outputs": [
    {
     "ename": "ValueError",
     "evalue": "Invalid parameter probability for estimator LinearSVC(C=0.1, class_weight='balanced', loss='hinge'). Check the list of available parameters with `estimator.get_params().keys()`.",
     "output_type": "error",
     "traceback": [
      "\u001b[0;31m---------------------------------------------------------------------------\u001b[0m",
      "\u001b[0;31m_RemoteTraceback\u001b[0m                          Traceback (most recent call last)",
      "\u001b[0;31m_RemoteTraceback\u001b[0m: \n\"\"\"\nTraceback (most recent call last):\n  File \"/home/dawid/miniconda3/envs/data/lib/python3.8/site-packages/joblib/externals/loky/process_executor.py\", line 431, in _process_worker\n    r = call_item()\n  File \"/home/dawid/miniconda3/envs/data/lib/python3.8/site-packages/joblib/externals/loky/process_executor.py\", line 285, in __call__\n    return self.fn(*self.args, **self.kwargs)\n  File \"/home/dawid/miniconda3/envs/data/lib/python3.8/site-packages/joblib/_parallel_backends.py\", line 595, in __call__\n    return self.func(*args, **kwargs)\n  File \"/home/dawid/miniconda3/envs/data/lib/python3.8/site-packages/joblib/parallel.py\", line 262, in __call__\n    return [func(*args, **kwargs)\n  File \"/home/dawid/miniconda3/envs/data/lib/python3.8/site-packages/joblib/parallel.py\", line 262, in <listcomp>\n    return [func(*args, **kwargs)\n  File \"/home/dawid/miniconda3/envs/data/lib/python3.8/site-packages/sklearn/model_selection/_validation.py\", line 520, in _fit_and_score\n    estimator = estimator.set_params(**cloned_parameters)\n  File \"/home/dawid/miniconda3/envs/data/lib/python3.8/site-packages/sklearn/pipeline.py\", line 141, in set_params\n    self._set_params('steps', **kwargs)\n  File \"/home/dawid/miniconda3/envs/data/lib/python3.8/site-packages/sklearn/utils/metaestimators.py\", line 53, in _set_params\n    super().set_params(**params)\n  File \"/home/dawid/miniconda3/envs/data/lib/python3.8/site-packages/sklearn/base.py\", line 261, in set_params\n    valid_params[key].set_params(**sub_params)\n  File \"/home/dawid/miniconda3/envs/data/lib/python3.8/site-packages/sklearn/base.py\", line 249, in set_params\n    raise ValueError('Invalid parameter %s for estimator %s. '\nValueError: Invalid parameter probability for estimator LinearSVC(C=0.1, class_weight='balanced', loss='hinge'). Check the list of available parameters with `estimator.get_params().keys()`.\n\"\"\"",
      "\nThe above exception was the direct cause of the following exception:\n",
      "\u001b[0;31mValueError\u001b[0m                                Traceback (most recent call last)",
      "\u001b[0;32m<ipython-input-371-ee8a1b71f485>\u001b[0m in \u001b[0;36m<module>\u001b[0;34m\u001b[0m\n\u001b[1;32m     24\u001b[0m                            \u001b[0mreturn_train_score\u001b[0m\u001b[0;34m=\u001b[0m\u001b[0;32mTrue\u001b[0m\u001b[0;34m,\u001b[0m\u001b[0;34m\u001b[0m\u001b[0;34m\u001b[0m\u001b[0m\n\u001b[1;32m     25\u001b[0m                            n_jobs=-1)\n\u001b[0;32m---> 26\u001b[0;31m \u001b[0mgrid_search\u001b[0m\u001b[0;34m.\u001b[0m\u001b[0mfit\u001b[0m\u001b[0;34m(\u001b[0m\u001b[0mX_train\u001b[0m\u001b[0;34m,\u001b[0m \u001b[0my_train\u001b[0m\u001b[0;34m)\u001b[0m\u001b[0;34m\u001b[0m\u001b[0;34m\u001b[0m\u001b[0m\n\u001b[0m\u001b[1;32m     27\u001b[0m \u001b[0mprint\u001b[0m\u001b[0;34m(\u001b[0m\u001b[0mgrid_search\u001b[0m\u001b[0;34m.\u001b[0m\u001b[0mbest_params_\u001b[0m\u001b[0;34m)\u001b[0m\u001b[0;34m\u001b[0m\u001b[0;34m\u001b[0m\u001b[0m\n\u001b[1;32m     28\u001b[0m \u001b[0mprint_best_score\u001b[0m\u001b[0;34m(\u001b[0m\u001b[0mgrid_search\u001b[0m\u001b[0;34m)\u001b[0m\u001b[0;34m\u001b[0m\u001b[0;34m\u001b[0m\u001b[0m\n",
      "\u001b[0;32m~/miniconda3/envs/data/lib/python3.8/site-packages/sklearn/utils/validation.py\u001b[0m in \u001b[0;36minner_f\u001b[0;34m(*args, **kwargs)\u001b[0m\n\u001b[1;32m     70\u001b[0m                           FutureWarning)\n\u001b[1;32m     71\u001b[0m         \u001b[0mkwargs\u001b[0m\u001b[0;34m.\u001b[0m\u001b[0mupdate\u001b[0m\u001b[0;34m(\u001b[0m\u001b[0;34m{\u001b[0m\u001b[0mk\u001b[0m\u001b[0;34m:\u001b[0m \u001b[0marg\u001b[0m \u001b[0;32mfor\u001b[0m \u001b[0mk\u001b[0m\u001b[0;34m,\u001b[0m \u001b[0marg\u001b[0m \u001b[0;32min\u001b[0m \u001b[0mzip\u001b[0m\u001b[0;34m(\u001b[0m\u001b[0msig\u001b[0m\u001b[0;34m.\u001b[0m\u001b[0mparameters\u001b[0m\u001b[0;34m,\u001b[0m \u001b[0margs\u001b[0m\u001b[0;34m)\u001b[0m\u001b[0;34m}\u001b[0m\u001b[0;34m)\u001b[0m\u001b[0;34m\u001b[0m\u001b[0;34m\u001b[0m\u001b[0m\n\u001b[0;32m---> 72\u001b[0;31m         \u001b[0;32mreturn\u001b[0m \u001b[0mf\u001b[0m\u001b[0;34m(\u001b[0m\u001b[0;34m**\u001b[0m\u001b[0mkwargs\u001b[0m\u001b[0;34m)\u001b[0m\u001b[0;34m\u001b[0m\u001b[0;34m\u001b[0m\u001b[0m\n\u001b[0m\u001b[1;32m     73\u001b[0m     \u001b[0;32mreturn\u001b[0m \u001b[0minner_f\u001b[0m\u001b[0;34m\u001b[0m\u001b[0;34m\u001b[0m\u001b[0m\n\u001b[1;32m     74\u001b[0m \u001b[0;34m\u001b[0m\u001b[0m\n",
      "\u001b[0;32m~/miniconda3/envs/data/lib/python3.8/site-packages/sklearn/model_selection/_search.py\u001b[0m in \u001b[0;36mfit\u001b[0;34m(self, X, y, groups, **fit_params)\u001b[0m\n\u001b[1;32m    734\u001b[0m                 \u001b[0;32mreturn\u001b[0m \u001b[0mresults\u001b[0m\u001b[0;34m\u001b[0m\u001b[0;34m\u001b[0m\u001b[0m\n\u001b[1;32m    735\u001b[0m \u001b[0;34m\u001b[0m\u001b[0m\n\u001b[0;32m--> 736\u001b[0;31m             \u001b[0mself\u001b[0m\u001b[0;34m.\u001b[0m\u001b[0m_run_search\u001b[0m\u001b[0;34m(\u001b[0m\u001b[0mevaluate_candidates\u001b[0m\u001b[0;34m)\u001b[0m\u001b[0;34m\u001b[0m\u001b[0;34m\u001b[0m\u001b[0m\n\u001b[0m\u001b[1;32m    737\u001b[0m \u001b[0;34m\u001b[0m\u001b[0m\n\u001b[1;32m    738\u001b[0m         \u001b[0;31m# For multi-metric evaluation, store the best_index_, best_params_ and\u001b[0m\u001b[0;34m\u001b[0m\u001b[0;34m\u001b[0m\u001b[0;34m\u001b[0m\u001b[0m\n",
      "\u001b[0;32m~/miniconda3/envs/data/lib/python3.8/site-packages/sklearn/model_selection/_search.py\u001b[0m in \u001b[0;36m_run_search\u001b[0;34m(self, evaluate_candidates)\u001b[0m\n\u001b[1;32m   1186\u001b[0m     \u001b[0;32mdef\u001b[0m \u001b[0m_run_search\u001b[0m\u001b[0;34m(\u001b[0m\u001b[0mself\u001b[0m\u001b[0;34m,\u001b[0m \u001b[0mevaluate_candidates\u001b[0m\u001b[0;34m)\u001b[0m\u001b[0;34m:\u001b[0m\u001b[0;34m\u001b[0m\u001b[0;34m\u001b[0m\u001b[0m\n\u001b[1;32m   1187\u001b[0m         \u001b[0;34m\"\"\"Search all candidates in param_grid\"\"\"\u001b[0m\u001b[0;34m\u001b[0m\u001b[0;34m\u001b[0m\u001b[0m\n\u001b[0;32m-> 1188\u001b[0;31m         \u001b[0mevaluate_candidates\u001b[0m\u001b[0;34m(\u001b[0m\u001b[0mParameterGrid\u001b[0m\u001b[0;34m(\u001b[0m\u001b[0mself\u001b[0m\u001b[0;34m.\u001b[0m\u001b[0mparam_grid\u001b[0m\u001b[0;34m)\u001b[0m\u001b[0;34m)\u001b[0m\u001b[0;34m\u001b[0m\u001b[0;34m\u001b[0m\u001b[0m\n\u001b[0m\u001b[1;32m   1189\u001b[0m \u001b[0;34m\u001b[0m\u001b[0m\n\u001b[1;32m   1190\u001b[0m \u001b[0;34m\u001b[0m\u001b[0m\n",
      "\u001b[0;32m~/miniconda3/envs/data/lib/python3.8/site-packages/sklearn/model_selection/_search.py\u001b[0m in \u001b[0;36mevaluate_candidates\u001b[0;34m(candidate_params)\u001b[0m\n\u001b[1;32m    706\u001b[0m                               n_splits, n_candidates, n_candidates * n_splits))\n\u001b[1;32m    707\u001b[0m \u001b[0;34m\u001b[0m\u001b[0m\n\u001b[0;32m--> 708\u001b[0;31m                 out = parallel(delayed(_fit_and_score)(clone(base_estimator),\n\u001b[0m\u001b[1;32m    709\u001b[0m                                                        \u001b[0mX\u001b[0m\u001b[0;34m,\u001b[0m \u001b[0my\u001b[0m\u001b[0;34m,\u001b[0m\u001b[0;34m\u001b[0m\u001b[0;34m\u001b[0m\u001b[0m\n\u001b[1;32m    710\u001b[0m                                                        \u001b[0mtrain\u001b[0m\u001b[0;34m=\u001b[0m\u001b[0mtrain\u001b[0m\u001b[0;34m,\u001b[0m \u001b[0mtest\u001b[0m\u001b[0;34m=\u001b[0m\u001b[0mtest\u001b[0m\u001b[0;34m,\u001b[0m\u001b[0;34m\u001b[0m\u001b[0;34m\u001b[0m\u001b[0m\n",
      "\u001b[0;32m~/miniconda3/envs/data/lib/python3.8/site-packages/joblib/parallel.py\u001b[0m in \u001b[0;36m__call__\u001b[0;34m(self, iterable)\u001b[0m\n\u001b[1;32m   1052\u001b[0m \u001b[0;34m\u001b[0m\u001b[0m\n\u001b[1;32m   1053\u001b[0m             \u001b[0;32mwith\u001b[0m \u001b[0mself\u001b[0m\u001b[0;34m.\u001b[0m\u001b[0m_backend\u001b[0m\u001b[0;34m.\u001b[0m\u001b[0mretrieval_context\u001b[0m\u001b[0;34m(\u001b[0m\u001b[0;34m)\u001b[0m\u001b[0;34m:\u001b[0m\u001b[0;34m\u001b[0m\u001b[0;34m\u001b[0m\u001b[0m\n\u001b[0;32m-> 1054\u001b[0;31m                 \u001b[0mself\u001b[0m\u001b[0;34m.\u001b[0m\u001b[0mretrieve\u001b[0m\u001b[0;34m(\u001b[0m\u001b[0;34m)\u001b[0m\u001b[0;34m\u001b[0m\u001b[0;34m\u001b[0m\u001b[0m\n\u001b[0m\u001b[1;32m   1055\u001b[0m             \u001b[0;31m# Make sure that we get a last message telling us we are done\u001b[0m\u001b[0;34m\u001b[0m\u001b[0;34m\u001b[0m\u001b[0;34m\u001b[0m\u001b[0m\n\u001b[1;32m   1056\u001b[0m             \u001b[0melapsed_time\u001b[0m \u001b[0;34m=\u001b[0m \u001b[0mtime\u001b[0m\u001b[0;34m.\u001b[0m\u001b[0mtime\u001b[0m\u001b[0;34m(\u001b[0m\u001b[0;34m)\u001b[0m \u001b[0;34m-\u001b[0m \u001b[0mself\u001b[0m\u001b[0;34m.\u001b[0m\u001b[0m_start_time\u001b[0m\u001b[0;34m\u001b[0m\u001b[0;34m\u001b[0m\u001b[0m\n",
      "\u001b[0;32m~/miniconda3/envs/data/lib/python3.8/site-packages/joblib/parallel.py\u001b[0m in \u001b[0;36mretrieve\u001b[0;34m(self)\u001b[0m\n\u001b[1;32m    931\u001b[0m             \u001b[0;32mtry\u001b[0m\u001b[0;34m:\u001b[0m\u001b[0;34m\u001b[0m\u001b[0;34m\u001b[0m\u001b[0m\n\u001b[1;32m    932\u001b[0m                 \u001b[0;32mif\u001b[0m \u001b[0mgetattr\u001b[0m\u001b[0;34m(\u001b[0m\u001b[0mself\u001b[0m\u001b[0;34m.\u001b[0m\u001b[0m_backend\u001b[0m\u001b[0;34m,\u001b[0m \u001b[0;34m'supports_timeout'\u001b[0m\u001b[0;34m,\u001b[0m \u001b[0;32mFalse\u001b[0m\u001b[0;34m)\u001b[0m\u001b[0;34m:\u001b[0m\u001b[0;34m\u001b[0m\u001b[0;34m\u001b[0m\u001b[0m\n\u001b[0;32m--> 933\u001b[0;31m                     \u001b[0mself\u001b[0m\u001b[0;34m.\u001b[0m\u001b[0m_output\u001b[0m\u001b[0;34m.\u001b[0m\u001b[0mextend\u001b[0m\u001b[0;34m(\u001b[0m\u001b[0mjob\u001b[0m\u001b[0;34m.\u001b[0m\u001b[0mget\u001b[0m\u001b[0;34m(\u001b[0m\u001b[0mtimeout\u001b[0m\u001b[0;34m=\u001b[0m\u001b[0mself\u001b[0m\u001b[0;34m.\u001b[0m\u001b[0mtimeout\u001b[0m\u001b[0;34m)\u001b[0m\u001b[0;34m)\u001b[0m\u001b[0;34m\u001b[0m\u001b[0;34m\u001b[0m\u001b[0m\n\u001b[0m\u001b[1;32m    934\u001b[0m                 \u001b[0;32melse\u001b[0m\u001b[0;34m:\u001b[0m\u001b[0;34m\u001b[0m\u001b[0;34m\u001b[0m\u001b[0m\n\u001b[1;32m    935\u001b[0m                     \u001b[0mself\u001b[0m\u001b[0;34m.\u001b[0m\u001b[0m_output\u001b[0m\u001b[0;34m.\u001b[0m\u001b[0mextend\u001b[0m\u001b[0;34m(\u001b[0m\u001b[0mjob\u001b[0m\u001b[0;34m.\u001b[0m\u001b[0mget\u001b[0m\u001b[0;34m(\u001b[0m\u001b[0;34m)\u001b[0m\u001b[0;34m)\u001b[0m\u001b[0;34m\u001b[0m\u001b[0;34m\u001b[0m\u001b[0m\n",
      "\u001b[0;32m~/miniconda3/envs/data/lib/python3.8/site-packages/joblib/_parallel_backends.py\u001b[0m in \u001b[0;36mwrap_future_result\u001b[0;34m(future, timeout)\u001b[0m\n\u001b[1;32m    540\u001b[0m         AsyncResults.get from multiprocessing.\"\"\"\n\u001b[1;32m    541\u001b[0m         \u001b[0;32mtry\u001b[0m\u001b[0;34m:\u001b[0m\u001b[0;34m\u001b[0m\u001b[0;34m\u001b[0m\u001b[0m\n\u001b[0;32m--> 542\u001b[0;31m             \u001b[0;32mreturn\u001b[0m \u001b[0mfuture\u001b[0m\u001b[0;34m.\u001b[0m\u001b[0mresult\u001b[0m\u001b[0;34m(\u001b[0m\u001b[0mtimeout\u001b[0m\u001b[0;34m=\u001b[0m\u001b[0mtimeout\u001b[0m\u001b[0;34m)\u001b[0m\u001b[0;34m\u001b[0m\u001b[0;34m\u001b[0m\u001b[0m\n\u001b[0m\u001b[1;32m    543\u001b[0m         \u001b[0;32mexcept\u001b[0m \u001b[0mCfTimeoutError\u001b[0m \u001b[0;32mas\u001b[0m \u001b[0me\u001b[0m\u001b[0;34m:\u001b[0m\u001b[0;34m\u001b[0m\u001b[0;34m\u001b[0m\u001b[0m\n\u001b[1;32m    544\u001b[0m             \u001b[0;32mraise\u001b[0m \u001b[0mTimeoutError\u001b[0m \u001b[0;32mfrom\u001b[0m \u001b[0me\u001b[0m\u001b[0;34m\u001b[0m\u001b[0;34m\u001b[0m\u001b[0m\n",
      "\u001b[0;32m~/miniconda3/envs/data/lib/python3.8/concurrent/futures/_base.py\u001b[0m in \u001b[0;36mresult\u001b[0;34m(self, timeout)\u001b[0m\n\u001b[1;32m    430\u001b[0m                 \u001b[0;32mraise\u001b[0m \u001b[0mCancelledError\u001b[0m\u001b[0;34m(\u001b[0m\u001b[0;34m)\u001b[0m\u001b[0;34m\u001b[0m\u001b[0;34m\u001b[0m\u001b[0m\n\u001b[1;32m    431\u001b[0m             \u001b[0;32melif\u001b[0m \u001b[0mself\u001b[0m\u001b[0;34m.\u001b[0m\u001b[0m_state\u001b[0m \u001b[0;34m==\u001b[0m \u001b[0mFINISHED\u001b[0m\u001b[0;34m:\u001b[0m\u001b[0;34m\u001b[0m\u001b[0;34m\u001b[0m\u001b[0m\n\u001b[0;32m--> 432\u001b[0;31m                 \u001b[0;32mreturn\u001b[0m \u001b[0mself\u001b[0m\u001b[0;34m.\u001b[0m\u001b[0m__get_result\u001b[0m\u001b[0;34m(\u001b[0m\u001b[0;34m)\u001b[0m\u001b[0;34m\u001b[0m\u001b[0;34m\u001b[0m\u001b[0m\n\u001b[0m\u001b[1;32m    433\u001b[0m \u001b[0;34m\u001b[0m\u001b[0m\n\u001b[1;32m    434\u001b[0m             \u001b[0mself\u001b[0m\u001b[0;34m.\u001b[0m\u001b[0m_condition\u001b[0m\u001b[0;34m.\u001b[0m\u001b[0mwait\u001b[0m\u001b[0;34m(\u001b[0m\u001b[0mtimeout\u001b[0m\u001b[0;34m)\u001b[0m\u001b[0;34m\u001b[0m\u001b[0;34m\u001b[0m\u001b[0m\n",
      "\u001b[0;32m~/miniconda3/envs/data/lib/python3.8/concurrent/futures/_base.py\u001b[0m in \u001b[0;36m__get_result\u001b[0;34m(self)\u001b[0m\n\u001b[1;32m    386\u001b[0m     \u001b[0;32mdef\u001b[0m \u001b[0m__get_result\u001b[0m\u001b[0;34m(\u001b[0m\u001b[0mself\u001b[0m\u001b[0;34m)\u001b[0m\u001b[0;34m:\u001b[0m\u001b[0;34m\u001b[0m\u001b[0;34m\u001b[0m\u001b[0m\n\u001b[1;32m    387\u001b[0m         \u001b[0;32mif\u001b[0m \u001b[0mself\u001b[0m\u001b[0;34m.\u001b[0m\u001b[0m_exception\u001b[0m\u001b[0;34m:\u001b[0m\u001b[0;34m\u001b[0m\u001b[0;34m\u001b[0m\u001b[0m\n\u001b[0;32m--> 388\u001b[0;31m             \u001b[0;32mraise\u001b[0m \u001b[0mself\u001b[0m\u001b[0;34m.\u001b[0m\u001b[0m_exception\u001b[0m\u001b[0;34m\u001b[0m\u001b[0;34m\u001b[0m\u001b[0m\n\u001b[0m\u001b[1;32m    389\u001b[0m         \u001b[0;32melse\u001b[0m\u001b[0;34m:\u001b[0m\u001b[0;34m\u001b[0m\u001b[0;34m\u001b[0m\u001b[0m\n\u001b[1;32m    390\u001b[0m             \u001b[0;32mreturn\u001b[0m \u001b[0mself\u001b[0m\u001b[0;34m.\u001b[0m\u001b[0m_result\u001b[0m\u001b[0;34m\u001b[0m\u001b[0;34m\u001b[0m\u001b[0m\n",
      "\u001b[0;31mValueError\u001b[0m: Invalid parameter probability for estimator LinearSVC(C=0.1, class_weight='balanced', loss='hinge'). Check the list of available parameters with `estimator.get_params().keys()`."
     ]
    }
   ],
   "source": [
    "from sklearn.svm import SVC\n",
    "from sklearn.svm import LinearSVC\n",
    "svm_pipe = Pipeline([\n",
    "    ('scaler', StandardScaler()),\n",
    "    ('svm_clf', LinearSVC(C=1, loss='hinge')),\n",
    "    #('svm_clf', SVC(kernel='rbf', gamma=5, C=0.001))\n",
    "])\n",
    "\n",
    "param_grid = [{\n",
    "    'svm_clf__penalty' : ['l1', 'l2'],\n",
    "    'svm_clf__loss' : ['squared_hinge'],\n",
    "    'svm_clf__C' : [0.1, 0.5, 1.0, 1.5],\n",
    "    'svm_clf__class_weight' : ['balanced', None],\n",
    "},\n",
    "    {\n",
    "    'svm_clf__penalty' : ['l2'],\n",
    "    'svm_clf__loss' : ['hinge'],\n",
    "    'svm_clf__C' : [0.1, 0.5, 1.0, 1.5],\n",
    "    'svm_clf__class_weight' : ['balanced', None],   \n",
    "}]\n",
    "grid_search = GridSearchCV(svm_pipe, param_grid, cv=2,\n",
    "                           scoring='f1',\n",
    "                           return_train_score=True,\n",
    "                           n_jobs=-1)\n",
    "grid_search.fit(X_train, y_train)\n",
    "print(grid_search.best_params_)\n",
    "print_best_score(grid_search)"
   ]
  },
  {
   "cell_type": "code",
   "execution_count": 372,
   "id": "surprising-mortgage",
   "metadata": {},
   "outputs": [
    {
     "name": "stdout",
     "output_type": "stream",
     "text": [
      "{'svm_clf__C': 1.5, 'svm_clf__class_weight': 'balanced', 'svm_clf__coef0': 0.0, 'svm_clf__degree': 2, 'svm_clf__gamma': 'scale', 'svm_clf__kernel': 'rbf', 'svm_clf__probability': True}\n",
      "Best score: 0.67 +/- 0.01\n"
     ]
    }
   ],
   "source": [
    "# SVM with rbf kernel\n",
    "svm_pipe = Pipeline([\n",
    "    ('scaler', StandardScaler()),\n",
    "    ('svm_clf', SVC()),#kernel='rbf', gamma=5, C=0.001))\n",
    "])\n",
    "\n",
    "param_grid = [{\n",
    "    'svm_clf__C' : [0.1, 0.5, 1.0, 1.5],\n",
    "    'svm_clf__kernel': ['rbf', 'poly', 'sigmoid', 'precomputed'],\n",
    "    'svm_clf__degree': [2, 3, 4],\n",
    "    'svm_clf__gamma': ['scale', 'auto'],\n",
    "    'svm_clf__coef0': [0.0, 0.1, 0.2],\n",
    "    'svm_clf__class_weight' : ['balanced', None],\n",
    "    'svm_clf__probability' : [True],\n",
    "}]\n",
    "grid_search = GridSearchCV(svm_pipe, param_grid, cv=2,\n",
    "                           scoring='f1',\n",
    "                           return_train_score=True,\n",
    "                           n_jobs=-1)\n",
    "grid_search.fit(X_train, y_train)\n",
    "print(grid_search.best_params_)\n",
    "print_best_score(grid_search)"
   ]
  },
  {
   "cell_type": "code",
   "execution_count": 373,
   "id": "adapted-evolution",
   "metadata": {},
   "outputs": [],
   "source": [
    "svm_clf = grid_search.best_estimator_"
   ]
  },
  {
   "cell_type": "markdown",
   "id": "unsigned-genre",
   "metadata": {},
   "source": [
    "# KNN"
   ]
  },
  {
   "cell_type": "code",
   "execution_count": 362,
   "id": "vulnerable-fitting",
   "metadata": {},
   "outputs": [
    {
     "data": {
      "text/plain": [
       "GridSearchCV(cv=2,\n",
       "             estimator=Pipeline(steps=[('scaler', StandardScaler()),\n",
       "                                       ('knn_clf', KNeighborsClassifier())]),\n",
       "             n_jobs=-1,\n",
       "             param_grid={'knn_clf__n_neighbors': [1, 2, 3, 5],\n",
       "                         'knn_clf__weights': ['uniform', 'distance']},\n",
       "             return_train_score=True, scoring='f1')"
      ]
     },
     "execution_count": 362,
     "metadata": {},
     "output_type": "execute_result"
    }
   ],
   "source": [
    "from sklearn.neighbors import KNeighborsClassifier as KNNClassifier\n",
    "knn_pipe = Pipeline([\n",
    "    ('scaler', StandardScaler()),\n",
    "    ('knn_clf', KNNClassifier())\n",
    "])\n",
    "\n",
    "param_grid = {\n",
    "    'knn_clf__n_neighbors' : [1, 2, 3, 5],\n",
    "    'knn_clf__weights' : ['uniform', 'distance'],\n",
    "}\n",
    "\n",
    "grid_search = GridSearchCV(knn_pipe, param_grid, cv=2,\n",
    "                           scoring='f1',\n",
    "                           return_train_score=True,\n",
    "                           n_jobs=-1)\n",
    "grid_search.fit(X_train, y_train)"
   ]
  },
  {
   "cell_type": "code",
   "execution_count": 363,
   "id": "incident-cholesterol",
   "metadata": {},
   "outputs": [
    {
     "data": {
      "text/plain": [
       "{'knn_clf__n_neighbors': 1, 'knn_clf__weights': 'uniform'}"
      ]
     },
     "execution_count": 363,
     "metadata": {},
     "output_type": "execute_result"
    }
   ],
   "source": [
    "grid_search.best_params_"
   ]
  },
  {
   "cell_type": "code",
   "execution_count": 364,
   "id": "detailed-allocation",
   "metadata": {},
   "outputs": [
    {
     "name": "stdout",
     "output_type": "stream",
     "text": [
      "Best score: 0.37 +/- 0.08\n"
     ]
    }
   ],
   "source": [
    "print_best_score(grid_search)"
   ]
  },
  {
   "cell_type": "code",
   "execution_count": 365,
   "id": "upset-teddy",
   "metadata": {},
   "outputs": [],
   "source": [
    "knn_clf = grid_search.best_estimator_"
   ]
  },
  {
   "cell_type": "markdown",
   "id": "comparative-corner",
   "metadata": {},
   "source": [
    "# Chaining up the Classifiers\n",
    "\n",
    "To make the most out of each classifier, we may combine them into a single one.\n",
    "This is akin to voting in all sorts of whimsical _crowd wisdom_ questions (who on earth cares how many beans you have in your jar xD).\n",
    "\n",
    "We'll be using _soft_ voting that takes into account confidence of each vote, rather than just the majority."
   ]
  },
  {
   "cell_type": "code",
   "execution_count": 393,
   "id": "trained-promotion",
   "metadata": {},
   "outputs": [
    {
     "data": {
      "text/plain": [
       "VotingClassifier(estimators=[('lr',\n",
       "                              Pipeline(steps=[('std_scaler', StandardScaler()),\n",
       "                                              ('pca', 'passthrough'),\n",
       "                                              ('clf',\n",
       "                                               LogisticRegression(C=0.75,\n",
       "                                                                  penalty='l1',\n",
       "                                                                  random_state=42,\n",
       "                                                                  solver='liblinear'))])),\n",
       "                             ('rf',\n",
       "                              Pipeline(steps=[('std_scaler', StandardScaler()),\n",
       "                                              ('clf',\n",
       "                                               RandomForestClassifier(max_features=5,\n",
       "                                                                      n_estimators=50,\n",
       "                                                                      random_state=42))])),\n",
       "                             ('svm',\n",
       "                              Pipeline(steps=[('scaler', StandardScaler()),\n",
       "                                              ('svm_clf',\n",
       "                                               SVC(C=1.5,\n",
       "                                                   class_weight='balanced',\n",
       "                                                   degree=2,\n",
       "                                                   probability=True))]))],\n",
       "                 voting='soft')"
      ]
     },
     "execution_count": 393,
     "metadata": {},
     "output_type": "execute_result"
    }
   ],
   "source": [
    "from sklearn.ensemble import VotingClassifier\n",
    "\n",
    "voting_clf = VotingClassifier(\n",
    "    estimators=[('lr', log_clf), \n",
    "                ('rf', rf_clf),\n",
    "                ('svm', svm_clf),\n",
    "                #('knn', knn_clf),\n",
    "               ],\n",
    "    voting='soft')\n",
    "voting_clf.fit(X_train, y_train)"
   ]
  },
  {
   "cell_type": "code",
   "execution_count": 394,
   "id": "prospective-painting",
   "metadata": {},
   "outputs": [
    {
     "data": {
      "text/plain": [
       "'f1_score'"
      ]
     },
     "execution_count": 394,
     "metadata": {},
     "output_type": "execute_result"
    }
   ],
   "source": [
    "f1_score.__name__"
   ]
  },
  {
   "cell_type": "code",
   "execution_count": 395,
   "id": "static-archives",
   "metadata": {},
   "outputs": [
    {
     "name": "stdout",
     "output_type": "stream",
     "text": [
      "logit f1_score 0.5517241379310344\n",
      "logit precision_score 0.5333333333333333\n",
      "logit recall_score 0.5714285714285714\n",
      "logit accuracy_score 0.7045454545454546\n",
      "RF f1_score 0.4615384615384615\n",
      "RF precision_score 0.5\n",
      "RF recall_score 0.42857142857142855\n",
      "RF accuracy_score 0.6818181818181818\n",
      "SVM f1_score 0.6666666666666667\n",
      "SVM precision_score 0.5609756097560976\n",
      "SVM recall_score 0.8214285714285714\n",
      "SVM accuracy_score 0.7386363636363636\n",
      "KNN f1_score 0.39999999999999997\n",
      "KNN precision_score 0.375\n",
      "KNN recall_score 0.42857142857142855\n",
      "KNN accuracy_score 0.5909090909090909\n",
      "Ensemble f1_score 0.5555555555555555\n",
      "Ensemble precision_score 0.5769230769230769\n",
      "Ensemble recall_score 0.5357142857142857\n",
      "Ensemble accuracy_score 0.7272727272727273\n"
     ]
    }
   ],
   "source": [
    "from sklearn.metrics import accuracy_score\n",
    "for name, clf in zip(('logit', 'RF', 'SVM', 'KNN', 'Ensemble'),\n",
    "                     (log_clf, rf_clf, svm_clf, knn_clf, voting_clf)):\n",
    "    clf.fit(X_train, y_train)\n",
    "    y_pred = clf.predict(X_test)\n",
    "    for metric in (f1_score, precision_score, recall_score, accuracy_score):\n",
    "        print(name, metric.__name__, metric(y_test, y_pred))"
   ]
  },
  {
   "cell_type": "markdown",
   "id": "forbidden-pharmaceutical",
   "metadata": {},
   "source": [
    "Random Forest has clearly overfitted in the training.\n",
    "Overall accuracy is $73\\%$, however this metric is not that informative:\n",
    "it reflect twice as many surviving patients in the training than the deceased ones.\n",
    "More useful performance measures are precision = $TP / (TP + FP)$ (\"purity\" of the positive-labeled group)\n",
    "and recall = $TP / (TP + FN)$ (i.e. \"have we labeled all the positive guys as such?\").\n",
    "These, end up, much lower, $precision = 58\\%$ and $recall = 54\\%$.\n",
    "\n",
    "Is it still way better than a coin toss?\n",
    "Well, our intuition might tempt us to compare the scores to the \"obviously random $50\\%$\".\n",
    "That's wrong! It all boils down to how many patient of each category we have in the test set,\n",
    "which almost never is 50/50.\n",
    "\n",
    "Let's implement a silly coin toss clasifier and see."
   ]
  },
  {
   "cell_type": "code",
   "execution_count": 350,
   "id": "radio-dancing",
   "metadata": {},
   "outputs": [
    {
     "data": {
      "text/plain": [
       "False    44\n",
       "True     44\n",
       "Name: DEATH_EVENT, dtype: int64"
      ]
     },
     "execution_count": 350,
     "metadata": {},
     "output_type": "execute_result"
    }
   ],
   "source": [
    "class CoinTossClassifier(BaseEstimator):\n",
    "    def fit(self, X, y=None):\n",
    "        \"\"\"Nothing to fit\"\"\"\n",
    "        return self\n",
    "    def predict(self, X):\n",
    "        \"\"\"Toss a coin\"\"\"\n",
    "        return np.random.randint(0, 2, size=len(X))\n",
    "coin_clf = CoinTossClassifier()\n",
    "(coin_clf.predict(X_test) == y_test).value_counts()"
   ]
  },
  {
   "cell_type": "code",
   "execution_count": 351,
   "id": "hidden-hospital",
   "metadata": {},
   "outputs": [
    {
     "name": "stdout",
     "output_type": "stream",
     "text": [
      "f1_score 0.3376623376623377\n",
      "precision_score 0.2653061224489796\n",
      "recall_score 0.4642857142857143\n",
      "accuracy_score 0.42045454545454547\n"
     ]
    }
   ],
   "source": [
    "y_pred = coin_clf.predict(X_test)\n",
    "for metric in (f1_score, precision_score, recall_score, accuracy_score):\n",
    "    print(metric.__name__, metric(y_test, y_pred))"
   ]
  },
  {
   "cell_type": "markdown",
   "id": "pleased-beach",
   "metadata": {},
   "source": [
    "Indeed, the scores were below $50\\%$ making our logistic regression and combined classifiers win by far!\n",
    "The Random Forest classifier outperformed a random coin toss in all metrics but recall.\n",
    "This happened as a result of precision-recall trade-off: RF obtained better precision than a random coin toss, but inferior recall.\n",
    "\n",
    "This bring up the ultimate question about the project: how the algorithm output will be used?\n",
    "If doctors will implement extra safety precautions for the deemed-dead patients, perhaps it's\n",
    "better to be overcautious by optimising for higher recall, thereby raising false alarms.\n",
    "\n",
    "On the other hand, if the doctors might apply a potentially dangerous operation, we'd better kept $F_1$ score high instead.\n",
    "\n",
    "Therefore, domain knowledge and the context of the machine-learning problem are essential."
   ]
  },
  {
   "cell_type": "markdown",
   "id": "canadian-wallet",
   "metadata": {},
   "source": [
    "# Save the model\n",
    "Let's create a new model that requires only the best features and matches the optimal grid search criteria.\n",
    "Although this step may seem unnecessary as it might be incorporated in the pipeline,\n",
    "it is actually needed for deployment (e.g. web application), otherwise the user will have to \n",
    "provide some unnecessary features.\n",
    "However, feature scaling might be included in the pipeline. Let us then start from unscaled data and rebuild the pipeline."
   ]
  },
  {
   "cell_type": "code",
   "execution_count": null,
   "id": "synthetic-premiere",
   "metadata": {},
   "outputs": [],
   "source": [
    "X_train_best_features = pd.DataFrame(\n",
    "    X_train, columns=df.columns[:-1])[best_features]"
   ]
  },
  {
   "cell_type": "code",
   "execution_count": null,
   "id": "heated-primary",
   "metadata": {},
   "outputs": [],
   "source": [
    "best_params = {k.replace('clf__', ''): v for k,\n",
    "               v in grid_search.best_params_.items()}"
   ]
  },
  {
   "cell_type": "code",
   "execution_count": null,
   "id": "unauthorized-piece",
   "metadata": {},
   "outputs": [],
   "source": [
    "pipeline = Pipeline([\n",
    "    ('std_scaler', StandardScaler()),\n",
    "    ('clf', RandomForestClassifier(**best_params, random_state=42))\n",
    "])\n",
    "pipeline.fit(X_train_best_features, y_train)"
   ]
  },
  {
   "cell_type": "code",
   "execution_count": null,
   "id": "banned-luxury",
   "metadata": {},
   "outputs": [],
   "source": [
    "scores = cross_val_score(pipeline, X_train_best_features, y_train,\n",
    "                         scoring=\"accuracy\", cv=3)\n",
    "print(\"Scores:\", scores)\n",
    "print(\"Mean score:\", scores.mean())\n",
    "print(\"Std dev:\", scores.std())"
   ]
  },
  {
   "cell_type": "code",
   "execution_count": null,
   "id": "latest-scanning",
   "metadata": {},
   "outputs": [],
   "source": [
    "from collections import OrderedDict\n",
    "import joblib\n",
    "joblib.dump(pipeline, \"cardio_model.pkl\")\n",
    "# Save feature names so that a web app knows which features are required\n",
    "best_features_dict = OrderedDict({f: features_dict[f] for f in best_features})\n",
    "print(best_features_dict)\n",
    "joblib.dump(best_features_dict, 'features.pkl')"
   ]
  },
  {
   "cell_type": "markdown",
   "id": "latter-inspiration",
   "metadata": {},
   "source": [
    "# Load the model"
   ]
  },
  {
   "cell_type": "code",
   "execution_count": null,
   "id": "coastal-speed",
   "metadata": {},
   "outputs": [],
   "source": [
    "# Test the model on hypothetical new cases\n",
    "model = joblib.load(\"cardio_model.pkl\")"
   ]
  },
  {
   "cell_type": "code",
   "execution_count": null,
   "id": "destroyed-eating",
   "metadata": {},
   "outputs": [],
   "source": [
    "X_train_best_features[:3]"
   ]
  },
  {
   "cell_type": "code",
   "execution_count": null,
   "id": "right-opposition",
   "metadata": {},
   "outputs": [],
   "source": [
    "y_train[:3]"
   ]
  },
  {
   "cell_type": "code",
   "execution_count": null,
   "id": "approximate-table",
   "metadata": {},
   "outputs": [],
   "source": [
    "model.predict(X_train_best_features[:3])"
   ]
  },
  {
   "cell_type": "markdown",
   "id": "optimum-instruction",
   "metadata": {},
   "source": [
    "**Decision regions**"
   ]
  },
  {
   "cell_type": "code",
   "execution_count": null,
   "id": "spiritual-repository",
   "metadata": {},
   "outputs": [],
   "source": [
    "# def plot_decision_regions(df=X_train_best_features, clf=model,\n",
    "#                           feature_x='serum_creatinine',\n",
    "#                           feature_y='ejection_fraction'):\n",
    "#     #print(df.head())\n",
    "#     #X = (df[[feature_x, feature_y]]).values\n",
    "#     print(X)\n",
    "#     x_min, x_max = X[:, 0].min() - 1, X[:, 0].max() + 1\n",
    "#     y_min, y_max = X[:, 1].min() - 1, X[:, 1].max() + 1\n",
    "#     xx, yy = np.meshgrid(np.arange(x_min, x_max, 0.1),\n",
    "#                      np.arange(y_min, y_max, 0.1))\n",
    "#     Z = clf.predict(np.c_[xx.ravel(), yy.ravel()])\n",
    "#     Z = Z.reshape(xx.shape)\n",
    "#     plt.scatter(df[feature_x], df[feature_y], c=y_train,\n",
    "#                 cmap='plasma')\n",
    "#     plt.xlabel(feature_x)\n",
    "#     plt.ylabel(feature_y)\n",
    "# # plot_decision_regions()\n",
    "# # plot_decision_regions(feature_y='age')\n",
    "# X_train_best_features.plot('age', 'serum_creatinine',\n",
    "#                            kind='scatter', c=y_train)#,\n",
    "#                            #cmap='gray')"
   ]
  },
  {
   "cell_type": "code",
   "execution_count": null,
   "id": "broad-prince",
   "metadata": {},
   "outputs": [],
   "source": [
    "def foe(x, y):\n",
    "    print(x, y)\n",
    "\n",
    "\n",
    "foe(*[11, 22])"
   ]
  },
  {
   "cell_type": "code",
   "execution_count": null,
   "id": "numeric-scratch",
   "metadata": {},
   "outputs": [],
   "source": [
    "# aranges = []\n",
    "# for col in X_train_best_features.columns:\n",
    "#     x_min, x_max = X_train_best_features[col].min()-1,\\\n",
    "#         X_train_best_features[col].max()+1\n",
    "#     step = (x_max - x_min) / 20\n",
    "#     arange = np.arange(x_min, x_max, step)\n",
    "#     aranges.append(arange)\n",
    "# #print(aranges)\n",
    "# # xs = np.arange(0, 3, 0.5)\n",
    "# # ys = np.arange(0, 2, 0.5)\n",
    "# # merged = np.vstack((xs, ys))\n",
    "# # grid = (xs, ys)\n",
    "# grid = np.meshgrid(*aranges)\n",
    "# grid\n",
    "# #np.meshgrid(xs, ys)"
   ]
  },
  {
   "cell_type": "code",
   "execution_count": null,
   "id": "quarterly-setting",
   "metadata": {},
   "outputs": [],
   "source": [
    "np.hsplit(np.array)"
   ]
  },
  {
   "cell_type": "markdown",
   "id": "important-express",
   "metadata": {},
   "source": [
    "# Evalute model performance on the test set"
   ]
  },
  {
   "cell_type": "code",
   "execution_count": null,
   "id": "occupied-borough",
   "metadata": {},
   "outputs": [],
   "source": [
    "# TODO: Before I do it, I should implement F1 score, precision/recall, ROC curves and so on in the training.\n",
    "# Otherwise I might be biased and select a model better performing on the test sample, overtraining it.\n",
    "\n",
    "# For now, let's just trust \"this model is OK\" and focus on deployment."
   ]
  },
  {
   "cell_type": "code",
   "execution_count": null,
   "id": "paperback-quarterly",
   "metadata": {},
   "outputs": [],
   "source": [
    "X_train_tr.shape"
   ]
  },
  {
   "cell_type": "code",
   "execution_count": null,
   "id": "stretch-thursday",
   "metadata": {},
   "outputs": [],
   "source": [
    "X_train_tr_best_features.shape"
   ]
  },
  {
   "cell_type": "code",
   "execution_count": null,
   "id": "diverse-female",
   "metadata": {},
   "outputs": [],
   "source": [
    "type(X_train_tr_best_features)"
   ]
  },
  {
   "cell_type": "code",
   "execution_count": null,
   "id": "tropical-temperature",
   "metadata": {},
   "outputs": [],
   "source": [
    "df.columns"
   ]
  },
  {
   "cell_type": "code",
   "execution_count": null,
   "id": "advanced-lover",
   "metadata": {},
   "outputs": [],
   "source": [
    "best_features"
   ]
  },
  {
   "cell_type": "code",
   "execution_count": null,
   "id": "worldwide-defense",
   "metadata": {},
   "outputs": [],
   "source": [
    "X_test_best_features = pd.DataFrame(\n",
    "    X_test, columns=df.columns[:-1])[best_features]"
   ]
  },
  {
   "cell_type": "code",
   "execution_count": null,
   "id": "received-programming",
   "metadata": {},
   "outputs": [],
   "source": [
    "X_test_best_features"
   ]
  },
  {
   "cell_type": "code",
   "execution_count": null,
   "id": "coated-overall",
   "metadata": {},
   "outputs": [],
   "source": [
    "sc = StandardScaler()"
   ]
  },
  {
   "cell_type": "code",
   "execution_count": null,
   "id": "qualified-albert",
   "metadata": {},
   "outputs": [],
   "source": [
    "sc.fit(X_train[best_features])"
   ]
  },
  {
   "cell_type": "code",
   "execution_count": null,
   "id": "future-romantic",
   "metadata": {},
   "outputs": [],
   "source": [
    "X_test_tr = sc.transform(X_test_best_features)"
   ]
  },
  {
   "cell_type": "code",
   "execution_count": null,
   "id": "statistical-parker",
   "metadata": {},
   "outputs": [],
   "source": [
    "(model.predict(X_test_tr) == y_test).sum() / y_test.shape[0]"
   ]
  },
  {
   "cell_type": "markdown",
   "id": "stone-behalf",
   "metadata": {},
   "source": [
    "65% accurate model. Could be improved, but let us use it for now in the web application."
   ]
  },
  {
   "cell_type": "code",
   "execution_count": null,
   "id": "sacred-obligation",
   "metadata": {},
   "outputs": [],
   "source": []
  }
 ],
 "metadata": {
  "kernelspec": {
   "display_name": "Python 3",
   "language": "python",
   "name": "python3"
  },
  "language_info": {
   "codemirror_mode": {
    "name": "ipython",
    "version": 3
   },
   "file_extension": ".py",
   "mimetype": "text/x-python",
   "name": "python",
   "nbconvert_exporter": "python",
   "pygments_lexer": "ipython3",
   "version": "3.8.5"
  },
  "toc": {
   "base_numbering": 1,
   "nav_menu": {},
   "number_sections": true,
   "sideBar": true,
   "skip_h1_title": false,
   "title_cell": "Table of Contents",
   "title_sidebar": "Contents",
   "toc_cell": false,
   "toc_position": {},
   "toc_section_display": true,
   "toc_window_display": false
  },
  "varInspector": {
   "cols": {
    "lenName": 16,
    "lenType": 16,
    "lenVar": 40
   },
   "kernels_config": {
    "python": {
     "delete_cmd_postfix": "",
     "delete_cmd_prefix": "del ",
     "library": "var_list.py",
     "varRefreshCmd": "print(var_dic_list())"
    },
    "r": {
     "delete_cmd_postfix": ") ",
     "delete_cmd_prefix": "rm(",
     "library": "var_list.r",
     "varRefreshCmd": "cat(var_dic_list()) "
    }
   },
   "types_to_exclude": [
    "module",
    "function",
    "builtin_function_or_method",
    "instance",
    "_Feature"
   ],
   "window_display": false
  }
 },
 "nbformat": 4,
 "nbformat_minor": 5
}

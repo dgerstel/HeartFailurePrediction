{
 "cells": [
  {
   "cell_type": "markdown",
   "id": "double-profit",
   "metadata": {},
   "source": [
    "This is the second installment of the Heart Failure Prediction Analysis.\n",
    "Previously, we inspected the dataset and preprocessed the features for the classification task.\n",
    "In this part we'll try out a few different classifiers, optimise them and chain them up into an\n",
    "ensemble classifier. Finally, we'll evaluate its performance on the test set and we'll save the\n",
    "algorithm for future applications (e.g. a Web app).\n",
    "\n",
    "[Dataset in Kaggle](https://www.kaggle.com/andrewmvd/heart-failure-clinical-data)\n",
    "\n",
    "[Paper](https://bmcmedinformdecismak.biomedcentral.com/articles/10.1186/s12911-020-1023-5): Davide Chicco, Giuseppe Jurman: Machine learning can predict survival of patients with heart failure from serum creatinine and ejection fraction alone. BMC Medical Informatics and Decision Making 20, 16 (2020).  \n",
    "\n",
    "# Load The Dataset\n",
    "\n",
    "Let's load the cleaned up dataset from the previous step and make a sanity\n",
    "check it's alright."
   ]
  },
  {
   "cell_type": "code",
   "execution_count": 1,
   "id": "dimensional-journal",
   "metadata": {},
   "outputs": [],
   "source": [
    "import joblib\n",
    "import os\n",
    "import math\n",
    "import pandas as pd\n",
    "import numpy as np\n",
    "import matplotlib.pyplot as plt\n",
    "import seaborn as sns\n",
    "sns.set_theme(style=\"darkgrid\")\n",
    "\n",
    "FIG_DIR = \"../flask/static\""
   ]
  },
  {
   "cell_type": "code",
   "execution_count": 2,
   "id": "related-legislature",
   "metadata": {},
   "outputs": [],
   "source": [
    "df = joblib.load(\"df.pkl\")"
   ]
  },
  {
   "cell_type": "code",
   "execution_count": 3,
   "id": "dated-preservation",
   "metadata": {},
   "outputs": [
    {
     "data": {
      "text/html": [
       "<div>\n",
       "<style scoped>\n",
       "    .dataframe tbody tr th:only-of-type {\n",
       "        vertical-align: middle;\n",
       "    }\n",
       "\n",
       "    .dataframe tbody tr th {\n",
       "        vertical-align: top;\n",
       "    }\n",
       "\n",
       "    .dataframe thead th {\n",
       "        text-align: right;\n",
       "    }\n",
       "</style>\n",
       "<table border=\"1\" class=\"dataframe\">\n",
       "  <thead>\n",
       "    <tr style=\"text-align: right;\">\n",
       "      <th></th>\n",
       "      <th>Age [years]</th>\n",
       "      <th>Anaemia</th>\n",
       "      <th>Creatine Phosphokinase [mcg/L]</th>\n",
       "      <th>Diabetes</th>\n",
       "      <th>Ejection Fraction [%]</th>\n",
       "      <th>High Blood Pressure</th>\n",
       "      <th>Platelets [1000 platelets/mL]</th>\n",
       "      <th>Serum Creatinine [mg/dL]</th>\n",
       "      <th>Serum Sodium [mEq/L]</th>\n",
       "      <th>Male</th>\n",
       "      <th>Smoking</th>\n",
       "      <th>Time [days]</th>\n",
       "      <th>DEATH_EVENT</th>\n",
       "    </tr>\n",
       "  </thead>\n",
       "  <tbody>\n",
       "    <tr>\n",
       "      <th>0</th>\n",
       "      <td>75.0</td>\n",
       "      <td>0</td>\n",
       "      <td>582</td>\n",
       "      <td>0</td>\n",
       "      <td>20</td>\n",
       "      <td>1</td>\n",
       "      <td>265.00000</td>\n",
       "      <td>1.9</td>\n",
       "      <td>130</td>\n",
       "      <td>1</td>\n",
       "      <td>0</td>\n",
       "      <td>4</td>\n",
       "      <td>1</td>\n",
       "    </tr>\n",
       "    <tr>\n",
       "      <th>1</th>\n",
       "      <td>55.0</td>\n",
       "      <td>0</td>\n",
       "      <td>7861</td>\n",
       "      <td>0</td>\n",
       "      <td>38</td>\n",
       "      <td>0</td>\n",
       "      <td>263.35803</td>\n",
       "      <td>1.1</td>\n",
       "      <td>136</td>\n",
       "      <td>1</td>\n",
       "      <td>0</td>\n",
       "      <td>6</td>\n",
       "      <td>1</td>\n",
       "    </tr>\n",
       "    <tr>\n",
       "      <th>2</th>\n",
       "      <td>65.0</td>\n",
       "      <td>0</td>\n",
       "      <td>146</td>\n",
       "      <td>0</td>\n",
       "      <td>20</td>\n",
       "      <td>0</td>\n",
       "      <td>162.00000</td>\n",
       "      <td>1.3</td>\n",
       "      <td>129</td>\n",
       "      <td>1</td>\n",
       "      <td>1</td>\n",
       "      <td>7</td>\n",
       "      <td>1</td>\n",
       "    </tr>\n",
       "    <tr>\n",
       "      <th>3</th>\n",
       "      <td>50.0</td>\n",
       "      <td>1</td>\n",
       "      <td>111</td>\n",
       "      <td>0</td>\n",
       "      <td>20</td>\n",
       "      <td>0</td>\n",
       "      <td>210.00000</td>\n",
       "      <td>1.9</td>\n",
       "      <td>137</td>\n",
       "      <td>1</td>\n",
       "      <td>0</td>\n",
       "      <td>7</td>\n",
       "      <td>1</td>\n",
       "    </tr>\n",
       "    <tr>\n",
       "      <th>4</th>\n",
       "      <td>65.0</td>\n",
       "      <td>1</td>\n",
       "      <td>160</td>\n",
       "      <td>1</td>\n",
       "      <td>20</td>\n",
       "      <td>0</td>\n",
       "      <td>327.00000</td>\n",
       "      <td>2.7</td>\n",
       "      <td>116</td>\n",
       "      <td>0</td>\n",
       "      <td>0</td>\n",
       "      <td>8</td>\n",
       "      <td>1</td>\n",
       "    </tr>\n",
       "  </tbody>\n",
       "</table>\n",
       "</div>"
      ],
      "text/plain": [
       "   Age [years]  Anaemia  Creatine Phosphokinase [mcg/L]  Diabetes  \\\n",
       "0         75.0        0                             582         0   \n",
       "1         55.0        0                            7861         0   \n",
       "2         65.0        0                             146         0   \n",
       "3         50.0        1                             111         0   \n",
       "4         65.0        1                             160         1   \n",
       "\n",
       "   Ejection Fraction [%]  High Blood Pressure  Platelets [1000 platelets/mL]  \\\n",
       "0                     20                    1                      265.00000   \n",
       "1                     38                    0                      263.35803   \n",
       "2                     20                    0                      162.00000   \n",
       "3                     20                    0                      210.00000   \n",
       "4                     20                    0                      327.00000   \n",
       "\n",
       "   Serum Creatinine [mg/dL]  Serum Sodium [mEq/L]  Male  Smoking  Time [days]  \\\n",
       "0                       1.9                   130     1        0            4   \n",
       "1                       1.1                   136     1        0            6   \n",
       "2                       1.3                   129     1        1            7   \n",
       "3                       1.9                   137     1        0            7   \n",
       "4                       2.7                   116     0        0            8   \n",
       "\n",
       "   DEATH_EVENT  \n",
       "0            1  \n",
       "1            1  \n",
       "2            1  \n",
       "3            1  \n",
       "4            1  "
      ]
     },
     "execution_count": 3,
     "metadata": {},
     "output_type": "execute_result"
    }
   ],
   "source": [
    "df.head()"
   ]
  },
  {
   "cell_type": "code",
   "execution_count": 4,
   "id": "tough-count",
   "metadata": {},
   "outputs": [
    {
     "data": {
      "text/plain": [
       "(299, 13)"
      ]
     },
     "execution_count": 4,
     "metadata": {},
     "output_type": "execute_result"
    }
   ],
   "source": [
    "df.shape"
   ]
  },
  {
   "cell_type": "markdown",
   "id": "sexual-madrid",
   "metadata": {},
   "source": [
    "We can see everything is as expected:\n",
    "- there is 299 patients like previously\n",
    "- column names include units and better formatting"
   ]
  },
  {
   "cell_type": "markdown",
   "id": "electronic-thomas",
   "metadata": {},
   "source": [
    "# Split the data into train and test sets\n",
    "It is time to split the dataset into train and test sets.\n",
    "As explained in the previous post, we're going to select the patients \n",
    "in the following categories:\n",
    "- **survivors**: survived _at least_ the first $100$ days\n",
    "- **deceased** ones: passed away _within_ the first $100$ days"
   ]
  },
  {
   "cell_type": "code",
   "execution_count": 5,
   "id": "multiple-collective",
   "metadata": {},
   "outputs": [
    {
     "data": {
      "text/html": [
       "<div>\n",
       "<style scoped>\n",
       "    .dataframe tbody tr th:only-of-type {\n",
       "        vertical-align: middle;\n",
       "    }\n",
       "\n",
       "    .dataframe tbody tr th {\n",
       "        vertical-align: top;\n",
       "    }\n",
       "\n",
       "    .dataframe thead th {\n",
       "        text-align: right;\n",
       "    }\n",
       "</style>\n",
       "<table border=\"1\" class=\"dataframe\">\n",
       "  <thead>\n",
       "    <tr style=\"text-align: right;\">\n",
       "      <th></th>\n",
       "      <th>Age [years]</th>\n",
       "      <th>Anaemia</th>\n",
       "      <th>Creatine Phosphokinase [mcg/L]</th>\n",
       "      <th>Diabetes</th>\n",
       "      <th>Ejection Fraction [%]</th>\n",
       "      <th>High Blood Pressure</th>\n",
       "      <th>Platelets [1000 platelets/mL]</th>\n",
       "      <th>Serum Creatinine [mg/dL]</th>\n",
       "      <th>Serum Sodium [mEq/L]</th>\n",
       "      <th>Male</th>\n",
       "      <th>Smoking</th>\n",
       "      <th>DEATH_EVENT</th>\n",
       "    </tr>\n",
       "  </thead>\n",
       "  <tbody>\n",
       "    <tr>\n",
       "      <th>0</th>\n",
       "      <td>75.0</td>\n",
       "      <td>0</td>\n",
       "      <td>582</td>\n",
       "      <td>0</td>\n",
       "      <td>20</td>\n",
       "      <td>1</td>\n",
       "      <td>265.00000</td>\n",
       "      <td>1.9</td>\n",
       "      <td>130</td>\n",
       "      <td>1</td>\n",
       "      <td>0</td>\n",
       "      <td>1</td>\n",
       "    </tr>\n",
       "    <tr>\n",
       "      <th>1</th>\n",
       "      <td>55.0</td>\n",
       "      <td>0</td>\n",
       "      <td>7861</td>\n",
       "      <td>0</td>\n",
       "      <td>38</td>\n",
       "      <td>0</td>\n",
       "      <td>263.35803</td>\n",
       "      <td>1.1</td>\n",
       "      <td>136</td>\n",
       "      <td>1</td>\n",
       "      <td>0</td>\n",
       "      <td>1</td>\n",
       "    </tr>\n",
       "    <tr>\n",
       "      <th>2</th>\n",
       "      <td>65.0</td>\n",
       "      <td>0</td>\n",
       "      <td>146</td>\n",
       "      <td>0</td>\n",
       "      <td>20</td>\n",
       "      <td>0</td>\n",
       "      <td>162.00000</td>\n",
       "      <td>1.3</td>\n",
       "      <td>129</td>\n",
       "      <td>1</td>\n",
       "      <td>1</td>\n",
       "      <td>1</td>\n",
       "    </tr>\n",
       "    <tr>\n",
       "      <th>3</th>\n",
       "      <td>50.0</td>\n",
       "      <td>1</td>\n",
       "      <td>111</td>\n",
       "      <td>0</td>\n",
       "      <td>20</td>\n",
       "      <td>0</td>\n",
       "      <td>210.00000</td>\n",
       "      <td>1.9</td>\n",
       "      <td>137</td>\n",
       "      <td>1</td>\n",
       "      <td>0</td>\n",
       "      <td>1</td>\n",
       "    </tr>\n",
       "    <tr>\n",
       "      <th>4</th>\n",
       "      <td>65.0</td>\n",
       "      <td>1</td>\n",
       "      <td>160</td>\n",
       "      <td>1</td>\n",
       "      <td>20</td>\n",
       "      <td>0</td>\n",
       "      <td>327.00000</td>\n",
       "      <td>2.7</td>\n",
       "      <td>116</td>\n",
       "      <td>0</td>\n",
       "      <td>0</td>\n",
       "      <td>1</td>\n",
       "    </tr>\n",
       "  </tbody>\n",
       "</table>\n",
       "</div>"
      ],
      "text/plain": [
       "   Age [years]  Anaemia  Creatine Phosphokinase [mcg/L]  Diabetes  \\\n",
       "0         75.0        0                             582         0   \n",
       "1         55.0        0                            7861         0   \n",
       "2         65.0        0                             146         0   \n",
       "3         50.0        1                             111         0   \n",
       "4         65.0        1                             160         1   \n",
       "\n",
       "   Ejection Fraction [%]  High Blood Pressure  Platelets [1000 platelets/mL]  \\\n",
       "0                     20                    1                      265.00000   \n",
       "1                     38                    0                      263.35803   \n",
       "2                     20                    0                      162.00000   \n",
       "3                     20                    0                      210.00000   \n",
       "4                     20                    0                      327.00000   \n",
       "\n",
       "   Serum Creatinine [mg/dL]  Serum Sodium [mEq/L]  Male  Smoking  DEATH_EVENT  \n",
       "0                       1.9                   130     1        0            1  \n",
       "1                       1.1                   136     1        0            1  \n",
       "2                       1.3                   129     1        1            1  \n",
       "3                       1.9                   137     1        0            1  \n",
       "4                       2.7                   116     0        0            1  "
      ]
     },
     "execution_count": 5,
     "metadata": {},
     "output_type": "execute_result"
    }
   ],
   "source": [
    "def select_df(n=100):\n",
    "    \"\"\"Select the patients that survived / didn't the first n days\"\"\"\n",
    "    select = (((df['DEATH_EVENT'] == 0) & (df['Time [days]'] > n)) |\n",
    "              ((df['DEATH_EVENT'] == 1) & (df['Time [days]'] < n)))\n",
    "    return df[select]\n",
    "\n",
    "\n",
    "df = select_df()\n",
    "\n",
    "# Remove not useful features\n",
    "df = df.drop([\"Time [days]\"], axis=1)\n",
    "df.head()"
   ]
  },
  {
   "cell_type": "code",
   "execution_count": 6,
   "id": "meaning-slovakia",
   "metadata": {},
   "outputs": [
    {
     "data": {
      "text/plain": [
       "(219, 12)"
      ]
     },
     "execution_count": 6,
     "metadata": {},
     "output_type": "execute_result"
    }
   ],
   "source": [
    "df.shape"
   ]
  },
  {
   "cell_type": "markdown",
   "id": "three-puzzle",
   "metadata": {},
   "source": [
    "There are $219$ patients in this category.\n",
    "It's a small statistics, which implies a few things:\n",
    "- If we split train/test set in the $60\\%/40\\%$ ratio, we'll end up with\n",
    "  around $130$ and $90$ patients in the respective categories\n",
    "- It's likely to overtrain a model given a big number of features relative to the dataset size\n",
    "\n",
    "To tackle the problem, we must rely on a simple classifier, perhaps with reduced\n",
    "number of features.\n",
    "\n",
    "Let's proceed step-by-step, starting with splitting the dataset into the\n",
    "train and test sets in the $60\\%/40\\%$ ratio."
   ]
  },
  {
   "cell_type": "code",
   "execution_count": 7,
   "id": "living-dinner",
   "metadata": {},
   "outputs": [
    {
     "data": {
      "text/plain": [
       "0    88\n",
       "1    43\n",
       "Name: DEATH_EVENT, dtype: int64"
      ]
     },
     "execution_count": 7,
     "metadata": {},
     "output_type": "execute_result"
    }
   ],
   "source": [
    "from sklearn.model_selection import train_test_split\n",
    "\n",
    "train_set, test_set = train_test_split(df, test_size=0.4, random_state=42)\n",
    "train_set['DEATH_EVENT'].value_counts()"
   ]
  },
  {
   "cell_type": "markdown",
   "id": "hired-young",
   "metadata": {},
   "source": [
    "We end up with $88$ surviving and $43$ deceased patients in the training set.\n",
    "\n",
    "Now, we'll separate the features from the labels."
   ]
  },
  {
   "cell_type": "code",
   "execution_count": 8,
   "id": "reduced-december",
   "metadata": {},
   "outputs": [],
   "source": [
    "# drop labels and time for training set\n",
    "X_train = train_set.drop([\"DEATH_EVENT\"], axis=1)\n",
    "y_train = train_set[\"DEATH_EVENT\"].copy()\n",
    "# drop labels and time for test set\n",
    "X_test = test_set.drop([\"DEATH_EVENT\"], axis=1)\n",
    "y_test = test_set[\"DEATH_EVENT\"].copy()"
   ]
  },
  {
   "cell_type": "markdown",
   "id": "floating-tulsa",
   "metadata": {},
   "source": [
    "# Scale features and make a pipeline\n",
    "\n",
    "Many algorithms require all parameters to be of the same scale.\n",
    "More precisely, the features might be _normalised_ by mapping onto the $[0,1]$\n",
    "range, or _standardised_ by subtracting the mean and dividing by the\n",
    "standard deviation, making sure the results will have unit variance.\n",
    "\n",
    "The former might be preferable for neural networks that require $[0, 1]$-range\n",
    "input. The latter, on the other hand, are less impacted by the outliers.\n",
    "Since we'll be focused on simpler classifiers _standardisation_ should be\n",
    "a better choice.\n",
    "\n",
    "Moreover, we'll put the scaling procedure in a pipeline for easier\n",
    "reproducibility. Were there more preprocessing steps needed, we would\n",
    "add them in the pipeline as well."
   ]
  },
  {
   "cell_type": "code",
   "execution_count": 9,
   "id": "proud-absence",
   "metadata": {},
   "outputs": [],
   "source": [
    "from sklearn.pipeline import Pipeline\n",
    "from sklearn.preprocessing import StandardScaler"
   ]
  },
  {
   "cell_type": "code",
   "execution_count": 10,
   "id": "statewide-headquarters",
   "metadata": {},
   "outputs": [],
   "source": [
    "pipeline = Pipeline([\n",
    "    ('std_scaler', StandardScaler()),\n",
    "])\n",
    "\n",
    "X_train_tr = pipeline.fit_transform(X_train)"
   ]
  },
  {
   "cell_type": "code",
   "execution_count": 11,
   "id": "hydraulic-recall",
   "metadata": {},
   "outputs": [
    {
     "data": {
      "text/plain": [
       "array([[-1.13454396, -0.83743579, -0.05671184, ..., -0.62481182,\n",
       "         0.72336423, -0.6990253 ],\n",
       "       [-0.46342344, -0.83743579,  0.16941911, ...,  0.75082429,\n",
       "         0.72336423,  1.4305634 ],\n",
       "       [ 0.20769707,  1.1941214 ,  1.00243904, ...,  0.06300623,\n",
       "         0.72336423, -0.6990253 ],\n",
       "       ...,\n",
       "       [-0.88287377, -0.83743579, -0.4741156 , ..., -0.62481182,\n",
       "         0.72336423,  1.4305634 ],\n",
       "       [-0.21175325, -0.83743579, -0.45892103, ...,  0.5215516 ,\n",
       "         0.72336423, -0.6990253 ],\n",
       "       [ 0.20769707,  1.1941214 , -0.05671184, ...,  0.06300623,\n",
       "         0.72336423,  1.4305634 ]])"
      ]
     },
     "execution_count": 11,
     "metadata": {},
     "output_type": "execute_result"
    }
   ],
   "source": [
    "X_train_tr"
   ]
  },
  {
   "cell_type": "markdown",
   "id": "million-estate",
   "metadata": {},
   "source": [
    "That was just a technical check. We'll actually use standardisation later on."
   ]
  },
  {
   "cell_type": "markdown",
   "id": "western-chuck",
   "metadata": {},
   "source": [
    "# Dimensionality Reduction with PCA\n",
    "\n",
    "To simplify the model, perhaps some features can be skipped with no big loss\n",
    "to the performance and increased generalisation.\n",
    "To this end we'll use the Principal Component Analysis (PCA) that projects\n",
    "the features onto hyperplanes preserving most of the variance. Each successive plane is orthogonal to the previous ones and has the largest remaining variance of the dataset. Intuitively, the bigger the variance, the better resolution we have to then separate instances of various classes. Moreover, it is common sense that the remaining variance must be 'hidden' in the orthogonal planes, whose projections carry way too compressed information (e.g. projecting the $y-$axis onto the $x-$axis results in a single point; not much information)."
   ]
  },
  {
   "cell_type": "code",
   "execution_count": 12,
   "id": "ignored-needle",
   "metadata": {},
   "outputs": [
    {
     "data": {
      "image/png": "[encoded data removed]",
      "text/plain": [
       "<Figure size 432x288 with 1 Axes>"
      ]
     },
     "metadata": {},
     "output_type": "display_data"
    }
   ],
   "source": [
    "from sklearn.decomposition import PCA\n",
    "\n",
    "pca = PCA()\n",
    "# It's important to standardise features before PCA\n",
    "# or else features that are just big will artificially have big variance.\n",
    "pca.fit(X_train_tr)\n",
    "\n",
    "def plot_explained_variance():\n",
    "    cumsum = np.cumsum(pca.explained_variance_ratio_)\n",
    "    plt.plot(range(1, len(cumsum)+1), cumsum, 'o-')\n",
    "    plt.xlabel(\"Number of Features\")\n",
    "    plt.ylabel(\"Variance Fraction Explained\")\n",
    "    n_features = X_train_tr.shape[1]\n",
    "    plt.hlines(y=0.95, xmin=1, xmax=n_features, linestyles='dashed',\n",
    "               color='k', label='95%')\n",
    "    plt.legend(loc='best')\n",
    "plot_explained_variance()"
   ]
  },
  {
   "cell_type": "markdown",
   "id": "psychological-german",
   "metadata": {},
   "source": [
    "We can see that 10 features are required to preserve $95\\%$ of the total variance.\n",
    "This could be obtained more directly, but without visualisation as follows."
   ]
  },
  {
   "cell_type": "code",
   "execution_count": 13,
   "id": "infectious-watch",
   "metadata": {},
   "outputs": [
    {
     "data": {
      "text/plain": [
       "(11, 10)"
      ]
     },
     "execution_count": 13,
     "metadata": {},
     "output_type": "execute_result"
    }
   ],
   "source": [
    "pca = PCA(n_components=0.95)\n",
    "\n",
    "pca.fit_transform(X_train_tr)\n",
    "pca.components_.T.shape # 11 x 10 matrix -> reduce to 10 dimensions"
   ]
  },
  {
   "cell_type": "markdown",
   "id": "developed-shuttle",
   "metadata": {},
   "source": [
    "Later on, we'll use PCA in a grid search to find whether it helps improve\n",
    "the results and, if so, how many components are useful."
   ]
  },
  {
   "cell_type": "markdown",
   "id": "exposed-visibility",
   "metadata": {},
   "source": [
    "# Logistic Regression Classifier\n",
    "Since we don't have much data, it's better to focus on simple classifiers.\n",
    "Otherwise, we risk overtraining.\n",
    "\n",
    "Logistic regression is one of the simplest classifiers.\n",
    "Let's go directly to the hyperparameter tuning."
   ]
  },
  {
   "cell_type": "code",
   "execution_count": 14,
   "id": "assumed-universe",
   "metadata": {},
   "outputs": [],
   "source": [
    "from sklearn.linear_model import LogisticRegression"
   ]
  },
  {
   "cell_type": "markdown",
   "id": "minimal-kentucky",
   "metadata": {},
   "source": [
    "## Hyperparameter Tuning and Regularisation\n",
    "\n",
    "These hyperparameter questions we want to find answers to with a help of the grid search:\n",
    "- Whether to use PCA or not; if so, how many components?\n",
    "- Regularisation: Ridge ($\\ell_2$), Lasso ($\\ell_1$) or Elastic Net (in-between)\n",
    "- Class weight: shall the class imabalance be accounted for by attributing bigger weights to less common class (i.e. patients that passed away)?\n",
    "- Which solver to use in the training algorithm? This depends:\n",
    "  - liblinear is good for small datasets\n",
    "  - Elastic Net is supported only by the saga solver\n",
    "\n",
    "Besides, how many folds should be used in $k-$fold validation?\n",
    "Since in each iteration the model is trained on $k-1$ folds and tested on the remaining one,\n",
    "to ensure the test is reliable, we'd better not reduced it too much.\n",
    "Therefore, splitting our roughly $120$ patients into $2-3$ folds should be the upper limit.\n",
    "\n",
    "The **metric** we want to optimise should not be accuracy as it is sensitive\n",
    "to the class imbalance. Instead, precision and recall seem more pertinant, or their harmonic average, $F_1 = \\frac{2}{1/P + 1/R}$, where $P$ and $R$ stand for precision and recall respectively and are computed as:\n",
    "precision = $TP / (TP + FP)$ (\"purity\" of the positive-labeled group)\n",
    "and recall = $TP / (TP + FN)$ (i.e. \"have we labeled all the positive guys as such?\")."
   ]
  },
  {
   "cell_type": "code",
   "execution_count": 15,
   "id": "canadian-glasgow",
   "metadata": {},
   "outputs": [
    {
     "name": "stdout",
     "output_type": "stream",
     "text": [
      "Fitting 2 folds for each of 768 candidates, totalling 1536 fits\n"
     ]
    },
    {
     "name": "stderr",
     "output_type": "stream",
     "text": [
      "[Parallel(n_jobs=-1)]: Using backend LokyBackend with 12 concurrent workers.\n",
      "[Parallel(n_jobs=-1)]: Done  26 tasks      | elapsed:    1.3s\n",
      "[Parallel(n_jobs=-1)]: Done 1159 tasks      | elapsed:    2.7s\n",
      "[Parallel(n_jobs=-1)]: Done 1536 out of 1536 | elapsed:    2.9s finished\n"
     ]
    },
    {
     "data": {
      "text/plain": [
       "GridSearchCV(cv=2,\n",
       "             estimator=Pipeline(steps=[('std_scaler', StandardScaler()),\n",
       "                                       ('pca', PCA()),\n",
       "                                       ('clf', LogisticRegression())]),\n",
       "             n_jobs=-1,\n",
       "             param_grid=[{'clf__C': [0.1, 0.5, 0.75, 1.0, 1.25, 1.5, 1.75, 2.0],\n",
       "                          'clf__class_weight': [None, 'balanced'],\n",
       "                          'clf__penalty': ['l2', 'l1'],\n",
       "                          'clf__random_state': [42],\n",
       "                          'clf__solver': ['liblinear'],\n",
       "                          'pca': ['passthrough', PCA(n_components=1),\n",
       "                                  P...\n",
       "                         {'clf__C': [0.1, 0.5, 0.75, 1.0, 1.25, 1.5, 1.75, 2.0],\n",
       "                          'clf__class_weight': [None, 'balanced'],\n",
       "                          'clf__l1_ratio': [0.0, 0.1, 0.25, 0.5, 0.75, 1.0],\n",
       "                          'clf__penalty': ['elastic_net'],\n",
       "                          'clf__random_state': [42], 'clf__solver': ['saga'],\n",
       "                          'pca': ['passthrough', PCA(n_components=1),\n",
       "                                  PCA(n_components=3), PCA(n_components=9),\n",
       "                                  PCA(n_components=10),\n",
       "                                  PCA(n_components=11)]}],\n",
       "             return_train_score=True, scoring='f1', verbose=1)"
      ]
     },
     "execution_count": 15,
     "metadata": {},
     "output_type": "execute_result"
    }
   ],
   "source": [
    "# Let's optimise Logistic Regression\n",
    "from sklearn.model_selection import GridSearchCV\n",
    "\n",
    "pipeline = Pipeline([\n",
    "    ('std_scaler', StandardScaler()),    \n",
    "    ('pca', PCA()),\n",
    "    ('clf', LogisticRegression()),\n",
    "])\n",
    "\n",
    "param_grid = [\n",
    "    {'pca': ['passthrough', PCA(1), PCA(3), PCA(9), PCA(10), PCA(11)],\n",
    "     'clf__penalty': ['l2', 'l1'],\n",
    "     'clf__C': [.1, .5, .75, 1.0, 1.25, 1.50, 1.75, 2.0],\n",
    "     'clf__class_weight': [None, 'balanced'],\n",
    "     'clf__solver': ['liblinear'],  # good for small datasets\n",
    "     'clf__random_state': [42]\n",
    "     },\n",
    "    # Elastic net is only supported by the ‘saga’ solver\n",
    "    # and it requires l1_ratio parameter.\n",
    "    {'pca': ['passthrough', PCA(1), PCA(3), PCA(9), PCA(10), PCA(11)],\n",
    "     'clf__penalty': ['elastic_net'],\n",
    "     'clf__C': [.1, .5, .75, 1.0, 1.25, 1.50, 1.75, 2.0],\n",
    "     'clf__class_weight': [None, 'balanced'],\n",
    "     'clf__solver': ['saga'],\n",
    "     'clf__l1_ratio': [0.0, 0.1, 0.25, 0.5, 0.75, 1.0],\n",
    "     'clf__random_state': [42]\n",
    "     }\n",
    "]\n",
    "grid_search = GridSearchCV(pipeline, param_grid, cv=2,\n",
    "                           scoring='f1',\n",
    "                           return_train_score=True,\n",
    "                           verbose=1,\n",
    "                           n_jobs=-1)\n",
    "grid_search.fit(X_train, y_train)"
   ]
  },
  {
   "cell_type": "code",
   "execution_count": 16,
   "id": "victorian-christianity",
   "metadata": {},
   "outputs": [
    {
     "data": {
      "text/plain": [
       "{'clf__C': 0.75,\n",
       " 'clf__class_weight': None,\n",
       " 'clf__penalty': 'l1',\n",
       " 'clf__random_state': 42,\n",
       " 'clf__solver': 'liblinear',\n",
       " 'pca': 'passthrough'}"
      ]
     },
     "execution_count": 16,
     "metadata": {},
     "output_type": "execute_result"
    }
   ],
   "source": [
    "grid_search.best_params_"
   ]
  },
  {
   "cell_type": "code",
   "execution_count": 17,
   "id": "third-burner",
   "metadata": {},
   "outputs": [
    {
     "data": {
      "text/plain": [
       "Pipeline(steps=[('std_scaler', StandardScaler()), ('pca', 'passthrough'),\n",
       "                ('clf',\n",
       "                 LogisticRegression(C=0.75, penalty='l1', random_state=42,\n",
       "                                    solver='liblinear'))])"
      ]
     },
     "execution_count": 17,
     "metadata": {},
     "output_type": "execute_result"
    }
   ],
   "source": [
    "log_clf = grid_search.best_estimator_\n",
    "log_clf"
   ]
  },
  {
   "cell_type": "markdown",
   "id": "second-metabolism",
   "metadata": {},
   "source": [
    "It turns out we'd better skipped the PCA (`passthrough`) and exploit all the features."
   ]
  },
  {
   "cell_type": "code",
   "execution_count": 18,
   "id": "disciplinary-barrel",
   "metadata": {},
   "outputs": [
    {
     "name": "stdout",
     "output_type": "stream",
     "text": [
      "Best score: 0.61 +/- 0.04\n"
     ]
    }
   ],
   "source": [
    "def best_score(grid_search):\n",
    "    res = pd.DataFrame(grid_search.cv_results_)\n",
    "    argmax = res['mean_test_score'].argmax()\n",
    "    max_score = res['mean_test_score'].iloc[argmax]\n",
    "    max_score_std = res['std_test_score'].iloc[argmax]\n",
    "    return max_score, max_score_std\n",
    "\n",
    "\n",
    "def print_best_score(grid_search):\n",
    "    x, xerr = best_score(grid_search)\n",
    "    print(\"Best score: {:.2f} +/- {:.2f}\".format(x, xerr))\n",
    "\n",
    "\n",
    "print_best_score(grid_search)"
   ]
  },
  {
   "cell_type": "code",
   "execution_count": 19,
   "id": "historic-envelope",
   "metadata": {},
   "outputs": [
    {
     "data": {
      "text/plain": [
       "223    0\n",
       "179    0\n",
       "200    0\n",
       "2      1\n",
       "133    0\n",
       "Name: DEATH_EVENT, dtype: int64"
      ]
     },
     "execution_count": 19,
     "metadata": {},
     "output_type": "execute_result"
    }
   ],
   "source": [
    "y_train[:5]"
   ]
  },
  {
   "cell_type": "code",
   "execution_count": 20,
   "id": "binary-owner",
   "metadata": {},
   "outputs": [
    {
     "data": {
      "text/plain": [
       "array([0, 0, 0, 0, 0])"
      ]
     },
     "execution_count": 20,
     "metadata": {},
     "output_type": "execute_result"
    }
   ],
   "source": [
    "grid_search.predict(X_train[:5])"
   ]
  },
  {
   "cell_type": "code",
   "execution_count": 21,
   "id": "bottom-chart",
   "metadata": {},
   "outputs": [
    {
     "data": {
      "text/plain": [
       "array([[0.91306971, 0.08693029],\n",
       "       [0.90287657, 0.09712343],\n",
       "       [0.90405834, 0.09594166],\n",
       "       [0.56134208, 0.43865792],\n",
       "       [0.87130834, 0.12869166]])"
      ]
     },
     "execution_count": 21,
     "metadata": {},
     "output_type": "execute_result"
    }
   ],
   "source": [
    "grid_search.predict_proba(X_train[:5])"
   ]
  },
  {
   "cell_type": "markdown",
   "id": "fleet-trace",
   "metadata": {},
   "source": [
    "The fourth patient was predicted as likely to survive despite actually\n",
    "passing away. Looking at the probablities, though, the classifier attributed\n",
    "only $56\\%$ chance of surviving. Quite 'on the fence' regarding the \n",
    "limited statistics. Not bad! Of course, it's merely a technical check up, since\n",
    "we used the train set."
   ]
  },
  {
   "cell_type": "markdown",
   "id": "strong-arctic",
   "metadata": {},
   "source": [
    "# Random Forest Classifier\n",
    "\n",
    "Random Forests are very powerful ensemble classifiers based on the Decision Trees.\n",
    "Let's see how they will perform."
   ]
  },
  {
   "cell_type": "code",
   "execution_count": 22,
   "id": "western-little",
   "metadata": {},
   "outputs": [],
   "source": [
    "from sklearn.ensemble import RandomForestClassifier\n",
    "forest_clf = RandomForestClassifier(n_estimators=100, random_state=42)"
   ]
  },
  {
   "cell_type": "code",
   "execution_count": 23,
   "id": "bright-gregory",
   "metadata": {},
   "outputs": [],
   "source": [
    "pipeline = Pipeline([\n",
    "    #('time_bin', TimeBinning(bin_size=30)),\n",
    "    ('std_scaler', StandardScaler()),\n",
    "    ('clf', RandomForestClassifier(random_state=42))\n",
    "])"
   ]
  },
  {
   "cell_type": "code",
   "execution_count": 24,
   "id": "latest-powell",
   "metadata": {},
   "outputs": [
    {
     "data": {
      "text/plain": [
       "GridSearchCV(cv=2,\n",
       "             estimator=Pipeline(steps=[('std_scaler', StandardScaler()),\n",
       "                                       ('clf',\n",
       "                                        RandomForestClassifier(random_state=42))]),\n",
       "             n_jobs=-1,\n",
       "             param_grid=[{'clf__max_features': [1, 2, 3, 4, 5, 6, 7, 8, 9, 10,\n",
       "                                                11],\n",
       "                          'clf__n_estimators': [2, 10, 20, 21, 22, 30, 50]}],\n",
       "             return_train_score=True, scoring='f1')"
      ]
     },
     "execution_count": 24,
     "metadata": {},
     "output_type": "execute_result"
    }
   ],
   "source": [
    "from sklearn.model_selection import GridSearchCV\n",
    "\n",
    "param_grid = [\n",
    "    {'clf__n_estimators': [2, 10, 20, 21, 22, 30, 50],\n",
    "     'clf__max_features': [1, 2, 3, 4, 5, 6, 7, 8, 9, 10, 11]\n",
    "    },\n",
    "]\n",
    "\n",
    "grid_search = GridSearchCV(pipeline, param_grid, cv=2,\n",
    "                           scoring='f1',\n",
    "                           return_train_score=True,\n",
    "                           n_jobs=-1)\n",
    "grid_search.fit(X_train, y_train)"
   ]
  },
  {
   "cell_type": "code",
   "execution_count": 25,
   "id": "conventional-house",
   "metadata": {},
   "outputs": [
    {
     "data": {
      "text/plain": [
       "Pipeline(steps=[('std_scaler', StandardScaler()),\n",
       "                ('clf',\n",
       "                 RandomForestClassifier(max_features=5, n_estimators=50,\n",
       "                                        random_state=42))])"
      ]
     },
     "execution_count": 25,
     "metadata": {},
     "output_type": "execute_result"
    }
   ],
   "source": [
    "grid_search.best_estimator_"
   ]
  },
  {
   "cell_type": "code",
   "execution_count": 26,
   "id": "vietnamese-satellite",
   "metadata": {},
   "outputs": [
    {
     "data": {
      "text/plain": [
       "{'clf__max_features': 5, 'clf__n_estimators': 50}"
      ]
     },
     "execution_count": 26,
     "metadata": {},
     "output_type": "execute_result"
    }
   ],
   "source": [
    "grid_search.best_params_"
   ]
  },
  {
   "cell_type": "markdown",
   "id": "small-swing",
   "metadata": {},
   "source": [
    "It seems 5 features seem to be optimal for the classifier."
   ]
  },
  {
   "cell_type": "code",
   "execution_count": 27,
   "id": "casual-annual",
   "metadata": {},
   "outputs": [
    {
     "name": "stdout",
     "output_type": "stream",
     "text": [
      "Best score: 0.61 +/- 0.06\n"
     ]
    }
   ],
   "source": [
    "print_best_score(grid_search)"
   ]
  },
  {
   "cell_type": "code",
   "execution_count": 28,
   "id": "fuzzy-first",
   "metadata": {},
   "outputs": [],
   "source": [
    "feature_importances = \\\n",
    "    grid_search.best_estimator_._final_estimator.feature_importances_"
   ]
  },
  {
   "cell_type": "code",
   "execution_count": 29,
   "id": "reasonable-contact",
   "metadata": {},
   "outputs": [
    {
     "data": {
      "text/plain": [
       "Text(0.5, 0, 'Score')"
      ]
     },
     "execution_count": 29,
     "metadata": {},
     "output_type": "execute_result"
    },
    {
     "data": {
      "image/png": "[encoded data removed]",
      "text/plain": [
       "<Figure size 432x288 with 1 Axes>"
      ]
     },
     "metadata": {},
     "output_type": "display_data"
    }
   ],
   "source": [
    "features_ranking = sorted(zip(\n",
    "    [col for col in df.columns if col != 'DEATH_EVENT'], feature_importances),\n",
    "                          reverse=True,\n",
    "                          key=lambda x: x[1])\n",
    "\n",
    "features = [x[0] for x in features_ranking]\n",
    "ranks = [x[1] for x in features_ranking]\n",
    "\n",
    "sns.barplot(y=features, x=ranks, orient='h')\n",
    "plt.xlabel('Score')"
   ]
  },
  {
   "cell_type": "code",
   "execution_count": 30,
   "id": "civilian-electricity",
   "metadata": {},
   "outputs": [],
   "source": [
    "best_features = features[:grid_search.best_params_['clf__max_features']]\n",
    "rf_clf = grid_search.best_estimator_"
   ]
  },
  {
   "cell_type": "code",
   "execution_count": 31,
   "id": "aggressive-lingerie",
   "metadata": {},
   "outputs": [
    {
     "data": {
      "text/plain": [
       "223    0\n",
       "179    0\n",
       "200    0\n",
       "2      1\n",
       "133    0\n",
       "Name: DEATH_EVENT, dtype: int64"
      ]
     },
     "execution_count": 31,
     "metadata": {},
     "output_type": "execute_result"
    }
   ],
   "source": [
    "y_train[:5]"
   ]
  },
  {
   "cell_type": "code",
   "execution_count": 32,
   "id": "suspended-prison",
   "metadata": {},
   "outputs": [
    {
     "data": {
      "text/plain": [
       "array([0.42, 0.42, 0.44, 0.42, 0.46])"
      ]
     },
     "execution_count": 32,
     "metadata": {},
     "output_type": "execute_result"
    }
   ],
   "source": [
    "rf_clf.predict_proba(X_train_tr[:5])[:, 1]"
   ]
  },
  {
   "cell_type": "markdown",
   "id": "buried-boundary",
   "metadata": {},
   "source": [
    "Curiously, the probablities are close to $50\\%$. It means the classifier might be really indecisive (perhaps under-trained?). If it's not necessary, it might be better to use a simpler classifier(s) of similar performance."
   ]
  },
  {
   "cell_type": "markdown",
   "id": "retired-jurisdiction",
   "metadata": {},
   "source": [
    "# SVM\n",
    "\n",
    "Support Vector Machines (SVM) are quite simple classifiers that work well with small datasets.\n",
    "We'll try first the SVM with linear kernel as it's simpler.\n",
    "Then, with the 'rbf' (Radial Basis Function) kernel that is more suitable for non-linearly-separable data."
   ]
  },
  {
   "cell_type": "code",
   "execution_count": 33,
   "id": "fatal-livestock",
   "metadata": {},
   "outputs": [
    {
     "name": "stdout",
     "output_type": "stream",
     "text": [
      "{'svm_clf__C': 0.5, 'svm_clf__class_weight': None, 'svm_clf__loss': 'squared_hinge', 'svm_clf__penalty': 'l2'}\n",
      "Best score: 0.62 +/- 0.03\n"
     ]
    }
   ],
   "source": [
    "from sklearn.svm import SVC\n",
    "from sklearn.svm import LinearSVC\n",
    "svm_pipe = Pipeline([\n",
    "    ('scaler', StandardScaler()),\n",
    "    ('svm_clf', LinearSVC(C=1, loss='hinge')),\n",
    "    #('svm_clf', SVC(kernel='rbf', gamma=5, C=0.001))\n",
    "])\n",
    "\n",
    "param_grid = [{\n",
    "    'svm_clf__penalty' : ['l1', 'l2'],\n",
    "    'svm_clf__loss' : ['squared_hinge'],\n",
    "    'svm_clf__C' : [0.1, 0.5, 1.0, 1.5],\n",
    "    'svm_clf__class_weight' : ['balanced', None],\n",
    "},\n",
    "    {\n",
    "    'svm_clf__penalty' : ['l2'],\n",
    "    'svm_clf__loss' : ['hinge'],\n",
    "    'svm_clf__C' : [0.1, 0.5, 1.0, 1.5],\n",
    "    'svm_clf__class_weight' : ['balanced', None],   \n",
    "}]\n",
    "grid_search = GridSearchCV(svm_pipe, param_grid, cv=2,\n",
    "                           scoring='f1',\n",
    "                           return_train_score=True,\n",
    "                           n_jobs=-1)\n",
    "grid_search.fit(X_train, y_train)\n",
    "print(grid_search.best_params_)\n",
    "print_best_score(grid_search)"
   ]
  },
  {
   "cell_type": "code",
   "execution_count": 34,
   "id": "fatty-medicine",
   "metadata": {},
   "outputs": [
    {
     "name": "stdout",
     "output_type": "stream",
     "text": [
      "{'svm_clf__C': 1.5, 'svm_clf__class_weight': 'balanced', 'svm_clf__coef0': 0.0, 'svm_clf__degree': 2, 'svm_clf__gamma': 'scale', 'svm_clf__kernel': 'rbf', 'svm_clf__probability': True}\n",
      "Best score: 0.67 +/- 0.01\n"
     ]
    }
   ],
   "source": [
    "# SVM with rbf kernel\n",
    "svm_pipe = Pipeline([\n",
    "    ('scaler', StandardScaler()),\n",
    "    ('svm_clf', SVC()),\n",
    "])\n",
    "\n",
    "param_grid = [{\n",
    "    'svm_clf__C' : [0.1, 0.5, 1.0, 1.5],\n",
    "    'svm_clf__kernel': ['rbf', 'poly', 'sigmoid', 'precomputed'],\n",
    "    'svm_clf__degree': [2, 3, 4],\n",
    "    'svm_clf__gamma': ['scale', 'auto'],\n",
    "    'svm_clf__coef0': [0.0, 0.1, 0.2],\n",
    "    'svm_clf__class_weight' : ['balanced', None],\n",
    "    'svm_clf__probability' : [True],\n",
    "}]\n",
    "grid_search = GridSearchCV(svm_pipe, param_grid, cv=2,\n",
    "                           scoring='f1',\n",
    "                           return_train_score=True,\n",
    "                           n_jobs=-1)\n",
    "grid_search.fit(X_train, y_train)\n",
    "print(grid_search.best_params_)\n",
    "print_best_score(grid_search)"
   ]
  },
  {
   "cell_type": "markdown",
   "id": "about-study",
   "metadata": {},
   "source": [
    "Let's keep the best SVM with the 'rbf'-kernel as its score is better than of the linear one."
   ]
  },
  {
   "cell_type": "code",
   "execution_count": 35,
   "id": "pleasant-westminster",
   "metadata": {},
   "outputs": [],
   "source": [
    "svm_clf = grid_search.best_estimator_"
   ]
  },
  {
   "cell_type": "markdown",
   "id": "fitted-blend",
   "metadata": {},
   "source": [
    "# KNN"
   ]
  },
  {
   "cell_type": "code",
   "execution_count": 36,
   "id": "acute-venice",
   "metadata": {},
   "outputs": [
    {
     "data": {
      "text/plain": [
       "GridSearchCV(cv=2,\n",
       "             estimator=Pipeline(steps=[('scaler', StandardScaler()),\n",
       "                                       ('knn_clf', KNeighborsClassifier())]),\n",
       "             n_jobs=-1,\n",
       "             param_grid={'knn_clf__n_neighbors': [1, 2, 3, 5],\n",
       "                         'knn_clf__weights': ['uniform', 'distance']},\n",
       "             return_train_score=True, scoring='f1')"
      ]
     },
     "execution_count": 36,
     "metadata": {},
     "output_type": "execute_result"
    }
   ],
   "source": [
    "from sklearn.neighbors import KNeighborsClassifier as KNNClassifier\n",
    "knn_pipe = Pipeline([\n",
    "    ('scaler', StandardScaler()),\n",
    "    ('knn_clf', KNNClassifier())\n",
    "])\n",
    "\n",
    "param_grid = {\n",
    "    'knn_clf__n_neighbors' : [1, 2, 3, 5],\n",
    "    'knn_clf__weights' : ['uniform', 'distance'],\n",
    "}\n",
    "\n",
    "grid_search = GridSearchCV(knn_pipe, param_grid, cv=2,\n",
    "                           scoring='f1',\n",
    "                           return_train_score=True,\n",
    "                           n_jobs=-1)\n",
    "grid_search.fit(X_train, y_train)"
   ]
  },
  {
   "cell_type": "code",
   "execution_count": 37,
   "id": "introductory-withdrawal",
   "metadata": {},
   "outputs": [
    {
     "data": {
      "text/plain": [
       "{'knn_clf__n_neighbors': 1, 'knn_clf__weights': 'uniform'}"
      ]
     },
     "execution_count": 37,
     "metadata": {},
     "output_type": "execute_result"
    }
   ],
   "source": [
    "grid_search.best_params_"
   ]
  },
  {
   "cell_type": "code",
   "execution_count": 38,
   "id": "young-conclusion",
   "metadata": {},
   "outputs": [
    {
     "name": "stdout",
     "output_type": "stream",
     "text": [
      "Best score: 0.37 +/- 0.08\n"
     ]
    }
   ],
   "source": [
    "print_best_score(grid_search)"
   ]
  },
  {
   "cell_type": "code",
   "execution_count": 39,
   "id": "global-basic",
   "metadata": {},
   "outputs": [],
   "source": [
    "knn_clf = grid_search.best_estimator_"
   ]
  },
  {
   "cell_type": "markdown",
   "id": "incorrect-small",
   "metadata": {},
   "source": [
    "The KNN classifier has really poor performance. Let's abandon it."
   ]
  },
  {
   "cell_type": "markdown",
   "id": "close-mailman",
   "metadata": {},
   "source": [
    "# Chaining up the Classifiers\n",
    "\n",
    "To make the most out of each classifier, we may combine them into a single one.\n",
    "This is akin to voting in all sorts of whimsical _crowd wisdom_ questions (who on earth cares how many beans you have in your jar xD).\n",
    "\n",
    "We'll be using _soft_ voting that takes into account confidence of each vote, rather than just the majority."
   ]
  },
  {
   "cell_type": "code",
   "execution_count": 40,
   "id": "naked-country",
   "metadata": {},
   "outputs": [
    {
     "data": {
      "text/plain": [
       "VotingClassifier(estimators=[('lr',\n",
       "                              Pipeline(steps=[('std_scaler', StandardScaler()),\n",
       "                                              ('pca', 'passthrough'),\n",
       "                                              ('clf',\n",
       "                                               LogisticRegression(C=0.75,\n",
       "                                                                  penalty='l1',\n",
       "                                                                  random_state=42,\n",
       "                                                                  solver='liblinear'))])),\n",
       "                             ('rf',\n",
       "                              Pipeline(steps=[('std_scaler', StandardScaler()),\n",
       "                                              ('clf',\n",
       "                                               RandomForestClassifier(max_features=5,\n",
       "                                                                      n_estimators=50,\n",
       "                                                                      random_state=42))])),\n",
       "                             ('svm',\n",
       "                              Pipeline(steps=[('scaler', StandardScaler()),\n",
       "                                              ('svm_clf',\n",
       "                                               SVC(C=1.5,\n",
       "                                                   class_weight='balanced',\n",
       "                                                   degree=2,\n",
       "                                                   probability=True))])),\n",
       "                             ('knn',\n",
       "                              Pipeline(steps=[('scaler', StandardScaler()),\n",
       "                                              ('knn_clf',\n",
       "                                               KNeighborsClassifier(n_neighbors=1))]))],\n",
       "                 voting='soft')"
      ]
     },
     "execution_count": 40,
     "metadata": {},
     "output_type": "execute_result"
    }
   ],
   "source": [
    "from sklearn.ensemble import VotingClassifier\n",
    "\n",
    "voting_clf = VotingClassifier(\n",
    "    estimators=[('lr', log_clf), \n",
    "                ('rf', rf_clf),   # Doesn't help if LR and SVM are used!\n",
    "                ('svm', svm_clf),\n",
    "                ('knn', knn_clf), # makes the results worse! Excluded.\n",
    "               ],\n",
    "    voting='soft')\n",
    "voting_clf.fit(X_train, y_train)"
   ]
  },
  {
   "cell_type": "markdown",
   "id": "worldwide-console",
   "metadata": {},
   "source": [
    "Just for fun (and curiosity) let's implement a coin-toss classifier\n",
    "to later compare it with the other ones."
   ]
  },
  {
   "cell_type": "code",
   "execution_count": 41,
   "id": "congressional-tobacco",
   "metadata": {},
   "outputs": [
    {
     "data": {
      "text/plain": [
       "True     46\n",
       "False    42\n",
       "Name: DEATH_EVENT, dtype: int64"
      ]
     },
     "execution_count": 41,
     "metadata": {},
     "output_type": "execute_result"
    }
   ],
   "source": [
    "from sklearn.base import BaseEstimator\n",
    "class CoinTossClassifier(BaseEstimator):\n",
    "    def fit(self, X, y=None):\n",
    "        \"\"\"Nothing to fit\"\"\"\n",
    "        return self\n",
    "    def predict(self, X):\n",
    "        \"\"\"Toss a coin\"\"\"\n",
    "        return np.random.randint(0, 2, size=len(X))\n",
    "coin_clf = CoinTossClassifier()\n",
    "(coin_clf.predict(X_test) == y_test).value_counts()"
   ]
  },
  {
   "cell_type": "code",
   "execution_count": 42,
   "id": "first-render",
   "metadata": {},
   "outputs": [
    {
     "data": {
      "text/html": [
       "<div>\n",
       "<style scoped>\n",
       "    .dataframe tbody tr th:only-of-type {\n",
       "        vertical-align: middle;\n",
       "    }\n",
       "\n",
       "    .dataframe tbody tr th {\n",
       "        vertical-align: top;\n",
       "    }\n",
       "\n",
       "    .dataframe thead th {\n",
       "        text-align: right;\n",
       "    }\n",
       "</style>\n",
       "<table border=\"1\" class=\"dataframe\">\n",
       "  <thead>\n",
       "    <tr style=\"text-align: right;\">\n",
       "      <th></th>\n",
       "      <th>logit</th>\n",
       "      <th>RF</th>\n",
       "      <th>SVM</th>\n",
       "      <th>KNN</th>\n",
       "      <th>Ensemble</th>\n",
       "      <th>Coin Toss</th>\n",
       "    </tr>\n",
       "  </thead>\n",
       "  <tbody>\n",
       "    <tr>\n",
       "      <th>f1_score</th>\n",
       "      <td>0.551724</td>\n",
       "      <td>0.461538</td>\n",
       "      <td>0.666667</td>\n",
       "      <td>0.400000</td>\n",
       "      <td>0.509091</td>\n",
       "      <td>0.468750</td>\n",
       "    </tr>\n",
       "    <tr>\n",
       "      <th>precision_score</th>\n",
       "      <td>0.533333</td>\n",
       "      <td>0.500000</td>\n",
       "      <td>0.560976</td>\n",
       "      <td>0.375000</td>\n",
       "      <td>0.518519</td>\n",
       "      <td>0.416667</td>\n",
       "    </tr>\n",
       "    <tr>\n",
       "      <th>recall_score</th>\n",
       "      <td>0.571429</td>\n",
       "      <td>0.428571</td>\n",
       "      <td>0.821429</td>\n",
       "      <td>0.428571</td>\n",
       "      <td>0.500000</td>\n",
       "      <td>0.535714</td>\n",
       "    </tr>\n",
       "    <tr>\n",
       "      <th>accuracy_score</th>\n",
       "      <td>0.704545</td>\n",
       "      <td>0.681818</td>\n",
       "      <td>0.738636</td>\n",
       "      <td>0.590909</td>\n",
       "      <td>0.693182</td>\n",
       "      <td>0.613636</td>\n",
       "    </tr>\n",
       "  </tbody>\n",
       "</table>\n",
       "</div>"
      ],
      "text/plain": [
       "                    logit        RF       SVM       KNN  Ensemble  Coin Toss\n",
       "f1_score         0.551724  0.461538  0.666667  0.400000  0.509091   0.468750\n",
       "precision_score  0.533333  0.500000  0.560976  0.375000  0.518519   0.416667\n",
       "recall_score     0.571429  0.428571  0.821429  0.428571  0.500000   0.535714\n",
       "accuracy_score   0.704545  0.681818  0.738636  0.590909  0.693182   0.613636"
      ]
     },
     "execution_count": 42,
     "metadata": {},
     "output_type": "execute_result"
    }
   ],
   "source": [
    "from sklearn.metrics import precision_score, recall_score, f1_score\n",
    "\n",
    "sns.color_palette(\"dark\")\n",
    "from sklearn.metrics import accuracy_score\n",
    "metrics = {}\n",
    "for name, clf in zip(('logit', 'RF', 'SVM', 'KNN', 'Ensemble', 'Coin Toss'),\n",
    "                     (log_clf, rf_clf, svm_clf, knn_clf, voting_clf, coin_clf)):\n",
    "    clf.fit(X_train, y_train)\n",
    "    y_pred = clf.predict(X_test)\n",
    "    metrics[name] = {}\n",
    "    for metric in (f1_score, precision_score, recall_score, accuracy_score):\n",
    "        metrics[name][metric.__name__] = metric(y_test, y_pred)\n",
    "df_metrics = pd.DataFrame(metrics)\n",
    "df_metrics"
   ]
  },
  {
   "cell_type": "code",
   "execution_count": 43,
   "id": "resistant-landing",
   "metadata": {},
   "outputs": [
    {
     "data": {
      "text/plain": [
       "<AxesSubplot:>"
      ]
     },
     "execution_count": 43,
     "metadata": {},
     "output_type": "execute_result"
    },
    {
     "data": {
      "image/png": "[encoded data removed]",
      "text/plain": [
       "<Figure size 720x576 with 1 Axes>"
      ]
     },
     "metadata": {},
     "output_type": "display_data"
    }
   ],
   "source": [
    "df_metrics.plot(figsize=(10, 8), cmap='viridis')"
   ]
  },
  {
   "cell_type": "markdown",
   "id": "armed-label",
   "metadata": {},
   "source": [
    "# Conclusion\n",
    "\n",
    "Perhaps surprisingly, the best performance in all metrics is achieved by the SVM algorithm.\n",
    "The second place goes to the logistic regression classifier.\n",
    "Only then, appears the ensemble classifier!\n",
    "It seems reasonable that the simple algorithms outperform more complex ones when we have statistically-limited data.\n",
    "\n",
    "\n",
    "Let's use then the **SVM classifier**.\n",
    "\n",
    "Now, let's think about the big picture of the heart failure prediction issue.\n",
    "The ultimate question about the project is: how the algorithm output will be used?\n",
    "If doctors will implement extra safety precautions for the deemed-dead patients, perhaps it's\n",
    "better to be overcautious by optimising for higher recall, thereby raising false alarms.\n",
    "\n",
    "On the other hand, if the doctors might apply a potentially dangerous operation, we'd better kept $F_1$ score high instead.\n",
    "\n",
    "Therefore, **domain knowledge** and the **context** of the machine-learning problem are essential."
   ]
  },
  {
   "cell_type": "markdown",
   "id": "canadian-wallet",
   "metadata": {},
   "source": [
    "# Appendix 1: Save the model"
   ]
  },
  {
   "cell_type": "code",
   "execution_count": 44,
   "id": "variable-board",
   "metadata": {},
   "outputs": [],
   "source": [
    "final_model = svm_clf"
   ]
  },
  {
   "cell_type": "code",
   "execution_count": 45,
   "id": "transparent-field",
   "metadata": {},
   "outputs": [
    {
     "data": {
      "text/plain": [
       "Index(['Age [years]', 'Anaemia', 'Creatine Phosphokinase [mcg/L]', 'Diabetes',\n",
       "       'Ejection Fraction [%]', 'High Blood Pressure',\n",
       "       'Platelets [1000 platelets/mL]', 'Serum Creatinine [mg/dL]',\n",
       "       'Serum Sodium [mEq/L]', 'Male', 'Smoking', 'DEATH_EVENT'],\n",
       "      dtype='object')"
      ]
     },
     "execution_count": 45,
     "metadata": {},
     "output_type": "execute_result"
    }
   ],
   "source": [
    "df.columns"
   ]
  },
  {
   "cell_type": "code",
   "execution_count": 46,
   "id": "latest-scanning",
   "metadata": {},
   "outputs": [
    {
     "data": {
      "text/plain": [
       "['cardio_features.pkl']"
      ]
     },
     "execution_count": 46,
     "metadata": {},
     "output_type": "execute_result"
    }
   ],
   "source": [
    "from collections import OrderedDict\n",
    "import joblib\n",
    "joblib.dump(svm_clf, \"cardio_model.pkl\")\n",
    "features = df.columns[:-1]\n",
    "joblib.dump(features, \"cardio_features.pkl\")"
   ]
  },
  {
   "cell_type": "markdown",
   "id": "latter-inspiration",
   "metadata": {},
   "source": [
    "# Appendix 2: Load the model"
   ]
  },
  {
   "cell_type": "code",
   "execution_count": 47,
   "id": "coastal-speed",
   "metadata": {},
   "outputs": [],
   "source": [
    "# Test the model on hypothetical new cases\n",
    "model = joblib.load(\"cardio_model.pkl\")"
   ]
  },
  {
   "cell_type": "code",
   "execution_count": 48,
   "id": "approximate-table",
   "metadata": {},
   "outputs": [
    {
     "data": {
      "text/plain": [
       "array([0, 0, 0, 1, 0])"
      ]
     },
     "execution_count": 48,
     "metadata": {},
     "output_type": "execute_result"
    }
   ],
   "source": [
    "model.predict(X_train[:5])"
   ]
  },
  {
   "cell_type": "code",
   "execution_count": 49,
   "id": "dependent-maximum",
   "metadata": {},
   "outputs": [
    {
     "data": {
      "text/plain": [
       "array([[0.8790294 , 0.1209706 ],\n",
       "       [0.95870944, 0.04129056],\n",
       "       [0.87906009, 0.12093991],\n",
       "       [0.24512301, 0.75487699],\n",
       "       [0.87910504, 0.12089496]])"
      ]
     },
     "execution_count": 49,
     "metadata": {},
     "output_type": "execute_result"
    }
   ],
   "source": [
    "model.predict_proba(X_train[:5])"
   ]
  }
 ],
 "metadata": {
  "kernelspec": {
   "display_name": "Python 3",
   "language": "python",
   "name": "python3"
  },
  "language_info": {
   "codemirror_mode": {
    "name": "ipython",
    "version": 3
   },
   "file_extension": ".py",
   "mimetype": "text/x-python",
   "name": "python",
   "nbconvert_exporter": "python",
   "pygments_lexer": "ipython3",
   "version": "3.8.5"
  },
  "toc": {
   "base_numbering": 1,
   "nav_menu": {},
   "number_sections": true,
   "sideBar": true,
   "skip_h1_title": false,
   "title_cell": "Table of Contents",
   "title_sidebar": "Contents",
   "toc_cell": false,
   "toc_position": {},
   "toc_section_display": true,
   "toc_window_display": false
  },
  "varInspector": {
   "cols": {
    "lenName": 16,
    "lenType": 16,
    "lenVar": 40
   },
   "kernels_config": {
    "python": {
     "delete_cmd_postfix": "",
     "delete_cmd_prefix": "del ",
     "library": "var_list.py",
     "varRefreshCmd": "print(var_dic_list())"
    },
    "r": {
     "delete_cmd_postfix": ") ",
     "delete_cmd_prefix": "rm(",
     "library": "var_list.r",
     "varRefreshCmd": "cat(var_dic_list()) "
    }
   },
   "types_to_exclude": [
    "module",
    "function",
    "builtin_function_or_method",
    "instance",
    "_Feature"
   ],
   "window_display": false
  }
 },
 "nbformat": 4,
 "nbformat_minor": 5
}
